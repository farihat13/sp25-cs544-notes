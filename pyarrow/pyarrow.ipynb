{
 "cells": [
  {
   "cell_type": "code",
   "execution_count": 10,
   "id": "b0a020b4-8471-4c17-801a-1d626f96d6d4",
   "metadata": {},
   "outputs": [],
   "source": [
    "import torch, time"
   ]
  },
  {
   "cell_type": "code",
   "execution_count": 2,
   "id": "d1f1c8bb-4b25-4a7f-88e9-95e3287de101",
   "metadata": {},
   "outputs": [],
   "source": [
    "A = torch.rand(10_000, 10_000) # default is float32, so this is about 400 MB"
   ]
  },
  {
   "cell_type": "code",
   "execution_count": 11,
   "id": "218ad0c1-5a76-4bc5-b49d-a6b82f5a05eb",
   "metadata": {},
   "outputs": [
    {
     "data": {
      "text/plain": [
       "20.205020904541016"
      ]
     },
     "execution_count": 11,
     "metadata": {},
     "output_type": "execute_result"
    }
   ],
   "source": [
    "start = time.time()\n",
    "A.sum(dim=0) # 0 is down, so this is summing over columns\n",
    "end = time.time()\n",
    "(end-start)*1000 # milliseconds"
   ]
  },
  {
   "cell_type": "code",
   "execution_count": 12,
   "id": "abdddd36-37b8-4586-97ea-019b4ed6678b",
   "metadata": {},
   "outputs": [
    {
     "data": {
      "text/plain": [
       "11.196613311767578"
      ]
     },
     "execution_count": 12,
     "metadata": {},
     "output_type": "execute_result"
    }
   ],
   "source": [
    "start = time.time()\n",
    "A.sum(dim=1) # 0 is down, so this is summing over columns\n",
    "end = time.time()\n",
    "(end-start)*1000 # milliseconds"
   ]
  },
  {
   "cell_type": "markdown",
   "id": "d876724b-d1cf-4224-9328-86004d71e9a9",
   "metadata": {},
   "source": [
    "# PyArrow"
   ]
  },
  {
   "cell_type": "code",
   "execution_count": 4,
   "id": "e79a2bc7-3d7b-4d48-bab5-2b8b7e6e8a0e",
   "metadata": {},
   "outputs": [],
   "source": [
    "# !wget https://pages.cs.wisc.edu/~harter/cs544/data/hdma-wi-2021.zip"
   ]
  },
  {
   "cell_type": "code",
   "execution_count": 6,
   "id": "56f70df0-8c97-45ad-8f00-a7aa2c3a5b8c",
   "metadata": {},
   "outputs": [],
   "source": [
    "# !unzip hdma-wi-2021.zip"
   ]
  },
  {
   "cell_type": "code",
   "execution_count": 7,
   "id": "fb0594f7-6347-4563-aa10-36dab2a2a35c",
   "metadata": {},
   "outputs": [
    {
     "name": "stdout",
     "output_type": "stream",
     "text": [
      "total 188M\n",
      "drwxr-xr-x 3 ubuntu ubuntu 4.0K Dec 27 06:20 .\n",
      "drwxr-xr-x 1 root   root   4.0K Dec 25 21:29 ..\n",
      "drwxr-xr-x 2 root   root   4.0K Dec 27 06:14 .ipynb_checkpoints\n",
      "-rw-r--r-- 1 root   root    22K Dec 27 06:13 cache.ipynb\n",
      "-rw-r--r-- 1 root   root   117K Dec 26 01:55 demo.ipynb\n",
      "-rw-r----- 1 root   root   167M Nov  1  2022 hdma-wi-2021.csv\n",
      "-rw-r--r-- 1 root   root    21M Jan  5  2023 hdma-wi-2021.zip\n",
      "-rw-r--r-- 1 root   root   3.4K Dec 27 06:20 pyarrow.ipynb\n",
      "-rw-r--r-- 1 root   root    11K Dec 27 06:13 threads.ipynb\n"
     ]
    }
   ],
   "source": [
    "!ls -lah"
   ]
  },
  {
   "cell_type": "code",
   "execution_count": 8,
   "id": "fd9fe86e-5621-4fbf-b5a0-732f2583676f",
   "metadata": {},
   "outputs": [],
   "source": [
    "import pandas as pd"
   ]
  },
  {
   "cell_type": "code",
   "execution_count": 11,
   "id": "34060a7c-7708-410e-a023-61617bd837f1",
   "metadata": {},
   "outputs": [
    {
     "name": "stderr",
     "output_type": "stream",
     "text": [
      "/tmp/ipykernel_3700/3879644429.py:2: DtypeWarning: Columns (22,23,24,26,27,28,29,30,31,32,33,38,43,44) have mixed types. Specify dtype option on import or set low_memory=False.\n",
      "  pd.read_csv(\"hdma-wi-2021.csv\")\n"
     ]
    },
    {
     "data": {
      "text/plain": [
       "13.11105728149414"
      ]
     },
     "execution_count": 11,
     "metadata": {},
     "output_type": "execute_result"
    }
   ],
   "source": [
    "start = time.time()\n",
    "pd.read_csv(\"hdma-wi-2021.csv\")\n",
    "end = time.time()\n",
    "end-start # seconds"
   ]
  },
  {
   "cell_type": "code",
   "execution_count": 2,
   "id": "2af74523-319b-4ff8-996f-76a794bd5c11",
   "metadata": {},
   "outputs": [],
   "source": [
    "import pyarrow.csv\n",
    "import time"
   ]
  },
  {
   "cell_type": "code",
   "execution_count": 3,
   "id": "c5d9a1fc-d8f4-43f9-b88e-69b2eff5d135",
   "metadata": {},
   "outputs": [
    {
     "data": {
      "text/plain": [
       "0.3916952610015869"
      ]
     },
     "execution_count": 3,
     "metadata": {},
     "output_type": "execute_result"
    }
   ],
   "source": [
    "start = time.time()\n",
    "tbl = pyarrow.csv.read_csv(\"hdma-wi-2021.csv\")\n",
    "end = time.time()\n",
    "end-start # seconds"
   ]
  },
  {
   "cell_type": "code",
   "execution_count": 5,
   "id": "95c0bf14-5e71-4ce3-80d6-9b8105a07af2",
   "metadata": {},
   "outputs": [
    {
     "data": {
      "text/plain": [
       "0.48350071907043457"
      ]
     },
     "execution_count": 5,
     "metadata": {},
     "output_type": "execute_result"
    }
   ],
   "source": [
    "start = time.time()\n",
    "df = tbl.to_pandas()\n",
    "end = time.time()\n",
    "end-start # seconds"
   ]
  },
  {
   "cell_type": "code",
   "execution_count": 6,
   "id": "0ec15c91-45ab-474e-a438-df75af16cf90",
   "metadata": {},
   "outputs": [],
   "source": [
    "import pyarrow.compute as pc"
   ]
  },
  {
   "cell_type": "code",
   "execution_count": 7,
   "id": "2bf4222d-4b57-47d9-9242-16ef876594d1",
   "metadata": {},
   "outputs": [
    {
     "data": {
      "text/plain": [
       "0         54930034MNPILHP25H80\n",
       "1         54930034MNPILHP25H80\n",
       "2         54930034MNPILHP25H80\n",
       "3         54930034MNPILHP25H80\n",
       "4         54930034MNPILHP25H80\n",
       "                  ...         \n",
       "447362    54930034MNPILHP25H80\n",
       "447363    54930034MNPILHP25H80\n",
       "447364    54930034MNPILHP25H80\n",
       "447365    54930034MNPILHP25H80\n",
       "447366    54930034MNPILHP25H80\n",
       "Name: lei, Length: 447367, dtype: object"
      ]
     },
     "execution_count": 7,
     "metadata": {},
     "output_type": "execute_result"
    }
   ],
   "source": [
    "tbl[\"lei\"].to_pandas()"
   ]
  },
  {
   "cell_type": "code",
   "execution_count": 8,
   "id": "2785d466-74cb-4863-8a41-8d3374c85600",
   "metadata": {},
   "outputs": [
    {
     "data": {
      "text/plain": [
       "0         54930034mnpilhp25h80\n",
       "1         54930034mnpilhp25h80\n",
       "2         54930034mnpilhp25h80\n",
       "3         54930034mnpilhp25h80\n",
       "4         54930034mnpilhp25h80\n",
       "                  ...         \n",
       "447362    54930034mnpilhp25h80\n",
       "447363    54930034mnpilhp25h80\n",
       "447364    54930034mnpilhp25h80\n",
       "447365    54930034mnpilhp25h80\n",
       "447366    54930034mnpilhp25h80\n",
       "Length: 447367, dtype: object"
      ]
     },
     "execution_count": 8,
     "metadata": {},
     "output_type": "execute_result"
    }
   ],
   "source": [
    "pc.utf8_lower(tbl[\"lei\"]).to_pandas()"
   ]
  },
  {
   "cell_type": "code",
   "execution_count": 9,
   "id": "0bf1c8ac-2c15-40d6-ae49-0cffe195e5f5",
   "metadata": {},
   "outputs": [
    {
     "data": {
      "text/plain": [
       "<pyarrow.lib.ChunkedArray object at 0x7f22450abdd0>\n",
       "[\n",
       "  [\n",
       "    108,\n",
       "    103,\n",
       "    146,\n",
       "    70,\n",
       "    71,\n",
       "    ...\n",
       "    null,\n",
       "    null,\n",
       "    null,\n",
       "    null,\n",
       "    null\n",
       "  ],\n",
       "  [\n",
       "    null,\n",
       "    null,\n",
       "    null,\n",
       "    null,\n",
       "    null,\n",
       "    ...\n",
       "    null,\n",
       "    null,\n",
       "    null,\n",
       "    null,\n",
       "    null\n",
       "  ],\n",
       "...,\n",
       "  [\n",
       "    null,\n",
       "    null,\n",
       "    92,\n",
       "    175,\n",
       "    null,\n",
       "    ...\n",
       "    66,\n",
       "    52,\n",
       "    27,\n",
       "    32,\n",
       "    88\n",
       "  ],\n",
       "  [\n",
       "    29,\n",
       "    53,\n",
       "    30,\n",
       "    35,\n",
       "    230,\n",
       "    ...\n",
       "    84,\n",
       "    46,\n",
       "    86,\n",
       "    114,\n",
       "    128\n",
       "  ]\n",
       "]"
      ]
     },
     "execution_count": 9,
     "metadata": {},
     "output_type": "execute_result"
    }
   ],
   "source": [
    "tbl[\"income\"]"
   ]
  },
  {
   "cell_type": "code",
   "execution_count": 11,
   "id": "2c0a30e6-2a13-4cc1-bbf3-d94426c8a36b",
   "metadata": {},
   "outputs": [
    {
     "data": {
      "text/plain": [
       "377.5220353645974"
      ]
     },
     "execution_count": 11,
     "metadata": {},
     "output_type": "execute_result"
    }
   ],
   "source": [
    "pc.mean(tbl[\"income\"].drop_null()).as_py()"
   ]
  },
  {
   "cell_type": "code",
   "execution_count": 12,
   "id": "b84ef16e-25ce-482d-97c4-36bbfdcb68a9",
   "metadata": {},
   "outputs": [
    {
     "data": {
      "text/html": [
       "<div>\n",
       "<style scoped>\n",
       "    .dataframe tbody tr th:only-of-type {\n",
       "        vertical-align: middle;\n",
       "    }\n",
       "\n",
       "    .dataframe tbody tr th {\n",
       "        vertical-align: top;\n",
       "    }\n",
       "\n",
       "    .dataframe thead th {\n",
       "        text-align: right;\n",
       "    }\n",
       "</style>\n",
       "<table border=\"1\" class=\"dataframe\">\n",
       "  <thead>\n",
       "    <tr style=\"text-align: right;\">\n",
       "      <th></th>\n",
       "      <th>activity_year</th>\n",
       "      <th>lei</th>\n",
       "      <th>derived_msa-md</th>\n",
       "      <th>state_code</th>\n",
       "      <th>county_code</th>\n",
       "      <th>census_tract</th>\n",
       "      <th>conforming_loan_limit</th>\n",
       "      <th>derived_loan_product_type</th>\n",
       "      <th>derived_dwelling_category</th>\n",
       "      <th>derived_ethnicity</th>\n",
       "      <th>...</th>\n",
       "      <th>denial_reason-2</th>\n",
       "      <th>denial_reason-3</th>\n",
       "      <th>denial_reason-4</th>\n",
       "      <th>tract_population</th>\n",
       "      <th>tract_minority_population_percent</th>\n",
       "      <th>ffiec_msa_md_median_family_income</th>\n",
       "      <th>tract_to_msa_income_percentage</th>\n",
       "      <th>tract_owner_occupied_units</th>\n",
       "      <th>tract_one_to_four_family_homes</th>\n",
       "      <th>tract_median_age_of_housing_units</th>\n",
       "    </tr>\n",
       "  </thead>\n",
       "  <tbody>\n",
       "    <tr>\n",
       "      <th>0</th>\n",
       "      <td>2021</td>\n",
       "      <td>54930034MNPILHP25H80</td>\n",
       "      <td>99999</td>\n",
       "      <td>WI</td>\n",
       "      <td>55027</td>\n",
       "      <td>55027961800</td>\n",
       "      <td>C</td>\n",
       "      <td>Conventional:First Lien</td>\n",
       "      <td>Single Family (1-4 Units):Site-Built</td>\n",
       "      <td>Not Hispanic or Latino</td>\n",
       "      <td>...</td>\n",
       "      <td>NaN</td>\n",
       "      <td>NaN</td>\n",
       "      <td>NaN</td>\n",
       "      <td>4196</td>\n",
       "      <td>3.67</td>\n",
       "      <td>69600</td>\n",
       "      <td>108</td>\n",
       "      <td>1422</td>\n",
       "      <td>1839</td>\n",
       "      <td>57</td>\n",
       "    </tr>\n",
       "    <tr>\n",
       "      <th>1</th>\n",
       "      <td>2021</td>\n",
       "      <td>54930034MNPILHP25H80</td>\n",
       "      <td>99999</td>\n",
       "      <td>WI</td>\n",
       "      <td>55001</td>\n",
       "      <td>55001950501</td>\n",
       "      <td>C</td>\n",
       "      <td>Conventional:First Lien</td>\n",
       "      <td>Single Family (1-4 Units):Site-Built</td>\n",
       "      <td>Not Hispanic or Latino</td>\n",
       "      <td>...</td>\n",
       "      <td>NaN</td>\n",
       "      <td>NaN</td>\n",
       "      <td>NaN</td>\n",
       "      <td>1511</td>\n",
       "      <td>5.43</td>\n",
       "      <td>69600</td>\n",
       "      <td>65</td>\n",
       "      <td>541</td>\n",
       "      <td>1966</td>\n",
       "      <td>33</td>\n",
       "    </tr>\n",
       "    <tr>\n",
       "      <th>2</th>\n",
       "      <td>2021</td>\n",
       "      <td>54930034MNPILHP25H80</td>\n",
       "      <td>99999</td>\n",
       "      <td>WI</td>\n",
       "      <td>55013</td>\n",
       "      <td>55013970400</td>\n",
       "      <td>C</td>\n",
       "      <td>Conventional:First Lien</td>\n",
       "      <td>Single Family (1-4 Units):Site-Built</td>\n",
       "      <td>Not Hispanic or Latino</td>\n",
       "      <td>...</td>\n",
       "      <td>NaN</td>\n",
       "      <td>NaN</td>\n",
       "      <td>NaN</td>\n",
       "      <td>3895</td>\n",
       "      <td>9.63</td>\n",
       "      <td>69600</td>\n",
       "      <td>80</td>\n",
       "      <td>1685</td>\n",
       "      <td>5859</td>\n",
       "      <td>35</td>\n",
       "    </tr>\n",
       "    <tr>\n",
       "      <th>3</th>\n",
       "      <td>2021</td>\n",
       "      <td>54930034MNPILHP25H80</td>\n",
       "      <td>29404</td>\n",
       "      <td>WI</td>\n",
       "      <td>55059</td>\n",
       "      <td>55059002000</td>\n",
       "      <td>C</td>\n",
       "      <td>Conventional:First Lien</td>\n",
       "      <td>Single Family (1-4 Units):Site-Built</td>\n",
       "      <td>Not Hispanic or Latino</td>\n",
       "      <td>...</td>\n",
       "      <td>NaN</td>\n",
       "      <td>NaN</td>\n",
       "      <td>NaN</td>\n",
       "      <td>5561</td>\n",
       "      <td>9.15</td>\n",
       "      <td>102500</td>\n",
       "      <td>106</td>\n",
       "      <td>1851</td>\n",
       "      <td>2208</td>\n",
       "      <td>30</td>\n",
       "    </tr>\n",
       "    <tr>\n",
       "      <th>4</th>\n",
       "      <td>2021</td>\n",
       "      <td>54930034MNPILHP25H80</td>\n",
       "      <td>11540</td>\n",
       "      <td>WI</td>\n",
       "      <td>55087</td>\n",
       "      <td>55087013300</td>\n",
       "      <td>C</td>\n",
       "      <td>Conventional:First Lien</td>\n",
       "      <td>Single Family (1-4 Units):Site-Built</td>\n",
       "      <td>Joint</td>\n",
       "      <td>...</td>\n",
       "      <td>NaN</td>\n",
       "      <td>NaN</td>\n",
       "      <td>NaN</td>\n",
       "      <td>7248</td>\n",
       "      <td>5.22</td>\n",
       "      <td>85600</td>\n",
       "      <td>111</td>\n",
       "      <td>1939</td>\n",
       "      <td>2351</td>\n",
       "      <td>14</td>\n",
       "    </tr>\n",
       "    <tr>\n",
       "      <th>5</th>\n",
       "      <td>2021</td>\n",
       "      <td>54930034MNPILHP25H80</td>\n",
       "      <td>24580</td>\n",
       "      <td>WI</td>\n",
       "      <td>55061</td>\n",
       "      <td>55061960500</td>\n",
       "      <td>C</td>\n",
       "      <td>Conventional:First Lien</td>\n",
       "      <td>Single Family (1-4 Units):Site-Built</td>\n",
       "      <td>Not Hispanic or Latino</td>\n",
       "      <td>...</td>\n",
       "      <td>NaN</td>\n",
       "      <td>NaN</td>\n",
       "      <td>NaN</td>\n",
       "      <td>6136</td>\n",
       "      <td>4.56</td>\n",
       "      <td>80100</td>\n",
       "      <td>104</td>\n",
       "      <td>2136</td>\n",
       "      <td>2627</td>\n",
       "      <td>53</td>\n",
       "    </tr>\n",
       "    <tr>\n",
       "      <th>6</th>\n",
       "      <td>2021</td>\n",
       "      <td>54930034MNPILHP25H80</td>\n",
       "      <td>43100</td>\n",
       "      <td>WI</td>\n",
       "      <td>55117</td>\n",
       "      <td>55117000100</td>\n",
       "      <td>NC</td>\n",
       "      <td>Conventional:First Lien</td>\n",
       "      <td>Single Family (1-4 Units):Site-Built</td>\n",
       "      <td>Not Hispanic or Latino</td>\n",
       "      <td>...</td>\n",
       "      <td>NaN</td>\n",
       "      <td>NaN</td>\n",
       "      <td>NaN</td>\n",
       "      <td>3803</td>\n",
       "      <td>16.49</td>\n",
       "      <td>79600</td>\n",
       "      <td>97</td>\n",
       "      <td>1011</td>\n",
       "      <td>1483</td>\n",
       "      <td>76</td>\n",
       "    </tr>\n",
       "    <tr>\n",
       "      <th>7</th>\n",
       "      <td>2021</td>\n",
       "      <td>54930034MNPILHP25H80</td>\n",
       "      <td>43100</td>\n",
       "      <td>WI</td>\n",
       "      <td>55117</td>\n",
       "      <td>55117000100</td>\n",
       "      <td>C</td>\n",
       "      <td>Conventional:Subordinate Lien</td>\n",
       "      <td>Single Family (1-4 Units):Site-Built</td>\n",
       "      <td>Not Hispanic or Latino</td>\n",
       "      <td>...</td>\n",
       "      <td>NaN</td>\n",
       "      <td>NaN</td>\n",
       "      <td>NaN</td>\n",
       "      <td>3803</td>\n",
       "      <td>16.49</td>\n",
       "      <td>79600</td>\n",
       "      <td>97</td>\n",
       "      <td>1011</td>\n",
       "      <td>1483</td>\n",
       "      <td>76</td>\n",
       "    </tr>\n",
       "    <tr>\n",
       "      <th>8</th>\n",
       "      <td>2021</td>\n",
       "      <td>54930034MNPILHP25H80</td>\n",
       "      <td>99999</td>\n",
       "      <td>WI</td>\n",
       "      <td>55103</td>\n",
       "      <td>55103970100</td>\n",
       "      <td>C</td>\n",
       "      <td>Conventional:First Lien</td>\n",
       "      <td>Single Family (1-4 Units):Site-Built</td>\n",
       "      <td>Not Hispanic or Latino</td>\n",
       "      <td>...</td>\n",
       "      <td>NaN</td>\n",
       "      <td>NaN</td>\n",
       "      <td>NaN</td>\n",
       "      <td>2909</td>\n",
       "      <td>3.71</td>\n",
       "      <td>69600</td>\n",
       "      <td>84</td>\n",
       "      <td>969</td>\n",
       "      <td>1490</td>\n",
       "      <td>67</td>\n",
       "    </tr>\n",
       "    <tr>\n",
       "      <th>9</th>\n",
       "      <td>2021</td>\n",
       "      <td>549300FQ2SN6TRRGB032</td>\n",
       "      <td>99999</td>\n",
       "      <td>WI</td>\n",
       "      <td>55127</td>\n",
       "      <td>55127001501</td>\n",
       "      <td>C</td>\n",
       "      <td>Conventional:First Lien</td>\n",
       "      <td>Single Family (1-4 Units):Site-Built</td>\n",
       "      <td>Ethnicity Not Available</td>\n",
       "      <td>...</td>\n",
       "      <td>NaN</td>\n",
       "      <td>NaN</td>\n",
       "      <td>NaN</td>\n",
       "      <td>3160</td>\n",
       "      <td>15.06</td>\n",
       "      <td>69600</td>\n",
       "      <td>126</td>\n",
       "      <td>983</td>\n",
       "      <td>2219</td>\n",
       "      <td>22</td>\n",
       "    </tr>\n",
       "  </tbody>\n",
       "</table>\n",
       "<p>10 rows × 99 columns</p>\n",
       "</div>"
      ],
      "text/plain": [
       "   activity_year                   lei  derived_msa-md state_code  \\\n",
       "0           2021  54930034MNPILHP25H80           99999         WI   \n",
       "1           2021  54930034MNPILHP25H80           99999         WI   \n",
       "2           2021  54930034MNPILHP25H80           99999         WI   \n",
       "3           2021  54930034MNPILHP25H80           29404         WI   \n",
       "4           2021  54930034MNPILHP25H80           11540         WI   \n",
       "5           2021  54930034MNPILHP25H80           24580         WI   \n",
       "6           2021  54930034MNPILHP25H80           43100         WI   \n",
       "7           2021  54930034MNPILHP25H80           43100         WI   \n",
       "8           2021  54930034MNPILHP25H80           99999         WI   \n",
       "9           2021  549300FQ2SN6TRRGB032           99999         WI   \n",
       "\n",
       "   county_code  census_tract conforming_loan_limit  \\\n",
       "0        55027   55027961800                     C   \n",
       "1        55001   55001950501                     C   \n",
       "2        55013   55013970400                     C   \n",
       "3        55059   55059002000                     C   \n",
       "4        55087   55087013300                     C   \n",
       "5        55061   55061960500                     C   \n",
       "6        55117   55117000100                    NC   \n",
       "7        55117   55117000100                     C   \n",
       "8        55103   55103970100                     C   \n",
       "9        55127   55127001501                     C   \n",
       "\n",
       "       derived_loan_product_type             derived_dwelling_category  \\\n",
       "0        Conventional:First Lien  Single Family (1-4 Units):Site-Built   \n",
       "1        Conventional:First Lien  Single Family (1-4 Units):Site-Built   \n",
       "2        Conventional:First Lien  Single Family (1-4 Units):Site-Built   \n",
       "3        Conventional:First Lien  Single Family (1-4 Units):Site-Built   \n",
       "4        Conventional:First Lien  Single Family (1-4 Units):Site-Built   \n",
       "5        Conventional:First Lien  Single Family (1-4 Units):Site-Built   \n",
       "6        Conventional:First Lien  Single Family (1-4 Units):Site-Built   \n",
       "7  Conventional:Subordinate Lien  Single Family (1-4 Units):Site-Built   \n",
       "8        Conventional:First Lien  Single Family (1-4 Units):Site-Built   \n",
       "9        Conventional:First Lien  Single Family (1-4 Units):Site-Built   \n",
       "\n",
       "         derived_ethnicity  ... denial_reason-2 denial_reason-3  \\\n",
       "0   Not Hispanic or Latino  ...             NaN             NaN   \n",
       "1   Not Hispanic or Latino  ...             NaN             NaN   \n",
       "2   Not Hispanic or Latino  ...             NaN             NaN   \n",
       "3   Not Hispanic or Latino  ...             NaN             NaN   \n",
       "4                    Joint  ...             NaN             NaN   \n",
       "5   Not Hispanic or Latino  ...             NaN             NaN   \n",
       "6   Not Hispanic or Latino  ...             NaN             NaN   \n",
       "7   Not Hispanic or Latino  ...             NaN             NaN   \n",
       "8   Not Hispanic or Latino  ...             NaN             NaN   \n",
       "9  Ethnicity Not Available  ...             NaN             NaN   \n",
       "\n",
       "   denial_reason-4  tract_population  tract_minority_population_percent  \\\n",
       "0              NaN              4196                               3.67   \n",
       "1              NaN              1511                               5.43   \n",
       "2              NaN              3895                               9.63   \n",
       "3              NaN              5561                               9.15   \n",
       "4              NaN              7248                               5.22   \n",
       "5              NaN              6136                               4.56   \n",
       "6              NaN              3803                              16.49   \n",
       "7              NaN              3803                              16.49   \n",
       "8              NaN              2909                               3.71   \n",
       "9              NaN              3160                              15.06   \n",
       "\n",
       "   ffiec_msa_md_median_family_income  tract_to_msa_income_percentage  \\\n",
       "0                              69600                             108   \n",
       "1                              69600                              65   \n",
       "2                              69600                              80   \n",
       "3                             102500                             106   \n",
       "4                              85600                             111   \n",
       "5                              80100                             104   \n",
       "6                              79600                              97   \n",
       "7                              79600                              97   \n",
       "8                              69600                              84   \n",
       "9                              69600                             126   \n",
       "\n",
       "   tract_owner_occupied_units  tract_one_to_four_family_homes  \\\n",
       "0                        1422                            1839   \n",
       "1                         541                            1966   \n",
       "2                        1685                            5859   \n",
       "3                        1851                            2208   \n",
       "4                        1939                            2351   \n",
       "5                        2136                            2627   \n",
       "6                        1011                            1483   \n",
       "7                        1011                            1483   \n",
       "8                         969                            1490   \n",
       "9                         983                            2219   \n",
       "\n",
       "   tract_median_age_of_housing_units  \n",
       "0                                 57  \n",
       "1                                 33  \n",
       "2                                 35  \n",
       "3                                 30  \n",
       "4                                 14  \n",
       "5                                 53  \n",
       "6                                 76  \n",
       "7                                 76  \n",
       "8                                 67  \n",
       "9                                 22  \n",
       "\n",
       "[10 rows x 99 columns]"
      ]
     },
     "execution_count": 12,
     "metadata": {},
     "output_type": "execute_result"
    }
   ],
   "source": [
    "tbl[:10].to_pandas()"
   ]
  },
  {
   "cell_type": "markdown",
   "id": "906ae87b-2fc4-48f6-b183-2a6a0ba45c99",
   "metadata": {},
   "source": [
    "# Day 2"
   ]
  },
  {
   "cell_type": "code",
   "execution_count": 3,
   "id": "3ea0185a-1ea1-4238-ad6d-cbaa938278da",
   "metadata": {},
   "outputs": [],
   "source": [
    "import pyarrow as pa"
   ]
  },
  {
   "cell_type": "code",
   "execution_count": 4,
   "id": "a7cc7fa9-16b1-4c74-9f91-c6493740b7a3",
   "metadata": {},
   "outputs": [],
   "source": [
    "batch = pa.RecordBatch.from_arrays([range(1,1_000_000),\n",
    "                                    range(1,1_000_000),\n",
    "                                    range(1,1_000_000)],\n",
    "                                   names = [\"x\", \"y\", \"z\"])\n",
    "                                    "
   ]
  },
  {
   "cell_type": "code",
   "execution_count": 5,
   "id": "4c42c153-0a25-4a28-b32c-fd9c863c2361",
   "metadata": {},
   "outputs": [
    {
     "data": {
      "text/plain": [
       "22.888160705566406"
      ]
     },
     "execution_count": 5,
     "metadata": {},
     "output_type": "execute_result"
    }
   ],
   "source": [
    "batch.nbytes / 1024**2 # Megabytes"
   ]
  },
  {
   "cell_type": "code",
   "execution_count": 6,
   "id": "ea8d003e-4d44-493f-80e7-d4427eb4f93a",
   "metadata": {},
   "outputs": [],
   "source": [
    "with pa.ipc.new_file(\"test.arrow\", schema=batch.schema) as f:\n",
    "    for i in range(50):\n",
    "        f.write_batch(batch)"
   ]
  },
  {
   "cell_type": "code",
   "execution_count": 7,
   "id": "37800610-c68d-4219-9743-0ed0511bb824",
   "metadata": {},
   "outputs": [
    {
     "name": "stdout",
     "output_type": "stream",
     "text": [
      "total 1.4G\n",
      "drwxr-xr-x 3 ubuntu ubuntu 4.0K Dec 27 06:50 .\n",
      "drwxr-xr-x 1 root   root   4.0K Dec 27 06:46 ..\n",
      "drwxr-xr-x 2 root   root   4.0K Dec 27 06:14 .ipynb_checkpoints\n",
      "-rw-r--r-- 1 root   root    22K Dec 27 06:13 cache.ipynb\n",
      "-rw-r--r-- 1 root   root   117K Dec 26 01:55 demo.ipynb\n",
      "-rw-r----- 1 root   root   167M Nov  1  2022 hdma-wi-2021.csv\n",
      "-rw-r--r-- 1 root   root    21M Jan  5  2023 hdma-wi-2021.zip\n",
      "-rw-r--r-- 1 root   root    28K Dec 27 06:49 pyarrow.ipynb\n",
      "-rw-r--r-- 1 root   root   1.2G Dec 27 06:50 test.arrow\n",
      "-rw-r--r-- 1 root   root    11K Dec 27 06:13 threads.ipynb\n"
     ]
    }
   ],
   "source": [
    "!ls -lah"
   ]
  },
  {
   "cell_type": "code",
   "execution_count": null,
   "id": "f76842a9-d85e-47ea-9c38-430786e64fa1",
   "metadata": {},
   "outputs": [],
   "source": [
    "# with pa.ipc.open_file(\"test.arrow\") as f:\n",
    "#     tbl = f.read_all() # notebook crashed since our docker memory limit was 512 MB"
   ]
  },
  {
   "cell_type": "code",
   "execution_count": 9,
   "id": "537d18f2-6ec8-4b6a-b23c-ffed61505b61",
   "metadata": {},
   "outputs": [],
   "source": [
    "import mmap\n",
    "import pyarrow as pa\n",
    "\n",
    "with open(\"test.arrow\", \"rb\") as f:\n",
    "    mm = mmap.mmap(f.fileno(), 0, access = mmap.ACCESS_READ)"
   ]
  },
  {
   "cell_type": "code",
   "execution_count": 10,
   "id": "f8709940-ddb8-4f33-97b7-35567d7ef578",
   "metadata": {},
   "outputs": [
    {
     "data": {
      "text/plain": [
       "b'ARROW1\\x00\\x00\\xff\\xff'"
      ]
     },
     "execution_count": 10,
     "metadata": {},
     "output_type": "execute_result"
    }
   ],
   "source": [
    "mm[:10]"
   ]
  },
  {
   "cell_type": "code",
   "execution_count": 12,
   "id": "406c3db9-2c4e-4d09-9b00-18b61999261b",
   "metadata": {},
   "outputs": [],
   "source": [
    "with pa.ipc.open_file(mm) as f:\n",
    "    tbl = f.read_all() # notebook did NOT crash since we are using mmap"
   ]
  },
  {
   "cell_type": "code",
   "execution_count": 13,
   "id": "e1ed7ae8-5955-4147-b5b4-7dc14dc5b55d",
   "metadata": {},
   "outputs": [
    {
     "data": {
      "text/plain": [
       "<pyarrow.Int64Scalar: 24999975000000>"
      ]
     },
     "execution_count": 13,
     "metadata": {},
     "output_type": "execute_result"
    }
   ],
   "source": [
    "import pyarrow.compute as pc\n",
    "\n",
    "\n",
    "pc.sum(tbl[\"x\"]"
   ]
  },
  {
   "cell_type": "code",
   "execution_count": 15,
   "id": "df27f845-7cb0-40d1-a2e7-2a2ba184df03",
   "metadata": {},
   "outputs": [
    {
     "data": {
      "text/plain": [
       "<pyarrow.Int64Scalar: 24999975000000>"
      ]
     },
     "execution_count": 15,
     "metadata": {},
     "output_type": "execute_result"
    }
   ],
   "source": [
    "pc.sum(tbl[\"y\"])"
   ]
  },
  {
   "cell_type": "code",
   "execution_count": null,
   "id": "9adc35cd-3cce-4343-a3cd-811076acfa39",
   "metadata": {},
   "outputs": [],
   "source": [
    "pc.sum(tbl[\"z\"])"
   ]
  },
  {
   "cell_type": "code",
   "execution_count": null,
   "id": "363e3e7f-e387-43ff-9a4d-d99e58a635c9",
   "metadata": {},
   "outputs": [],
   "source": []
  }
 ],
 "metadata": {
  "kernelspec": {
   "display_name": "Python 3 (ipykernel)",
   "language": "python",
   "name": "python3"
  },
  "language_info": {
   "codemirror_mode": {
    "name": "ipython",
    "version": 3
   },
   "file_extension": ".py",
   "mimetype": "text/x-python",
   "name": "python",
   "nbconvert_exporter": "python",
   "pygments_lexer": "ipython3",
   "version": "3.11.6"
  }
 },
 "nbformat": 4,
 "nbformat_minor": 5
}
