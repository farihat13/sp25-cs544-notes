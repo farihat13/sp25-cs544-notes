{
 "cells": [
  {
   "cell_type": "code",
   "execution_count": 1,
   "id": "6e75a6e1-84a8-49d8-a1bf-809a6d57780c",
   "metadata": {},
   "outputs": [],
   "source": [
    "from pyspark.sql import SparkSession"
   ]
  },
  {
   "cell_type": "code",
   "execution_count": 2,
   "id": "f1e92f8c-59ea-4e6e-b020-0205f9153b7e",
   "metadata": {},
   "outputs": [
    {
     "name": "stderr",
     "output_type": "stream",
     "text": [
      "Setting default log level to \"WARN\".\n",
      "To adjust logging level use sc.setLogLevel(newLevel). For SparkR, use setLogLevel(newLevel).\n",
      "24/01/09 03:43:09 WARN NativeCodeLoader: Unable to load native-hadoop library for your platform... using builtin-java classes where applicable\n"
     ]
    }
   ],
   "source": [
    "spark = (SparkSession.builder.appName(\"cs544\")\n",
    "         .master(\"spark://boss:7077\")\n",
    "         .config(\"spark.executor.memory\", \"512M\")\n",
    "         .getOrCreate())"
   ]
  },
  {
   "cell_type": "code",
   "execution_count": 3,
   "id": "348e24e7-5d90-4c11-8abc-30ee53b72bfa",
   "metadata": {},
   "outputs": [],
   "source": [
    "sc = spark.sparkContext # entry point for RDD stuff"
   ]
  },
  {
   "cell_type": "code",
   "execution_count": 4,
   "id": "23e14148-cdb5-44e2-b218-9dca7745a440",
   "metadata": {},
   "outputs": [],
   "source": [
    "nums = list(range(1_000_000))"
   ]
  },
  {
   "cell_type": "code",
   "execution_count": 5,
   "id": "a3711bf3-e0e6-48e7-b923-a93327747eae",
   "metadata": {},
   "outputs": [],
   "source": [
    "rdd = sc.parallelize(nums)"
   ]
  },
  {
   "cell_type": "code",
   "execution_count": 6,
   "id": "80baf28b-4a97-4682-92c3-11a746e103a0",
   "metadata": {},
   "outputs": [],
   "source": [
    "# rdd.map(lambda ARG: RETVAL)\n",
    "inverses = rdd.map(lambda x: 1/x) # TRANSFORMATION"
   ]
  },
  {
   "cell_type": "code",
   "execution_count": 35,
   "id": "0f4f42f5-70fe-414f-bc0a-f3d0ff0bca0a",
   "metadata": {},
   "outputs": [],
   "source": [
    "# inverses.collect() # ACTION get all the numbers, maybe using a lot of RAM"
   ]
  },
  {
   "cell_type": "code",
   "execution_count": 8,
   "id": "ed8890ea-80c8-4317-a757-940f21e8dab4",
   "metadata": {},
   "outputs": [],
   "source": [
    "# ACTION triggers the work, including the divide by zero\n",
    "# inverses.take(3) # ACTION get first N results"
   ]
  },
  {
   "cell_type": "code",
   "execution_count": 9,
   "id": "1dfb495f-f9c7-4629-b370-855faa985f28",
   "metadata": {},
   "outputs": [
    {
     "data": {
      "text/plain": [
       "PythonRDD[2] at RDD at PythonRDD.scala:53"
      ]
     },
     "execution_count": 9,
     "metadata": {},
     "output_type": "execute_result"
    }
   ],
   "source": [
    "inverses = rdd.filter(lambda x: x>0).map(lambda x: 1/x)\n",
    "inverses"
   ]
  },
  {
   "cell_type": "code",
   "execution_count": 10,
   "id": "0bcfbfdf-71f9-45e0-b215-1a8dd03d506b",
   "metadata": {},
   "outputs": [
    {
     "name": "stderr",
     "output_type": "stream",
     "text": [
      "24/01/09 03:43:54 WARN TaskSetManager: Stage 1 contains a task of very large size (2332 KiB). The maximum recommended task size is 1000 KiB.\n",
      "                                                                                \r"
     ]
    },
    {
     "data": {
      "text/plain": [
       "1.4392740115605892e-05"
      ]
     },
     "execution_count": 10,
     "metadata": {},
     "output_type": "execute_result"
    }
   ],
   "source": [
    "inverses.mean() # ACTION"
   ]
  },
  {
   "cell_type": "code",
   "execution_count": 11,
   "id": "6274d0d3-8f1e-42d2-b36a-29cf502551b4",
   "metadata": {},
   "outputs": [
    {
     "data": {
      "text/plain": [
       "2"
      ]
     },
     "execution_count": 11,
     "metadata": {},
     "output_type": "execute_result"
    }
   ],
   "source": [
    "rdd.getNumPartitions()"
   ]
  },
  {
   "cell_type": "code",
   "execution_count": 12,
   "id": "68760631-2d79-46d5-aafc-567ccd295f42",
   "metadata": {},
   "outputs": [
    {
     "data": {
      "text/plain": [
       "10"
      ]
     },
     "execution_count": 12,
     "metadata": {},
     "output_type": "execute_result"
    }
   ],
   "source": [
    "rdd = sc.parallelize(nums, 10)\n",
    "rdd.getNumPartitions()"
   ]
  },
  {
   "cell_type": "code",
   "execution_count": 13,
   "id": "7beeac6e-cdf0-4dae-b918-067929294240",
   "metadata": {},
   "outputs": [
    {
     "name": "stderr",
     "output_type": "stream",
     "text": [
      "                                                                                \r"
     ]
    },
    {
     "data": {
      "text/plain": [
       "1.4392740115605814e-05"
      ]
     },
     "execution_count": 13,
     "metadata": {},
     "output_type": "execute_result"
    }
   ],
   "source": [
    "# 4 + 2 / 10\n",
    "# 4 tasks done, 2 tasks running, 10 tasks total\n",
    "inverses = rdd.filter(lambda x: x>0).map(lambda x: 1/x)\n",
    "inverses.mean()"
   ]
  },
  {
   "cell_type": "markdown",
   "id": "b7c65d64-9de3-43cd-bede-c0e2e12e341d",
   "metadata": {},
   "source": [
    "# Sample and cache"
   ]
  },
  {
   "cell_type": "code",
   "execution_count": 14,
   "id": "15dcf141-9218-49fc-8fa9-7a3649ea2c02",
   "metadata": {},
   "outputs": [],
   "source": [
    "sample = rdd.sample(True, fraction=0.1, seed=544)"
   ]
  },
  {
   "cell_type": "code",
   "execution_count": 15,
   "id": "0c2f5faf-5793-4c3a-8e68-eddabf897dfa",
   "metadata": {},
   "outputs": [
    {
     "data": {
      "text/plain": [
       "PythonRDD[6] at RDD at PythonRDD.scala:53"
      ]
     },
     "execution_count": 15,
     "metadata": {},
     "output_type": "execute_result"
    }
   ],
   "source": [
    "sample.cache()"
   ]
  },
  {
   "cell_type": "code",
   "execution_count": 16,
   "id": "3be37f71-35e2-487c-8918-a309fd9abdd2",
   "metadata": {},
   "outputs": [
    {
     "name": "stderr",
     "output_type": "stream",
     "text": [
      "[Stage 3:==================================>                       (6 + 2) / 10]\r"
     ]
    },
    {
     "name": "stdout",
     "output_type": "stream",
     "text": [
      "CPU times: user 6.11 ms, sys: 823 µs, total: 6.93 ms\n",
      "Wall time: 1.1 s\n"
     ]
    },
    {
     "name": "stderr",
     "output_type": "stream",
     "text": [
      "                                                                                \r"
     ]
    },
    {
     "data": {
      "text/plain": [
       "498504.761576394"
      ]
     },
     "execution_count": 16,
     "metadata": {},
     "output_type": "execute_result"
    }
   ],
   "source": [
    "%%time\n",
    "sample.mean()"
   ]
  },
  {
   "cell_type": "code",
   "execution_count": 17,
   "id": "f60352cd-c396-4382-9607-2acb672dc10b",
   "metadata": {},
   "outputs": [
    {
     "name": "stdout",
     "output_type": "stream",
     "text": [
      "CPU times: user 6.04 ms, sys: 788 µs, total: 6.82 ms\n",
      "Wall time: 554 ms\n"
     ]
    },
    {
     "data": {
      "text/plain": [
       "498504.761576394"
      ]
     },
     "execution_count": 17,
     "metadata": {},
     "output_type": "execute_result"
    }
   ],
   "source": [
    "%%time\n",
    "sample.mean()"
   ]
  },
  {
   "cell_type": "markdown",
   "id": "394ee19b-91ec-46d7-8bfa-339f9168bc07",
   "metadata": {},
   "source": [
    "# Repartition"
   ]
  },
  {
   "cell_type": "code",
   "execution_count": 18,
   "id": "df83824c-46ee-42c4-bab7-2cc118ba75a8",
   "metadata": {},
   "outputs": [],
   "source": [
    "sample = rdd.sample(True, fraction=0.1, seed=544).repartition(1)"
   ]
  },
  {
   "cell_type": "code",
   "execution_count": 23,
   "id": "967587ca-c485-439f-9750-ac286fb6a421",
   "metadata": {},
   "outputs": [
    {
     "data": {
      "text/plain": [
       "MapPartitionsRDD[13] at coalesce at NativeMethodAccessorImpl.java:0"
      ]
     },
     "execution_count": 23,
     "metadata": {},
     "output_type": "execute_result"
    }
   ],
   "source": [
    "sample.cache()"
   ]
  },
  {
   "cell_type": "code",
   "execution_count": 20,
   "id": "8595bc04-ca32-454c-a0cf-482d1fff6538",
   "metadata": {},
   "outputs": [
    {
     "name": "stdout",
     "output_type": "stream",
     "text": [
      "CPU times: user 479 µs, sys: 4.25 ms, total: 4.73 ms\n",
      "Wall time: 1.07 s\n"
     ]
    },
    {
     "data": {
      "text/plain": [
       "498504.7615763908"
      ]
     },
     "execution_count": 20,
     "metadata": {},
     "output_type": "execute_result"
    }
   ],
   "source": [
    "%%time\n",
    "sample.mean()"
   ]
  },
  {
   "cell_type": "code",
   "execution_count": 58,
   "id": "3af478f8-8908-4d39-b880-8996e79f878c",
   "metadata": {},
   "outputs": [
    {
     "name": "stdout",
     "output_type": "stream",
     "text": [
      "CPU times: user 7.68 ms, sys: 0 ns, total: 7.68 ms\n",
      "Wall time: 288 ms\n"
     ]
    },
    {
     "data": {
      "text/plain": [
       "498504.7615763908"
      ]
     },
     "execution_count": 58,
     "metadata": {},
     "output_type": "execute_result"
    }
   ],
   "source": [
    "%%time\n",
    "sample.mean()"
   ]
  },
  {
   "cell_type": "code",
   "execution_count": 21,
   "id": "972d69d1-3402-42c5-873a-df7a43acf53f",
   "metadata": {},
   "outputs": [
    {
     "name": "stdout",
     "output_type": "stream",
     "text": [
      "CPU times: user 1.5 ms, sys: 3.04 ms, total: 4.54 ms\n",
      "Wall time: 318 ms\n"
     ]
    },
    {
     "data": {
      "text/plain": [
       "498504.7615763908"
      ]
     },
     "execution_count": 21,
     "metadata": {},
     "output_type": "execute_result"
    }
   ],
   "source": [
    "%%time\n",
    "sample.mean()"
   ]
  },
  {
   "cell_type": "code",
   "execution_count": 22,
   "id": "4562a76c-0137-4b92-93ce-b786e3c4eb4e",
   "metadata": {},
   "outputs": [
    {
     "data": {
      "text/plain": [
       "MapPartitionsRDD[13] at coalesce at NativeMethodAccessorImpl.java:0"
      ]
     },
     "execution_count": 22,
     "metadata": {},
     "output_type": "execute_result"
    }
   ],
   "source": [
    "sample.unpersist()"
   ]
  },
  {
   "cell_type": "markdown",
   "id": "70742287-76f8-4380-bec4-b87ff7a97742",
   "metadata": {},
   "source": [
    "# Spark Dataframes"
   ]
  },
  {
   "cell_type": "code",
   "execution_count": 24,
   "id": "51d99a43-9f8f-451c-9830-7bef53084839",
   "metadata": {},
   "outputs": [
    {
     "name": "stdout",
     "output_type": "stream",
     "text": [
      "--2024-01-09 03:46:22--  https://pages.cs.wisc.edu/~harter/cs544/data/ghcnd-stations.txt\n",
      "Resolving pages.cs.wisc.edu (pages.cs.wisc.edu)... 128.105.7.9\n",
      "Connecting to pages.cs.wisc.edu (pages.cs.wisc.edu)|128.105.7.9|:443... connected.\n",
      "HTTP request sent, awaiting response... 200 OK\n",
      "Length: 10607756 (10M) [text/plain]\n",
      "Saving to: ‘ghcnd-stations.txt.1’\n",
      "\n",
      "ghcnd-stations.txt. 100%[===================>]  10.12M  5.99MB/s    in 1.7s    \n",
      "\n",
      "2024-01-09 03:46:24 (5.99 MB/s) - ‘ghcnd-stations.txt.1’ saved [10607756/10607756]\n",
      "\n"
     ]
    }
   ],
   "source": [
    "!wget -nc https://pages.cs.wisc.edu/~harter/cs544/data/ghcnd-stations.txt"
   ]
  },
  {
   "cell_type": "code",
   "execution_count": 27,
   "id": "bc7ac798-faa9-4eb4-8d57-1608b87376d9",
   "metadata": {},
   "outputs": [
    {
     "name": "stdout",
     "output_type": "stream",
     "text": [
      "demo.ipynb   demo3.ipynb  demo5.ipynb  ghcnd-stations.txt  metastore_db  sf.zip\n",
      "demo2.ipynb  demo4.ipynb  derby.log    holidays2.csv\t   sf.csv\n"
     ]
    }
   ],
   "source": [
    "!ls"
   ]
  },
  {
   "cell_type": "code",
   "execution_count": 28,
   "id": "f3972f0c-8ebe-4668-acf8-303502e0914d",
   "metadata": {},
   "outputs": [],
   "source": [
    "df = spark.read.text(\"ghcnd-stations.txt\")"
   ]
  },
  {
   "cell_type": "code",
   "execution_count": 29,
   "id": "b4442a1f-0ce5-4079-b745-489c2d793f86",
   "metadata": {},
   "outputs": [
    {
     "data": {
      "text/plain": [
       "DataFrame[value: string]"
      ]
     },
     "execution_count": 29,
     "metadata": {},
     "output_type": "execute_result"
    }
   ],
   "source": [
    "df"
   ]
  },
  {
   "cell_type": "code",
   "execution_count": 30,
   "id": "ed35fa5b-568c-4269-b5bc-321ae9eb8525",
   "metadata": {},
   "outputs": [
    {
     "data": {
      "text/plain": [
       "(pyspark.sql.dataframe.DataFrame, pyspark.rdd.RDD)"
      ]
     },
     "execution_count": 30,
     "metadata": {},
     "output_type": "execute_result"
    }
   ],
   "source": [
    "type(df), type(df.rdd)"
   ]
  },
  {
   "cell_type": "code",
   "execution_count": 71,
   "id": "c933dbd2-b874-485d-95a4-ae98ee26f466",
   "metadata": {},
   "outputs": [],
   "source": [
    "# SparkFileNotFoundException, because the file is in my local filesystem\n",
    "# but, the workers are in different container, they don't have access to \n",
    "# this file\n",
    "# df.take(10)"
   ]
  },
  {
   "cell_type": "code",
   "execution_count": 31,
   "id": "31e82154-e243-438f-8bd9-4ee356337e7a",
   "metadata": {},
   "outputs": [],
   "source": [
    "!hdfs dfs -cp ghcnd-stations.txt hdfs://nn:9000/"
   ]
  },
  {
   "cell_type": "code",
   "execution_count": 32,
   "id": "d9726e3f-e901-4912-9c52-79967c68d0a9",
   "metadata": {},
   "outputs": [
    {
     "name": "stdout",
     "output_type": "stream",
     "text": [
      "Found 1 items\n",
      "-rw-r--r--   3 root supergroup   10607756 2024-01-09 03:47 hdfs://nn:9000/ghcnd-stations.txt\n"
     ]
    }
   ],
   "source": [
    "!hdfs dfs -ls hdfs://nn:9000/"
   ]
  },
  {
   "cell_type": "code",
   "execution_count": 33,
   "id": "519f2004-76d1-48b3-9048-b5e01f3955ef",
   "metadata": {},
   "outputs": [],
   "source": [
    "df = spark.read.text(\"hdfs://nn:9000/ghcnd-stations.txt\")"
   ]
  },
  {
   "cell_type": "code",
   "execution_count": 36,
   "id": "34161499-d693-473a-b8bd-3bc63189baaf",
   "metadata": {},
   "outputs": [
    {
     "data": {
      "text/plain": [
       "2"
      ]
     },
     "execution_count": 36,
     "metadata": {},
     "output_type": "execute_result"
    }
   ],
   "source": [
    "df.rdd.getNumPartitions()"
   ]
  },
  {
   "cell_type": "code",
   "execution_count": 37,
   "id": "eb4a9bd5-0012-4ee7-9dd7-476c6dfeb0da",
   "metadata": {},
   "outputs": [
    {
     "name": "stderr",
     "output_type": "stream",
     "text": [
      "                                                                                \r"
     ]
    },
    {
     "data": {
      "text/plain": [
       "[Row(value='ACW00011604  17.1167  -61.7833   10.1    ST JOHNS COOLIDGE FLD                       '),\n",
       " Row(value='ACW00011647  17.1333  -61.7833   19.2    ST JOHNS                                    '),\n",
       " Row(value='AE000041196  25.3330   55.5170   34.0    SHARJAH INTER. AIRP            GSN     41196'),\n",
       " Row(value='AEM00041194  25.2550   55.3640   10.4    DUBAI INTL                             41194'),\n",
       " Row(value='AEM00041217  24.4330   54.6510   26.8    ABU DHABI INTL                         41217')]"
      ]
     },
     "execution_count": 37,
     "metadata": {},
     "output_type": "execute_result"
    }
   ],
   "source": [
    "df.take(5)"
   ]
  },
  {
   "cell_type": "code",
   "execution_count": 38,
   "id": "bc85ecaf-a931-47af-9db6-74b20b4168e7",
   "metadata": {},
   "outputs": [
    {
     "name": "stderr",
     "output_type": "stream",
     "text": [
      "                                                                                \r"
     ]
    }
   ],
   "source": [
    "pandas_df = df.limit(10).toPandas()"
   ]
  },
  {
   "cell_type": "code",
   "execution_count": 39,
   "id": "c292a29c-2121-466c-ab88-582acfdf2931",
   "metadata": {},
   "outputs": [
    {
     "data": {
      "text/html": [
       "<div>\n",
       "<style scoped>\n",
       "    .dataframe tbody tr th:only-of-type {\n",
       "        vertical-align: middle;\n",
       "    }\n",
       "\n",
       "    .dataframe tbody tr th {\n",
       "        vertical-align: top;\n",
       "    }\n",
       "\n",
       "    .dataframe thead th {\n",
       "        text-align: right;\n",
       "    }\n",
       "</style>\n",
       "<table border=\"1\" class=\"dataframe\">\n",
       "  <thead>\n",
       "    <tr style=\"text-align: right;\">\n",
       "      <th></th>\n",
       "      <th>value</th>\n",
       "    </tr>\n",
       "  </thead>\n",
       "  <tbody>\n",
       "    <tr>\n",
       "      <th>0</th>\n",
       "      <td>ACW00011604  17.1167  -61.7833   10.1    ST JO...</td>\n",
       "    </tr>\n",
       "    <tr>\n",
       "      <th>1</th>\n",
       "      <td>ACW00011647  17.1333  -61.7833   19.2    ST JO...</td>\n",
       "    </tr>\n",
       "    <tr>\n",
       "      <th>2</th>\n",
       "      <td>AE000041196  25.3330   55.5170   34.0    SHARJ...</td>\n",
       "    </tr>\n",
       "    <tr>\n",
       "      <th>3</th>\n",
       "      <td>AEM00041194  25.2550   55.3640   10.4    DUBAI...</td>\n",
       "    </tr>\n",
       "    <tr>\n",
       "      <th>4</th>\n",
       "      <td>AEM00041217  24.4330   54.6510   26.8    ABU D...</td>\n",
       "    </tr>\n",
       "    <tr>\n",
       "      <th>5</th>\n",
       "      <td>AEM00041218  24.2620   55.6090  264.9    AL AI...</td>\n",
       "    </tr>\n",
       "    <tr>\n",
       "      <th>6</th>\n",
       "      <td>AF000040930  35.3170   69.0170 3366.0    NORTH...</td>\n",
       "    </tr>\n",
       "    <tr>\n",
       "      <th>7</th>\n",
       "      <td>AFM00040938  34.2100   62.2280  977.2    HERAT...</td>\n",
       "    </tr>\n",
       "    <tr>\n",
       "      <th>8</th>\n",
       "      <td>AFM00040948  34.5660   69.2120 1791.3    KABUL...</td>\n",
       "    </tr>\n",
       "    <tr>\n",
       "      <th>9</th>\n",
       "      <td>AFM00040990  31.5000   65.8500 1010.0    KANDA...</td>\n",
       "    </tr>\n",
       "  </tbody>\n",
       "</table>\n",
       "</div>"
      ],
      "text/plain": [
       "                                               value\n",
       "0  ACW00011604  17.1167  -61.7833   10.1    ST JO...\n",
       "1  ACW00011647  17.1333  -61.7833   19.2    ST JO...\n",
       "2  AE000041196  25.3330   55.5170   34.0    SHARJ...\n",
       "3  AEM00041194  25.2550   55.3640   10.4    DUBAI...\n",
       "4  AEM00041217  24.4330   54.6510   26.8    ABU D...\n",
       "5  AEM00041218  24.2620   55.6090  264.9    AL AI...\n",
       "6  AF000040930  35.3170   69.0170 3366.0    NORTH...\n",
       "7  AFM00040938  34.2100   62.2280  977.2    HERAT...\n",
       "8  AFM00040948  34.5660   69.2120 1791.3    KABUL...\n",
       "9  AFM00040990  31.5000   65.8500 1010.0    KANDA..."
      ]
     },
     "execution_count": 39,
     "metadata": {},
     "output_type": "execute_result"
    }
   ],
   "source": [
    "pandas_df"
   ]
  },
  {
   "cell_type": "code",
   "execution_count": 40,
   "id": "43996dc2-cc09-4366-b903-ea082df83327",
   "metadata": {},
   "outputs": [
    {
     "data": {
      "text/plain": [
       "pandas.core.frame.DataFrame"
      ]
     },
     "execution_count": 40,
     "metadata": {},
     "output_type": "execute_result"
    }
   ],
   "source": [
    "type(pandas_df)"
   ]
  },
  {
   "cell_type": "markdown",
   "id": "c37653ee-4549-4e92-b069-9688b3efa6cd",
   "metadata": {},
   "source": [
    "## extract station ID using pandas"
   ]
  },
  {
   "cell_type": "code",
   "execution_count": 42,
   "id": "34797930-37c2-4221-b6c0-9026e90be73e",
   "metadata": {},
   "outputs": [],
   "source": [
    "pandas_df[\"station\"] = pandas_df[\"value\"].str[:11]"
   ]
  },
  {
   "cell_type": "code",
   "execution_count": 43,
   "id": "a8b3554f-2a0e-40bd-89bf-17a2dc75f7e6",
   "metadata": {},
   "outputs": [
    {
     "data": {
      "text/html": [
       "<div>\n",
       "<style scoped>\n",
       "    .dataframe tbody tr th:only-of-type {\n",
       "        vertical-align: middle;\n",
       "    }\n",
       "\n",
       "    .dataframe tbody tr th {\n",
       "        vertical-align: top;\n",
       "    }\n",
       "\n",
       "    .dataframe thead th {\n",
       "        text-align: right;\n",
       "    }\n",
       "</style>\n",
       "<table border=\"1\" class=\"dataframe\">\n",
       "  <thead>\n",
       "    <tr style=\"text-align: right;\">\n",
       "      <th></th>\n",
       "      <th>value</th>\n",
       "      <th>station</th>\n",
       "    </tr>\n",
       "  </thead>\n",
       "  <tbody>\n",
       "    <tr>\n",
       "      <th>0</th>\n",
       "      <td>ACW00011604  17.1167  -61.7833   10.1    ST JO...</td>\n",
       "      <td>ACW00011604</td>\n",
       "    </tr>\n",
       "    <tr>\n",
       "      <th>1</th>\n",
       "      <td>ACW00011647  17.1333  -61.7833   19.2    ST JO...</td>\n",
       "      <td>ACW00011647</td>\n",
       "    </tr>\n",
       "    <tr>\n",
       "      <th>2</th>\n",
       "      <td>AE000041196  25.3330   55.5170   34.0    SHARJ...</td>\n",
       "      <td>AE000041196</td>\n",
       "    </tr>\n",
       "    <tr>\n",
       "      <th>3</th>\n",
       "      <td>AEM00041194  25.2550   55.3640   10.4    DUBAI...</td>\n",
       "      <td>AEM00041194</td>\n",
       "    </tr>\n",
       "    <tr>\n",
       "      <th>4</th>\n",
       "      <td>AEM00041217  24.4330   54.6510   26.8    ABU D...</td>\n",
       "      <td>AEM00041217</td>\n",
       "    </tr>\n",
       "    <tr>\n",
       "      <th>5</th>\n",
       "      <td>AEM00041218  24.2620   55.6090  264.9    AL AI...</td>\n",
       "      <td>AEM00041218</td>\n",
       "    </tr>\n",
       "    <tr>\n",
       "      <th>6</th>\n",
       "      <td>AF000040930  35.3170   69.0170 3366.0    NORTH...</td>\n",
       "      <td>AF000040930</td>\n",
       "    </tr>\n",
       "    <tr>\n",
       "      <th>7</th>\n",
       "      <td>AFM00040938  34.2100   62.2280  977.2    HERAT...</td>\n",
       "      <td>AFM00040938</td>\n",
       "    </tr>\n",
       "    <tr>\n",
       "      <th>8</th>\n",
       "      <td>AFM00040948  34.5660   69.2120 1791.3    KABUL...</td>\n",
       "      <td>AFM00040948</td>\n",
       "    </tr>\n",
       "    <tr>\n",
       "      <th>9</th>\n",
       "      <td>AFM00040990  31.5000   65.8500 1010.0    KANDA...</td>\n",
       "      <td>AFM00040990</td>\n",
       "    </tr>\n",
       "  </tbody>\n",
       "</table>\n",
       "</div>"
      ],
      "text/plain": [
       "                                               value      station\n",
       "0  ACW00011604  17.1167  -61.7833   10.1    ST JO...  ACW00011604\n",
       "1  ACW00011647  17.1333  -61.7833   19.2    ST JO...  ACW00011647\n",
       "2  AE000041196  25.3330   55.5170   34.0    SHARJ...  AE000041196\n",
       "3  AEM00041194  25.2550   55.3640   10.4    DUBAI...  AEM00041194\n",
       "4  AEM00041217  24.4330   54.6510   26.8    ABU D...  AEM00041217\n",
       "5  AEM00041218  24.2620   55.6090  264.9    AL AI...  AEM00041218\n",
       "6  AF000040930  35.3170   69.0170 3366.0    NORTH...  AF000040930\n",
       "7  AFM00040938  34.2100   62.2280  977.2    HERAT...  AFM00040938\n",
       "8  AFM00040948  34.5660   69.2120 1791.3    KABUL...  AFM00040948\n",
       "9  AFM00040990  31.5000   65.8500 1010.0    KANDA...  AFM00040990"
      ]
     },
     "execution_count": 43,
     "metadata": {},
     "output_type": "execute_result"
    }
   ],
   "source": [
    "pandas_df"
   ]
  },
  {
   "cell_type": "markdown",
   "id": "21008f66-d67d-482b-915e-fbce7385bb65",
   "metadata": {},
   "source": [
    "## extract station ID using Spark"
   ]
  },
  {
   "cell_type": "code",
   "execution_count": 44,
   "id": "5055ec53-1db9-4510-af82-4d05da364d2f",
   "metadata": {},
   "outputs": [],
   "source": [
    "from pyspark.sql.functions import col, expr"
   ]
  },
  {
   "cell_type": "code",
   "execution_count": 45,
   "id": "472518f1-c200-4c51-b354-9541a1b06060",
   "metadata": {},
   "outputs": [
    {
     "data": {
      "text/plain": [
       "Column<'(x + 1)'>"
      ]
     },
     "execution_count": 45,
     "metadata": {},
     "output_type": "execute_result"
    }
   ],
   "source": [
    "expr(\"x + 1\")"
   ]
  },
  {
   "cell_type": "code",
   "execution_count": 46,
   "id": "12fc73a2-7ee8-47c5-aade-916eb186970a",
   "metadata": {},
   "outputs": [],
   "source": [
    "# expr(\"SQL STUFF HERE\")"
   ]
  },
  {
   "cell_type": "code",
   "execution_count": 47,
   "id": "98f9eb78-1130-48ac-a87b-5e0da80920ba",
   "metadata": {},
   "outputs": [
    {
     "data": {
      "text/plain": [
       "Column<'substring(value, 0, 11)'>"
      ]
     },
     "execution_count": 47,
     "metadata": {},
     "output_type": "execute_result"
    }
   ],
   "source": [
    "expr(\"substring(value, 0, 11)\")"
   ]
  },
  {
   "cell_type": "code",
   "execution_count": 49,
   "id": "516c1e72-4a00-4993-9444-10025d9fc88f",
   "metadata": {},
   "outputs": [
    {
     "data": {
      "text/plain": [
       "[Row(value='ACW00011604  17.1167  -61.7833   10.1    ST JOHNS COOLIDGE FLD                       '),\n",
       " Row(value='ACW00011647  17.1333  -61.7833   19.2    ST JOHNS                                    '),\n",
       " Row(value='AE000041196  25.3330   55.5170   34.0    SHARJAH INTER. AIRP            GSN     41196')]"
      ]
     },
     "execution_count": 49,
     "metadata": {},
     "output_type": "execute_result"
    }
   ],
   "source": [
    "df.take(3)"
   ]
  },
  {
   "cell_type": "code",
   "execution_count": 53,
   "id": "56f445aa-f821-4e8a-8f07-4b79381306d9",
   "metadata": {},
   "outputs": [],
   "source": [
    "df2 = df.withColumn(\"station\", expr(\"substring(value, 0, 11)\"))"
   ]
  },
  {
   "cell_type": "code",
   "execution_count": 54,
   "id": "edda2252-8eb1-4cfd-8bcb-609937ee6271",
   "metadata": {},
   "outputs": [
    {
     "data": {
      "text/plain": [
       "DataFrame[value: string, station: string]"
      ]
     },
     "execution_count": 54,
     "metadata": {},
     "output_type": "execute_result"
    }
   ],
   "source": [
    "df2"
   ]
  },
  {
   "cell_type": "code",
   "execution_count": 55,
   "id": "d2d7c9b1-d86b-40ff-87f3-3df7f8bc6389",
   "metadata": {},
   "outputs": [
    {
     "data": {
      "text/html": [
       "<div>\n",
       "<style scoped>\n",
       "    .dataframe tbody tr th:only-of-type {\n",
       "        vertical-align: middle;\n",
       "    }\n",
       "\n",
       "    .dataframe tbody tr th {\n",
       "        vertical-align: top;\n",
       "    }\n",
       "\n",
       "    .dataframe thead th {\n",
       "        text-align: right;\n",
       "    }\n",
       "</style>\n",
       "<table border=\"1\" class=\"dataframe\">\n",
       "  <thead>\n",
       "    <tr style=\"text-align: right;\">\n",
       "      <th></th>\n",
       "      <th>value</th>\n",
       "      <th>station</th>\n",
       "    </tr>\n",
       "  </thead>\n",
       "  <tbody>\n",
       "    <tr>\n",
       "      <th>0</th>\n",
       "      <td>ACW00011604  17.1167  -61.7833   10.1    ST JO...</td>\n",
       "      <td>ACW00011604</td>\n",
       "    </tr>\n",
       "    <tr>\n",
       "      <th>1</th>\n",
       "      <td>ACW00011647  17.1333  -61.7833   19.2    ST JO...</td>\n",
       "      <td>ACW00011647</td>\n",
       "    </tr>\n",
       "    <tr>\n",
       "      <th>2</th>\n",
       "      <td>AE000041196  25.3330   55.5170   34.0    SHARJ...</td>\n",
       "      <td>AE000041196</td>\n",
       "    </tr>\n",
       "    <tr>\n",
       "      <th>3</th>\n",
       "      <td>AEM00041194  25.2550   55.3640   10.4    DUBAI...</td>\n",
       "      <td>AEM00041194</td>\n",
       "    </tr>\n",
       "    <tr>\n",
       "      <th>4</th>\n",
       "      <td>AEM00041217  24.4330   54.6510   26.8    ABU D...</td>\n",
       "      <td>AEM00041217</td>\n",
       "    </tr>\n",
       "  </tbody>\n",
       "</table>\n",
       "</div>"
      ],
      "text/plain": [
       "                                               value      station\n",
       "0  ACW00011604  17.1167  -61.7833   10.1    ST JO...  ACW00011604\n",
       "1  ACW00011647  17.1333  -61.7833   19.2    ST JO...  ACW00011647\n",
       "2  AE000041196  25.3330   55.5170   34.0    SHARJ...  AE000041196\n",
       "3  AEM00041194  25.2550   55.3640   10.4    DUBAI...  AEM00041194\n",
       "4  AEM00041217  24.4330   54.6510   26.8    ABU D...  AEM00041217"
      ]
     },
     "execution_count": 55,
     "metadata": {},
     "output_type": "execute_result"
    },
    {
     "name": "stderr",
     "output_type": "stream",
     "text": [
      "----------------------------------------\n",
      "Exception occurred during processing of request from ('127.0.0.1', 56990)\n",
      "Traceback (most recent call last):\n",
      "  File \"/usr/lib/python3.10/socketserver.py\", line 316, in _handle_request_noblock\n",
      "    self.process_request(request, client_address)\n",
      "  File \"/usr/lib/python3.10/socketserver.py\", line 347, in process_request\n",
      "    self.finish_request(request, client_address)\n",
      "  File \"/usr/lib/python3.10/socketserver.py\", line 360, in finish_request\n",
      "    self.RequestHandlerClass(request, client_address, self)\n",
      "  File \"/usr/lib/python3.10/socketserver.py\", line 747, in __init__\n",
      "    self.handle()\n",
      "  File \"/usr/local/lib/python3.10/dist-packages/pyspark/accumulators.py\", line 295, in handle\n",
      "    poll(accum_updates)\n",
      "  File \"/usr/local/lib/python3.10/dist-packages/pyspark/accumulators.py\", line 267, in poll\n",
      "    if self.rfile in r and func():\n",
      "  File \"/usr/local/lib/python3.10/dist-packages/pyspark/accumulators.py\", line 271, in accum_updates\n",
      "    num_updates = read_int(self.rfile)\n",
      "  File \"/usr/local/lib/python3.10/dist-packages/pyspark/serializers.py\", line 596, in read_int\n",
      "    raise EOFError\n",
      "EOFError\n",
      "----------------------------------------\n"
     ]
    }
   ],
   "source": [
    "df2.limit(5).toPandas()"
   ]
  },
  {
   "cell_type": "code",
   "execution_count": null,
   "id": "76ddc096-c9c0-4947-bd16-c657dd685795",
   "metadata": {},
   "outputs": [],
   "source": []
  }
 ],
 "metadata": {
  "kernelspec": {
   "display_name": "Python 3 (ipykernel)",
   "language": "python",
   "name": "python3"
  },
  "language_info": {
   "codemirror_mode": {
    "name": "ipython",
    "version": 3
   },
   "file_extension": ".py",
   "mimetype": "text/x-python",
   "name": "python",
   "nbconvert_exporter": "python",
   "pygments_lexer": "ipython3",
   "version": "3.10.12"
  }
 },
 "nbformat": 4,
 "nbformat_minor": 5
}
