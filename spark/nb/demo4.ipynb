{
 "cells": [
  {
   "cell_type": "code",
   "execution_count": 2,
   "id": "c8dca847-54af-4284-97d8-0682e88a6e8d",
   "metadata": {},
   "outputs": [
    {
     "name": "stderr",
     "output_type": "stream",
     "text": [
      "Setting default log level to \"WARN\".\n",
      "To adjust logging level use sc.setLogLevel(newLevel). For SparkR, use setLogLevel(newLevel).\n",
      "24/01/08 22:38:26 WARN NativeCodeLoader: Unable to load native-hadoop library for your platform... using builtin-java classes where applicable\n"
     ]
    }
   ],
   "source": [
    "from pyspark.sql import SparkSession\n",
    "spark = (SparkSession.builder.appName(\"cs544\")\n",
    "         .master(\"spark://boss:7077\")\n",
    "         .config(\"spark.executor.memory\", \"512M\")\n",
    "         .config(\"spark.sql.warehouse.dir\", \"hdfs://nn:9000/user/hive/warehouse\")\n",
    "         .enableHiveSupport()\n",
    "         .getOrCreate())"
   ]
  },
  {
   "cell_type": "code",
   "execution_count": 2,
   "id": "2294e4e0-ab19-496c-980f-31df757e7837",
   "metadata": {},
   "outputs": [],
   "source": [
    "!hdfs dfs -cp sf.csv hdfs://nn:9000/sf.csv"
   ]
  },
  {
   "cell_type": "code",
   "execution_count": 3,
   "id": "b58110ce-3784-4332-92ce-00689ed3f3d9",
   "metadata": {},
   "outputs": [],
   "source": [
    "!hdfs dfs -cp holidays2.csv hdfs://nn:9000/holidays2.csv"
   ]
  },
  {
   "cell_type": "code",
   "execution_count": 4,
   "id": "cb54bacc-b52a-4c25-93d2-2ba0f61de9b0",
   "metadata": {},
   "outputs": [
    {
     "name": "stderr",
     "output_type": "stream",
     "text": [
      "                                                                                \r"
     ]
    }
   ],
   "source": [
    "df = (spark.read.format(\"csv\")\n",
    "      .option(\"header\", True)\n",
    "      .option(\"inferSchema\", True)\n",
    "      .load(\"hdfs://nn:9000/sf.csv\"))"
   ]
  },
  {
   "cell_type": "code",
   "execution_count": 5,
   "id": "c1298818-83f6-444b-b8a0-4be5b16fd6fb",
   "metadata": {},
   "outputs": [
    {
     "name": "stderr",
     "output_type": "stream",
     "text": [
      "24/01/08 19:09:10 WARN SparkStringUtils: Truncated the string representation of a plan since it was too large. This behavior can be adjusted by setting 'spark.sql.debug.maxToStringFields'.\n",
      "                                                                                \r"
     ]
    }
   ],
   "source": [
    "from pyspark.sql.functions import col, expr\n",
    "cols = [col(c).alias(c.replace(\" \", \"_\")) for c in df.columns]\n",
    "df.select(cols).write.format(\"parquet\").save(\"hdfs://nn:9000/sf.parquet\")"
   ]
  },
  {
   "cell_type": "code",
   "execution_count": 6,
   "id": "37d1ded3-ed8a-4e39-94cb-dd3a3272af91",
   "metadata": {},
   "outputs": [
    {
     "name": "stdout",
     "output_type": "stream",
     "text": [
      "Deleted hdfs://nn:9000/sf.csv\n"
     ]
    }
   ],
   "source": [
    "!hdfs dfs -rm hdfs://nn:9000/sf.csv"
   ]
  },
  {
   "cell_type": "code",
   "execution_count": 7,
   "id": "abea48b5-e012-4ae2-a53a-e40350f94e20",
   "metadata": {},
   "outputs": [],
   "source": [
    "(spark.read\n",
    " .format(\"parquet\")\n",
    " .load(\"hdfs://nn:9000/sf.parquet\")\n",
    " .createOrReplaceTempView(\"calls\")\n",
    ")"
   ]
  },
  {
   "cell_type": "code",
   "execution_count": 8,
   "id": "01676bbf-5ff4-4674-beed-c0da2a9bd541",
   "metadata": {},
   "outputs": [],
   "source": [
    "(spark.read\n",
    " .format(\"csv\")\n",
    " .option(\"inferSchema\", True)\n",
    " .option(\"header\", True)\n",
    " .load(\"hdfs://nn:9000/holidays2.csv\")\n",
    " .createOrReplaceTempView(\"holidays\")\n",
    ")"
   ]
  },
  {
   "cell_type": "code",
   "execution_count": 9,
   "id": "4da19ea0-5c56-4ce9-9746-16af20677c93",
   "metadata": {},
   "outputs": [
    {
     "data": {
      "text/plain": [
       "DataFrame[Call_Number: int, Unit_ID: string, Incident_Number: int, Call_Type: string, Call_Date: string, Watch_Date: string, Received_DtTm: string, Entry_DtTm: string, Dispatch_DtTm: string, Response_DtTm: string, On_Scene_DtTm: string, Transport_DtTm: string, Hospital_DtTm: string, Call_Final_Disposition: string, Available_DtTm: string, Address: string, City: string, Zipcode_of_Incident: int, Battalion: string, Station_Area: string, Box: string, Original_Priority: string, Priority: string, Final_Priority: int, ALS_Unit: boolean, Call_Type_Group: string, Number_of_Alarms: int, Unit_Type: string, Unit_sequence_in_call_dispatch: int, Fire_Prevention_District: string, Supervisor_District: string, Neighborhooods_-_Analysis_Boundaries: string, RowID: string, case_location: string, Analysis_Neighborhoods: int]"
      ]
     },
     "execution_count": 9,
     "metadata": {},
     "output_type": "execute_result"
    }
   ],
   "source": [
    "spark.table(\"calls\")"
   ]
  },
  {
   "cell_type": "code",
   "execution_count": 10,
   "id": "3960151d-7497-4cd4-9585-a2d9f00353f0",
   "metadata": {},
   "outputs": [
    {
     "data": {
      "text/plain": [
       "DataFrame[date: string, holiday: string]"
      ]
     },
     "execution_count": 10,
     "metadata": {},
     "output_type": "execute_result"
    }
   ],
   "source": [
    "spark.table(\"holidays\")"
   ]
  },
  {
   "cell_type": "code",
   "execution_count": 13,
   "id": "e189c96e-3e37-41ae-9ecd-e68a893528f0",
   "metadata": {},
   "outputs": [
    {
     "name": "stdout",
     "output_type": "stream",
     "text": [
      "+---------+---------+-----------+\n",
      "|namespace|tableName|isTemporary|\n",
      "+---------+---------+-----------+\n",
      "|  default|   stinky|      false|\n",
      "|         |    calls|       true|\n",
      "|         | holidays|       true|\n",
      "+---------+---------+-----------+\n",
      "\n"
     ]
    }
   ],
   "source": [
    "spark.sql(\"SHOW TABLES\").show()"
   ]
  },
  {
   "cell_type": "code",
   "execution_count": 14,
   "id": "7b11cb2a-7e69-40ae-89f5-d7beb509c18c",
   "metadata": {},
   "outputs": [
    {
     "data": {
      "text/html": [
       "<div>\n",
       "<style scoped>\n",
       "    .dataframe tbody tr th:only-of-type {\n",
       "        vertical-align: middle;\n",
       "    }\n",
       "\n",
       "    .dataframe tbody tr th {\n",
       "        vertical-align: top;\n",
       "    }\n",
       "\n",
       "    .dataframe thead th {\n",
       "        text-align: right;\n",
       "    }\n",
       "</style>\n",
       "<table border=\"1\" class=\"dataframe\">\n",
       "  <thead>\n",
       "    <tr style=\"text-align: right;\">\n",
       "      <th></th>\n",
       "      <th>Call_Number</th>\n",
       "      <th>Unit_ID</th>\n",
       "      <th>Incident_Number</th>\n",
       "      <th>Call_Type</th>\n",
       "      <th>Call_Date</th>\n",
       "      <th>Watch_Date</th>\n",
       "      <th>Received_DtTm</th>\n",
       "      <th>Entry_DtTm</th>\n",
       "      <th>Dispatch_DtTm</th>\n",
       "      <th>Response_DtTm</th>\n",
       "      <th>...</th>\n",
       "      <th>Unit_Type</th>\n",
       "      <th>Unit_sequence_in_call_dispatch</th>\n",
       "      <th>Fire_Prevention_District</th>\n",
       "      <th>Supervisor_District</th>\n",
       "      <th>Neighborhooods_-_Analysis_Boundaries</th>\n",
       "      <th>RowID</th>\n",
       "      <th>case_location</th>\n",
       "      <th>Analysis_Neighborhoods</th>\n",
       "      <th>date</th>\n",
       "      <th>holiday</th>\n",
       "    </tr>\n",
       "  </thead>\n",
       "  <tbody>\n",
       "    <tr>\n",
       "      <th>0</th>\n",
       "      <td>201461772</td>\n",
       "      <td>94</td>\n",
       "      <td>20060706</td>\n",
       "      <td>Medical Incident</td>\n",
       "      <td>05/25/2020</td>\n",
       "      <td>05/25/2020</td>\n",
       "      <td>05/25/2020 01:34:55 PM</td>\n",
       "      <td>05/25/2020 01:34:55 PM</td>\n",
       "      <td>05/25/2020 01:36:14 PM</td>\n",
       "      <td>05/25/2020 01:36:19 PM</td>\n",
       "      <td>...</td>\n",
       "      <td>MEDIC</td>\n",
       "      <td>1</td>\n",
       "      <td>10</td>\n",
       "      <td>10</td>\n",
       "      <td>Bayview Hunters Point</td>\n",
       "      <td>201461772-94</td>\n",
       "      <td>POINT (-122.38626545834089 37.73782577837169)</td>\n",
       "      <td>1</td>\n",
       "      <td>05/25/2020</td>\n",
       "      <td>Memorial Day</td>\n",
       "    </tr>\n",
       "    <tr>\n",
       "      <th>1</th>\n",
       "      <td>201463874</td>\n",
       "      <td>E32</td>\n",
       "      <td>20060913</td>\n",
       "      <td>Medical Incident</td>\n",
       "      <td>05/25/2020</td>\n",
       "      <td>05/25/2020</td>\n",
       "      <td>05/25/2020 11:16:21 PM</td>\n",
       "      <td>05/25/2020 11:17:54 PM</td>\n",
       "      <td>05/25/2020 11:18:27 PM</td>\n",
       "      <td>05/25/2020 11:19:53 PM</td>\n",
       "      <td>...</td>\n",
       "      <td>ENGINE</td>\n",
       "      <td>1</td>\n",
       "      <td>9</td>\n",
       "      <td>11</td>\n",
       "      <td>Excelsior</td>\n",
       "      <td>201463874-E32</td>\n",
       "      <td>POINT (-122.42955213038633 37.729273863971024)</td>\n",
       "      <td>7</td>\n",
       "      <td>05/25/2020</td>\n",
       "      <td>Memorial Day</td>\n",
       "    </tr>\n",
       "    <tr>\n",
       "      <th>2</th>\n",
       "      <td>201463019</td>\n",
       "      <td>T18</td>\n",
       "      <td>20060826</td>\n",
       "      <td>Medical Incident</td>\n",
       "      <td>05/25/2020</td>\n",
       "      <td>05/25/2020</td>\n",
       "      <td>05/25/2020 06:39:44 PM</td>\n",
       "      <td>05/25/2020 06:41:34 PM</td>\n",
       "      <td>05/25/2020 06:55:28 PM</td>\n",
       "      <td>05/25/2020 06:57:32 PM</td>\n",
       "      <td>...</td>\n",
       "      <td>TRUCK</td>\n",
       "      <td>2</td>\n",
       "      <td>8</td>\n",
       "      <td>7</td>\n",
       "      <td>Inner Sunset</td>\n",
       "      <td>201463019-T18</td>\n",
       "      <td>POINT (-122.46829612745225 37.751748874988515)</td>\n",
       "      <td>14</td>\n",
       "      <td>05/25/2020</td>\n",
       "      <td>Memorial Day</td>\n",
       "    </tr>\n",
       "    <tr>\n",
       "      <th>3</th>\n",
       "      <td>201460900</td>\n",
       "      <td>E11</td>\n",
       "      <td>20060611</td>\n",
       "      <td>Medical Incident</td>\n",
       "      <td>05/25/2020</td>\n",
       "      <td>05/25/2020</td>\n",
       "      <td>05/25/2020 09:22:49 AM</td>\n",
       "      <td>05/25/2020 09:24:51 AM</td>\n",
       "      <td>05/25/2020 09:25:17 AM</td>\n",
       "      <td>05/25/2020 09:26:11 AM</td>\n",
       "      <td>...</td>\n",
       "      <td>ENGINE</td>\n",
       "      <td>1</td>\n",
       "      <td>6</td>\n",
       "      <td>8</td>\n",
       "      <td>Mission</td>\n",
       "      <td>201460900-E11</td>\n",
       "      <td>POINT (-122.42413130758577 37.752703146369065)</td>\n",
       "      <td>20</td>\n",
       "      <td>05/25/2020</td>\n",
       "      <td>Memorial Day</td>\n",
       "    </tr>\n",
       "    <tr>\n",
       "      <th>4</th>\n",
       "      <td>201463227</td>\n",
       "      <td>B03</td>\n",
       "      <td>20060859</td>\n",
       "      <td>Alarms</td>\n",
       "      <td>05/25/2020</td>\n",
       "      <td>05/25/2020</td>\n",
       "      <td>05/25/2020 07:40:19 PM</td>\n",
       "      <td>05/25/2020 07:41:33 PM</td>\n",
       "      <td>05/25/2020 07:41:44 PM</td>\n",
       "      <td>05/25/2020 07:42:33 PM</td>\n",
       "      <td>...</td>\n",
       "      <td>CHIEF</td>\n",
       "      <td>2</td>\n",
       "      <td>3</td>\n",
       "      <td>6</td>\n",
       "      <td>Financial District/South Beach</td>\n",
       "      <td>201463227-B03</td>\n",
       "      <td>POINT (-122.40169229261626 37.78658885907634)</td>\n",
       "      <td>8</td>\n",
       "      <td>05/25/2020</td>\n",
       "      <td>Memorial Day</td>\n",
       "    </tr>\n",
       "  </tbody>\n",
       "</table>\n",
       "<p>5 rows × 37 columns</p>\n",
       "</div>"
      ],
      "text/plain": [
       "   Call_Number Unit_ID  Incident_Number         Call_Type   Call_Date  \\\n",
       "0    201461772      94         20060706  Medical Incident  05/25/2020   \n",
       "1    201463874     E32         20060913  Medical Incident  05/25/2020   \n",
       "2    201463019     T18         20060826  Medical Incident  05/25/2020   \n",
       "3    201460900     E11         20060611  Medical Incident  05/25/2020   \n",
       "4    201463227     B03         20060859            Alarms  05/25/2020   \n",
       "\n",
       "   Watch_Date           Received_DtTm              Entry_DtTm  \\\n",
       "0  05/25/2020  05/25/2020 01:34:55 PM  05/25/2020 01:34:55 PM   \n",
       "1  05/25/2020  05/25/2020 11:16:21 PM  05/25/2020 11:17:54 PM   \n",
       "2  05/25/2020  05/25/2020 06:39:44 PM  05/25/2020 06:41:34 PM   \n",
       "3  05/25/2020  05/25/2020 09:22:49 AM  05/25/2020 09:24:51 AM   \n",
       "4  05/25/2020  05/25/2020 07:40:19 PM  05/25/2020 07:41:33 PM   \n",
       "\n",
       "            Dispatch_DtTm           Response_DtTm  ... Unit_Type  \\\n",
       "0  05/25/2020 01:36:14 PM  05/25/2020 01:36:19 PM  ...     MEDIC   \n",
       "1  05/25/2020 11:18:27 PM  05/25/2020 11:19:53 PM  ...    ENGINE   \n",
       "2  05/25/2020 06:55:28 PM  05/25/2020 06:57:32 PM  ...     TRUCK   \n",
       "3  05/25/2020 09:25:17 AM  05/25/2020 09:26:11 AM  ...    ENGINE   \n",
       "4  05/25/2020 07:41:44 PM  05/25/2020 07:42:33 PM  ...     CHIEF   \n",
       "\n",
       "  Unit_sequence_in_call_dispatch Fire_Prevention_District Supervisor_District  \\\n",
       "0                              1                       10                  10   \n",
       "1                              1                        9                  11   \n",
       "2                              2                        8                   7   \n",
       "3                              1                        6                   8   \n",
       "4                              2                        3                   6   \n",
       "\n",
       "  Neighborhooods_-_Analysis_Boundaries          RowID  \\\n",
       "0                Bayview Hunters Point   201461772-94   \n",
       "1                            Excelsior  201463874-E32   \n",
       "2                         Inner Sunset  201463019-T18   \n",
       "3                              Mission  201460900-E11   \n",
       "4       Financial District/South Beach  201463227-B03   \n",
       "\n",
       "                                    case_location  Analysis_Neighborhoods  \\\n",
       "0   POINT (-122.38626545834089 37.73782577837169)                       1   \n",
       "1  POINT (-122.42955213038633 37.729273863971024)                       7   \n",
       "2  POINT (-122.46829612745225 37.751748874988515)                      14   \n",
       "3  POINT (-122.42413130758577 37.752703146369065)                      20   \n",
       "4   POINT (-122.40169229261626 37.78658885907634)                       8   \n",
       "\n",
       "         date       holiday  \n",
       "0  05/25/2020  Memorial Day  \n",
       "1  05/25/2020  Memorial Day  \n",
       "2  05/25/2020  Memorial Day  \n",
       "3  05/25/2020  Memorial Day  \n",
       "4  05/25/2020  Memorial Day  \n",
       "\n",
       "[5 rows x 37 columns]"
      ]
     },
     "execution_count": 14,
     "metadata": {},
     "output_type": "execute_result"
    }
   ],
   "source": [
    "# SQL\n",
    "spark.sql(\"\"\"\n",
    "SELECT *\n",
    "FROM calls\n",
    "INNER JOIN holidays ON calls.Call_Date = holidays.date\n",
    "LIMIT 5\n",
    "\"\"\").toPandas()"
   ]
  },
  {
   "cell_type": "code",
   "execution_count": 15,
   "id": "0be804b1-ec7c-411e-b334-19ec97b439f4",
   "metadata": {},
   "outputs": [],
   "source": [
    "calls = spark.table(\"calls\")\n",
    "holidays = spark.table(\"holidays\")"
   ]
  },
  {
   "cell_type": "code",
   "execution_count": 18,
   "id": "dbcad59d-0623-4df0-a51a-704c8ea485d1",
   "metadata": {},
   "outputs": [
    {
     "data": {
      "text/plain": [
       "Column<'(Call_Date = date)'>"
      ]
     },
     "execution_count": 18,
     "metadata": {},
     "output_type": "execute_result"
    }
   ],
   "source": [
    "calls[\"Call_Date\"] == holidays[\"date\"]"
   ]
  },
  {
   "cell_type": "code",
   "execution_count": 19,
   "id": "19b8ee76-d878-41ac-be87-9abf33c7a885",
   "metadata": {},
   "outputs": [
    {
     "data": {
      "text/html": [
       "<div>\n",
       "<style scoped>\n",
       "    .dataframe tbody tr th:only-of-type {\n",
       "        vertical-align: middle;\n",
       "    }\n",
       "\n",
       "    .dataframe tbody tr th {\n",
       "        vertical-align: top;\n",
       "    }\n",
       "\n",
       "    .dataframe thead th {\n",
       "        text-align: right;\n",
       "    }\n",
       "</style>\n",
       "<table border=\"1\" class=\"dataframe\">\n",
       "  <thead>\n",
       "    <tr style=\"text-align: right;\">\n",
       "      <th></th>\n",
       "      <th>Call_Number</th>\n",
       "      <th>Unit_ID</th>\n",
       "      <th>Incident_Number</th>\n",
       "      <th>Call_Type</th>\n",
       "      <th>Call_Date</th>\n",
       "      <th>Watch_Date</th>\n",
       "      <th>Received_DtTm</th>\n",
       "      <th>Entry_DtTm</th>\n",
       "      <th>Dispatch_DtTm</th>\n",
       "      <th>Response_DtTm</th>\n",
       "      <th>...</th>\n",
       "      <th>Unit_Type</th>\n",
       "      <th>Unit_sequence_in_call_dispatch</th>\n",
       "      <th>Fire_Prevention_District</th>\n",
       "      <th>Supervisor_District</th>\n",
       "      <th>Neighborhooods_-_Analysis_Boundaries</th>\n",
       "      <th>RowID</th>\n",
       "      <th>case_location</th>\n",
       "      <th>Analysis_Neighborhoods</th>\n",
       "      <th>date</th>\n",
       "      <th>holiday</th>\n",
       "    </tr>\n",
       "  </thead>\n",
       "  <tbody>\n",
       "    <tr>\n",
       "      <th>0</th>\n",
       "      <td>201461772</td>\n",
       "      <td>94</td>\n",
       "      <td>20060706</td>\n",
       "      <td>Medical Incident</td>\n",
       "      <td>05/25/2020</td>\n",
       "      <td>05/25/2020</td>\n",
       "      <td>05/25/2020 01:34:55 PM</td>\n",
       "      <td>05/25/2020 01:34:55 PM</td>\n",
       "      <td>05/25/2020 01:36:14 PM</td>\n",
       "      <td>05/25/2020 01:36:19 PM</td>\n",
       "      <td>...</td>\n",
       "      <td>MEDIC</td>\n",
       "      <td>1</td>\n",
       "      <td>10</td>\n",
       "      <td>10</td>\n",
       "      <td>Bayview Hunters Point</td>\n",
       "      <td>201461772-94</td>\n",
       "      <td>POINT (-122.38626545834089 37.73782577837169)</td>\n",
       "      <td>1</td>\n",
       "      <td>05/25/2020</td>\n",
       "      <td>Memorial Day</td>\n",
       "    </tr>\n",
       "    <tr>\n",
       "      <th>1</th>\n",
       "      <td>201463874</td>\n",
       "      <td>E32</td>\n",
       "      <td>20060913</td>\n",
       "      <td>Medical Incident</td>\n",
       "      <td>05/25/2020</td>\n",
       "      <td>05/25/2020</td>\n",
       "      <td>05/25/2020 11:16:21 PM</td>\n",
       "      <td>05/25/2020 11:17:54 PM</td>\n",
       "      <td>05/25/2020 11:18:27 PM</td>\n",
       "      <td>05/25/2020 11:19:53 PM</td>\n",
       "      <td>...</td>\n",
       "      <td>ENGINE</td>\n",
       "      <td>1</td>\n",
       "      <td>9</td>\n",
       "      <td>11</td>\n",
       "      <td>Excelsior</td>\n",
       "      <td>201463874-E32</td>\n",
       "      <td>POINT (-122.42955213038633 37.729273863971024)</td>\n",
       "      <td>7</td>\n",
       "      <td>05/25/2020</td>\n",
       "      <td>Memorial Day</td>\n",
       "    </tr>\n",
       "    <tr>\n",
       "      <th>2</th>\n",
       "      <td>201463019</td>\n",
       "      <td>T18</td>\n",
       "      <td>20060826</td>\n",
       "      <td>Medical Incident</td>\n",
       "      <td>05/25/2020</td>\n",
       "      <td>05/25/2020</td>\n",
       "      <td>05/25/2020 06:39:44 PM</td>\n",
       "      <td>05/25/2020 06:41:34 PM</td>\n",
       "      <td>05/25/2020 06:55:28 PM</td>\n",
       "      <td>05/25/2020 06:57:32 PM</td>\n",
       "      <td>...</td>\n",
       "      <td>TRUCK</td>\n",
       "      <td>2</td>\n",
       "      <td>8</td>\n",
       "      <td>7</td>\n",
       "      <td>Inner Sunset</td>\n",
       "      <td>201463019-T18</td>\n",
       "      <td>POINT (-122.46829612745225 37.751748874988515)</td>\n",
       "      <td>14</td>\n",
       "      <td>05/25/2020</td>\n",
       "      <td>Memorial Day</td>\n",
       "    </tr>\n",
       "    <tr>\n",
       "      <th>3</th>\n",
       "      <td>201460900</td>\n",
       "      <td>E11</td>\n",
       "      <td>20060611</td>\n",
       "      <td>Medical Incident</td>\n",
       "      <td>05/25/2020</td>\n",
       "      <td>05/25/2020</td>\n",
       "      <td>05/25/2020 09:22:49 AM</td>\n",
       "      <td>05/25/2020 09:24:51 AM</td>\n",
       "      <td>05/25/2020 09:25:17 AM</td>\n",
       "      <td>05/25/2020 09:26:11 AM</td>\n",
       "      <td>...</td>\n",
       "      <td>ENGINE</td>\n",
       "      <td>1</td>\n",
       "      <td>6</td>\n",
       "      <td>8</td>\n",
       "      <td>Mission</td>\n",
       "      <td>201460900-E11</td>\n",
       "      <td>POINT (-122.42413130758577 37.752703146369065)</td>\n",
       "      <td>20</td>\n",
       "      <td>05/25/2020</td>\n",
       "      <td>Memorial Day</td>\n",
       "    </tr>\n",
       "    <tr>\n",
       "      <th>4</th>\n",
       "      <td>201463227</td>\n",
       "      <td>B03</td>\n",
       "      <td>20060859</td>\n",
       "      <td>Alarms</td>\n",
       "      <td>05/25/2020</td>\n",
       "      <td>05/25/2020</td>\n",
       "      <td>05/25/2020 07:40:19 PM</td>\n",
       "      <td>05/25/2020 07:41:33 PM</td>\n",
       "      <td>05/25/2020 07:41:44 PM</td>\n",
       "      <td>05/25/2020 07:42:33 PM</td>\n",
       "      <td>...</td>\n",
       "      <td>CHIEF</td>\n",
       "      <td>2</td>\n",
       "      <td>3</td>\n",
       "      <td>6</td>\n",
       "      <td>Financial District/South Beach</td>\n",
       "      <td>201463227-B03</td>\n",
       "      <td>POINT (-122.40169229261626 37.78658885907634)</td>\n",
       "      <td>8</td>\n",
       "      <td>05/25/2020</td>\n",
       "      <td>Memorial Day</td>\n",
       "    </tr>\n",
       "  </tbody>\n",
       "</table>\n",
       "<p>5 rows × 37 columns</p>\n",
       "</div>"
      ],
      "text/plain": [
       "   Call_Number Unit_ID  Incident_Number         Call_Type   Call_Date  \\\n",
       "0    201461772      94         20060706  Medical Incident  05/25/2020   \n",
       "1    201463874     E32         20060913  Medical Incident  05/25/2020   \n",
       "2    201463019     T18         20060826  Medical Incident  05/25/2020   \n",
       "3    201460900     E11         20060611  Medical Incident  05/25/2020   \n",
       "4    201463227     B03         20060859            Alarms  05/25/2020   \n",
       "\n",
       "   Watch_Date           Received_DtTm              Entry_DtTm  \\\n",
       "0  05/25/2020  05/25/2020 01:34:55 PM  05/25/2020 01:34:55 PM   \n",
       "1  05/25/2020  05/25/2020 11:16:21 PM  05/25/2020 11:17:54 PM   \n",
       "2  05/25/2020  05/25/2020 06:39:44 PM  05/25/2020 06:41:34 PM   \n",
       "3  05/25/2020  05/25/2020 09:22:49 AM  05/25/2020 09:24:51 AM   \n",
       "4  05/25/2020  05/25/2020 07:40:19 PM  05/25/2020 07:41:33 PM   \n",
       "\n",
       "            Dispatch_DtTm           Response_DtTm  ... Unit_Type  \\\n",
       "0  05/25/2020 01:36:14 PM  05/25/2020 01:36:19 PM  ...     MEDIC   \n",
       "1  05/25/2020 11:18:27 PM  05/25/2020 11:19:53 PM  ...    ENGINE   \n",
       "2  05/25/2020 06:55:28 PM  05/25/2020 06:57:32 PM  ...     TRUCK   \n",
       "3  05/25/2020 09:25:17 AM  05/25/2020 09:26:11 AM  ...    ENGINE   \n",
       "4  05/25/2020 07:41:44 PM  05/25/2020 07:42:33 PM  ...     CHIEF   \n",
       "\n",
       "  Unit_sequence_in_call_dispatch Fire_Prevention_District Supervisor_District  \\\n",
       "0                              1                       10                  10   \n",
       "1                              1                        9                  11   \n",
       "2                              2                        8                   7   \n",
       "3                              1                        6                   8   \n",
       "4                              2                        3                   6   \n",
       "\n",
       "  Neighborhooods_-_Analysis_Boundaries          RowID  \\\n",
       "0                Bayview Hunters Point   201461772-94   \n",
       "1                            Excelsior  201463874-E32   \n",
       "2                         Inner Sunset  201463019-T18   \n",
       "3                              Mission  201460900-E11   \n",
       "4       Financial District/South Beach  201463227-B03   \n",
       "\n",
       "                                    case_location  Analysis_Neighborhoods  \\\n",
       "0   POINT (-122.38626545834089 37.73782577837169)                       1   \n",
       "1  POINT (-122.42955213038633 37.729273863971024)                       7   \n",
       "2  POINT (-122.46829612745225 37.751748874988515)                      14   \n",
       "3  POINT (-122.42413130758577 37.752703146369065)                      20   \n",
       "4   POINT (-122.40169229261626 37.78658885907634)                       8   \n",
       "\n",
       "         date       holiday  \n",
       "0  05/25/2020  Memorial Day  \n",
       "1  05/25/2020  Memorial Day  \n",
       "2  05/25/2020  Memorial Day  \n",
       "3  05/25/2020  Memorial Day  \n",
       "4  05/25/2020  Memorial Day  \n",
       "\n",
       "[5 rows x 37 columns]"
      ]
     },
     "execution_count": 19,
     "metadata": {},
     "output_type": "execute_result"
    }
   ],
   "source": [
    "# default for how is inner join\n",
    "calls.join(holidays, on=calls[\"Call_Date\"] == holidays[\"date\"]).limit(5).toPandas()"
   ]
  },
  {
   "cell_type": "code",
   "execution_count": 21,
   "id": "17876018-dcd5-4f04-89d0-b2ddf918d75a",
   "metadata": {},
   "outputs": [
    {
     "data": {
      "text/html": [
       "<div>\n",
       "<style scoped>\n",
       "    .dataframe tbody tr th:only-of-type {\n",
       "        vertical-align: middle;\n",
       "    }\n",
       "\n",
       "    .dataframe tbody tr th {\n",
       "        vertical-align: top;\n",
       "    }\n",
       "\n",
       "    .dataframe thead th {\n",
       "        text-align: right;\n",
       "    }\n",
       "</style>\n",
       "<table border=\"1\" class=\"dataframe\">\n",
       "  <thead>\n",
       "    <tr style=\"text-align: right;\">\n",
       "      <th></th>\n",
       "      <th>Call_Number</th>\n",
       "      <th>Unit_ID</th>\n",
       "      <th>Incident_Number</th>\n",
       "      <th>Call_Type</th>\n",
       "      <th>Call_Date</th>\n",
       "      <th>Watch_Date</th>\n",
       "      <th>Received_DtTm</th>\n",
       "      <th>Entry_DtTm</th>\n",
       "      <th>Dispatch_DtTm</th>\n",
       "      <th>Response_DtTm</th>\n",
       "      <th>...</th>\n",
       "      <th>Unit_Type</th>\n",
       "      <th>Unit_sequence_in_call_dispatch</th>\n",
       "      <th>Fire_Prevention_District</th>\n",
       "      <th>Supervisor_District</th>\n",
       "      <th>Neighborhooods_-_Analysis_Boundaries</th>\n",
       "      <th>RowID</th>\n",
       "      <th>case_location</th>\n",
       "      <th>Analysis_Neighborhoods</th>\n",
       "      <th>date</th>\n",
       "      <th>holiday</th>\n",
       "    </tr>\n",
       "  </thead>\n",
       "  <tbody>\n",
       "    <tr>\n",
       "      <th>0</th>\n",
       "      <td>201461772</td>\n",
       "      <td>94</td>\n",
       "      <td>20060706</td>\n",
       "      <td>Medical Incident</td>\n",
       "      <td>05/25/2020</td>\n",
       "      <td>05/25/2020</td>\n",
       "      <td>05/25/2020 01:34:55 PM</td>\n",
       "      <td>05/25/2020 01:34:55 PM</td>\n",
       "      <td>05/25/2020 01:36:14 PM</td>\n",
       "      <td>05/25/2020 01:36:19 PM</td>\n",
       "      <td>...</td>\n",
       "      <td>MEDIC</td>\n",
       "      <td>1</td>\n",
       "      <td>10</td>\n",
       "      <td>10</td>\n",
       "      <td>Bayview Hunters Point</td>\n",
       "      <td>201461772-94</td>\n",
       "      <td>POINT (-122.38626545834089 37.73782577837169)</td>\n",
       "      <td>1</td>\n",
       "      <td>05/25/2020</td>\n",
       "      <td>Memorial Day</td>\n",
       "    </tr>\n",
       "    <tr>\n",
       "      <th>1</th>\n",
       "      <td>201463874</td>\n",
       "      <td>E32</td>\n",
       "      <td>20060913</td>\n",
       "      <td>Medical Incident</td>\n",
       "      <td>05/25/2020</td>\n",
       "      <td>05/25/2020</td>\n",
       "      <td>05/25/2020 11:16:21 PM</td>\n",
       "      <td>05/25/2020 11:17:54 PM</td>\n",
       "      <td>05/25/2020 11:18:27 PM</td>\n",
       "      <td>05/25/2020 11:19:53 PM</td>\n",
       "      <td>...</td>\n",
       "      <td>ENGINE</td>\n",
       "      <td>1</td>\n",
       "      <td>9</td>\n",
       "      <td>11</td>\n",
       "      <td>Excelsior</td>\n",
       "      <td>201463874-E32</td>\n",
       "      <td>POINT (-122.42955213038633 37.729273863971024)</td>\n",
       "      <td>7</td>\n",
       "      <td>05/25/2020</td>\n",
       "      <td>Memorial Day</td>\n",
       "    </tr>\n",
       "    <tr>\n",
       "      <th>2</th>\n",
       "      <td>201463019</td>\n",
       "      <td>T18</td>\n",
       "      <td>20060826</td>\n",
       "      <td>Medical Incident</td>\n",
       "      <td>05/25/2020</td>\n",
       "      <td>05/25/2020</td>\n",
       "      <td>05/25/2020 06:39:44 PM</td>\n",
       "      <td>05/25/2020 06:41:34 PM</td>\n",
       "      <td>05/25/2020 06:55:28 PM</td>\n",
       "      <td>05/25/2020 06:57:32 PM</td>\n",
       "      <td>...</td>\n",
       "      <td>TRUCK</td>\n",
       "      <td>2</td>\n",
       "      <td>8</td>\n",
       "      <td>7</td>\n",
       "      <td>Inner Sunset</td>\n",
       "      <td>201463019-T18</td>\n",
       "      <td>POINT (-122.46829612745225 37.751748874988515)</td>\n",
       "      <td>14</td>\n",
       "      <td>05/25/2020</td>\n",
       "      <td>Memorial Day</td>\n",
       "    </tr>\n",
       "    <tr>\n",
       "      <th>3</th>\n",
       "      <td>201460900</td>\n",
       "      <td>E11</td>\n",
       "      <td>20060611</td>\n",
       "      <td>Medical Incident</td>\n",
       "      <td>05/25/2020</td>\n",
       "      <td>05/25/2020</td>\n",
       "      <td>05/25/2020 09:22:49 AM</td>\n",
       "      <td>05/25/2020 09:24:51 AM</td>\n",
       "      <td>05/25/2020 09:25:17 AM</td>\n",
       "      <td>05/25/2020 09:26:11 AM</td>\n",
       "      <td>...</td>\n",
       "      <td>ENGINE</td>\n",
       "      <td>1</td>\n",
       "      <td>6</td>\n",
       "      <td>8</td>\n",
       "      <td>Mission</td>\n",
       "      <td>201460900-E11</td>\n",
       "      <td>POINT (-122.42413130758577 37.752703146369065)</td>\n",
       "      <td>20</td>\n",
       "      <td>05/25/2020</td>\n",
       "      <td>Memorial Day</td>\n",
       "    </tr>\n",
       "    <tr>\n",
       "      <th>4</th>\n",
       "      <td>201463227</td>\n",
       "      <td>B03</td>\n",
       "      <td>20060859</td>\n",
       "      <td>Alarms</td>\n",
       "      <td>05/25/2020</td>\n",
       "      <td>05/25/2020</td>\n",
       "      <td>05/25/2020 07:40:19 PM</td>\n",
       "      <td>05/25/2020 07:41:33 PM</td>\n",
       "      <td>05/25/2020 07:41:44 PM</td>\n",
       "      <td>05/25/2020 07:42:33 PM</td>\n",
       "      <td>...</td>\n",
       "      <td>CHIEF</td>\n",
       "      <td>2</td>\n",
       "      <td>3</td>\n",
       "      <td>6</td>\n",
       "      <td>Financial District/South Beach</td>\n",
       "      <td>201463227-B03</td>\n",
       "      <td>POINT (-122.40169229261626 37.78658885907634)</td>\n",
       "      <td>8</td>\n",
       "      <td>05/25/2020</td>\n",
       "      <td>Memorial Day</td>\n",
       "    </tr>\n",
       "  </tbody>\n",
       "</table>\n",
       "<p>5 rows × 37 columns</p>\n",
       "</div>"
      ],
      "text/plain": [
       "   Call_Number Unit_ID  Incident_Number         Call_Type   Call_Date  \\\n",
       "0    201461772      94         20060706  Medical Incident  05/25/2020   \n",
       "1    201463874     E32         20060913  Medical Incident  05/25/2020   \n",
       "2    201463019     T18         20060826  Medical Incident  05/25/2020   \n",
       "3    201460900     E11         20060611  Medical Incident  05/25/2020   \n",
       "4    201463227     B03         20060859            Alarms  05/25/2020   \n",
       "\n",
       "   Watch_Date           Received_DtTm              Entry_DtTm  \\\n",
       "0  05/25/2020  05/25/2020 01:34:55 PM  05/25/2020 01:34:55 PM   \n",
       "1  05/25/2020  05/25/2020 11:16:21 PM  05/25/2020 11:17:54 PM   \n",
       "2  05/25/2020  05/25/2020 06:39:44 PM  05/25/2020 06:41:34 PM   \n",
       "3  05/25/2020  05/25/2020 09:22:49 AM  05/25/2020 09:24:51 AM   \n",
       "4  05/25/2020  05/25/2020 07:40:19 PM  05/25/2020 07:41:33 PM   \n",
       "\n",
       "            Dispatch_DtTm           Response_DtTm  ... Unit_Type  \\\n",
       "0  05/25/2020 01:36:14 PM  05/25/2020 01:36:19 PM  ...     MEDIC   \n",
       "1  05/25/2020 11:18:27 PM  05/25/2020 11:19:53 PM  ...    ENGINE   \n",
       "2  05/25/2020 06:55:28 PM  05/25/2020 06:57:32 PM  ...     TRUCK   \n",
       "3  05/25/2020 09:25:17 AM  05/25/2020 09:26:11 AM  ...    ENGINE   \n",
       "4  05/25/2020 07:41:44 PM  05/25/2020 07:42:33 PM  ...     CHIEF   \n",
       "\n",
       "  Unit_sequence_in_call_dispatch Fire_Prevention_District Supervisor_District  \\\n",
       "0                              1                       10                  10   \n",
       "1                              1                        9                  11   \n",
       "2                              2                        8                   7   \n",
       "3                              1                        6                   8   \n",
       "4                              2                        3                   6   \n",
       "\n",
       "  Neighborhooods_-_Analysis_Boundaries          RowID  \\\n",
       "0                Bayview Hunters Point   201461772-94   \n",
       "1                            Excelsior  201463874-E32   \n",
       "2                         Inner Sunset  201463019-T18   \n",
       "3                              Mission  201460900-E11   \n",
       "4       Financial District/South Beach  201463227-B03   \n",
       "\n",
       "                                    case_location  Analysis_Neighborhoods  \\\n",
       "0   POINT (-122.38626545834089 37.73782577837169)                       1   \n",
       "1  POINT (-122.42955213038633 37.729273863971024)                       7   \n",
       "2  POINT (-122.46829612745225 37.751748874988515)                      14   \n",
       "3  POINT (-122.42413130758577 37.752703146369065)                      20   \n",
       "4   POINT (-122.40169229261626 37.78658885907634)                       8   \n",
       "\n",
       "         date       holiday  \n",
       "0  05/25/2020  Memorial Day  \n",
       "1  05/25/2020  Memorial Day  \n",
       "2  05/25/2020  Memorial Day  \n",
       "3  05/25/2020  Memorial Day  \n",
       "4  05/25/2020  Memorial Day  \n",
       "\n",
       "[5 rows x 37 columns]"
      ]
     },
     "execution_count": 21,
     "metadata": {},
     "output_type": "execute_result"
    }
   ],
   "source": [
    "(calls\n",
    " .join(holidays, on=calls[\"Call_Date\"] == holidays[\"date\"], how=\"inner\")\n",
    " .limit(5)\n",
    " .toPandas()\n",
    ")"
   ]
  },
  {
   "cell_type": "code",
   "execution_count": 23,
   "id": "506f32ab-2dc9-4e66-819e-6e1507d49afd",
   "metadata": {},
   "outputs": [
    {
     "name": "stderr",
     "output_type": "stream",
     "text": [
      "                                                                                \r"
     ]
    },
    {
     "data": {
      "text/html": [
       "<div>\n",
       "<style scoped>\n",
       "    .dataframe tbody tr th:only-of-type {\n",
       "        vertical-align: middle;\n",
       "    }\n",
       "\n",
       "    .dataframe tbody tr th {\n",
       "        vertical-align: top;\n",
       "    }\n",
       "\n",
       "    .dataframe thead th {\n",
       "        text-align: right;\n",
       "    }\n",
       "</style>\n",
       "<table border=\"1\" class=\"dataframe\">\n",
       "  <thead>\n",
       "    <tr style=\"text-align: right;\">\n",
       "      <th></th>\n",
       "      <th>holiday</th>\n",
       "      <th>count</th>\n",
       "    </tr>\n",
       "  </thead>\n",
       "  <tbody>\n",
       "    <tr>\n",
       "      <th>0</th>\n",
       "      <td>Inauguration Day</td>\n",
       "      <td>798</td>\n",
       "    </tr>\n",
       "    <tr>\n",
       "      <th>1</th>\n",
       "      <td>Juneteenth National Independence Day</td>\n",
       "      <td>1968</td>\n",
       "    </tr>\n",
       "    <tr>\n",
       "      <th>2</th>\n",
       "      <td>Christmas Day</td>\n",
       "      <td>8179</td>\n",
       "    </tr>\n",
       "    <tr>\n",
       "      <th>3</th>\n",
       "      <td>Thanksgiving Day</td>\n",
       "      <td>8186</td>\n",
       "    </tr>\n",
       "    <tr>\n",
       "      <th>4</th>\n",
       "      <td>Veterans Day</td>\n",
       "      <td>8674</td>\n",
       "    </tr>\n",
       "    <tr>\n",
       "      <th>5</th>\n",
       "      <td>Memorial Day</td>\n",
       "      <td>8830</td>\n",
       "    </tr>\n",
       "    <tr>\n",
       "      <th>6</th>\n",
       "      <td>Washington's Birthday</td>\n",
       "      <td>9064</td>\n",
       "    </tr>\n",
       "    <tr>\n",
       "      <th>7</th>\n",
       "      <td>Birthday of Martin Luther King, Jr.</td>\n",
       "      <td>9557</td>\n",
       "    </tr>\n",
       "    <tr>\n",
       "      <th>8</th>\n",
       "      <td>Labor Day</td>\n",
       "      <td>9778</td>\n",
       "    </tr>\n",
       "    <tr>\n",
       "      <th>9</th>\n",
       "      <td>New Year's Day</td>\n",
       "      <td>9966</td>\n",
       "    </tr>\n",
       "    <tr>\n",
       "      <th>10</th>\n",
       "      <td>Columbus Day</td>\n",
       "      <td>9973</td>\n",
       "    </tr>\n",
       "    <tr>\n",
       "      <th>11</th>\n",
       "      <td>Independence Day</td>\n",
       "      <td>10457</td>\n",
       "    </tr>\n",
       "  </tbody>\n",
       "</table>\n",
       "</div>"
      ],
      "text/plain": [
       "                                 holiday  count\n",
       "0                       Inauguration Day    798\n",
       "1   Juneteenth National Independence Day   1968\n",
       "2                          Christmas Day   8179\n",
       "3                       Thanksgiving Day   8186\n",
       "4                           Veterans Day   8674\n",
       "5                           Memorial Day   8830\n",
       "6                  Washington's Birthday   9064\n",
       "7    Birthday of Martin Luther King, Jr.   9557\n",
       "8                              Labor Day   9778\n",
       "9                         New Year's Day   9966\n",
       "10                          Columbus Day   9973\n",
       "11                      Independence Day  10457"
      ]
     },
     "execution_count": 23,
     "metadata": {},
     "output_type": "execute_result"
    }
   ],
   "source": [
    "# how many calls on each kind of holiday?\n",
    "(calls\n",
    " .join(holidays, on=calls[\"Call_Date\"] == holidays[\"date\"], how=\"inner\")\n",
    " .groupby(\"holiday\")\n",
    " .count()\n",
    " .orderBy(\"count\")\n",
    " .toPandas()\n",
    ")"
   ]
  },
  {
   "cell_type": "code",
   "execution_count": 24,
   "id": "a7d5a30c-9d96-455d-8027-a2dac2570f99",
   "metadata": {},
   "outputs": [],
   "source": [
    "from pyspark.sql.functions import expr, col"
   ]
  },
  {
   "cell_type": "code",
   "execution_count": 25,
   "id": "188ec061-6e4d-425f-8651-c7ca73218e28",
   "metadata": {},
   "outputs": [
    {
     "data": {
      "text/html": [
       "<div>\n",
       "<style scoped>\n",
       "    .dataframe tbody tr th:only-of-type {\n",
       "        vertical-align: middle;\n",
       "    }\n",
       "\n",
       "    .dataframe tbody tr th {\n",
       "        vertical-align: top;\n",
       "    }\n",
       "\n",
       "    .dataframe thead th {\n",
       "        text-align: right;\n",
       "    }\n",
       "</style>\n",
       "<table border=\"1\" class=\"dataframe\">\n",
       "  <thead>\n",
       "    <tr style=\"text-align: right;\">\n",
       "      <th></th>\n",
       "      <th>(COUNT(holiday) / COUNT(1))</th>\n",
       "    </tr>\n",
       "  </thead>\n",
       "  <tbody>\n",
       "    <tr>\n",
       "      <th>0</th>\n",
       "      <td>0.015863</td>\n",
       "    </tr>\n",
       "  </tbody>\n",
       "</table>\n",
       "</div>"
      ],
      "text/plain": [
       "   (COUNT(holiday) / COUNT(1))\n",
       "0                     0.015863"
      ]
     },
     "execution_count": 25,
     "metadata": {},
     "output_type": "execute_result"
    }
   ],
   "source": [
    "# what perc of fire dept calls on holidays?\n",
    "(calls\n",
    " .join(holidays, on=calls[\"Call_Date\"] == holidays[\"date\"], how=\"left\")\n",
    " .agg(expr(\"COUNT(holiday) / COUNT(*)\"))\n",
    " .toPandas()\n",
    ")"
   ]
  },
  {
   "cell_type": "markdown",
   "id": "c2f85afd-2f9b-4aa1-95a2-ff0d60525ab8",
   "metadata": {},
   "source": [
    "# Caching"
   ]
  },
  {
   "cell_type": "code",
   "execution_count": 28,
   "id": "9d274b4e-d1ae-4d62-896a-028e15b6781c",
   "metadata": {},
   "outputs": [
    {
     "data": {
      "text/plain": [
       "[{'id': 'app-20240108190848-0000',\n",
       "  'name': 'cs544',\n",
       "  'attempts': [{'startTime': '2024-01-08T19:08:47.633GMT',\n",
       "    'endTime': '1969-12-31T23:59:59.999GMT',\n",
       "    'lastUpdated': '2024-01-08T19:08:47.633GMT',\n",
       "    'duration': 2410827,\n",
       "    'sparkUser': 'root',\n",
       "    'completed': False,\n",
       "    'appSparkVersion': '3.5.0',\n",
       "    'startTimeEpoch': 1704740927633,\n",
       "    'endTimeEpoch': -1,\n",
       "    'lastUpdatedEpoch': 1704740927633}]}]"
      ]
     },
     "execution_count": 28,
     "metadata": {},
     "output_type": "execute_result"
    }
   ],
   "source": [
    "import requests\n",
    "\n",
    "# https://spark.apache.org/docs/latest/monitoring.html#rest-api\n",
    "# http://localhost:4040/api/v1/applications\n",
    "# http://localhost:4040/api/v1/applications/{app_id}/executors\n",
    "# look for \"totalTasks\"\n",
    "\n",
    "r = requests.get(\"http://localhost:4040/api/v1/applications\")\n",
    "r.raise_for_status()\n",
    "r.json()"
   ]
  },
  {
   "cell_type": "code",
   "execution_count": 29,
   "id": "1ad542c8-0641-4e7f-ac69-6113ff5d5541",
   "metadata": {},
   "outputs": [
    {
     "data": {
      "text/plain": [
       "'app-20240108190848-0000'"
      ]
     },
     "execution_count": 29,
     "metadata": {},
     "output_type": "execute_result"
    }
   ],
   "source": [
    "app_id = r.json()[0][\"id\"]\n",
    "app_id"
   ]
  },
  {
   "cell_type": "code",
   "execution_count": 30,
   "id": "110922a4-e5ea-4103-927d-ea2891fef37a",
   "metadata": {},
   "outputs": [
    {
     "data": {
      "text/plain": [
       "[0, 39, 33]"
      ]
     },
     "execution_count": 30,
     "metadata": {},
     "output_type": "execute_result"
    }
   ],
   "source": [
    "r = requests.get(f\"http://localhost:4040/api/v1/applications/{app_id}/executors\")\n",
    "r.raise_for_status()\n",
    "[exec[\"totalTasks\"] for exec in r.json()]"
   ]
  },
  {
   "cell_type": "code",
   "execution_count": 31,
   "id": "0fe3d29e-8e0a-4677-974c-e3cd6a798d84",
   "metadata": {},
   "outputs": [],
   "source": [
    "df = spark.table(\"calls\").sample(True, 0.01).repartition(1).cache()"
   ]
  },
  {
   "cell_type": "code",
   "execution_count": 32,
   "id": "fe3e4012-0011-4c40-8a2d-ded579b6c6fa",
   "metadata": {},
   "outputs": [
    {
     "name": "stderr",
     "output_type": "stream",
     "text": [
      "                                                                                \r"
     ]
    },
    {
     "data": {
      "text/plain": [
       "60257"
      ]
     },
     "execution_count": 32,
     "metadata": {},
     "output_type": "execute_result"
    }
   ],
   "source": [
    "df.count()"
   ]
  },
  {
   "cell_type": "code",
   "execution_count": 33,
   "id": "4790e2ad-7e4a-4b2f-860a-11ef0b0b3f4f",
   "metadata": {},
   "outputs": [
    {
     "data": {
      "text/plain": [
       "[0, 44, 36]"
      ]
     },
     "execution_count": 33,
     "metadata": {},
     "output_type": "execute_result"
    }
   ],
   "source": [
    "r = requests.get(f\"http://localhost:4040/api/v1/applications/{app_id}/executors\")\n",
    "r.raise_for_status()\n",
    "[exec[\"totalTasks\"] for exec in r.json()]"
   ]
  },
  {
   "cell_type": "code",
   "execution_count": 34,
   "id": "3036f1f3-3859-48dc-97ad-805958db3031",
   "metadata": {},
   "outputs": [],
   "source": [
    "for i in range(30):\n",
    "    df.count()"
   ]
  },
  {
   "cell_type": "code",
   "execution_count": 35,
   "id": "4cd955bf-41fc-4ed3-b1de-d26f8b642c73",
   "metadata": {},
   "outputs": [
    {
     "data": {
      "text/plain": [
       "[0, 74, 36]"
      ]
     },
     "execution_count": 35,
     "metadata": {},
     "output_type": "execute_result"
    }
   ],
   "source": [
    "r = requests.get(f\"http://localhost:4040/api/v1/applications/{app_id}/executors\")\n",
    "r.raise_for_status()\n",
    "[exec[\"totalTasks\"] for exec in r.json()]"
   ]
  },
  {
   "cell_type": "markdown",
   "id": "acff15cf-5cfc-4c58-928f-38679055e262",
   "metadata": {},
   "source": [
    "### cache with MEMORY_2, then they both would have had some work"
   ]
  },
  {
   "cell_type": "code",
   "execution_count": 43,
   "id": "a3701b4a-86eb-4543-ba6d-4dcaad2f7d5b",
   "metadata": {},
   "outputs": [],
   "source": [
    "import pyspark"
   ]
  },
  {
   "cell_type": "code",
   "execution_count": 45,
   "id": "eaff7076-1b3a-4d3c-b03f-1f08e69c2f5e",
   "metadata": {},
   "outputs": [
    {
     "name": "stderr",
     "output_type": "stream",
     "text": [
      "                                                                                \r"
     ]
    },
    {
     "data": {
      "text/plain": [
       "60265"
      ]
     },
     "execution_count": 45,
     "metadata": {},
     "output_type": "execute_result"
    }
   ],
   "source": [
    "df = (spark.table(\"calls\").sample(True, 0.01).repartition(1)\n",
    "      .persist(pyspark.StorageLevel.MEMORY_ONLY_2)\n",
    "     )\n",
    "df.count()"
   ]
  },
  {
   "cell_type": "code",
   "execution_count": 46,
   "id": "c82c21bc-fc0b-433c-8335-3a1fb0590d76",
   "metadata": {},
   "outputs": [
    {
     "data": {
      "text/plain": [
       "[0, 77, 41]"
      ]
     },
     "execution_count": 46,
     "metadata": {},
     "output_type": "execute_result"
    }
   ],
   "source": [
    "r = requests.get(f\"http://localhost:4040/api/v1/applications/{app_id}/executors\")\n",
    "r.raise_for_status()\n",
    "[exec[\"totalTasks\"] for exec in r.json()]"
   ]
  },
  {
   "cell_type": "code",
   "execution_count": 47,
   "id": "63abc726-eaaa-4de9-84ee-cd52e7f37f25",
   "metadata": {},
   "outputs": [],
   "source": [
    "for i in range(30):\n",
    "    df.count()"
   ]
  },
  {
   "cell_type": "code",
   "execution_count": 48,
   "id": "645ae906-249a-455a-aa6c-69bd4c9abc48",
   "metadata": {},
   "outputs": [
    {
     "data": {
      "text/plain": [
       "[0, 92, 56]"
      ]
     },
     "execution_count": 48,
     "metadata": {},
     "output_type": "execute_result"
    }
   ],
   "source": [
    "r = requests.get(f\"http://localhost:4040/api/v1/applications/{app_id}/executors\")\n",
    "r.raise_for_status()\n",
    "[exec[\"totalTasks\"] for exec in r.json()]"
   ]
  },
  {
   "cell_type": "markdown",
   "id": "37196ae0-79cb-4e5e-80bb-b97d278a142a",
   "metadata": {},
   "source": [
    "# Concept of Hash Partitioning"
   ]
  },
  {
   "cell_type": "code",
   "execution_count": 49,
   "id": "18b71995-1430-45f0-911f-e99004ed1ffc",
   "metadata": {},
   "outputs": [
    {
     "data": {
      "text/plain": [
       "-291891326222623123"
      ]
     },
     "execution_count": 49,
     "metadata": {},
     "output_type": "execute_result"
    }
   ],
   "source": [
    "hash(b\"a\")"
   ]
  },
  {
   "cell_type": "code",
   "execution_count": 50,
   "id": "a74802d0-25f1-40a8-ba42-afcfb4bc253c",
   "metadata": {},
   "outputs": [
    {
     "data": {
      "text/plain": [
       "-3202341361808504782"
      ]
     },
     "execution_count": 50,
     "metadata": {},
     "output_type": "execute_result"
    }
   ],
   "source": [
    "hash(b\"b\")\n"
   ]
  },
  {
   "cell_type": "code",
   "execution_count": 52,
   "id": "14a48ea5-8a92-4f6c-8b24-fbaa636cb591",
   "metadata": {},
   "outputs": [
    {
     "name": "stdout",
     "output_type": "stream",
     "text": [
      "== Physical Plan ==\n",
      "AdaptiveSparkPlan isFinalPlan=false\n",
      "+- HashAggregate(keys=[Call_Type#231], functions=[count(1)])\n",
      "   +- Exchange hashpartitioning(Call_Type#231, 200), ENSURE_REQUIREMENTS, [plan_id=2462]\n",
      "      +- HashAggregate(keys=[Call_Type#231], functions=[partial_count(1)])\n",
      "         +- FileScan parquet [Call_Type#231] Batched: true, DataFilters: [], Format: Parquet, Location: InMemoryFileIndex(1 paths)[hdfs://nn:9000/sf.parquet], PartitionFilters: [], PushedFilters: [], ReadSchema: struct<Call_Type:string>\n",
      "\n",
      "\n"
     ]
    }
   ],
   "source": [
    " spark.sql(\"\"\"\n",
    "SELECT Call_Type, COUNT(*) as count\n",
    "FROM calls\n",
    "GROUP BY Call_Type\n",
    "\"\"\").explain()"
   ]
  },
  {
   "cell_type": "code",
   "execution_count": 51,
   "id": "83b8e9e0-c835-4015-ba28-25f43ff2a01d",
   "metadata": {},
   "outputs": [
    {
     "name": "stdout",
     "output_type": "stream",
     "text": [
      "== Physical Plan ==\n",
      "AdaptiveSparkPlan (5)\n",
      "+- HashAggregate (4)\n",
      "   +- Exchange (3)\n",
      "      +- HashAggregate (2)\n",
      "         +- Scan parquet  (1)\n",
      "\n",
      "\n",
      "(1) Scan parquet \n",
      "Output [1]: [Call_Type#231]\n",
      "Batched: true\n",
      "Location: InMemoryFileIndex [hdfs://nn:9000/sf.parquet]\n",
      "ReadSchema: struct<Call_Type:string>\n",
      "\n",
      "(2) HashAggregate\n",
      "Input [1]: [Call_Type#231]\n",
      "Keys [1]: [Call_Type#231]\n",
      "Functions [1]: [partial_count(1)]\n",
      "Aggregate Attributes [1]: [count#48157L]\n",
      "Results [2]: [Call_Type#231, count#48158L]\n",
      "\n",
      "(3) Exchange\n",
      "Input [2]: [Call_Type#231, count#48158L]\n",
      "Arguments: hashpartitioning(Call_Type#231, 200), ENSURE_REQUIREMENTS, [plan_id=2449]\n",
      "\n",
      "(4) HashAggregate\n",
      "Input [2]: [Call_Type#231, count#48158L]\n",
      "Keys [1]: [Call_Type#231]\n",
      "Functions [1]: [count(1)]\n",
      "Aggregate Attributes [1]: [count(1)#48154L]\n",
      "Results [2]: [Call_Type#231, count(1)#48154L AS count#48153L]\n",
      "\n",
      "(5) AdaptiveSparkPlan\n",
      "Output [2]: [Call_Type#231, count#48153L]\n",
      "Arguments: isFinalPlan=false\n",
      "\n",
      "\n"
     ]
    }
   ],
   "source": [
    " spark.sql(\"\"\"\n",
    "SELECT Call_Type, COUNT(*) as count\n",
    "FROM calls\n",
    "GROUP BY Call_Type\n",
    "\"\"\").explain(\"formatted\")"
   ]
  },
  {
   "cell_type": "code",
   "execution_count": 53,
   "id": "66e738e4-52ae-4afb-9be0-46ef0925b646",
   "metadata": {},
   "outputs": [
    {
     "data": {
      "text/plain": [
       "DataFrame[Call_Number: int, Unit_ID: string, Incident_Number: int, Call_Type: string, Call_Date: string, Watch_Date: string, Received_DtTm: string, Entry_DtTm: string, Dispatch_DtTm: string, Response_DtTm: string, On_Scene_DtTm: string, Transport_DtTm: string, Hospital_DtTm: string, Call_Final_Disposition: string, Available_DtTm: string, Address: string, City: string, Zipcode_of_Incident: int, Battalion: string, Station_Area: string, Box: string, Original_Priority: string, Priority: string, Final_Priority: int, ALS_Unit: boolean, Call_Type_Group: string, Number_of_Alarms: int, Unit_Type: string, Unit_sequence_in_call_dispatch: int, Fire_Prevention_District: string, Supervisor_District: string, Neighborhooods_-_Analysis_Boundaries: string, RowID: string, case_location: string, Analysis_Neighborhoods: int]"
      ]
     },
     "execution_count": 53,
     "metadata": {},
     "output_type": "execute_result"
    }
   ],
   "source": [
    "# spark.table(\"calls\").write.bucketBy(10, \"Call_Type\").saveAsTable(\"call_by_type\")"
   ]
  },
  {
   "cell_type": "code",
   "execution_count": 54,
   "id": "2f5dc56b-3fa0-4fdb-b633-8a91cf4d1452",
   "metadata": {},
   "outputs": [
    {
     "name": "stderr",
     "output_type": "stream",
     "text": [
      "24/01/08 20:13:27 WARN SessionState: METASTORE_FILTER_HOOK will be ignored, since hive.security.authorization.manager is set to instance of HiveAuthorizerFactory.\n",
      "24/01/08 20:13:27 WARN HiveConf: HiveConf of name hive.internal.ss.authz.settings.applied.marker does not exist\n",
      "24/01/08 20:13:27 WARN HiveConf: HiveConf of name hive.stats.jdbc.timeout does not exist\n",
      "24/01/08 20:13:27 WARN HiveConf: HiveConf of name hive.stats.retries.wait does not exist\n"
     ]
    }
   ],
   "source": [
    "# sample is just to make the demo faster, it would work without that\n",
    "(spark.table(\"calls\")\n",
    " .sample(True, 0.01)\n",
    " # .repartition(10, \"Call_Type\")\n",
    " .write\n",
    " .bucketBy(10, \"Call_Type\")\n",
    " # .mode(\"overwrite\")\n",
    " .saveAsTable(\"calls_by_type\"))"
   ]
  },
  {
   "cell_type": "code",
   "execution_count": 56,
   "id": "5c5404c7-8dbf-4aa5-a1c5-d3e705748ccf",
   "metadata": {},
   "outputs": [
    {
     "name": "stdout",
     "output_type": "stream",
     "text": [
      "== Physical Plan ==\n",
      "AdaptiveSparkPlan (4)\n",
      "+- HashAggregate (3)\n",
      "   +- HashAggregate (2)\n",
      "      +- Scan parquet spark_catalog.default.calls_by_type (1)\n",
      "\n",
      "\n",
      "(1) Scan parquet spark_catalog.default.calls_by_type\n",
      "Output [1]: [Call_Type#48281]\n",
      "Batched: true\n",
      "Bucketed: true\n",
      "Location: InMemoryFileIndex [hdfs://nn:9000/user/hive/warehouse/calls_by_type]\n",
      "ReadSchema: struct<Call_Type:string>\n",
      "SelectedBucketsCount: 10 out of 10\n",
      "\n",
      "(2) HashAggregate\n",
      "Input [1]: [Call_Type#48281]\n",
      "Keys [1]: [Call_Type#48281]\n",
      "Functions [1]: [partial_count(1)]\n",
      "Aggregate Attributes [1]: [count#48316L]\n",
      "Results [2]: [Call_Type#48281, count#48317L]\n",
      "\n",
      "(3) HashAggregate\n",
      "Input [2]: [Call_Type#48281, count#48317L]\n",
      "Keys [1]: [Call_Type#48281]\n",
      "Functions [1]: [count(1)]\n",
      "Aggregate Attributes [1]: [count(1)#48277L]\n",
      "Results [2]: [Call_Type#48281, count(1)#48277L AS count#48276L]\n",
      "\n",
      "(4) AdaptiveSparkPlan\n",
      "Output [2]: [Call_Type#48281, count#48276L]\n",
      "Arguments: isFinalPlan=false\n",
      "\n",
      "\n"
     ]
    }
   ],
   "source": [
    "spark.sql(\"\"\"\n",
    "SELECT Call_Type, COUNT(*) as count\n",
    "FROM calls_by_type\n",
    "GROUP BY Call_Type\n",
    "\"\"\").explain(\"formatted\")"
   ]
  },
  {
   "cell_type": "markdown",
   "id": "c6f8cdc0-564e-4617-ba17-cc0a4db21b9f",
   "metadata": {},
   "source": [
    "# JOIN algorithms"
   ]
  },
  {
   "cell_type": "code",
   "execution_count": 57,
   "id": "d84fb78d-3213-4141-a0cd-4f01804d6631",
   "metadata": {},
   "outputs": [],
   "source": [
    "# kind_id, color\n",
    "fruits = [\n",
    "    (\"B\", \"Yellow\"),\n",
    "    (\"A\", \"Green\"),\n",
    "    (\"C\", \"Orange\"),\n",
    "    (\"A\", \"Red\"),\n",
    "    (\"C\", \"Purple\"),\n",
    "    (\"B\", \"Green\")\n",
    "]\n",
    "\n",
    "# kind_id, name (assume no duplicate kind_id's)\n",
    "kinds = [\n",
    "    (\"A\", \"Apple\"),\n",
    "    (\"B\", \"Banana\"),\n",
    "    (\"C\", \"Carrot\")\n",
    "]\n",
    "\n",
    "# GOAL: print Yellow Banana, Green Apple, etc (any order)"
   ]
  },
  {
   "cell_type": "markdown",
   "id": "5642986d-a80f-4f9c-96ba-cd71d6a7f594",
   "metadata": {},
   "source": [
    "### hash join"
   ]
  },
  {
   "cell_type": "code",
   "execution_count": null,
   "id": "b7d18387-006c-414f-9930-979741eac528",
   "metadata": {},
   "outputs": [],
   "source": [
    "kind_lookup = dict(kinds)\n",
    "kind_lookup"
   ]
  },
  {
   "cell_type": "code",
   "execution_count": 59,
   "id": "cb8eae6d-31cb-41d1-bb24-29a87097b486",
   "metadata": {},
   "outputs": [
    {
     "name": "stdout",
     "output_type": "stream",
     "text": [
      "Yellow Banana\n",
      "Green Apple\n",
      "Orange Carrot\n",
      "Red Apple\n",
      "Purple Carrot\n",
      "Green Banana\n"
     ]
    }
   ],
   "source": [
    "for kind_id, color in fruits:\n",
    "    print(color, kind_lookup[kind_id])"
   ]
  },
  {
   "cell_type": "markdown",
   "id": "25095a0f-bc4d-48d5-ad15-239d86981b2a",
   "metadata": {},
   "source": [
    "### sort merge join"
   ]
  },
  {
   "cell_type": "code",
   "execution_count": null,
   "id": "c16652c8-ce74-4e9a-a1c0-de4c41696266",
   "metadata": {},
   "outputs": [],
   "source": [
    "fruits.sort()\n",
    "kinds.sort()\n",
    "fruits"
   ]
  },
  {
   "cell_type": "code",
   "execution_count": 66,
   "id": "e5acec47-5b52-4b04-a1bb-73bc8e0cf91a",
   "metadata": {},
   "outputs": [
    {
     "name": "stdout",
     "output_type": "stream",
     "text": [
      "Apple Green\n",
      "Apple Red\n",
      "Banana Green\n",
      "Banana Yellow\n",
      "Carrot Orange\n",
      "Carrot Purple\n"
     ]
    }
   ],
   "source": [
    "fruit_idx = 0\n",
    "for kind_id, food_name in kinds:\n",
    "    # print(food_name)\n",
    "    while fruit_idx < len(fruits):\n",
    "        if fruits[fruit_idx][0] > kind_id: \n",
    "            break\n",
    "        elif fruits[fruit_idx][0] == kind_id:\n",
    "            print(food_name, fruits[fruit_idx][1])\n",
    "            \n",
    "        fruit_idx += 1"
   ]
  },
  {
   "cell_type": "markdown",
   "id": "226daaa7-d5d0-4f3e-a024-726b515ef133",
   "metadata": {},
   "source": [
    "### BHJ: Broadcast Hash Join"
   ]
  },
  {
   "cell_type": "markdown",
   "id": "cf9f0b11-e2c4-4724-b63d-b03ca6e0cf4d",
   "metadata": {},
   "source": [
    "### SMJ: Shuffle Sort Merge Join"
   ]
  },
  {
   "cell_type": "code",
   "execution_count": null,
   "id": "19c1e948-138c-45f3-9876-b0c8ee40bc1b",
   "metadata": {},
   "outputs": [],
   "source": []
  }
 ],
 "metadata": {
  "kernelspec": {
   "display_name": "Python 3 (ipykernel)",
   "language": "python",
   "name": "python3"
  },
  "language_info": {
   "codemirror_mode": {
    "name": "ipython",
    "version": 3
   },
   "file_extension": ".py",
   "mimetype": "text/x-python",
   "name": "python",
   "nbconvert_exporter": "python",
   "pygments_lexer": "ipython3",
   "version": "3.10.12"
  }
 },
 "nbformat": 4,
 "nbformat_minor": 5
}
