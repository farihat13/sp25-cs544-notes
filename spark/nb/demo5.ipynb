{
 "cells": [
  {
   "cell_type": "code",
   "execution_count": 1,
   "id": "c8dca847-54af-4284-97d8-0682e88a6e8d",
   "metadata": {},
   "outputs": [
    {
     "name": "stderr",
     "output_type": "stream",
     "text": [
      "Setting default log level to \"WARN\".\n",
      "To adjust logging level use sc.setLogLevel(newLevel). For SparkR, use setLogLevel(newLevel).\n",
      "24/01/09 03:42:51 WARN NativeCodeLoader: Unable to load native-hadoop library for your platform... using builtin-java classes where applicable\n"
     ]
    }
   ],
   "source": [
    "from pyspark.sql import SparkSession\n",
    "spark = (SparkSession.builder.appName(\"cs544\")\n",
    "         .master(\"spark://boss:7077\")\n",
    "         .config(\"spark.executor.memory\", \"512M\")\n",
    "         .config(\"spark.sql.warehouse.dir\", \"hdfs://nn:9000/user/hive/warehouse\")\n",
    "         .enableHiveSupport()\n",
    "         .getOrCreate())"
   ]
  },
  {
   "cell_type": "code",
   "execution_count": 3,
   "id": "0e70e4d9-3264-4eb6-b91a-602c748df5eb",
   "metadata": {},
   "outputs": [
    {
     "data": {
      "text/html": [
       "\n",
       "            <div>\n",
       "                <p><b>SparkSession - hive</b></p>\n",
       "                \n",
       "        <div>\n",
       "            <p><b>SparkContext</b></p>\n",
       "\n",
       "            <p><a href=\"http://17670d273ba6:4040\">Spark UI</a></p>\n",
       "\n",
       "            <dl>\n",
       "              <dt>Version</dt>\n",
       "                <dd><code>v3.5.0</code></dd>\n",
       "              <dt>Master</dt>\n",
       "                <dd><code>spark://boss:7077</code></dd>\n",
       "              <dt>AppName</dt>\n",
       "                <dd><code>cs544</code></dd>\n",
       "            </dl>\n",
       "        </div>\n",
       "        \n",
       "            </div>\n",
       "        "
      ],
      "text/plain": [
       "<pyspark.sql.session.SparkSession at 0x78b8400ae830>"
      ]
     },
     "execution_count": 3,
     "metadata": {},
     "output_type": "execute_result"
    }
   ],
   "source": [
    "spark"
   ]
  },
  {
   "cell_type": "markdown",
   "id": "4e5bcd1e-ea56-419a-ae19-6ff6432df8bf",
   "metadata": {},
   "source": [
    "# Spark ML"
   ]
  },
  {
   "cell_type": "code",
   "execution_count": 4,
   "id": "3ab77b36-10d3-46ae-b401-cafc4cffde70",
   "metadata": {},
   "outputs": [
    {
     "name": "stderr",
     "output_type": "stream",
     "text": [
      "/usr/local/lib/python3.10/dist-packages/pyspark/sql/pandas/conversion.py:485: FutureWarning: is_datetime64tz_dtype is deprecated and will be removed in a future version. Check `isinstance(dtype, pd.DatetimeTZDtype)` instead.\n",
      "  if should_localize and is_datetime64tz_dtype(s.dtype) and s.dt.tz is not None:\n"
     ]
    },
    {
     "data": {
      "text/plain": [
       "DataFrame[x1: double, x2: double, y: double]"
      ]
     },
     "execution_count": 4,
     "metadata": {},
     "output_type": "execute_result"
    }
   ],
   "source": [
    "import pandas as pd\n",
    "import numpy as np\n",
    "df = pd.DataFrame({\"x1\": np.random.randint(0, 10, 100).astype(float), \n",
    "                   \"x2\": np.random.randint(0, 3, 100).astype(float)})\n",
    "df[\"y\"] = df[\"x1\"] + df[\"x2\"] + np.random.rand(len(df))\n",
    "df = spark.createDataFrame(df)\n",
    "df"
   ]
  },
  {
   "cell_type": "code",
   "execution_count": 5,
   "id": "17917898-09be-4f5d-ac97-0e1a9fe6bb2f",
   "metadata": {},
   "outputs": [],
   "source": [
    "# not truly deterministic, just at the partition level\n",
    "train, test = df.randomSplit([0.75, 0.25], seed=42)\n",
    "# test.show()"
   ]
  },
  {
   "cell_type": "code",
   "execution_count": 6,
   "id": "51293ffc-2249-438f-a0f8-cc5fa4f7c495",
   "metadata": {},
   "outputs": [
    {
     "name": "stderr",
     "output_type": "stream",
     "text": [
      "                                                                                \r"
     ]
    },
    {
     "name": "stdout",
     "output_type": "stream",
     "text": [
      "+---+---+-------------------+\n",
      "| x1| x2|                  y|\n",
      "+---+---+-------------------+\n",
      "|0.0|1.0| 1.5620703518901484|\n",
      "|1.0|0.0|  1.983979871081822|\n",
      "|1.0|1.0|  2.441462744275578|\n",
      "|1.0|1.0|  2.828844447464115|\n",
      "|1.0|2.0| 3.6823179116631923|\n",
      "|3.0|0.0|  3.497976967674114|\n",
      "|3.0|1.0|  4.805389402628514|\n",
      "|4.0|0.0|   4.85519547382836|\n",
      "|4.0|1.0|  5.786243218075029|\n",
      "|5.0|1.0|  6.101739917350784|\n",
      "|6.0|0.0|  6.448502843616108|\n",
      "|6.0|1.0|  7.949110493383305|\n",
      "|8.0|2.0|  10.75513580685739|\n",
      "|9.0|0.0|  9.969437496079284|\n",
      "|9.0|1.0| 10.467944755784531|\n",
      "|9.0|1.0| 10.488435233510081|\n",
      "|9.0|2.0| 11.905645720427248|\n",
      "|0.0|0.0|0.34232772829828007|\n",
      "|1.0|1.0|   2.92452276854095|\n",
      "|1.0|2.0| 3.0705857232948293|\n",
      "+---+---+-------------------+\n",
      "only showing top 20 rows\n",
      "\n"
     ]
    }
   ],
   "source": [
    "test.show()"
   ]
  },
  {
   "cell_type": "code",
   "execution_count": 7,
   "id": "4a7d3c4f-e717-480c-b44f-e179cf538f73",
   "metadata": {},
   "outputs": [],
   "source": [
    "train.write.mode(\"ignore\").format(\"parquet\").save(\"hdfs://nn:9000/train.parquet\")\n",
    "test.write.mode(\"ignore\").format(\"parquet\").save(\"hdfs://nn:9000/test.parquet\")"
   ]
  },
  {
   "cell_type": "code",
   "execution_count": 8,
   "id": "23963ac6-0eda-4bfd-9cb2-5855a56abb2e",
   "metadata": {},
   "outputs": [
    {
     "name": "stderr",
     "output_type": "stream",
     "text": [
      "                                                                                \r"
     ]
    }
   ],
   "source": [
    "train = spark.read.format(\"parquet\").load(\"hdfs://nn:9000/train.parquet\")\n",
    "test = spark.read.format(\"parquet\").load(\"hdfs://nn:9000/test.parquet\")"
   ]
  },
  {
   "cell_type": "code",
   "execution_count": 9,
   "id": "5d4a94cb-6018-496a-85a3-08fd13459c49",
   "metadata": {},
   "outputs": [
    {
     "data": {
      "text/plain": [
       "(68, 32)"
      ]
     },
     "execution_count": 9,
     "metadata": {},
     "output_type": "execute_result"
    }
   ],
   "source": [
    "train.count(), test.count()"
   ]
  },
  {
   "cell_type": "code",
   "execution_count": 10,
   "id": "ae97c01e-8ee4-4e34-9a0f-eb9d9eb524c2",
   "metadata": {},
   "outputs": [],
   "source": [
    "from pyspark.ml.regression import DecisionTreeRegressionModel, DecisionTreeRegressor\n",
    "# DecisionTreeRegresson: unfit model\n",
    "# DecisionTreeRegressionModel: fitted model\n",
    "# In Spark, names ending in \"Model\" are the fitted ones"
   ]
  },
  {
   "cell_type": "code",
   "execution_count": 11,
   "id": "2008e305-a8a8-4057-93a7-c7e6ed6fc1bc",
   "metadata": {},
   "outputs": [],
   "source": [
    "from pyspark.ml.feature import VectorAssembler"
   ]
  },
  {
   "cell_type": "code",
   "execution_count": 12,
   "id": "bd21fbc6-4945-431d-b10e-5ebfe52eef62",
   "metadata": {},
   "outputs": [
    {
     "name": "stdout",
     "output_type": "stream",
     "text": [
      "+---+---+-------------------+---------+\n",
      "| x1| x2|                  y| features|\n",
      "+---+---+-------------------+---------+\n",
      "|0.0|0.0|0.42795247222945243|(2,[],[])|\n",
      "|0.0|0.0|  0.615325546798749|(2,[],[])|\n",
      "|0.0|0.0| 0.7510810525206312|(2,[],[])|\n",
      "|0.0|1.0|  1.441809826102813|[0.0,1.0]|\n",
      "|1.0|1.0| 2.2411650044352642|[1.0,1.0]|\n",
      "|1.0|1.0|  2.517033442787486|[1.0,1.0]|\n",
      "|1.0|1.0| 2.9313522167571646|[1.0,1.0]|\n",
      "|1.0|2.0|  3.575044572194423|[1.0,2.0]|\n",
      "|1.0|2.0| 3.8372546684902686|[1.0,2.0]|\n",
      "|2.0|0.0| 2.5335274983123837|[2.0,0.0]|\n",
      "|2.0|2.0|  4.019470241685458|[2.0,2.0]|\n",
      "|2.0|2.0|  4.119169268090317|[2.0,2.0]|\n",
      "|3.0|0.0|  3.187608117646062|[3.0,0.0]|\n",
      "|3.0|1.0|  4.351293075015204|[3.0,1.0]|\n",
      "|3.0|2.0|  5.136326091287162|[3.0,2.0]|\n",
      "|3.0|2.0|  5.492773502085889|[3.0,2.0]|\n",
      "|4.0|0.0|  4.359096735387636|[4.0,0.0]|\n",
      "|4.0|1.0|  5.937079775490419|[4.0,1.0]|\n",
      "|5.0|2.0|   7.69739206252476|[5.0,2.0]|\n",
      "|6.0|0.0|  6.346458133471592|[6.0,0.0]|\n",
      "+---+---+-------------------+---------+\n",
      "only showing top 20 rows\n",
      "\n"
     ]
    },
    {
     "name": "stderr",
     "output_type": "stream",
     "text": [
      "                                                                                \r"
     ]
    }
   ],
   "source": [
    "va = VectorAssembler(inputCols=[\"x1\", \"x2\"], outputCol=\"features\")\n",
    "va.transform(train).show()"
   ]
  },
  {
   "cell_type": "code",
   "execution_count": 13,
   "id": "a29b52f0-0ef7-458c-a169-a3e2b2e97eaf",
   "metadata": {},
   "outputs": [
    {
     "name": "stderr",
     "output_type": "stream",
     "text": [
      "                                                                                \r"
     ]
    }
   ],
   "source": [
    "va = VectorAssembler(inputCols=[\"x1\", \"x2\"], outputCol=\"features\") # transformer\n",
    "\n",
    "dt = DecisionTreeRegressor(featuresCol=\"features\", labelCol=\"y\") # estimator\n",
    "\n",
    "model = dt.fit(va.transform(train))"
   ]
  },
  {
   "cell_type": "code",
   "execution_count": 14,
   "id": "196f4c73-f6b3-48c6-a497-db63131a6b09",
   "metadata": {},
   "outputs": [
    {
     "data": {
      "text/plain": [
       "(pyspark.ml.regression.DecisionTreeRegressor,\n",
       " pyspark.ml.regression.DecisionTreeRegressionModel)"
      ]
     },
     "execution_count": 14,
     "metadata": {},
     "output_type": "execute_result"
    }
   ],
   "source": [
    "type(dt), type(model)"
   ]
  },
  {
   "cell_type": "markdown",
   "id": "914d891d-74e0-40d9-8575-9d29b41dd583",
   "metadata": {},
   "source": [
    "## Pipeline"
   ]
  },
  {
   "cell_type": "code",
   "execution_count": 15,
   "id": "3018d52a-852b-4b1f-bae2-9726e3ad1ce6",
   "metadata": {},
   "outputs": [],
   "source": [
    "from pyspark.ml.pipeline import Pipeline, PipelineModel\n",
    "# Pipeline: unfit\n",
    "# PipelineModel: fitted"
   ]
  },
  {
   "cell_type": "code",
   "execution_count": 16,
   "id": "75d1381c-bd7b-4e2b-ac52-50b3570c3b1d",
   "metadata": {},
   "outputs": [],
   "source": [
    "pipe = Pipeline(stages=[va, dt])"
   ]
  },
  {
   "cell_type": "code",
   "execution_count": 17,
   "id": "2fea8c34-3960-4272-8ab9-5623725fbd37",
   "metadata": {},
   "outputs": [],
   "source": [
    "model = pipe.fit(train)"
   ]
  },
  {
   "cell_type": "code",
   "execution_count": 18,
   "id": "ac22b755-769b-478d-8916-65b441285f87",
   "metadata": {},
   "outputs": [
    {
     "data": {
      "text/plain": [
       "(pyspark.ml.pipeline.Pipeline, pyspark.ml.pipeline.PipelineModel)"
      ]
     },
     "execution_count": 18,
     "metadata": {},
     "output_type": "execute_result"
    }
   ],
   "source": [
    "type(pipe), type(model)"
   ]
  },
  {
   "cell_type": "code",
   "execution_count": 19,
   "id": "0a5749af-f875-419c-b8f4-a0f47fa6abdd",
   "metadata": {},
   "outputs": [
    {
     "data": {
      "text/plain": [
       "[VectorAssembler_d73f3fd7ff02,\n",
       " DecisionTreeRegressionModel: uid=DecisionTreeRegressor_e67bf5f43a4b, depth=5, numNodes=45, numFeatures=2]"
      ]
     },
     "execution_count": 19,
     "metadata": {},
     "output_type": "execute_result"
    }
   ],
   "source": [
    "model.stages"
   ]
  },
  {
   "cell_type": "code",
   "execution_count": 20,
   "id": "5f56cb6f-0ae7-4d3d-a2a3-6364b5b435dc",
   "metadata": {},
   "outputs": [
    {
     "name": "stdout",
     "output_type": "stream",
     "text": [
      "DecisionTreeRegressionModel: uid=DecisionTreeRegressor_e67bf5f43a4b, depth=5, numNodes=45, numFeatures=2\n",
      "  If (feature 0 <= 4.5)\n",
      "   If (feature 0 <= 1.5)\n",
      "    If (feature 0 <= 0.5)\n",
      "     If (feature 1 <= 0.5)\n",
      "      Predict: 0.6800623532608492\n",
      "     Else (feature 1 > 0.5)\n",
      "      Predict: 1.2758604904864002\n",
      "    Else (feature 0 > 0.5)\n",
      "     If (feature 1 <= 1.5)\n",
      "      If (feature 1 <= 0.5)\n",
      "       Predict: 1.2806370199330332\n",
      "      Else (feature 1 > 0.5)\n",
      "       Predict: 2.43259924623944\n",
      "     Else (feature 1 > 1.5)\n",
      "      Predict: 3.7061496203423454\n",
      "   Else (feature 0 > 1.5)\n",
      "    If (feature 1 <= 0.5)\n",
      "     If (feature 0 <= 2.5)\n",
      "      Predict: 2.7206653128880154\n",
      "     Else (feature 0 > 2.5)\n",
      "      If (feature 0 <= 3.5)\n",
      "       Predict: 3.503111558841243\n",
      "      Else (feature 0 > 3.5)\n",
      "       Predict: 4.208164441278279\n",
      "    Else (feature 1 > 0.5)\n",
      "     If (feature 0 <= 2.5)\n",
      "      Predict: 4.069319754887887\n",
      "     Else (feature 0 > 2.5)\n",
      "      If (feature 0 <= 3.5)\n",
      "       Predict: 5.23852006111295\n",
      "      Else (feature 0 > 3.5)\n",
      "       Predict: 6.059578977536361\n",
      "  Else (feature 0 > 4.5)\n",
      "   If (feature 0 <= 7.5)\n",
      "    If (feature 1 <= 0.5)\n",
      "     If (feature 0 <= 6.5)\n",
      "      Predict: 6.523648959702638\n",
      "     Else (feature 0 > 6.5)\n",
      "      Predict: 7.202048344177097\n",
      "    Else (feature 1 > 0.5)\n",
      "     If (feature 0 <= 6.5)\n",
      "      If (feature 0 <= 5.5)\n",
      "       Predict: 7.254421819513839\n",
      "      Else (feature 0 > 5.5)\n",
      "       Predict: 7.906268580027442\n",
      "     Else (feature 0 > 6.5)\n",
      "      If (feature 1 <= 1.5)\n",
      "       Predict: 8.450437211488932\n",
      "      Else (feature 1 > 1.5)\n",
      "       Predict: 9.111488331104255\n",
      "   Else (feature 0 > 7.5)\n",
      "    If (feature 1 <= 0.5)\n",
      "     If (feature 0 <= 8.5)\n",
      "      Predict: 8.447735046347407\n",
      "     Else (feature 0 > 8.5)\n",
      "      Predict: 9.166631007955068\n",
      "    Else (feature 1 > 0.5)\n",
      "     If (feature 1 <= 1.5)\n",
      "      If (feature 0 <= 8.5)\n",
      "       Predict: 9.49637899800742\n",
      "      Else (feature 0 > 8.5)\n",
      "       Predict: 10.512980061987529\n",
      "     Else (feature 1 > 1.5)\n",
      "      If (feature 0 <= 8.5)\n",
      "       Predict: 10.542952113525752\n",
      "      Else (feature 0 > 8.5)\n",
      "       Predict: 11.344314441222323\n",
      "\n"
     ]
    }
   ],
   "source": [
    "print(model.stages[1].toDebugString)"
   ]
  },
  {
   "cell_type": "code",
   "execution_count": 21,
   "id": "d11d2aca-279b-4bf1-a525-16a10daec3bb",
   "metadata": {},
   "outputs": [],
   "source": [
    "model.write().overwrite().save(\"hdfs://nn:9000/model\")"
   ]
  },
  {
   "cell_type": "code",
   "execution_count": 22,
   "id": "e3a7cb15-8e54-4543-a966-6cd801bb3105",
   "metadata": {},
   "outputs": [
    {
     "name": "stdout",
     "output_type": "stream",
     "text": [
      "Found 2 items\n",
      "drwxr-xr-x   - root supergroup          0 2024-01-08 23:26 hdfs://nn:9000/model/metadata\n",
      "drwxr-xr-x   - root supergroup          0 2024-01-08 23:26 hdfs://nn:9000/model/stages\n"
     ]
    }
   ],
   "source": [
    "!hdfs dfs -ls hdfs://nn:9000/model"
   ]
  },
  {
   "cell_type": "code",
   "execution_count": 23,
   "id": "3ac86651-87fa-42c4-8374-5a97e5c0b8ac",
   "metadata": {},
   "outputs": [
    {
     "name": "stdout",
     "output_type": "stream",
     "text": [
      "Found 2 items\n",
      "drwxr-xr-x   - root supergroup          0 2024-01-08 23:26 hdfs://nn:9000/model/stages/0_VectorAssembler_d73f3fd7ff02\n",
      "drwxr-xr-x   - root supergroup          0 2024-01-08 23:26 hdfs://nn:9000/model/stages/1_DecisionTreeRegressor_e67bf5f43a4b\n"
     ]
    }
   ],
   "source": [
    "!hdfs dfs -ls hdfs://nn:9000/model/stages"
   ]
  },
  {
   "cell_type": "code",
   "execution_count": 24,
   "id": "b0ac60a5-ac74-4831-b40f-0fd9c1689d31",
   "metadata": {},
   "outputs": [],
   "source": [
    "model = PipelineModel.load(\"hdfs://nn:9000/model\")"
   ]
  },
  {
   "cell_type": "code",
   "execution_count": 25,
   "id": "d7702d15-0666-4357-9fce-dcc957144a76",
   "metadata": {},
   "outputs": [
    {
     "name": "stdout",
     "output_type": "stream",
     "text": [
      "+---+---+------------------+\n",
      "| x1| x2|                 y|\n",
      "+---+---+------------------+\n",
      "|0.0|2.0|2.9356223148472123|\n",
      "|2.0|1.0|  3.54328674785907|\n",
      "|3.0|0.0| 3.881907196033559|\n",
      "|3.0|1.0| 4.893077548435018|\n",
      "|3.0|2.0| 5.768574692347921|\n",
      "|5.0|2.0| 7.139042554735778|\n",
      "|6.0|1.0| 7.035251729622586|\n",
      "|7.0|2.0| 9.651840006787452|\n",
      "|7.0|2.0| 9.886778810986943|\n",
      "|8.0|0.0| 8.637928816213646|\n",
      "|8.0|1.0| 9.339865475153195|\n",
      "|8.0|1.0| 9.964248436219453|\n",
      "|9.0|0.0|  9.97279471809389|\n",
      "|9.0|1.0|10.790392521915205|\n",
      "|9.0|1.0|10.886620753695986|\n",
      "|9.0|1.0|10.937779415298065|\n",
      "|9.0|2.0| 11.46570470467693|\n",
      "|0.0|0.0|0.2735665401574404|\n",
      "|0.0|2.0|2.2193379958720127|\n",
      "|1.0|0.0|1.8610933247303851|\n",
      "+---+---+------------------+\n",
      "only showing top 20 rows\n",
      "\n"
     ]
    }
   ],
   "source": [
    "test.show()"
   ]
  },
  {
   "cell_type": "code",
   "execution_count": 26,
   "id": "ca0dddc7-0f7f-4105-b805-18e89e808b86",
   "metadata": {},
   "outputs": [
    {
     "name": "stdout",
     "output_type": "stream",
     "text": [
      "+---+---+------------------+---------+------------------+\n",
      "| x1| x2|                 y| features|        prediction|\n",
      "+---+---+------------------+---------+------------------+\n",
      "|0.0|2.0|2.9356223148472123|[0.0,2.0]|1.2758604904864002|\n",
      "|2.0|1.0|  3.54328674785907|[2.0,1.0]| 4.069319754887887|\n",
      "|3.0|0.0| 3.881907196033559|[3.0,0.0]| 3.503111558841243|\n",
      "|3.0|1.0| 4.893077548435018|[3.0,1.0]|  5.23852006111295|\n",
      "|3.0|2.0| 5.768574692347921|[3.0,2.0]|  5.23852006111295|\n",
      "|5.0|2.0| 7.139042554735778|[5.0,2.0]| 7.254421819513839|\n",
      "|6.0|1.0| 7.035251729622586|[6.0,1.0]| 7.906268580027442|\n",
      "|7.0|2.0| 9.651840006787452|[7.0,2.0]| 9.111488331104255|\n",
      "|7.0|2.0| 9.886778810986943|[7.0,2.0]| 9.111488331104255|\n",
      "|8.0|0.0| 8.637928816213646|[8.0,0.0]| 8.447735046347407|\n",
      "|8.0|1.0| 9.339865475153195|[8.0,1.0]|  9.49637899800742|\n",
      "|8.0|1.0| 9.964248436219453|[8.0,1.0]|  9.49637899800742|\n",
      "|9.0|0.0|  9.97279471809389|[9.0,0.0]| 9.166631007955068|\n",
      "|9.0|1.0|10.790392521915205|[9.0,1.0]|10.512980061987529|\n",
      "|9.0|1.0|10.886620753695986|[9.0,1.0]|10.512980061987529|\n",
      "|9.0|1.0|10.937779415298065|[9.0,1.0]|10.512980061987529|\n",
      "|9.0|2.0| 11.46570470467693|[9.0,2.0]|11.344314441222323|\n",
      "|0.0|0.0|0.2735665401574404|(2,[],[])|0.6800623532608492|\n",
      "|0.0|2.0|2.2193379958720127|[0.0,2.0]|1.2758604904864002|\n",
      "|1.0|0.0|1.8610933247303851|[1.0,0.0]|1.2806370199330332|\n",
      "+---+---+------------------+---------+------------------+\n",
      "only showing top 20 rows\n",
      "\n"
     ]
    }
   ],
   "source": [
    "model.transform(test).show()"
   ]
  },
  {
   "cell_type": "markdown",
   "id": "79fc9fd9-0a2b-4b20-8e44-8bd8a61308f3",
   "metadata": {},
   "source": [
    "### evaluate"
   ]
  },
  {
   "cell_type": "code",
   "execution_count": 27,
   "id": "50d6580d-7c33-419c-81dd-e866a40ed5a9",
   "metadata": {},
   "outputs": [],
   "source": [
    "from pyspark.ml.evaluation import RegressionEvaluator"
   ]
  },
  {
   "cell_type": "code",
   "execution_count": 28,
   "id": "3adb0526-c09c-4c63-b1a2-fafb6c0d0df8",
   "metadata": {},
   "outputs": [],
   "source": [
    "r2score = RegressionEvaluator(labelCol=\"y\", predictionCol=\"prediction\")"
   ]
  },
  {
   "cell_type": "code",
   "execution_count": 29,
   "id": "af4fab53-4b10-44bf-a6f2-c1ce1a9d5cb7",
   "metadata": {},
   "outputs": [
    {
     "data": {
      "text/plain": [
       "0.531126734504476"
      ]
     },
     "execution_count": 29,
     "metadata": {},
     "output_type": "execute_result"
    }
   ],
   "source": [
    "r2score.evaluate(model.transform(test))"
   ]
  },
  {
   "cell_type": "code",
   "execution_count": null,
   "id": "7c1c5a45-d78c-4b67-89dd-b1b4667869e4",
   "metadata": {},
   "outputs": [],
   "source": []
  },
  {
   "cell_type": "code",
   "execution_count": null,
   "id": "b7a13fee-41a1-47f4-8a7d-ed25c9d183a9",
   "metadata": {},
   "outputs": [],
   "source": []
  }
 ],
 "metadata": {
  "kernelspec": {
   "display_name": "Python 3 (ipykernel)",
   "language": "python",
   "name": "python3"
  },
  "language_info": {
   "codemirror_mode": {
    "name": "ipython",
    "version": 3
   },
   "file_extension": ".py",
   "mimetype": "text/x-python",
   "name": "python",
   "nbconvert_exporter": "python",
   "pygments_lexer": "ipython3",
   "version": "3.10.12"
  }
 },
 "nbformat": 4,
 "nbformat_minor": 5
}
