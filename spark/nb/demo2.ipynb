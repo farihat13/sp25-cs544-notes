{
 "cells": [
  {
   "cell_type": "code",
   "execution_count": 6,
   "id": "d488e2fd-4b8b-48bf-b8ab-4a485f2e13b5",
   "metadata": {},
   "outputs": [
    {
     "name": "stdout",
     "output_type": "stream",
     "text": [
      "File ‘sf.zip’ already there; not retrieving.\n",
      "\n"
     ]
    }
   ],
   "source": [
    "! wget -nc https://pages.cs.wisc.edu/~harter/cs544/data/sf.zip"
   ]
  },
  {
   "cell_type": "code",
   "execution_count": 11,
   "id": "991e432c-5006-41a8-943a-87f19aaad95b",
   "metadata": {},
   "outputs": [
    {
     "name": "stdout",
     "output_type": "stream",
     "text": [
      "Reading package lists... Done\n",
      "Building dependency tree... Done\n",
      "Reading state information... Done\n",
      "Suggested packages:\n",
      "  zip\n",
      "The following NEW packages will be installed:\n",
      "  unzip\n",
      "0 upgraded, 1 newly installed, 0 to remove and 0 not upgraded.\n",
      "Need to get 174 kB of archives.\n",
      "After this operation, 385 kB of additional disk space will be used.\n",
      "Get:1 http://archive.ubuntu.com/ubuntu jammy-updates/main amd64 unzip amd64 6.0-26ubuntu3.1 [174 kB]\n",
      "Fetched 174 kB in 1s (137 kB/s) \u001b[0m33m\u001b[33m\n",
      "debconf: delaying package configuration, since apt-utils is not installed\n",
      "\n",
      "\u001b7\u001b[0;23r\u001b8\u001b[1ASelecting previously unselected package unzip.\n",
      "(Reading database ... 20109 files and directories currently installed.)\n",
      "Preparing to unpack .../unzip_6.0-26ubuntu3.1_amd64.deb ...\n",
      "\u001b7\u001b[24;0f\u001b[42m\u001b[30mProgress: [  0%]\u001b[49m\u001b[39m [..........................................................] \u001b8\u001b7\u001b[24;0f\u001b[42m\u001b[30mProgress: [ 20%]\u001b[49m\u001b[39m [###########...............................................] \u001b8Unpacking unzip (6.0-26ubuntu3.1) ...\n",
      "\u001b7\u001b[24;0f\u001b[42m\u001b[30mProgress: [ 40%]\u001b[49m\u001b[39m [#######################...................................] \u001b8Setting up unzip (6.0-26ubuntu3.1) ...\n",
      "\u001b7\u001b[24;0f\u001b[42m\u001b[30mProgress: [ 60%]\u001b[49m\u001b[39m [##################################........................] \u001b8\u001b7\u001b[24;0f\u001b[42m\u001b[30mProgress: [ 80%]\u001b[49m\u001b[39m [##############################################............] \u001b8\n",
      "\u001b7\u001b[0;24r\u001b8\u001b[1A\u001b[JArchive:  sf.zip\n",
      "  inflating: sf.csv                  \n"
     ]
    }
   ],
   "source": [
    "!apt install unzip\n",
    "!unzip sf.zip"
   ]
  },
  {
   "cell_type": "code",
   "execution_count": 1,
   "id": "9cfddecd-6718-4c02-bfaf-39c6c1365f68",
   "metadata": {},
   "outputs": [
    {
     "name": "stdout",
     "output_type": "stream",
     "text": [
      "total 2.7G\n",
      "drwxr-xr-x 4 root root 4.0K Jan  9 05:09 .\n",
      "drwxr-xr-x 1 root root 4.0K Jan  9 03:41 ..\n",
      "drwxr-xr-x 2 root root 4.0K Jan  8 23:18 .ipynb_checkpoints\n",
      "-rw-r--r-- 1 root root  29K Jan  9 05:05 demo.ipynb\n",
      "-rw-r--r-- 1 root root  32K Jan  9 05:09 demo2.ipynb\n",
      "-rw-r--r-- 1 root root  82K Jan  8 05:18 demo3.ipynb\n",
      "-rw-r--r-- 1 root root  60K Jan  8 23:19 demo4.ipynb\n",
      "-rw-r--r-- 1 root root  21K Jan  9 03:42 demo5.ipynb\n",
      "-rw-r--r-- 1 root root  667 Jan  8 19:10 derby.log\n",
      "-rw-r--r-- 1 root root  11M Jan 12  2023 ghcnd-stations.txt\n",
      "-rw-r--r-- 1 root root 3.5K Jan  8 03:02 holidays2.csv\n",
      "drwxr-xr-x 5 root root 4.0K Jan  8 19:10 metastore_db\n",
      "-rw-r----- 1 root root 2.2G Nov  1  2022 sf.csv\n",
      "-rw-r--r-- 1 root root 511M Mar  4  2023 sf.zip\n"
     ]
    }
   ],
   "source": [
    "!ls -lah"
   ]
  },
  {
   "cell_type": "code",
   "execution_count": 1,
   "id": "65c416c6-1185-43f2-98c7-d90d01d51020",
   "metadata": {},
   "outputs": [],
   "source": [
    "from pyspark.sql import SparkSession"
   ]
  },
  {
   "cell_type": "code",
   "execution_count": 2,
   "id": "697dc2c7-555c-417c-95a0-07d3b4337567",
   "metadata": {},
   "outputs": [
    {
     "name": "stderr",
     "output_type": "stream",
     "text": [
      "Setting default log level to \"WARN\".\n",
      "To adjust logging level use sc.setLogLevel(newLevel). For SparkR, use setLogLevel(newLevel).\n",
      "24/01/09 05:10:07 WARN NativeCodeLoader: Unable to load native-hadoop library for your platform... using builtin-java classes where applicable\n"
     ]
    }
   ],
   "source": [
    "spark = (SparkSession.builder.appName(\"cs544\")\n",
    "         .master(\"spark://boss:7077\")\n",
    "         .config(\"spark.executor.memory\", \"512M\")\n",
    "         .config(\"spark.sql.warehouse.dir\", \"hdfs://nn:9000/user/hive/warehouse\")\n",
    "         .enableHiveSupport()\n",
    "         .getOrCreate())"
   ]
  },
  {
   "cell_type": "code",
   "execution_count": 3,
   "id": "f7e2a011-d4ab-46e5-adac-c006a2e1bd43",
   "metadata": {},
   "outputs": [
    {
     "name": "stdout",
     "output_type": "stream",
     "text": [
      "cp: `hdfs://nn:9000/sf.csv': File exists\n"
     ]
    }
   ],
   "source": [
    "! hdfs dfs -cp sf.csv hdfs://nn:9000/sf.csv"
   ]
  },
  {
   "cell_type": "code",
   "execution_count": 4,
   "id": "8f9b4815-e35b-48a9-9b42-756e109436d8",
   "metadata": {},
   "outputs": [
    {
     "name": "stdout",
     "output_type": "stream",
     "text": [
      "Found 2 items\n",
      "-rw-r--r--   3 root supergroup   10607756 2024-01-09 03:47 hdfs://nn:9000/ghcnd-stations.txt\n",
      "-rw-r--r--   3 root supergroup 2265533682 2024-01-09 05:06 hdfs://nn:9000/sf.csv\n"
     ]
    }
   ],
   "source": [
    "! hdfs dfs -ls hdfs://nn:9000/"
   ]
  },
  {
   "cell_type": "code",
   "execution_count": 5,
   "id": "605bcec1-db23-450f-8008-4a95066b8dc3",
   "metadata": {
    "scrolled": true
   },
   "outputs": [],
   "source": [
    "# df = spark.read.format(\"csv\")\n",
    "#            .option(KEY, value).load(\"hdfs://nn:9000/sf.csv\")"
   ]
  },
  {
   "cell_type": "code",
   "execution_count": 10,
   "id": "3aa58010-f6a5-485a-90c3-fe65c48fcff9",
   "metadata": {},
   "outputs": [
    {
     "name": "stderr",
     "output_type": "stream",
     "text": [
      "[Stage 3:=====================================================>   (16 + 1) / 17]\r"
     ]
    },
    {
     "name": "stdout",
     "output_type": "stream",
     "text": [
      "CPU times: user 9 ms, sys: 4.41 ms, total: 13.4 ms\n",
      "Wall time: 10.1 s\n"
     ]
    },
    {
     "name": "stderr",
     "output_type": "stream",
     "text": [
      "                                                                                \r"
     ]
    }
   ],
   "source": [
    "%%time\n",
    "df = (spark.read.format(\"csv\")\n",
    "            .option(\"header\", True)\n",
    "            .option(\"inferSchema\", True)\n",
    "            .load(\"hdfs://nn:9000/sf.csv\"))"
   ]
  },
  {
   "cell_type": "code",
   "execution_count": 11,
   "id": "faab1d65-dfd7-43d6-8ec5-de9b74376976",
   "metadata": {},
   "outputs": [
    {
     "data": {
      "text/plain": [
       "DataFrame[Call Number: int, Unit ID: string, Incident Number: int, Call Type: string, Call Date: string, Watch Date: string, Received DtTm: string, Entry DtTm: string, Dispatch DtTm: string, Response DtTm: string, On Scene DtTm: string, Transport DtTm: string, Hospital DtTm: string, Call Final Disposition: string, Available DtTm: string, Address: string, City: string, Zipcode of Incident: int, Battalion: string, Station Area: string, Box: string, Original Priority: string, Priority: string, Final Priority: int, ALS Unit: boolean, Call Type Group: string, Number of Alarms: int, Unit Type: string, Unit sequence in call dispatch: int, Fire Prevention District: string, Supervisor District: string, Neighborhooods - Analysis Boundaries: string, RowID: string, case_location: string, Analysis Neighborhoods: int]"
      ]
     },
     "execution_count": 11,
     "metadata": {},
     "output_type": "execute_result"
    }
   ],
   "source": [
    "df"
   ]
  },
  {
   "cell_type": "code",
   "execution_count": 13,
   "id": "4ed3fd63-717d-473d-9ba5-8784b0bdce4e",
   "metadata": {},
   "outputs": [
    {
     "data": {
      "text/html": [
       "<div>\n",
       "<style scoped>\n",
       "    .dataframe tbody tr th:only-of-type {\n",
       "        vertical-align: middle;\n",
       "    }\n",
       "\n",
       "    .dataframe tbody tr th {\n",
       "        vertical-align: top;\n",
       "    }\n",
       "\n",
       "    .dataframe thead th {\n",
       "        text-align: right;\n",
       "    }\n",
       "</style>\n",
       "<table border=\"1\" class=\"dataframe\">\n",
       "  <thead>\n",
       "    <tr style=\"text-align: right;\">\n",
       "      <th></th>\n",
       "      <th>Call Number</th>\n",
       "      <th>Unit ID</th>\n",
       "      <th>Incident Number</th>\n",
       "      <th>Call Type</th>\n",
       "      <th>Call Date</th>\n",
       "      <th>Watch Date</th>\n",
       "      <th>Received DtTm</th>\n",
       "      <th>Entry DtTm</th>\n",
       "      <th>Dispatch DtTm</th>\n",
       "      <th>Response DtTm</th>\n",
       "      <th>...</th>\n",
       "      <th>Call Type Group</th>\n",
       "      <th>Number of Alarms</th>\n",
       "      <th>Unit Type</th>\n",
       "      <th>Unit sequence in call dispatch</th>\n",
       "      <th>Fire Prevention District</th>\n",
       "      <th>Supervisor District</th>\n",
       "      <th>Neighborhooods - Analysis Boundaries</th>\n",
       "      <th>RowID</th>\n",
       "      <th>case_location</th>\n",
       "      <th>Analysis Neighborhoods</th>\n",
       "    </tr>\n",
       "  </thead>\n",
       "  <tbody>\n",
       "    <tr>\n",
       "      <th>0</th>\n",
       "      <td>221210313</td>\n",
       "      <td>E36</td>\n",
       "      <td>22054955</td>\n",
       "      <td>Outside Fire</td>\n",
       "      <td>05/01/2022</td>\n",
       "      <td>04/30/2022</td>\n",
       "      <td>05/01/2022 02:58:25 AM</td>\n",
       "      <td>05/01/2022 02:59:15 AM</td>\n",
       "      <td>05/01/2022 02:59:25 AM</td>\n",
       "      <td>05/01/2022 03:01:06 AM</td>\n",
       "      <td>...</td>\n",
       "      <td>Fire</td>\n",
       "      <td>1</td>\n",
       "      <td>ENGINE</td>\n",
       "      <td>1</td>\n",
       "      <td>2</td>\n",
       "      <td>5</td>\n",
       "      <td>Hayes Valley</td>\n",
       "      <td>221210313-E36</td>\n",
       "      <td>POINT (-122.42316555403964 37.77781524520032)</td>\n",
       "      <td>9</td>\n",
       "    </tr>\n",
       "    <tr>\n",
       "      <th>1</th>\n",
       "      <td>220190150</td>\n",
       "      <td>E29</td>\n",
       "      <td>22008871</td>\n",
       "      <td>Alarms</td>\n",
       "      <td>01/19/2022</td>\n",
       "      <td>01/18/2022</td>\n",
       "      <td>01/19/2022 01:42:12 AM</td>\n",
       "      <td>01/19/2022 01:44:13 AM</td>\n",
       "      <td>01/19/2022 01:44:28 AM</td>\n",
       "      <td>01/19/2022 01:46:47 AM</td>\n",
       "      <td>...</td>\n",
       "      <td>Alarm</td>\n",
       "      <td>1</td>\n",
       "      <td>ENGINE</td>\n",
       "      <td>1</td>\n",
       "      <td>3</td>\n",
       "      <td>10</td>\n",
       "      <td>Potrero Hill</td>\n",
       "      <td>220190150-E29</td>\n",
       "      <td>POINT (-122.39469970274361 37.76460987856451)</td>\n",
       "      <td>26</td>\n",
       "    </tr>\n",
       "    <tr>\n",
       "      <th>2</th>\n",
       "      <td>211233271</td>\n",
       "      <td>T07</td>\n",
       "      <td>21053032</td>\n",
       "      <td>Alarms</td>\n",
       "      <td>05/03/2021</td>\n",
       "      <td>05/03/2021</td>\n",
       "      <td>05/03/2021 09:28:12 PM</td>\n",
       "      <td>05/03/2021 09:28:12 PM</td>\n",
       "      <td>05/03/2021 09:28:17 PM</td>\n",
       "      <td>05/03/2021 09:29:10 PM</td>\n",
       "      <td>...</td>\n",
       "      <td>Alarm</td>\n",
       "      <td>1</td>\n",
       "      <td>TRUCK</td>\n",
       "      <td>2</td>\n",
       "      <td>2</td>\n",
       "      <td>9</td>\n",
       "      <td>Mission</td>\n",
       "      <td>211233271-T07</td>\n",
       "      <td>POINT (-122.42057572093252 37.76418194637148)</td>\n",
       "      <td>20</td>\n",
       "    </tr>\n",
       "  </tbody>\n",
       "</table>\n",
       "<p>3 rows × 35 columns</p>\n",
       "</div>"
      ],
      "text/plain": [
       "   Call Number Unit ID  Incident Number     Call Type   Call Date  Watch Date  \\\n",
       "0    221210313     E36         22054955  Outside Fire  05/01/2022  04/30/2022   \n",
       "1    220190150     E29         22008871        Alarms  01/19/2022  01/18/2022   \n",
       "2    211233271     T07         21053032        Alarms  05/03/2021  05/03/2021   \n",
       "\n",
       "            Received DtTm              Entry DtTm           Dispatch DtTm  \\\n",
       "0  05/01/2022 02:58:25 AM  05/01/2022 02:59:15 AM  05/01/2022 02:59:25 AM   \n",
       "1  01/19/2022 01:42:12 AM  01/19/2022 01:44:13 AM  01/19/2022 01:44:28 AM   \n",
       "2  05/03/2021 09:28:12 PM  05/03/2021 09:28:12 PM  05/03/2021 09:28:17 PM   \n",
       "\n",
       "            Response DtTm  ... Call Type Group Number of Alarms Unit Type  \\\n",
       "0  05/01/2022 03:01:06 AM  ...            Fire                1    ENGINE   \n",
       "1  01/19/2022 01:46:47 AM  ...           Alarm                1    ENGINE   \n",
       "2  05/03/2021 09:29:10 PM  ...           Alarm                1     TRUCK   \n",
       "\n",
       "  Unit sequence in call dispatch Fire Prevention District Supervisor District  \\\n",
       "0                              1                        2                   5   \n",
       "1                              1                        3                  10   \n",
       "2                              2                        2                   9   \n",
       "\n",
       "  Neighborhooods - Analysis Boundaries          RowID  \\\n",
       "0                         Hayes Valley  221210313-E36   \n",
       "1                         Potrero Hill  220190150-E29   \n",
       "2                              Mission  211233271-T07   \n",
       "\n",
       "                                   case_location Analysis Neighborhoods  \n",
       "0  POINT (-122.42316555403964 37.77781524520032)                      9  \n",
       "1  POINT (-122.39469970274361 37.76460987856451)                     26  \n",
       "2  POINT (-122.42057572093252 37.76418194637148)                     20  \n",
       "\n",
       "[3 rows x 35 columns]"
      ]
     },
     "execution_count": 13,
     "metadata": {},
     "output_type": "execute_result"
    }
   ],
   "source": [
    "df.limit(3).toPandas()"
   ]
  },
  {
   "cell_type": "markdown",
   "id": "cf498c98-0e66-48cb-b0e8-c2286e5edf36",
   "metadata": {},
   "source": [
    "## how to transform the data with function on columns"
   ]
  },
  {
   "cell_type": "code",
   "execution_count": 14,
   "id": "afd44c49-8aa3-4ff5-b1dc-e87aadd423a4",
   "metadata": {},
   "outputs": [],
   "source": [
    "from pyspark.sql.functions import expr, col"
   ]
  },
  {
   "cell_type": "code",
   "execution_count": 15,
   "id": "72db4649-d457-4427-b0ab-11c5815c0588",
   "metadata": {},
   "outputs": [
    {
     "data": {
      "text/plain": [
       "Column<'Call Date'>"
      ]
     },
     "execution_count": 15,
     "metadata": {},
     "output_type": "execute_result"
    }
   ],
   "source": [
    "col(\"Call Date\")"
   ]
  },
  {
   "cell_type": "code",
   "execution_count": 16,
   "id": "d7f69c02-4391-4ecb-a336-7fb6a734892d",
   "metadata": {},
   "outputs": [
    {
     "data": {
      "text/plain": [
       "Column<'Call AS Date'>"
      ]
     },
     "execution_count": 16,
     "metadata": {},
     "output_type": "execute_result"
    }
   ],
   "source": [
    "expr(\"Call Date\")"
   ]
  },
  {
   "cell_type": "code",
   "execution_count": 17,
   "id": "cb0816be-4790-4302-93fb-e871e7606a3a",
   "metadata": {},
   "outputs": [
    {
     "data": {
      "text/html": [
       "<div>\n",
       "<style scoped>\n",
       "    .dataframe tbody tr th:only-of-type {\n",
       "        vertical-align: middle;\n",
       "    }\n",
       "\n",
       "    .dataframe tbody tr th {\n",
       "        vertical-align: top;\n",
       "    }\n",
       "\n",
       "    .dataframe thead th {\n",
       "        text-align: right;\n",
       "    }\n",
       "</style>\n",
       "<table border=\"1\" class=\"dataframe\">\n",
       "  <thead>\n",
       "    <tr style=\"text-align: right;\">\n",
       "      <th></th>\n",
       "      <th>Call Date</th>\n",
       "    </tr>\n",
       "  </thead>\n",
       "  <tbody>\n",
       "    <tr>\n",
       "      <th>0</th>\n",
       "      <td>05/01/2022</td>\n",
       "    </tr>\n",
       "    <tr>\n",
       "      <th>1</th>\n",
       "      <td>01/19/2022</td>\n",
       "    </tr>\n",
       "    <tr>\n",
       "      <th>2</th>\n",
       "      <td>05/03/2021</td>\n",
       "    </tr>\n",
       "    <tr>\n",
       "      <th>3</th>\n",
       "      <td>10/20/2021</td>\n",
       "    </tr>\n",
       "    <tr>\n",
       "      <th>4</th>\n",
       "      <td>04/30/2022</td>\n",
       "    </tr>\n",
       "  </tbody>\n",
       "</table>\n",
       "</div>"
      ],
      "text/plain": [
       "    Call Date\n",
       "0  05/01/2022\n",
       "1  01/19/2022\n",
       "2  05/03/2021\n",
       "3  10/20/2021\n",
       "4  04/30/2022"
      ]
     },
     "execution_count": 17,
     "metadata": {},
     "output_type": "execute_result"
    }
   ],
   "source": [
    "df.select(col(\"Call Date\")).limit(5).toPandas()"
   ]
  },
  {
   "cell_type": "code",
   "execution_count": 18,
   "id": "5f0ce0c6-7228-4254-949f-9959f6af3458",
   "metadata": {},
   "outputs": [
    {
     "data": {
      "text/html": [
       "<div>\n",
       "<style scoped>\n",
       "    .dataframe tbody tr th:only-of-type {\n",
       "        vertical-align: middle;\n",
       "    }\n",
       "\n",
       "    .dataframe tbody tr th {\n",
       "        vertical-align: top;\n",
       "    }\n",
       "\n",
       "    .dataframe thead th {\n",
       "        text-align: right;\n",
       "    }\n",
       "</style>\n",
       "<table border=\"1\" class=\"dataframe\">\n",
       "  <thead>\n",
       "    <tr style=\"text-align: right;\">\n",
       "      <th></th>\n",
       "      <th>Call Date</th>\n",
       "    </tr>\n",
       "  </thead>\n",
       "  <tbody>\n",
       "    <tr>\n",
       "      <th>0</th>\n",
       "      <td>05/01/2022</td>\n",
       "    </tr>\n",
       "    <tr>\n",
       "      <th>1</th>\n",
       "      <td>01/19/2022</td>\n",
       "    </tr>\n",
       "    <tr>\n",
       "      <th>2</th>\n",
       "      <td>05/03/2021</td>\n",
       "    </tr>\n",
       "    <tr>\n",
       "      <th>3</th>\n",
       "      <td>10/20/2021</td>\n",
       "    </tr>\n",
       "    <tr>\n",
       "      <th>4</th>\n",
       "      <td>04/30/2022</td>\n",
       "    </tr>\n",
       "  </tbody>\n",
       "</table>\n",
       "</div>"
      ],
      "text/plain": [
       "    Call Date\n",
       "0  05/01/2022\n",
       "1  01/19/2022\n",
       "2  05/03/2021\n",
       "3  10/20/2021\n",
       "4  04/30/2022"
      ]
     },
     "execution_count": 18,
     "metadata": {},
     "output_type": "execute_result"
    }
   ],
   "source": [
    "df.select(expr(\"`Call Date`\")).limit(5).toPandas()"
   ]
  },
  {
   "cell_type": "code",
   "execution_count": 19,
   "id": "aec49ae7-820d-4219-8fd7-570952addaef",
   "metadata": {},
   "outputs": [
    {
     "data": {
      "text/html": [
       "<div>\n",
       "<style scoped>\n",
       "    .dataframe tbody tr th:only-of-type {\n",
       "        vertical-align: middle;\n",
       "    }\n",
       "\n",
       "    .dataframe tbody tr th {\n",
       "        vertical-align: top;\n",
       "    }\n",
       "\n",
       "    .dataframe thead th {\n",
       "        text-align: right;\n",
       "    }\n",
       "</style>\n",
       "<table border=\"1\" class=\"dataframe\">\n",
       "  <thead>\n",
       "    <tr style=\"text-align: right;\">\n",
       "      <th></th>\n",
       "      <th>xyz</th>\n",
       "    </tr>\n",
       "  </thead>\n",
       "  <tbody>\n",
       "    <tr>\n",
       "      <th>0</th>\n",
       "      <td>05/01/2022</td>\n",
       "    </tr>\n",
       "    <tr>\n",
       "      <th>1</th>\n",
       "      <td>01/19/2022</td>\n",
       "    </tr>\n",
       "    <tr>\n",
       "      <th>2</th>\n",
       "      <td>05/03/2021</td>\n",
       "    </tr>\n",
       "    <tr>\n",
       "      <th>3</th>\n",
       "      <td>10/20/2021</td>\n",
       "    </tr>\n",
       "    <tr>\n",
       "      <th>4</th>\n",
       "      <td>04/30/2022</td>\n",
       "    </tr>\n",
       "  </tbody>\n",
       "</table>\n",
       "</div>"
      ],
      "text/plain": [
       "          xyz\n",
       "0  05/01/2022\n",
       "1  01/19/2022\n",
       "2  05/03/2021\n",
       "3  10/20/2021\n",
       "4  04/30/2022"
      ]
     },
     "execution_count": 19,
     "metadata": {},
     "output_type": "execute_result"
    }
   ],
   "source": [
    "df.select(expr(\"`Call Date`\").alias(\"xyz\")).limit(5).toPandas()"
   ]
  },
  {
   "cell_type": "code",
   "execution_count": 21,
   "id": "ab17f636-702f-4dad-a3c0-6d5b21ffb41f",
   "metadata": {},
   "outputs": [
    {
     "data": {
      "text/plain": [
       "DataFrame[Call Date: string]"
      ]
     },
     "execution_count": 21,
     "metadata": {},
     "output_type": "execute_result"
    }
   ],
   "source": [
    "df.select(expr(\"`Call Date`\"))"
   ]
  },
  {
   "cell_type": "code",
   "execution_count": 22,
   "id": "3c4be37f-4ef2-44d9-adc6-8755b089209e",
   "metadata": {},
   "outputs": [
    {
     "data": {
      "text/html": [
       "<div>\n",
       "<style scoped>\n",
       "    .dataframe tbody tr th:only-of-type {\n",
       "        vertical-align: middle;\n",
       "    }\n",
       "\n",
       "    .dataframe tbody tr th {\n",
       "        vertical-align: top;\n",
       "    }\n",
       "\n",
       "    .dataframe thead th {\n",
       "        text-align: right;\n",
       "    }\n",
       "</style>\n",
       "<table border=\"1\" class=\"dataframe\">\n",
       "  <thead>\n",
       "    <tr style=\"text-align: right;\">\n",
       "      <th></th>\n",
       "      <th>date</th>\n",
       "    </tr>\n",
       "  </thead>\n",
       "  <tbody>\n",
       "    <tr>\n",
       "      <th>0</th>\n",
       "      <td>2022-05-01</td>\n",
       "    </tr>\n",
       "    <tr>\n",
       "      <th>1</th>\n",
       "      <td>2022-01-19</td>\n",
       "    </tr>\n",
       "    <tr>\n",
       "      <th>2</th>\n",
       "      <td>2021-05-03</td>\n",
       "    </tr>\n",
       "    <tr>\n",
       "      <th>3</th>\n",
       "      <td>2021-10-20</td>\n",
       "    </tr>\n",
       "    <tr>\n",
       "      <th>4</th>\n",
       "      <td>2022-04-30</td>\n",
       "    </tr>\n",
       "  </tbody>\n",
       "</table>\n",
       "</div>"
      ],
      "text/plain": [
       "         date\n",
       "0  2022-05-01\n",
       "1  2022-01-19\n",
       "2  2021-05-03\n",
       "3  2021-10-20\n",
       "4  2022-04-30"
      ]
     },
     "execution_count": 22,
     "metadata": {},
     "output_type": "execute_result"
    }
   ],
   "source": [
    "df.select(expr(\"to_date(`Call Date`, 'MM/dd/yyyy')\").alias(\"date\")).limit(5).toPandas()"
   ]
  },
  {
   "cell_type": "code",
   "execution_count": 24,
   "id": "a62ab8f4-74e3-4c89-b47d-842633364007",
   "metadata": {},
   "outputs": [
    {
     "data": {
      "text/plain": [
       "DataFrame[Call Number: int, Unit ID: string, Incident Number: int, Call Type: string, Call Date: string, Watch Date: string, Received DtTm: string, Entry DtTm: string, Dispatch DtTm: string, Response DtTm: string, On Scene DtTm: string, Transport DtTm: string, Hospital DtTm: string, Call Final Disposition: string, Available DtTm: string, Address: string, City: string, Zipcode of Incident: int, Battalion: string, Station Area: string, Box: string, Original Priority: string, Priority: string, Final Priority: int, ALS Unit: boolean, Call Type Group: string, Number of Alarms: int, Unit Type: string, Unit sequence in call dispatch: int, Fire Prevention District: string, Supervisor District: string, Neighborhooods - Analysis Boundaries: string, RowID: string, case_location: string, Analysis Neighborhoods: int]"
      ]
     },
     "execution_count": 24,
     "metadata": {},
     "output_type": "execute_result"
    }
   ],
   "source": [
    "df"
   ]
  },
  {
   "cell_type": "markdown",
   "id": "6b100f98-6e9b-4686-80e9-7767c3f46015",
   "metadata": {},
   "source": [
    "## GOAL: create a parquet file with this data, with no spaces in the column names"
   ]
  },
  {
   "cell_type": "code",
   "execution_count": 46,
   "id": "f815fa33-6fac-4cee-8f09-ea0946c037fe",
   "metadata": {},
   "outputs": [
    {
     "data": {
      "text/plain": [
       "[Column<'Call Number AS Call_Number'>,\n",
       " Column<'Unit ID AS Unit_ID'>,\n",
       " Column<'Incident Number AS Incident_Number'>,\n",
       " Column<'Call Type AS Call_Type'>,\n",
       " Column<'Call Date AS Call_Date'>]"
      ]
     },
     "execution_count": 46,
     "metadata": {},
     "output_type": "execute_result"
    }
   ],
   "source": [
    "columns = [col(c).alias(c.replace(\" \",\"_\")) for c in df.columns]\n",
    "columns[:5]"
   ]
  },
  {
   "cell_type": "code",
   "execution_count": 47,
   "id": "041259c6-c564-4531-9ac5-64507abd3aa5",
   "metadata": {},
   "outputs": [
    {
     "data": {
      "text/plain": [
       "DataFrame[Call_Number: int, Unit_ID: string, Incident_Number: int, Call_Type: string, Call_Date: string, Watch_Date: string, Received_DtTm: string, Entry_DtTm: string, Dispatch_DtTm: string, Response_DtTm: string, On_Scene_DtTm: string, Transport_DtTm: string, Hospital_DtTm: string, Call_Final_Disposition: string, Available_DtTm: string, Address: string, City: string, Zipcode_of_Incident: int, Battalion: string, Station_Area: string, Box: string, Original_Priority: string, Priority: string, Final_Priority: int, ALS_Unit: boolean, Call_Type_Group: string, Number_of_Alarms: int, Unit_Type: string, Unit_sequence_in_call_dispatch: int, Fire_Prevention_District: string, Supervisor_District: string, Neighborhooods_-_Analysis_Boundaries: string, RowID: string, case_location: string, Analysis_Neighborhoods: int]"
      ]
     },
     "execution_count": 47,
     "metadata": {},
     "output_type": "execute_result"
    }
   ],
   "source": [
    "df.select(columns)"
   ]
  },
  {
   "cell_type": "code",
   "execution_count": 48,
   "id": "7f079fbb-4980-41e2-a75f-a95827be8aef",
   "metadata": {},
   "outputs": [
    {
     "data": {
      "text/plain": [
       "17"
      ]
     },
     "execution_count": 48,
     "metadata": {},
     "output_type": "execute_result"
    }
   ],
   "source": [
    "df.rdd.getNumPartitions()"
   ]
  },
  {
   "cell_type": "code",
   "execution_count": 53,
   "id": "6c28a3d0-1633-407e-a07d-34bcf48baf2c",
   "metadata": {},
   "outputs": [
    {
     "name": "stderr",
     "output_type": "stream",
     "text": [
      "                                                                                \r"
     ]
    }
   ],
   "source": [
    "(df.select(columns)\n",
    " #.limit(10)\n",
    " .write\n",
    " .format(\"parquet\")\n",
    " .mode(\"overwrite\")\n",
    " .save(\"hdfs://nn:9000/sf.parquet\"))"
   ]
  },
  {
   "cell_type": "code",
   "execution_count": 62,
   "id": "5b695f39-17e3-4eb8-8fc6-a2e4d5c55018",
   "metadata": {},
   "outputs": [
    {
     "name": "stdout",
     "output_type": "stream",
     "text": [
      "Found 3 items\n",
      "-rw-r--r--   3 root supergroup     10.1 M 2024-01-08 01:28 hdfs://nn:9000/ghcnd-stations.txt\n",
      "-rw-r--r--   3 root supergroup      2.1 G 2024-01-08 01:44 hdfs://nn:9000/sf.csv\n",
      "drwxr-xr-x   - root supergroup          0 2024-01-08 02:01 hdfs://nn:9000/sf.parquet\n"
     ]
    }
   ],
   "source": [
    "! hdfs dfs -ls -h hdfs://nn:9000/"
   ]
  },
  {
   "cell_type": "code",
   "execution_count": 61,
   "id": "c20a1a29-6a83-4583-8cb3-68c4bd4e7561",
   "metadata": {},
   "outputs": [
    {
     "name": "stdout",
     "output_type": "stream",
     "text": [
      "Found 18 items\n",
      "-rw-r--r--   3 root supergroup          0 2024-01-08 02:01 hdfs://nn:9000/sf.parquet/_SUCCESS\n",
      "-rw-r--r--   3 root supergroup     26.5 M 2024-01-08 02:00 hdfs://nn:9000/sf.parquet/part-00000-fab22d58-04ed-4b07-b0da-08ee6bdc7a6b-c000.snappy.parquet\n",
      "-rw-r--r--   3 root supergroup     26.5 M 2024-01-08 02:00 hdfs://nn:9000/sf.parquet/part-00001-fab22d58-04ed-4b07-b0da-08ee6bdc7a6b-c000.snappy.parquet\n",
      "-rw-r--r--   3 root supergroup     38.6 M 2024-01-08 02:00 hdfs://nn:9000/sf.parquet/part-00002-fab22d58-04ed-4b07-b0da-08ee6bdc7a6b-c000.snappy.parquet\n",
      "-rw-r--r--   3 root supergroup     34.3 M 2024-01-08 02:00 hdfs://nn:9000/sf.parquet/part-00003-fab22d58-04ed-4b07-b0da-08ee6bdc7a6b-c000.snappy.parquet\n",
      "-rw-r--r--   3 root supergroup     34.4 M 2024-01-08 02:00 hdfs://nn:9000/sf.parquet/part-00004-fab22d58-04ed-4b07-b0da-08ee6bdc7a6b-c000.snappy.parquet\n",
      "-rw-r--r--   3 root supergroup     34.4 M 2024-01-08 02:00 hdfs://nn:9000/sf.parquet/part-00005-fab22d58-04ed-4b07-b0da-08ee6bdc7a6b-c000.snappy.parquet\n",
      "-rw-r--r--   3 root supergroup     34.3 M 2024-01-08 02:00 hdfs://nn:9000/sf.parquet/part-00006-fab22d58-04ed-4b07-b0da-08ee6bdc7a6b-c000.snappy.parquet\n",
      "-rw-r--r--   3 root supergroup     34.2 M 2024-01-08 02:00 hdfs://nn:9000/sf.parquet/part-00007-fab22d58-04ed-4b07-b0da-08ee6bdc7a6b-c000.snappy.parquet\n",
      "-rw-r--r--   3 root supergroup     34.7 M 2024-01-08 02:00 hdfs://nn:9000/sf.parquet/part-00008-fab22d58-04ed-4b07-b0da-08ee6bdc7a6b-c000.snappy.parquet\n",
      "-rw-r--r--   3 root supergroup     33.7 M 2024-01-08 02:00 hdfs://nn:9000/sf.parquet/part-00009-fab22d58-04ed-4b07-b0da-08ee6bdc7a6b-c000.snappy.parquet\n",
      "-rw-r--r--   3 root supergroup     32.7 M 2024-01-08 02:00 hdfs://nn:9000/sf.parquet/part-00010-fab22d58-04ed-4b07-b0da-08ee6bdc7a6b-c000.snappy.parquet\n",
      "-rw-r--r--   3 root supergroup     32.4 M 2024-01-08 02:00 hdfs://nn:9000/sf.parquet/part-00011-fab22d58-04ed-4b07-b0da-08ee6bdc7a6b-c000.snappy.parquet\n",
      "-rw-r--r--   3 root supergroup     31.9 M 2024-01-08 02:00 hdfs://nn:9000/sf.parquet/part-00012-fab22d58-04ed-4b07-b0da-08ee6bdc7a6b-c000.snappy.parquet\n",
      "-rw-r--r--   3 root supergroup     33.3 M 2024-01-08 02:00 hdfs://nn:9000/sf.parquet/part-00013-fab22d58-04ed-4b07-b0da-08ee6bdc7a6b-c000.snappy.parquet\n",
      "-rw-r--r--   3 root supergroup     34.1 M 2024-01-08 02:00 hdfs://nn:9000/sf.parquet/part-00014-fab22d58-04ed-4b07-b0da-08ee6bdc7a6b-c000.snappy.parquet\n",
      "-rw-r--r--   3 root supergroup     34.1 M 2024-01-08 02:01 hdfs://nn:9000/sf.parquet/part-00015-fab22d58-04ed-4b07-b0da-08ee6bdc7a6b-c000.snappy.parquet\n",
      "-rw-r--r--   3 root supergroup     28.0 M 2024-01-08 02:01 hdfs://nn:9000/sf.parquet/part-00016-fab22d58-04ed-4b07-b0da-08ee6bdc7a6b-c000.snappy.parquet\n"
     ]
    }
   ],
   "source": [
    "! hdfs dfs -ls -h hdfs://nn:9000/sf.parquet"
   ]
  },
  {
   "cell_type": "code",
   "execution_count": 58,
   "id": "6cccf756-3500-4045-8c07-b8e70b941174",
   "metadata": {},
   "outputs": [],
   "source": [
    "df = spark.read.format(\"parquet\").load(\"hdfs://nn:9000/sf.parquet\")"
   ]
  },
  {
   "cell_type": "code",
   "execution_count": 59,
   "id": "6f289dd6-876a-457a-abeb-8f0b4f92a036",
   "metadata": {},
   "outputs": [
    {
     "data": {
      "text/plain": [
       "DataFrame[Call_Number: int, Unit_ID: string, Incident_Number: int, Call_Type: string, Call_Date: string, Watch_Date: string, Received_DtTm: string, Entry_DtTm: string, Dispatch_DtTm: string, Response_DtTm: string, On_Scene_DtTm: string, Transport_DtTm: string, Hospital_DtTm: string, Call_Final_Disposition: string, Available_DtTm: string, Address: string, City: string, Zipcode_of_Incident: int, Battalion: string, Station_Area: string, Box: string, Original_Priority: string, Priority: string, Final_Priority: int, ALS_Unit: boolean, Call_Type_Group: string, Number_of_Alarms: int, Unit_Type: string, Unit_sequence_in_call_dispatch: int, Fire_Prevention_District: string, Supervisor_District: string, Neighborhooods_-_Analysis_Boundaries: string, RowID: string, case_location: string, Analysis_Neighborhoods: int]"
      ]
     },
     "execution_count": 59,
     "metadata": {},
     "output_type": "execute_result"
    }
   ],
   "source": [
    "df"
   ]
  },
  {
   "cell_type": "code",
   "execution_count": 60,
   "id": "497ae927-683e-4ba1-b936-3dec901ae587",
   "metadata": {},
   "outputs": [
    {
     "data": {
      "text/plain": [
       "6"
      ]
     },
     "execution_count": 60,
     "metadata": {},
     "output_type": "execute_result"
    }
   ],
   "source": [
    "df.rdd.getNumPartitions()"
   ]
  },
  {
   "cell_type": "code",
   "execution_count": null,
   "id": "7e68a545-d0bd-4ef7-b3d3-ec3ea752ed34",
   "metadata": {},
   "outputs": [],
   "source": []
  }
 ],
 "metadata": {
  "kernelspec": {
   "display_name": "Python 3 (ipykernel)",
   "language": "python",
   "name": "python3"
  },
  "language_info": {
   "codemirror_mode": {
    "name": "ipython",
    "version": 3
   },
   "file_extension": ".py",
   "mimetype": "text/x-python",
   "name": "python",
   "nbconvert_exporter": "python",
   "pygments_lexer": "ipython3",
   "version": "3.10.12"
  }
 },
 "nbformat": 4,
 "nbformat_minor": 5
}
