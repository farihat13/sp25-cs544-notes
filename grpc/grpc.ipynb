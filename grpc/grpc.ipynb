{
 "cells": [
  {
   "cell_type": "code",
   "execution_count": 3,
   "id": "098b3dd5-5b7e-488c-a0ba-63112716cde1",
   "metadata": {},
   "outputs": [],
   "source": [
    "# !pip3 install grpcio==1.58.0 grpcio-tools==1.58.0 --break-system-packages"
   ]
  },
  {
   "cell_type": "code",
   "execution_count": 30,
   "id": "e685f6c4-ae14-44ae-985f-08d3fc84445b",
   "metadata": {},
   "outputs": [],
   "source": [
    "protobuf = '''\n",
    "syntax = \"proto3\";\n",
    "\n",
    "// messages (protocol buffers, aka \"protobufs\")\n",
    "\n",
    "message MultReq {\n",
    "    int32 x = 1;\n",
    "    int32 y = 2;\n",
    "}\n",
    "\n",
    "message MultResp { \n",
    "    int32 result = 1;\n",
    "}\n",
    "\n",
    "// services (RPC functions)\n",
    "\n",
    "service Calc {\n",
    "    rpc Mult(MultReq) returns (MultResp);\n",
    "}\n",
    "'''\n",
    "with open(\"math.proto\", \"w\") as f:\n",
    "    f.write(protobuf)"
   ]
  },
  {
   "cell_type": "code",
   "execution_count": 31,
   "id": "c35ba9b2-046e-497c-9094-fd74a356645e",
   "metadata": {},
   "outputs": [],
   "source": [
    "# !cat math.proto"
   ]
  },
  {
   "cell_type": "code",
   "execution_count": 32,
   "id": "2f9c4cde-1552-4142-8039-b39100042278",
   "metadata": {},
   "outputs": [],
   "source": [
    "# !python3 -m grpc_tools.protoc -I=. --python_out=. --grpc_python_out=. math.proto"
   ]
  },
  {
   "cell_type": "code",
   "execution_count": 28,
   "id": "88f6716e-8241-4b08-86fe-29f7febedf9a",
   "metadata": {},
   "outputs": [],
   "source": [
    "# !ls -lah"
   ]
  },
  {
   "cell_type": "code",
   "execution_count": 20,
   "id": "a4a65538-6869-4d46-b44f-6d7f712f5576",
   "metadata": {},
   "outputs": [],
   "source": [
    "# ! cat math_pb2_grpc.py"
   ]
  },
  {
   "cell_type": "code",
   "execution_count": 35,
   "id": "8c2a4dd0-2ea6-4e5a-b997-f7d8bc97efd8",
   "metadata": {},
   "outputs": [],
   "source": [
    "import math_pb2"
   ]
  },
  {
   "cell_type": "code",
   "execution_count": 51,
   "id": "9ea2e609-ed5e-4f52-b625-e29073f72bae",
   "metadata": {},
   "outputs": [
    {
     "data": {
      "text/plain": [
       "x: 16\n",
       "y: 32"
      ]
     },
     "execution_count": 51,
     "metadata": {},
     "output_type": "execute_result"
    }
   ],
   "source": [
    "pb = math_pb2.MultReq(x=16, y=32)\n",
    "pb"
   ]
  },
  {
   "cell_type": "code",
   "execution_count": 52,
   "id": "be418fda-959d-42e3-a6ad-aabee671dfdc",
   "metadata": {},
   "outputs": [
    {
     "data": {
      "text/plain": [
       "(b'\\x08\\x10\\x10 ', bytes, 4)"
      ]
     },
     "execution_count": 52,
     "metadata": {},
     "output_type": "execute_result"
    }
   ],
   "source": [
    "s = pb.SerializePartialToString()\n",
    "s, type(s), len(s)"
   ]
  },
  {
   "cell_type": "code",
   "execution_count": 47,
   "id": "89ebe259-a9cf-4a6b-8556-9e2d15755f13",
   "metadata": {},
   "outputs": [
    {
     "data": {
      "text/plain": [
       "(b'\\x08\\x03\\x10\\xc0\\xb8\\x02', 6)"
      ]
     },
     "execution_count": 47,
     "metadata": {},
     "output_type": "execute_result"
    }
   ],
   "source": [
    "pb = math_pb2.MultReq(x=3, y=40000)\n",
    "s = pb.SerializePartialToString()\n",
    "s, len(s)"
   ]
  },
  {
   "cell_type": "code",
   "execution_count": 50,
   "id": "10009c89-37e3-44a1-875a-6f97b79a2262",
   "metadata": {},
   "outputs": [
    {
     "ename": "ValueError",
     "evalue": "Value out of range: 42432452342346234",
     "output_type": "error",
     "traceback": [
      "\u001b[0;31m---------------------------------------------------------------------------\u001b[0m",
      "\u001b[0;31mValueError\u001b[0m                                Traceback (most recent call last)",
      "Cell \u001b[0;32mIn[50], line 1\u001b[0m\n\u001b[0;32m----> 1\u001b[0m pb \u001b[38;5;241m=\u001b[39m \u001b[43mmath_pb2\u001b[49m\u001b[38;5;241;43m.\u001b[39;49m\u001b[43mMultReq\u001b[49m\u001b[43m(\u001b[49m\u001b[43mx\u001b[49m\u001b[38;5;241;43m=\u001b[39;49m\u001b[38;5;241;43m3\u001b[39;49m\u001b[43m,\u001b[49m\u001b[43m \u001b[49m\u001b[43my\u001b[49m\u001b[38;5;241;43m=\u001b[39;49m\u001b[38;5;241;43m42432452342346234\u001b[39;49m\u001b[43m)\u001b[49m\n\u001b[1;32m      2\u001b[0m s \u001b[38;5;241m=\u001b[39m pb\u001b[38;5;241m.\u001b[39mSerializePartialToString()\n\u001b[1;32m      3\u001b[0m s, \u001b[38;5;28mlen\u001b[39m(s)\n",
      "\u001b[0;31mValueError\u001b[0m: Value out of range: 42432452342346234"
     ]
    }
   ],
   "source": [
    "pb = math_pb2.MultReq(x=3, y=42432452342346234)\n",
    "s = pb.SerializePartialToString()\n",
    "s, len(s)"
   ]
  },
  {
   "cell_type": "code",
   "execution_count": 33,
   "id": "c9674c2d-5fe2-4ffc-84c5-33435e57ea5c",
   "metadata": {},
   "outputs": [],
   "source": [
    "server = '''\n",
    "import grpc\n",
    "import math_pb2_grpc, math_pb2\n",
    "from concurrent import futures\n",
    "\n",
    "class MyCalc(CalcServicer):\n",
    "    def Mult(self, request, context):\n",
    "        print(\"hi\")\n",
    "        print(request)\n",
    "        # return request.x * request.y\n",
    "        return math_pb2.MultResp(result = request.x * request.y)\n",
    "\n",
    "server = grpc.server(futures.ThreadPoolExecutor(max_workers=10), \n",
    "                        options=[(\"grpc.so_reuseport\", 0)])\n",
    "\n",
    "math_pb2_grpc.add_CalcServicer_to_server(MyCalc(), server)\n",
    "server.add_insecure_port('0.0.0.0:5440')\n",
    "server.start()\n",
    "print(\"started\")\n",
    "server.wait_for_termination()\n",
    "'''\n",
    "\n",
    "with open(\"server.py\", \"w\") as f:\n",
    "    f.write(server)"
   ]
  },
  {
   "cell_type": "code",
   "execution_count": 34,
   "id": "3ce60d5c-9e2a-4e88-90e1-241a73863b00",
   "metadata": {},
   "outputs": [
    {
     "name": "stdout",
     "output_type": "stream",
     "text": [
      "Traceback (most recent call last):\n",
      "  File \"/nb/server.py\", line 6, in <module>\n",
      "    class MyCalc(CalcServicer):\n",
      "                 ^^^^^^^^^^^^\n",
      "NameError: name 'CalcServicer' is not defined\n"
     ]
    }
   ],
   "source": [
    "!python3 server.py"
   ]
  },
  {
   "cell_type": "code",
   "execution_count": null,
   "id": "b2a73dde-1360-4c49-9fe8-912f5107bad1",
   "metadata": {},
   "outputs": [],
   "source": []
  },
  {
   "cell_type": "code",
   "execution_count": null,
   "id": "23600f02-9b51-4ed5-a60d-be5b0434db5c",
   "metadata": {},
   "outputs": [],
   "source": []
  }
 ],
 "metadata": {
  "kernelspec": {
   "display_name": "Python 3 (ipykernel)",
   "language": "python",
   "name": "python3"
  },
  "language_info": {
   "codemirror_mode": {
    "name": "ipython",
    "version": 3
   },
   "file_extension": ".py",
   "mimetype": "text/x-python",
   "name": "python",
   "nbconvert_exporter": "python",
   "pygments_lexer": "ipython3",
   "version": "3.11.6"
  }
 },
 "nbformat": 4,
 "nbformat_minor": 5
}
