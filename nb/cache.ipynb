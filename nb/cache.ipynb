{
 "cells": [
  {
   "cell_type": "markdown",
   "id": "fcc5ace2-5d65-41bc-8ff0-61a69ba37ed1",
   "metadata": {},
   "source": [
    "# CACHE"
   ]
  },
  {
   "cell_type": "code",
   "execution_count": 12,
   "id": "2d134bf8-8667-48f2-a1db-dda33a9fa885",
   "metadata": {},
   "outputs": [],
   "source": [
    "import random\n",
    "import requests\n",
    "import pandas as pd\n",
    "\n",
    "r = requests.get(\"https://pages.cs.wisc.edu/~harter/cs544/data/wi-stations/stations.txt\")\n",
    "r.raise_for_status() # throws exception if return code is not 200\n",
    "\n",
    "stations = r.text.strip().split(\"\\n\")\n",
    "stations = random.sample(stations, k=10)\n",
    "workload = random.choices(stations, k=100, weights=[0.3, 0.2] + [0.5/8]*8)"
   ]
  },
  {
   "cell_type": "code",
   "execution_count": 13,
   "id": "bb58184e-1ccd-4fd4-8901-01aec472eac0",
   "metadata": {},
   "outputs": [
    {
     "data": {
      "text/plain": [
       "['USW00094855',\n",
       " 'USC00477725',\n",
       " 'USW00094855',\n",
       " 'US1WIVR0004',\n",
       " 'US1WIBY0032',\n",
       " 'US1WIBY0032',\n",
       " 'US1WIVR0004',\n",
       " 'US1WIBY0032',\n",
       " 'USC00476357',\n",
       " 'US1WIMW0067']"
      ]
     },
     "execution_count": 13,
     "metadata": {},
     "output_type": "execute_result"
    }
   ],
   "source": [
    "workload[:10]"
   ]
  },
  {
   "cell_type": "code",
   "execution_count": 14,
   "id": "83bff996-13ff-4993-9778-e7e3925721e9",
   "metadata": {},
   "outputs": [],
   "source": [
    "station = 'US1WIBY0032'\n",
    "df = pd.read_csv(f\"https://pages.cs.wisc.edu/~harter/cs544/data/wi-stations/{station}.csv.gz\",\n",
    "                         names=[\"station\", \"date\", \"element\", \"value\", \"m\", \"q\", \"s\", \"obs\"])\n"
   ]
  },
  {
   "cell_type": "code",
   "execution_count": 15,
   "id": "ff3d5d4e-23f5-4ca5-bfc9-012626395f8f",
   "metadata": {},
   "outputs": [
    {
     "data": {
      "text/html": [
       "<div>\n",
       "<style scoped>\n",
       "    .dataframe tbody tr th:only-of-type {\n",
       "        vertical-align: middle;\n",
       "    }\n",
       "\n",
       "    .dataframe tbody tr th {\n",
       "        vertical-align: top;\n",
       "    }\n",
       "\n",
       "    .dataframe thead th {\n",
       "        text-align: right;\n",
       "    }\n",
       "</style>\n",
       "<table border=\"1\" class=\"dataframe\">\n",
       "  <thead>\n",
       "    <tr style=\"text-align: right;\">\n",
       "      <th></th>\n",
       "      <th>station</th>\n",
       "      <th>date</th>\n",
       "      <th>element</th>\n",
       "      <th>value</th>\n",
       "      <th>m</th>\n",
       "      <th>q</th>\n",
       "      <th>s</th>\n",
       "      <th>obs</th>\n",
       "    </tr>\n",
       "  </thead>\n",
       "  <tbody>\n",
       "    <tr>\n",
       "      <th>0</th>\n",
       "      <td>US1WIBY0032</td>\n",
       "      <td>20210331</td>\n",
       "      <td>PRCP</td>\n",
       "      <td>0</td>\n",
       "      <td>T</td>\n",
       "      <td>NaN</td>\n",
       "      <td>N</td>\n",
       "      <td>700.0</td>\n",
       "    </tr>\n",
       "    <tr>\n",
       "      <th>1</th>\n",
       "      <td>US1WIBY0032</td>\n",
       "      <td>20210401</td>\n",
       "      <td>PRCP</td>\n",
       "      <td>0</td>\n",
       "      <td>NaN</td>\n",
       "      <td>NaN</td>\n",
       "      <td>N</td>\n",
       "      <td>730.0</td>\n",
       "    </tr>\n",
       "    <tr>\n",
       "      <th>2</th>\n",
       "      <td>US1WIBY0032</td>\n",
       "      <td>20210402</td>\n",
       "      <td>PRCP</td>\n",
       "      <td>0</td>\n",
       "      <td>NaN</td>\n",
       "      <td>NaN</td>\n",
       "      <td>N</td>\n",
       "      <td>800.0</td>\n",
       "    </tr>\n",
       "  </tbody>\n",
       "</table>\n",
       "</div>"
      ],
      "text/plain": [
       "       station      date element  value    m   q  s    obs\n",
       "0  US1WIBY0032  20210331    PRCP      0    T NaN  N  700.0\n",
       "1  US1WIBY0032  20210401    PRCP      0  NaN NaN  N  730.0\n",
       "2  US1WIBY0032  20210402    PRCP      0  NaN NaN  N  800.0"
      ]
     },
     "execution_count": 15,
     "metadata": {},
     "output_type": "execute_result"
    }
   ],
   "source": [
    "df.head(3)"
   ]
  },
  {
   "cell_type": "code",
   "execution_count": 20,
   "id": "0d118203-819f-4940-90a4-19821f606234",
   "metadata": {},
   "outputs": [],
   "source": [
    "import time"
   ]
  },
  {
   "cell_type": "markdown",
   "id": "28a5cc4c-a8b6-4adb-b55f-b177866dbdc5",
   "metadata": {},
   "source": [
    "## FIFO"
   ]
  },
  {
   "cell_type": "code",
   "execution_count": 25,
   "id": "5949ebb5-4955-44d2-877f-c9c7bb356b2b",
   "metadata": {},
   "outputs": [
    {
     "name": "stderr",
     "output_type": "stream",
     "text": [
      "/tmp/ipykernel_1611/785032882.py:23: DtypeWarning: Columns (5) have mixed types. Specify dtype option on import or set low_memory=False.\n",
      "  df = pd.read_csv(f\"https://pages.cs.wisc.edu/~harter/cs544/data/wi-stations/{station}.csv.gz\",\n",
      "/tmp/ipykernel_1611/785032882.py:23: DtypeWarning: Columns (6) have mixed types. Specify dtype option on import or set low_memory=False.\n",
      "  df = pd.read_csv(f\"https://pages.cs.wisc.edu/~harter/cs544/data/wi-stations/{station}.csv.gz\",\n",
      "/tmp/ipykernel_1611/785032882.py:23: DtypeWarning: Columns (6) have mixed types. Specify dtype option on import or set low_memory=False.\n",
      "  df = pd.read_csv(f\"https://pages.cs.wisc.edu/~harter/cs544/data/wi-stations/{station}.csv.gz\",\n",
      "/tmp/ipykernel_1611/785032882.py:23: DtypeWarning: Columns (6) have mixed types. Specify dtype option on import or set low_memory=False.\n",
      "  df = pd.read_csv(f\"https://pages.cs.wisc.edu/~harter/cs544/data/wi-stations/{station}.csv.gz\",\n",
      "/tmp/ipykernel_1611/785032882.py:23: DtypeWarning: Columns (6) have mixed types. Specify dtype option on import or set low_memory=False.\n",
      "  df = pd.read_csv(f\"https://pages.cs.wisc.edu/~harter/cs544/data/wi-stations/{station}.csv.gz\",\n",
      "/tmp/ipykernel_1611/785032882.py:23: DtypeWarning: Columns (5) have mixed types. Specify dtype option on import or set low_memory=False.\n",
      "  df = pd.read_csv(f\"https://pages.cs.wisc.edu/~harter/cs544/data/wi-stations/{station}.csv.gz\",\n",
      "/tmp/ipykernel_1611/785032882.py:23: DtypeWarning: Columns (6) have mixed types. Specify dtype option on import or set low_memory=False.\n",
      "  df = pd.read_csv(f\"https://pages.cs.wisc.edu/~harter/cs544/data/wi-stations/{station}.csv.gz\",\n",
      "/tmp/ipykernel_1611/785032882.py:23: DtypeWarning: Columns (5) have mixed types. Specify dtype option on import or set low_memory=False.\n",
      "  df = pd.read_csv(f\"https://pages.cs.wisc.edu/~harter/cs544/data/wi-stations/{station}.csv.gz\",\n",
      "/tmp/ipykernel_1611/785032882.py:23: DtypeWarning: Columns (6) have mixed types. Specify dtype option on import or set low_memory=False.\n",
      "  df = pd.read_csv(f\"https://pages.cs.wisc.edu/~harter/cs544/data/wi-stations/{station}.csv.gz\",\n",
      "/tmp/ipykernel_1611/785032882.py:23: DtypeWarning: Columns (6) have mixed types. Specify dtype option on import or set low_memory=False.\n",
      "  df = pd.read_csv(f\"https://pages.cs.wisc.edu/~harter/cs544/data/wi-stations/{station}.csv.gz\",\n",
      "/tmp/ipykernel_1611/785032882.py:23: DtypeWarning: Columns (6) have mixed types. Specify dtype option on import or set low_memory=False.\n",
      "  df = pd.read_csv(f\"https://pages.cs.wisc.edu/~harter/cs544/data/wi-stations/{station}.csv.gz\",\n",
      "/tmp/ipykernel_1611/785032882.py:23: DtypeWarning: Columns (6) have mixed types. Specify dtype option on import or set low_memory=False.\n",
      "  df = pd.read_csv(f\"https://pages.cs.wisc.edu/~harter/cs544/data/wi-stations/{station}.csv.gz\",\n",
      "/tmp/ipykernel_1611/785032882.py:23: DtypeWarning: Columns (5) have mixed types. Specify dtype option on import or set low_memory=False.\n",
      "  df = pd.read_csv(f\"https://pages.cs.wisc.edu/~harter/cs544/data/wi-stations/{station}.csv.gz\",\n",
      "/tmp/ipykernel_1611/785032882.py:23: DtypeWarning: Columns (6) have mixed types. Specify dtype option on import or set low_memory=False.\n",
      "  df = pd.read_csv(f\"https://pages.cs.wisc.edu/~harter/cs544/data/wi-stations/{station}.csv.gz\",\n",
      "/tmp/ipykernel_1611/785032882.py:23: DtypeWarning: Columns (6) have mixed types. Specify dtype option on import or set low_memory=False.\n",
      "  df = pd.read_csv(f\"https://pages.cs.wisc.edu/~harter/cs544/data/wi-stations/{station}.csv.gz\",\n",
      "/tmp/ipykernel_1611/785032882.py:23: DtypeWarning: Columns (5) have mixed types. Specify dtype option on import or set low_memory=False.\n",
      "  df = pd.read_csv(f\"https://pages.cs.wisc.edu/~harter/cs544/data/wi-stations/{station}.csv.gz\",\n",
      "/tmp/ipykernel_1611/785032882.py:23: DtypeWarning: Columns (5) have mixed types. Specify dtype option on import or set low_memory=False.\n",
      "  df = pd.read_csv(f\"https://pages.cs.wisc.edu/~harter/cs544/data/wi-stations/{station}.csv.gz\",\n",
      "/tmp/ipykernel_1611/785032882.py:23: DtypeWarning: Columns (6) have mixed types. Specify dtype option on import or set low_memory=False.\n",
      "  df = pd.read_csv(f\"https://pages.cs.wisc.edu/~harter/cs544/data/wi-stations/{station}.csv.gz\",\n",
      "/tmp/ipykernel_1611/785032882.py:23: DtypeWarning: Columns (6) have mixed types. Specify dtype option on import or set low_memory=False.\n",
      "  df = pd.read_csv(f\"https://pages.cs.wisc.edu/~harter/cs544/data/wi-stations/{station}.csv.gz\",\n",
      "/tmp/ipykernel_1611/785032882.py:23: DtypeWarning: Columns (6) have mixed types. Specify dtype option on import or set low_memory=False.\n",
      "  df = pd.read_csv(f\"https://pages.cs.wisc.edu/~harter/cs544/data/wi-stations/{station}.csv.gz\",\n",
      "/tmp/ipykernel_1611/785032882.py:23: DtypeWarning: Columns (5) have mixed types. Specify dtype option on import or set low_memory=False.\n",
      "  df = pd.read_csv(f\"https://pages.cs.wisc.edu/~harter/cs544/data/wi-stations/{station}.csv.gz\",\n",
      "/tmp/ipykernel_1611/785032882.py:23: DtypeWarning: Columns (6) have mixed types. Specify dtype option on import or set low_memory=False.\n",
      "  df = pd.read_csv(f\"https://pages.cs.wisc.edu/~harter/cs544/data/wi-stations/{station}.csv.gz\",\n",
      "/tmp/ipykernel_1611/785032882.py:23: DtypeWarning: Columns (5) have mixed types. Specify dtype option on import or set low_memory=False.\n",
      "  df = pd.read_csv(f\"https://pages.cs.wisc.edu/~harter/cs544/data/wi-stations/{station}.csv.gz\",\n",
      "/tmp/ipykernel_1611/785032882.py:23: DtypeWarning: Columns (6) have mixed types. Specify dtype option on import or set low_memory=False.\n",
      "  df = pd.read_csv(f\"https://pages.cs.wisc.edu/~harter/cs544/data/wi-stations/{station}.csv.gz\",\n",
      "/tmp/ipykernel_1611/785032882.py:23: DtypeWarning: Columns (5) have mixed types. Specify dtype option on import or set low_memory=False.\n",
      "  df = pd.read_csv(f\"https://pages.cs.wisc.edu/~harter/cs544/data/wi-stations/{station}.csv.gz\",\n",
      "/tmp/ipykernel_1611/785032882.py:23: DtypeWarning: Columns (6) have mixed types. Specify dtype option on import or set low_memory=False.\n",
      "  df = pd.read_csv(f\"https://pages.cs.wisc.edu/~harter/cs544/data/wi-stations/{station}.csv.gz\",\n",
      "/tmp/ipykernel_1611/785032882.py:23: DtypeWarning: Columns (6) have mixed types. Specify dtype option on import or set low_memory=False.\n",
      "  df = pd.read_csv(f\"https://pages.cs.wisc.edu/~harter/cs544/data/wi-stations/{station}.csv.gz\",\n",
      "/tmp/ipykernel_1611/785032882.py:23: DtypeWarning: Columns (6) have mixed types. Specify dtype option on import or set low_memory=False.\n",
      "  df = pd.read_csv(f\"https://pages.cs.wisc.edu/~harter/cs544/data/wi-stations/{station}.csv.gz\",\n",
      "/tmp/ipykernel_1611/785032882.py:23: DtypeWarning: Columns (5) have mixed types. Specify dtype option on import or set low_memory=False.\n",
      "  df = pd.read_csv(f\"https://pages.cs.wisc.edu/~harter/cs544/data/wi-stations/{station}.csv.gz\",\n",
      "/tmp/ipykernel_1611/785032882.py:23: DtypeWarning: Columns (6) have mixed types. Specify dtype option on import or set low_memory=False.\n",
      "  df = pd.read_csv(f\"https://pages.cs.wisc.edu/~harter/cs544/data/wi-stations/{station}.csv.gz\",\n",
      "/tmp/ipykernel_1611/785032882.py:23: DtypeWarning: Columns (6) have mixed types. Specify dtype option on import or set low_memory=False.\n",
      "  df = pd.read_csv(f\"https://pages.cs.wisc.edu/~harter/cs544/data/wi-stations/{station}.csv.gz\",\n"
     ]
    }
   ],
   "source": [
    "# FIFO\n",
    "\n",
    "cache_size = 2\n",
    "cache = {} # key=station_name, value=DataFrame_for_that_station\n",
    "evict_order = [] # start of list contains items to be evicted (end of list is freshest)\n",
    "# TODO: use a faster datastructure for evict_order that is not O(N) for pop(0)\n",
    "\n",
    "\n",
    "# stats\n",
    "hits = [] # True(hit), False(miss)\n",
    "ms_latencies = []\n",
    "\n",
    "\n",
    "def get_station(station):\n",
    "    start = time.time()\n",
    "    if station in cache:\n",
    "        # print('hit', end=\", \")\n",
    "        hits.append(True)\n",
    "        df = cache[station]\n",
    "    else:\n",
    "        # print('miss', end=\", \")\n",
    "        hits.append(False)\n",
    "        df = pd.read_csv(f\"https://pages.cs.wisc.edu/~harter/cs544/data/wi-stations/{station}.csv.gz\",\n",
    "                         names=[\"station\", \"date\", \"element\", \"value\", \"m\", \"q\", \"s\", \"obs\"])\n",
    "        cache[station] = df\n",
    "        evict_order.append(station)\n",
    "        if len(cache) > cache_size:\n",
    "            # EVICT\n",
    "            victim = evict_order.pop(0)\n",
    "            cache.pop(victim)\n",
    "    end = time.time()\n",
    "    ms = (end - start) * 1000\n",
    "    ms_latencies.append(ms)\n",
    "    return df\n",
    "\n",
    "\n",
    "for station in workload:\n",
    "    df = get_station(station)\n",
    "    # print(station, evict_order)"
   ]
  },
  {
   "cell_type": "code",
   "execution_count": 26,
   "id": "3d29a78b-6fc7-4912-8289-7c0bf2fb9715",
   "metadata": {},
   "outputs": [
    {
     "data": {
      "text/plain": [
       "0.32"
      ]
     },
     "execution_count": 26,
     "metadata": {},
     "output_type": "execute_result"
    }
   ],
   "source": [
    "# hit rate\n",
    "sum(hits) / len(hits)"
   ]
  },
  {
   "cell_type": "code",
   "execution_count": 27,
   "id": "e40de724-7b45-4610-b10b-12f4736de41c",
   "metadata": {},
   "outputs": [
    {
     "data": {
      "text/plain": [
       "160.2871799468994"
      ]
     },
     "execution_count": 27,
     "metadata": {},
     "output_type": "execute_result"
    }
   ],
   "source": [
    "# average latency\n",
    "sum(ms_latencies) / len(ms_latencies)"
   ]
  },
  {
   "cell_type": "markdown",
   "id": "ac1346c8-1599-4afb-9fa9-bcc53ca2500a",
   "metadata": {},
   "source": [
    "## LRU"
   ]
  },
  {
   "cell_type": "code",
   "execution_count": 28,
   "id": "793827a1-67d8-4b63-bc04-4a1e2e92f8a8",
   "metadata": {},
   "outputs": [
    {
     "name": "stderr",
     "output_type": "stream",
     "text": [
      "/tmp/ipykernel_1611/3118735047.py:24: DtypeWarning: Columns (5) have mixed types. Specify dtype option on import or set low_memory=False.\n",
      "  df = pd.read_csv(f\"https://pages.cs.wisc.edu/~harter/cs544/data/wi-stations/{station}.csv.gz\",\n",
      "/tmp/ipykernel_1611/3118735047.py:24: DtypeWarning: Columns (6) have mixed types. Specify dtype option on import or set low_memory=False.\n",
      "  df = pd.read_csv(f\"https://pages.cs.wisc.edu/~harter/cs544/data/wi-stations/{station}.csv.gz\",\n",
      "/tmp/ipykernel_1611/3118735047.py:24: DtypeWarning: Columns (6) have mixed types. Specify dtype option on import or set low_memory=False.\n",
      "  df = pd.read_csv(f\"https://pages.cs.wisc.edu/~harter/cs544/data/wi-stations/{station}.csv.gz\",\n",
      "/tmp/ipykernel_1611/3118735047.py:24: DtypeWarning: Columns (6) have mixed types. Specify dtype option on import or set low_memory=False.\n",
      "  df = pd.read_csv(f\"https://pages.cs.wisc.edu/~harter/cs544/data/wi-stations/{station}.csv.gz\",\n",
      "/tmp/ipykernel_1611/3118735047.py:24: DtypeWarning: Columns (5) have mixed types. Specify dtype option on import or set low_memory=False.\n",
      "  df = pd.read_csv(f\"https://pages.cs.wisc.edu/~harter/cs544/data/wi-stations/{station}.csv.gz\",\n",
      "/tmp/ipykernel_1611/3118735047.py:24: DtypeWarning: Columns (6) have mixed types. Specify dtype option on import or set low_memory=False.\n",
      "  df = pd.read_csv(f\"https://pages.cs.wisc.edu/~harter/cs544/data/wi-stations/{station}.csv.gz\",\n",
      "/tmp/ipykernel_1611/3118735047.py:24: DtypeWarning: Columns (6) have mixed types. Specify dtype option on import or set low_memory=False.\n",
      "  df = pd.read_csv(f\"https://pages.cs.wisc.edu/~harter/cs544/data/wi-stations/{station}.csv.gz\",\n",
      "/tmp/ipykernel_1611/3118735047.py:24: DtypeWarning: Columns (5) have mixed types. Specify dtype option on import or set low_memory=False.\n",
      "  df = pd.read_csv(f\"https://pages.cs.wisc.edu/~harter/cs544/data/wi-stations/{station}.csv.gz\",\n",
      "/tmp/ipykernel_1611/3118735047.py:24: DtypeWarning: Columns (5) have mixed types. Specify dtype option on import or set low_memory=False.\n",
      "  df = pd.read_csv(f\"https://pages.cs.wisc.edu/~harter/cs544/data/wi-stations/{station}.csv.gz\",\n",
      "/tmp/ipykernel_1611/3118735047.py:24: DtypeWarning: Columns (6) have mixed types. Specify dtype option on import or set low_memory=False.\n",
      "  df = pd.read_csv(f\"https://pages.cs.wisc.edu/~harter/cs544/data/wi-stations/{station}.csv.gz\",\n",
      "/tmp/ipykernel_1611/3118735047.py:24: DtypeWarning: Columns (5) have mixed types. Specify dtype option on import or set low_memory=False.\n",
      "  df = pd.read_csv(f\"https://pages.cs.wisc.edu/~harter/cs544/data/wi-stations/{station}.csv.gz\",\n",
      "/tmp/ipykernel_1611/3118735047.py:24: DtypeWarning: Columns (6) have mixed types. Specify dtype option on import or set low_memory=False.\n",
      "  df = pd.read_csv(f\"https://pages.cs.wisc.edu/~harter/cs544/data/wi-stations/{station}.csv.gz\",\n"
     ]
    }
   ],
   "source": [
    "cache_size = 5\n",
    "cache = {} # key=station_name, value=DataFrame_for_that_station\n",
    "evict_order = [] # start of list contains items to be evicted (end of list is freshest)\n",
    "# TODO: use a faster datastructure for evict_order that is not O(N) for pop(0)\n",
    "\n",
    "\n",
    "# stats\n",
    "hits = [] # True(hit), False(miss)\n",
    "ms_latencies = []\n",
    "\n",
    "\n",
    "def get_station(station):\n",
    "    start = time.time()\n",
    "    if station in cache:\n",
    "        # print('hit', end=\", \")\n",
    "        hits.append(True)\n",
    "        df = cache[station]\n",
    "\n",
    "        evict_order.remove(station)\n",
    "        evict_order.append(station)\n",
    "    else:\n",
    "        # print('miss', end=\", \")\n",
    "        hits.append(False)\n",
    "        df = pd.read_csv(f\"https://pages.cs.wisc.edu/~harter/cs544/data/wi-stations/{station}.csv.gz\",\n",
    "                         names=[\"station\", \"date\", \"element\", \"value\", \"m\", \"q\", \"s\", \"obs\"])\n",
    "        cache[station] = df\n",
    "        evict_order.append(station)\n",
    "        if len(cache) > cache_size:\n",
    "            # EVICT\n",
    "            victim = evict_order.pop(0)\n",
    "            cache.pop(victim)\n",
    "    end = time.time()\n",
    "    ms = (end - start) * 1000\n",
    "    ms_latencies.append(ms)\n",
    "    return df\n",
    "\n",
    "\n",
    "for station in workload:\n",
    "    df = get_station(station)\n",
    "    # print(station, evict_order)"
   ]
  },
  {
   "cell_type": "code",
   "execution_count": 29,
   "id": "5eaa81f3-8a54-45d2-91a5-fd9b04855053",
   "metadata": {},
   "outputs": [
    {
     "data": {
      "text/plain": [
       "0.59"
      ]
     },
     "execution_count": 29,
     "metadata": {},
     "output_type": "execute_result"
    }
   ],
   "source": [
    "# hit rate\n",
    "sum(hits) / len(hits)"
   ]
  },
  {
   "cell_type": "code",
   "execution_count": 30,
   "id": "ea9f6b2c-e4af-44fe-9e3e-f54e83da842b",
   "metadata": {},
   "outputs": [
    {
     "data": {
      "text/plain": [
       "75.25295734405518"
      ]
     },
     "execution_count": 30,
     "metadata": {},
     "output_type": "execute_result"
    }
   ],
   "source": [
    "# average latency\n",
    "sum(ms_latencies) / len(ms_latencies)"
   ]
  },
  {
   "cell_type": "code",
   "execution_count": null,
   "id": "02cce08f-c627-4ef5-9f5b-e343826aa69f",
   "metadata": {},
   "outputs": [],
   "source": []
  }
 ],
 "metadata": {
  "kernelspec": {
   "display_name": "Python 3 (ipykernel)",
   "language": "python",
   "name": "python3"
  },
  "language_info": {
   "codemirror_mode": {
    "name": "ipython",
    "version": 3
   },
   "file_extension": ".py",
   "mimetype": "text/x-python",
   "name": "python",
   "nbconvert_exporter": "python",
   "pygments_lexer": "ipython3",
   "version": "3.11.6"
  }
 },
 "nbformat": 4,
 "nbformat_minor": 5
}
