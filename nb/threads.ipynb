{
 "cells": [
  {
   "cell_type": "markdown",
   "id": "3f8626a0-9088-4d33-b1ff-1f2e0598ec76",
   "metadata": {},
   "source": [
    "# Basics"
   ]
  },
  {
   "cell_type": "code",
   "execution_count": 1,
   "id": "30eb439d-5aa8-426d-b2d2-4bf2eeaa48dd",
   "metadata": {},
   "outputs": [],
   "source": [
    "import threading"
   ]
  },
  {
   "cell_type": "code",
   "execution_count": 10,
   "id": "aa678df7-b61f-462d-a9e4-9912d6660e1d",
   "metadata": {},
   "outputs": [],
   "source": [
    "# t = threading.Thread()\n",
    "# t"
   ]
  },
  {
   "cell_type": "code",
   "execution_count": 9,
   "id": "066d361a-d673-42e4-b184-a480770793b6",
   "metadata": {},
   "outputs": [
    {
     "name": "stdout",
     "output_type": "stream",
     "text": [
      "hello world, from thread 1253\n",
      "hello world main from thread\n"
     ]
    }
   ],
   "source": [
    "def task():\n",
    "    print(\"hello world, from thread\", threading.get_native_id())\n",
    "\n",
    "t = threading.Thread(target=task)\n",
    "t.start()\n",
    "print(\"hello world main from thread\")"
   ]
  },
  {
   "cell_type": "code",
   "execution_count": 17,
   "id": "1ddf0c9a-140b-4b56-8e74-9879baeec9a4",
   "metadata": {},
   "outputs": [
    {
     "name": "stdout",
     "output_type": "stream",
     "text": [
      "2955997605\n"
     ]
    }
   ],
   "source": [
    "total = 0\n",
    "\n",
    "def add(count):\n",
    "    global total\n",
    "    for i in range(count):\n",
    "        total += i\n",
    "    # print(\"hello world, from thread\", threading.get_native_id())\n",
    "\n",
    "t = threading.Thread(target=add, args=[1_000_000])\n",
    "t.start()\n",
    "# bug is a \"race condition\"\n",
    "# race between the adding and printing threads\n",
    "# -- who gets further first determines the result and whether it's correct\n",
    "print(total)"
   ]
  },
  {
   "cell_type": "code",
   "execution_count": null,
   "id": "26b6fb97-f647-48d0-8db3-5deda81b922a",
   "metadata": {},
   "outputs": [],
   "source": []
  },
  {
   "cell_type": "markdown",
   "id": "28a1002b-f646-4d35-b9ba-2c959000b32b",
   "metadata": {},
   "source": [
    "# Day 2"
   ]
  },
  {
   "cell_type": "code",
   "execution_count": 1,
   "id": "9017941b-ed4e-4820-9067-b1a5aa46e4ef",
   "metadata": {},
   "outputs": [],
   "source": [
    "import threading\n",
    "import torch\n",
    "import time"
   ]
  },
  {
   "cell_type": "code",
   "execution_count": 13,
   "id": "fef0fdd2-82c2-4314-9542-58a33322e0e8",
   "metadata": {},
   "outputs": [
    {
     "name": "stdout",
     "output_type": "stream",
     "text": [
      "0.9196603298187256 seconds\n"
     ]
    },
    {
     "data": {
      "text/plain": [
       "tensor(199875, dtype=torch.int32)"
      ]
     },
     "execution_count": 13,
     "metadata": {},
     "output_type": "execute_result"
    }
   ],
   "source": [
    "# %%time\n",
    "# unsafe code\n",
    "\n",
    "total = torch.tensor(0, dtype=torch.int32)\n",
    "\n",
    "def inc(count):\n",
    "    global total\n",
    "    for i in range(count):\n",
    "        total += 1  # critical section\n",
    "\n",
    "# inc(1000)\n",
    "\n",
    "start = time.time()\n",
    "t1 = threading.Thread(target=inc, args=[100_000])\n",
    "t2 = threading.Thread(target=inc, args=[100_000])\n",
    "t1.start()\n",
    "t2.start()\n",
    "t1.join()\n",
    "t2.join()\n",
    "end = time.time()\n",
    "print(end-start, \"seconds\")\n",
    "total"
   ]
  },
  {
   "cell_type": "code",
   "execution_count": 5,
   "id": "4a3ed12c-2093-4f1a-97b2-1765b6126785",
   "metadata": {},
   "outputs": [
    {
     "name": "stdout",
     "output_type": "stream",
     "text": [
      "  0           0 RESUME                   0\n",
      "\n",
      "  1           2 LOAD_NAME                0 (total)\n",
      "              4 LOAD_CONST               0 (1)\n",
      "              6 BINARY_OP               13 (+=)\n",
      "             10 STORE_NAME               0 (total)\n",
      "             12 LOAD_CONST               1 (None)\n",
      "             14 RETURN_VALUE\n"
     ]
    }
   ],
   "source": [
    "import dis\n",
    "\n",
    "# dis.dis(\"\")\n",
    "dis.dis(\"total += 1\")\n",
    "\n",
    "# load total\n",
    "# load 1\n",
    "# add\n",
    "# store total\n"
   ]
  },
  {
   "cell_type": "code",
   "execution_count": 12,
   "id": "84e180f9-46e1-4598-b883-c9e22939fc02",
   "metadata": {},
   "outputs": [
    {
     "name": "stdout",
     "output_type": "stream",
     "text": [
      "2.6247355937957764 seconds\n"
     ]
    },
    {
     "data": {
      "text/plain": [
       "tensor(200000, dtype=torch.int32)"
      ]
     },
     "execution_count": 12,
     "metadata": {},
     "output_type": "execute_result"
    }
   ],
   "source": [
    "# %%time\n",
    "\n",
    "lock = threading.Lock()\n",
    "total = torch.tensor(0, dtype=torch.int32)\n",
    "\n",
    "def inc(count):\n",
    "    global total\n",
    "    for i in range(count):\n",
    "        lock.acquire()\n",
    "        total += 1\n",
    "        lock.release()\n",
    "        \n",
    "\n",
    "# inc(1000)\n",
    "\n",
    "start = time.time()\n",
    "t1 = threading.Thread(target=inc, args=[100_000])\n",
    "t2 = threading.Thread(target=inc, args=[100_000])\n",
    "t1.start()\n",
    "t2.start()\n",
    "t1.join()\n",
    "t2.join()\n",
    "end = time.time()\n",
    "print(end-start, \"seconds\")\n",
    "total"
   ]
  },
  {
   "cell_type": "markdown",
   "id": "e1177905-227e-4ccc-a9de-49c88d4215d2",
   "metadata": {},
   "source": [
    "# An example"
   ]
  },
  {
   "cell_type": "code",
   "execution_count": 19,
   "id": "cd01eb5d-af49-4a20-940e-363ad1c901d3",
   "metadata": {},
   "outputs": [],
   "source": [
    "# undafe \n",
    "bank_accounts = {\"x\": 25, \"y\": 100, \"z\": 200} # in dollars\n",
    "lock = threading.Lock() # protects bank_accounts\n",
    "\n",
    "def transfer(src, dst, amount):\n",
    "    lock.acquire()\n",
    "    success = False\n",
    "    if bank_accounts[src] >= amount:\n",
    "        bank_accounts[src] -= amount\n",
    "        bank_accounts[dst] += amount\n",
    "        success = True\n",
    "    print(\"transferred\" if success else \"denied\")\n",
    "    lock.release()"
   ]
  },
  {
   "cell_type": "code",
   "execution_count": 20,
   "id": "2624d3a1-ab51-4184-a4f6-9fc54b6bf512",
   "metadata": {
    "editable": true,
    "slideshow": {
     "slide_type": ""
    },
    "tags": []
   },
   "outputs": [
    {
     "name": "stdout",
     "output_type": "stream",
     "text": [
      "transferred\n"
     ]
    }
   ],
   "source": [
    "transfer(\"x\", \"y\", 20)"
   ]
  },
  {
   "cell_type": "code",
   "execution_count": 21,
   "id": "076354f0-971a-4825-aee1-8834f003fad0",
   "metadata": {},
   "outputs": [
    {
     "name": "stdout",
     "output_type": "stream",
     "text": [
      "denied\n"
     ]
    }
   ],
   "source": [
    "transfer(\"x\", \"z\", 10)"
   ]
  },
  {
   "cell_type": "code",
   "execution_count": 24,
   "id": "cdce42df-d03d-4848-9e52-0bce341eadd4",
   "metadata": {},
   "outputs": [],
   "source": [
    "# EXCEPTION!\n",
    "# transfer(\"w\", \"x\", 50)"
   ]
  },
  {
   "cell_type": "code",
   "execution_count": null,
   "id": "c812a246-0902-451c-8a30-af63addeb988",
   "metadata": {},
   "outputs": [],
   "source": [
    "transfer(\"z\", \"x\", 50) # deadlock because of exception, lock was not released"
   ]
  },
  {
   "cell_type": "code",
   "execution_count": 5,
   "id": "f5a445f8-e0a9-4f71-ac5f-ba65048c270a",
   "metadata": {},
   "outputs": [],
   "source": [
    "# safe\n",
    "bank_accounts = {\"x\": 25, \"y\": 100, \"z\": 200} # in dollars\n",
    "lock = threading.Lock() # protects bank_accounts\n",
    "\n",
    "def transfer(src, dst, amount):\n",
    "    with lock: # cleaning up resources, lock will be released even if there was an exception\n",
    "        success = False\n",
    "        if bank_accounts[src] >= amount:\n",
    "            bank_accounts[src] -= amount\n",
    "            bank_accounts[dst] += amount\n",
    "            success = True\n",
    "        print(\"transferred\" if success else \"denied\")"
   ]
  },
  {
   "cell_type": "code",
   "execution_count": 3,
   "id": "b5eb3769-319e-4ac9-a5df-3723b2938aa5",
   "metadata": {},
   "outputs": [
    {
     "ename": "KeyError",
     "evalue": "'w'",
     "output_type": "error",
     "traceback": [
      "\u001b[0;31m---------------------------------------------------------------------------\u001b[0m",
      "\u001b[0;31mKeyError\u001b[0m                                  Traceback (most recent call last)",
      "Cell \u001b[0;32mIn[3], line 1\u001b[0m\n\u001b[0;32m----> 1\u001b[0m \u001b[43mtransfer\u001b[49m\u001b[43m(\u001b[49m\u001b[38;5;124;43m\"\u001b[39;49m\u001b[38;5;124;43mw\u001b[39;49m\u001b[38;5;124;43m\"\u001b[39;49m\u001b[43m,\u001b[49m\u001b[43m \u001b[49m\u001b[38;5;124;43m\"\u001b[39;49m\u001b[38;5;124;43mx\u001b[39;49m\u001b[38;5;124;43m\"\u001b[39;49m\u001b[43m,\u001b[49m\u001b[43m \u001b[49m\u001b[38;5;241;43m50\u001b[39;49m\u001b[43m)\u001b[49m\n",
      "Cell \u001b[0;32mIn[2], line 8\u001b[0m, in \u001b[0;36mtransfer\u001b[0;34m(src, dst, amount)\u001b[0m\n\u001b[1;32m      6\u001b[0m \u001b[38;5;28;01mwith\u001b[39;00m lock:\n\u001b[1;32m      7\u001b[0m     success \u001b[38;5;241m=\u001b[39m \u001b[38;5;28;01mFalse\u001b[39;00m\n\u001b[0;32m----> 8\u001b[0m     \u001b[38;5;28;01mif\u001b[39;00m \u001b[43mbank_accounts\u001b[49m\u001b[43m[\u001b[49m\u001b[43msrc\u001b[49m\u001b[43m]\u001b[49m \u001b[38;5;241m>\u001b[39m\u001b[38;5;241m=\u001b[39m amount:\n\u001b[1;32m      9\u001b[0m         bank_accounts[src] \u001b[38;5;241m-\u001b[39m\u001b[38;5;241m=\u001b[39m amount\n\u001b[1;32m     10\u001b[0m         bank_accounts[dst] \u001b[38;5;241m+\u001b[39m\u001b[38;5;241m=\u001b[39m amount\n",
      "\u001b[0;31mKeyError\u001b[0m: 'w'"
     ]
    }
   ],
   "source": [
    "transfer(\"w\", \"x\", 50) "
   ]
  },
  {
   "cell_type": "code",
   "execution_count": 4,
   "id": "489d3303-3d0f-4cfb-9f00-b2f9aa26bbc6",
   "metadata": {},
   "outputs": [
    {
     "name": "stdout",
     "output_type": "stream",
     "text": [
      "transferred\n"
     ]
    }
   ],
   "source": [
    "transfer(\"z\", \"x\", 50) "
   ]
  }
 ],
 "metadata": {
  "kernelspec": {
   "display_name": "Python 3 (ipykernel)",
   "language": "python",
   "name": "python3"
  },
  "language_info": {
   "codemirror_mode": {
    "name": "ipython",
    "version": 3
   },
   "file_extension": ".py",
   "mimetype": "text/x-python",
   "name": "python",
   "nbconvert_exporter": "python",
   "pygments_lexer": "ipython3",
   "version": "3.11.6"
  }
 },
 "nbformat": 4,
 "nbformat_minor": 5
}
