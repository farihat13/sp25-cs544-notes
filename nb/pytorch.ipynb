{
 "cells": [
  {
   "cell_type": "markdown",
   "id": "ff1ea8b6",
   "metadata": {},
   "source": [
    "http://localhost:5441/?token=\"\""
   ]
  },
  {
   "cell_type": "code",
   "execution_count": null,
   "id": "35301c37",
   "metadata": {},
   "outputs": [],
   "source": [
    "print(\"hello world\")"
   ]
  },
  {
   "cell_type": "markdown",
   "id": "c4bbcba2",
   "metadata": {},
   "source": [
    "<!-- # http://localhost:5441/?token=\"\" -->"
   ]
  },
  {
   "cell_type": "code",
   "execution_count": null,
   "id": "39dd0dbb-3950-48f9-9b08-1cc09593b229",
   "metadata": {},
   "outputs": [],
   "source": [
    "import torch"
   ]
  },
  {
   "cell_type": "code",
   "execution_count": 2,
   "id": "4ff181ad-3eed-475b-8c91-b60a2c659b2d",
   "metadata": {},
   "outputs": [
    {
     "data": {
      "text/plain": [
       "2147483648"
      ]
     },
     "execution_count": 2,
     "metadata": {},
     "output_type": "execute_result"
    }
   ],
   "source": [
    "2 ** 31"
   ]
  },
  {
   "cell_type": "code",
   "execution_count": 3,
   "id": "9b248d00-260d-4a48-8e7a-20d899d18cc1",
   "metadata": {},
   "outputs": [
    {
     "data": {
      "text/plain": [
       "tensor(2147483648)"
      ]
     },
     "execution_count": 3,
     "metadata": {},
     "output_type": "execute_result"
    }
   ],
   "source": [
    "torch.tensor(2**31, dtype=torch.int64)"
   ]
  },
  {
   "cell_type": "code",
   "execution_count": 5,
   "id": "82150a00-d2a6-4897-8539-016a3c53305c",
   "metadata": {},
   "outputs": [
    {
     "ename": "RuntimeError",
     "evalue": "value cannot be converted to type int32 without overflow",
     "output_type": "error",
     "traceback": [
      "\u001b[0;31m---------------------------------------------------------------------------\u001b[0m",
      "\u001b[0;31mRuntimeError\u001b[0m                              Traceback (most recent call last)",
      "Cell \u001b[0;32mIn[5], line 1\u001b[0m\n\u001b[0;32m----> 1\u001b[0m \u001b[43mtorch\u001b[49m\u001b[38;5;241;43m.\u001b[39;49m\u001b[43mtensor\u001b[49m\u001b[43m(\u001b[49m\u001b[38;5;241;43m2\u001b[39;49m\u001b[38;5;241;43m*\u001b[39;49m\u001b[38;5;241;43m*\u001b[39;49m\u001b[38;5;241;43m31\u001b[39;49m\u001b[43m,\u001b[49m\u001b[43m \u001b[49m\u001b[43mdtype\u001b[49m\u001b[38;5;241;43m=\u001b[39;49m\u001b[43mtorch\u001b[49m\u001b[38;5;241;43m.\u001b[39;49m\u001b[43mint32\u001b[49m\u001b[43m)\u001b[49m \u001b[38;5;66;03m# number too large for 32 bits\u001b[39;00m\n",
      "\u001b[0;31mRuntimeError\u001b[0m: value cannot be converted to type int32 without overflow"
     ]
    }
   ],
   "source": [
    "torch.tensor(2**31, dtype=torch.int32) # number too large for 32 bits"
   ]
  },
  {
   "cell_type": "code",
   "execution_count": 6,
   "id": "46ce6d4c-6f0d-48cc-9bce-2e32429f14a4",
   "metadata": {},
   "outputs": [],
   "source": [
    "x = torch.tensor(2**31-1, dtype=torch.int32)"
   ]
  },
  {
   "cell_type": "code",
   "execution_count": 10,
   "id": "2171a3a7-abed-4320-ac2e-704cce2a2a5b",
   "metadata": {},
   "outputs": [
    {
     "data": {
      "text/plain": [
       "tensor(-2147483648, dtype=torch.int32)"
      ]
     },
     "execution_count": 10,
     "metadata": {},
     "output_type": "execute_result"
    }
   ],
   "source": [
    "y = x+1 # overflow\n",
    "y"
   ]
  },
  {
   "cell_type": "markdown",
   "id": "dcaf7e76-1976-4e49-889d-7df8be663353",
   "metadata": {},
   "source": [
    "# Float behavior (python is using float64 here)"
   ]
  },
  {
   "cell_type": "code",
   "execution_count": null,
   "id": "f4a751d9-1708-4fc7-a0ee-c30ede613391",
   "metadata": {},
   "outputs": [],
   "source": [
    "from sys import float_info"
   ]
  },
  {
   "cell_type": "code",
   "execution_count": 9,
   "id": "632bd6c2-243e-4b33-98ef-6209663ad6d1",
   "metadata": {},
   "outputs": [
    {
     "data": {
      "text/plain": [
       "tensor(2147483647, dtype=torch.int32)"
      ]
     },
     "execution_count": 9,
     "metadata": {},
     "output_type": "execute_result"
    }
   ],
   "source": [
    "y - 1 # underflow"
   ]
  },
  {
   "cell_type": "code",
   "execution_count": 13,
   "id": "37cac2e1-7340-45d4-88af-9eb64c98f7ac",
   "metadata": {},
   "outputs": [
    {
     "data": {
      "text/plain": [
       "1.7976931348623157e+308"
      ]
     },
     "execution_count": 13,
     "metadata": {},
     "output_type": "execute_result"
    }
   ],
   "source": [
    "float_info.max"
   ]
  },
  {
   "cell_type": "code",
   "execution_count": 14,
   "id": "5c9f6f95-ac05-41c9-961e-bc278cd7e730",
   "metadata": {},
   "outputs": [
    {
     "data": {
      "text/plain": [
       "2.2250738585072014e-308"
      ]
     },
     "execution_count": 14,
     "metadata": {},
     "output_type": "execute_result"
    }
   ],
   "source": [
    "float_info.min"
   ]
  },
  {
   "cell_type": "code",
   "execution_count": 18,
   "id": "c4ec8195-a6ed-4200-8715-b30e77a5fa5d",
   "metadata": {},
   "outputs": [],
   "source": [
    "big = float_info.max\n",
    "small = -big"
   ]
  },
  {
   "cell_type": "code",
   "execution_count": 16,
   "id": "6d8c27ca-545d-46c4-abb1-99d0e2cf870d",
   "metadata": {},
   "outputs": [
    {
     "data": {
      "text/plain": [
       "True"
      ]
     },
     "execution_count": 16,
     "metadata": {},
     "output_type": "execute_result"
    }
   ],
   "source": [
    "big + 1 == big"
   ]
  },
  {
   "cell_type": "code",
   "execution_count": 17,
   "id": "614da012-9af6-43a5-b686-88caff003ae4",
   "metadata": {},
   "outputs": [
    {
     "data": {
      "text/plain": [
       "inf"
      ]
     },
     "execution_count": 17,
     "metadata": {},
     "output_type": "execute_result"
    }
   ],
   "source": [
    "big * 2"
   ]
  },
  {
   "cell_type": "code",
   "execution_count": 19,
   "id": "481a78f8-c28a-408e-a126-7910caf3e2e5",
   "metadata": {},
   "outputs": [
    {
     "data": {
      "text/plain": [
       "-inf"
      ]
     },
     "execution_count": 19,
     "metadata": {},
     "output_type": "execute_result"
    }
   ],
   "source": [
    "small * 3 "
   ]
  },
  {
   "cell_type": "code",
   "execution_count": 20,
   "id": "b885b166-df74-410f-9646-29d2fa5804a0",
   "metadata": {},
   "outputs": [
    {
     "data": {
      "text/plain": [
       "nan"
      ]
     },
     "execution_count": 20,
     "metadata": {},
     "output_type": "execute_result"
    }
   ],
   "source": [
    "big*2 + small*2"
   ]
  },
  {
   "cell_type": "code",
   "execution_count": 21,
   "id": "52aef406-1e34-4e1f-96ef-687d5e7e1be0",
   "metadata": {},
   "outputs": [
    {
     "data": {
      "text/plain": [
       "15"
      ]
     },
     "execution_count": 21,
     "metadata": {},
     "output_type": "execute_result"
    }
   ],
   "source": [
    "float_info.dig"
   ]
  },
  {
   "cell_type": "code",
   "execution_count": 24,
   "id": "27e3d232-5a94-4598-9a29-4e672fbff8e0",
   "metadata": {},
   "outputs": [
    {
     "data": {
      "text/plain": [
       "False"
      ]
     },
     "execution_count": 24,
     "metadata": {},
     "output_type": "execute_result"
    }
   ],
   "source": [
    "x = 1.23456789123456\n",
    "y = 1.23456789123458\n",
    "x == y"
   ]
  },
  {
   "cell_type": "code",
   "execution_count": 26,
   "id": "acfc7b33-77aa-4aff-8f53-fcc082e6a16d",
   "metadata": {},
   "outputs": [
    {
     "data": {
      "text/plain": [
       "False"
      ]
     },
     "execution_count": 26,
     "metadata": {},
     "output_type": "execute_result"
    }
   ],
   "source": [
    "x = 1.2345678912345691\n",
    "y = 1.2345678912345682\n",
    "x == y"
   ]
  },
  {
   "cell_type": "code",
   "execution_count": 27,
   "id": "297d68ee-e0a7-4225-851e-3a548997a88f",
   "metadata": {},
   "outputs": [
    {
     "data": {
      "text/plain": [
       "1.0000000000000002"
      ]
     },
     "execution_count": 27,
     "metadata": {},
     "output_type": "execute_result"
    }
   ],
   "source": [
    "x = 1.0\n",
    "x + float_info.epsilon # the next number after 1.0"
   ]
  },
  {
   "cell_type": "markdown",
   "id": "9a17800f-e02d-4da6-946b-e171fdef67d5",
   "metadata": {},
   "source": [
    "# Matrices"
   ]
  },
  {
   "cell_type": "code",
   "execution_count": 34,
   "id": "a527836c-2a6f-4f9e-ae0f-848214eb5a4c",
   "metadata": {},
   "outputs": [
    {
     "data": {
      "text/plain": [
       "tensor([[0.1533, 0.1232, 0.9056],\n",
       "        [0.5199, 0.6170, 0.6824],\n",
       "        [0.2492, 0.5415, 0.8858],\n",
       "        [0.1500, 0.4240, 0.6733],\n",
       "        [0.9385, 0.5420, 0.6034],\n",
       "        [0.0621, 0.2434, 0.6214],\n",
       "        [0.9699, 0.5216, 0.4529],\n",
       "        [0.9302, 0.9436, 0.2137],\n",
       "        [0.0547, 0.7348, 0.1622],\n",
       "        [0.2091, 0.1147, 0.6165]], dtype=torch.float64)"
      ]
     },
     "execution_count": 34,
     "metadata": {},
     "output_type": "execute_result"
    }
   ],
   "source": [
    "torch.manual_seed(544)\n",
    "\n",
    "A = torch.rand(10, 3, dtype=torch.float64)\n",
    "A"
   ]
  },
  {
   "cell_type": "code",
   "execution_count": 35,
   "id": "5ee8e68b-4bc7-48e4-8b1c-82f19cc96ce0",
   "metadata": {},
   "outputs": [
    {
     "data": {
      "text/plain": [
       "device(type='cpu')"
      ]
     },
     "execution_count": 35,
     "metadata": {},
     "output_type": "execute_result"
    }
   ],
   "source": [
    "A.device # \"cpu\" means the main system memory (RAM)"
   ]
  },
  {
   "cell_type": "code",
   "execution_count": 36,
   "id": "e8b8545e-32f4-436f-92f2-2b5787f3f4be",
   "metadata": {},
   "outputs": [
    {
     "data": {
      "text/plain": [
       "torch.Size([10, 3])"
      ]
     },
     "execution_count": 36,
     "metadata": {},
     "output_type": "execute_result"
    }
   ],
   "source": [
    "A.shape"
   ]
  },
  {
   "cell_type": "code",
   "execution_count": 37,
   "id": "2e6e6f6c-f835-412e-8860-2e9b5978b406",
   "metadata": {},
   "outputs": [
    {
     "data": {
      "text/plain": [
       "torch.float64"
      ]
     },
     "execution_count": 37,
     "metadata": {},
     "output_type": "execute_result"
    }
   ],
   "source": [
    "A.dtype"
   ]
  },
  {
   "cell_type": "code",
   "execution_count": 39,
   "id": "73d63b99-d898-49cf-a780-eeb218d58d97",
   "metadata": {},
   "outputs": [
    {
     "data": {
      "text/plain": [
       "False"
      ]
     },
     "execution_count": 39,
     "metadata": {},
     "output_type": "execute_result"
    }
   ],
   "source": [
    "torch.cuda.is_available()"
   ]
  },
  {
   "cell_type": "code",
   "execution_count": 49,
   "id": "2b18d415-db1e-44f1-8615-be9b8730f90e",
   "metadata": {},
   "outputs": [],
   "source": [
    "# A.to(\"cuda\")"
   ]
  },
  {
   "cell_type": "code",
   "execution_count": 50,
   "id": "31899dd0-940d-4154-85cf-d31a44703ea1",
   "metadata": {},
   "outputs": [
    {
     "data": {
      "text/plain": [
       "tensor([[0.1533, 0.5199, 0.2492, 0.1500, 0.9385, 0.0621, 0.9699, 0.9302, 0.0547,\n",
       "         0.2091],\n",
       "        [0.1232, 0.6170, 0.5415, 0.4240, 0.5420, 0.2434, 0.5216, 0.9436, 0.7348,\n",
       "         0.1147],\n",
       "        [0.9056, 0.6824, 0.8858, 0.6733, 0.6034, 0.6214, 0.4529, 0.2137, 0.1622,\n",
       "         0.6165]], dtype=torch.float64)"
      ]
     },
     "execution_count": 50,
     "metadata": {},
     "output_type": "execute_result"
    }
   ],
   "source": [
    "A.T # transpose"
   ]
  },
  {
   "cell_type": "code",
   "execution_count": 51,
   "id": "e0ded9d3-a15e-4c59-8b89-fbc6df0cb658",
   "metadata": {},
   "outputs": [
    {
     "data": {
      "text/plain": [
       "tensor([[0.1533, 0.1232, 0.9056, 0.5199, 0.6170, 0.6824, 0.2492, 0.5415, 0.8858,\n",
       "         0.1500, 0.4240, 0.6733, 0.9385, 0.5420, 0.6034],\n",
       "        [0.0621, 0.2434, 0.6214, 0.9699, 0.5216, 0.4529, 0.9302, 0.9436, 0.2137,\n",
       "         0.0547, 0.7348, 0.1622, 0.2091, 0.1147, 0.6165]], dtype=torch.float64)"
      ]
     },
     "execution_count": 51,
     "metadata": {},
     "output_type": "execute_result"
    }
   ],
   "source": [
    "A.reshape(2,15)"
   ]
  },
  {
   "cell_type": "code",
   "execution_count": 52,
   "id": "c467bbc7-dd6d-45c1-b011-61c465854958",
   "metadata": {},
   "outputs": [
    {
     "data": {
      "text/plain": [
       "tensor([0.1533, 0.1232, 0.9056, 0.5199, 0.6170, 0.6824, 0.2492, 0.5415, 0.8858,\n",
       "        0.1500, 0.4240, 0.6733, 0.9385, 0.5420, 0.6034, 0.0621, 0.2434, 0.6214,\n",
       "        0.9699, 0.5216, 0.4529, 0.9302, 0.9436, 0.2137, 0.0547, 0.7348, 0.1622,\n",
       "        0.2091, 0.1147, 0.6165], dtype=torch.float64)"
      ]
     },
     "execution_count": 52,
     "metadata": {},
     "output_type": "execute_result"
    }
   ],
   "source": [
    "A.reshape(30)"
   ]
  },
  {
   "cell_type": "code",
   "execution_count": 53,
   "id": "6db1ae6b-529b-4924-b130-d7da71f3d4fe",
   "metadata": {},
   "outputs": [
    {
     "data": {
      "text/plain": [
       "30"
      ]
     },
     "execution_count": 53,
     "metadata": {},
     "output_type": "execute_result"
    }
   ],
   "source": [
    "A.nelement()"
   ]
  },
  {
   "cell_type": "code",
   "execution_count": 54,
   "id": "dce35432-415f-48ba-ba29-7c5f6e472dcf",
   "metadata": {},
   "outputs": [
    {
     "data": {
      "text/plain": [
       "8"
      ]
     },
     "execution_count": 54,
     "metadata": {},
     "output_type": "execute_result"
    }
   ],
   "source": [
    "A.element_size()"
   ]
  },
  {
   "cell_type": "code",
   "execution_count": 55,
   "id": "2dec8ab7-f955-40b1-9e5e-2b3776dbfd5e",
   "metadata": {},
   "outputs": [
    {
     "data": {
      "text/plain": [
       "240"
      ]
     },
     "execution_count": 55,
     "metadata": {},
     "output_type": "execute_result"
    }
   ],
   "source": [
    "A.nelement() * A.element_size() # how much memory used"
   ]
  },
  {
   "cell_type": "code",
   "execution_count": 57,
   "id": "8cec695e-c7c5-4f58-9400-789d12c3d4af",
   "metadata": {},
   "outputs": [
    {
     "data": {
      "text/plain": [
       "320"
      ]
     },
     "execution_count": 57,
     "metadata": {},
     "output_type": "execute_result"
    }
   ],
   "source": [
    "# extra memory that we'll ignore\n",
    "import sys\n",
    "sys.getsizeof(A)\n",
    "# actually total memory\n",
    "sys.getsizeof(A) + A.nelement()*A.element_size()"
   ]
  },
  {
   "cell_type": "markdown",
   "id": "9f89f643-266b-4c12-b73a-4efe70d4a335",
   "metadata": {},
   "source": [
    "# Calculations"
   ]
  },
  {
   "cell_type": "code",
   "execution_count": 59,
   "id": "7af14be4-2c52-4331-accd-8980889171cb",
   "metadata": {},
   "outputs": [
    {
     "data": {
      "text/plain": [
       "tensor([[0.5678, 0.4897, 0.3131],\n",
       "        [0.8285, 0.1607, 0.7355],\n",
       "        [0.2376, 0.7282, 0.3496],\n",
       "        [0.3460, 0.2158, 0.4502],\n",
       "        [0.8328, 0.6779, 0.9792]])"
      ]
     },
     "execution_count": 59,
     "metadata": {},
     "output_type": "execute_result"
    }
   ],
   "source": [
    "X = torch.rand(5,3)\n",
    "X"
   ]
  },
  {
   "cell_type": "code",
   "execution_count": 60,
   "id": "05fa50eb-49b5-41ee-b661-4fc1b4e1509b",
   "metadata": {},
   "outputs": [
    {
     "data": {
      "text/plain": [
       "tensor([[100.5678, 100.4897, 100.3131],\n",
       "        [100.8285, 100.1607, 100.7355],\n",
       "        [100.2376, 100.7282, 100.3496],\n",
       "        [100.3460, 100.2158, 100.4502],\n",
       "        [100.8328, 100.6779, 100.9792]])"
      ]
     },
     "execution_count": 60,
     "metadata": {},
     "output_type": "execute_result"
    }
   ],
   "source": [
    "X + 100"
   ]
  },
  {
   "cell_type": "code",
   "execution_count": 65,
   "id": "5490bcfb-2b07-4e8f-a41a-4563208dfa88",
   "metadata": {},
   "outputs": [
    {
     "data": {
      "text/plain": [
       "tensor(0.5000)"
      ]
     },
     "execution_count": 65,
     "metadata": {},
     "output_type": "execute_result"
    }
   ],
   "source": [
    "torch.sigmoid(torch.tensor(0))"
   ]
  },
  {
   "cell_type": "code",
   "execution_count": 66,
   "id": "2ea61a89-9edf-4682-9c70-515ebe4bc714",
   "metadata": {},
   "outputs": [
    {
     "data": {
      "text/plain": [
       "tensor([-5, -4, -3, -2, -1,  0,  1,  2,  3,  4,  5])"
      ]
     },
     "execution_count": 66,
     "metadata": {},
     "output_type": "execute_result"
    }
   ],
   "source": [
    "torch.arange(-5,6,1)"
   ]
  },
  {
   "cell_type": "code",
   "execution_count": 67,
   "id": "25513471-b112-4483-a190-682eb5187a61",
   "metadata": {},
   "outputs": [
    {
     "data": {
      "text/plain": [
       "tensor([0.0067, 0.0180, 0.0474, 0.1192, 0.2689, 0.5000, 0.7311, 0.8808, 0.9526,\n",
       "        0.9820, 0.9933])"
      ]
     },
     "execution_count": 67,
     "metadata": {},
     "output_type": "execute_result"
    }
   ],
   "source": [
    "torch.sigmoid(torch.arange(-5,6,1))"
   ]
  },
  {
   "cell_type": "code",
   "execution_count": 68,
   "id": "f3cc2ffb-7faa-4097-9ee2-3a2378b07607",
   "metadata": {},
   "outputs": [
    {
     "data": {
      "text/plain": [
       "tensor([[1.7950],\n",
       "        [2.7175],\n",
       "        [3.3303],\n",
       "        [1.3302],\n",
       "        [1.1815]])"
      ]
     },
     "execution_count": 68,
     "metadata": {},
     "output_type": "execute_result"
    }
   ],
   "source": [
    "x = torch.rand(5,3)\n",
    "y = torch.rand(3,7)\n",
    "z = torch.rand(7,1)\n",
    "\n",
    "# matrix multiply\n",
    "x @ y @ z"
   ]
  },
  {
   "cell_type": "markdown",
   "id": "f52b0004-ac21-4f7b-b0ea-ec36785c2ea3",
   "metadata": {},
   "source": [
    "# Optimization\n",
    "\n",
    "```\n",
    "a = torch.tensor(3.0)\n",
    "b = torch.tensor(4.0)\n",
    "c = torch.tensor(5.0)\n",
    "```\n",
    "\n",
    "```\n",
    "z = 2 * (a-b) + c\n",
    "```\n",
    "\n",
    "we want to maximize z, and b is a variable here\n",
    "\n",
    "So, we are going calculate the gradient of b (slope) dz/db"
   ]
  },
  {
   "cell_type": "code",
   "execution_count": 102,
   "id": "ac4c2b51-f510-49d5-9fb9-fc35b00d2d5d",
   "metadata": {},
   "outputs": [],
   "source": [
    "import torch\n",
    "\n",
    "a = torch.tensor(3.0)\n",
    "b = torch.tensor(4.0, requires_grad=True)\n",
    "c = torch.tensor(5.0)\n",
    "\n",
    "z = 2 * (a-b) + c\n",
    "\n",
    "optimizer = torch.optim.SGD([b], maximize=True, lr=0.1)"
   ]
  },
  {
   "cell_type": "code",
   "execution_count": 103,
   "id": "aaba4db1-aa13-4cee-b7a4-a34b1917e72c",
   "metadata": {},
   "outputs": [
    {
     "data": {
      "text/plain": [
       "(tensor(-2.), tensor(4., requires_grad=True))"
      ]
     },
     "execution_count": 103,
     "metadata": {},
     "output_type": "execute_result"
    }
   ],
   "source": [
    "z = 2 * (a-b) + c\n",
    "z.backward()\n",
    "b.grad, b"
   ]
  },
  {
   "cell_type": "code",
   "execution_count": 108,
   "id": "7ee6c195-3a7d-4f47-bf69-e166427e061e",
   "metadata": {},
   "outputs": [
    {
     "data": {
      "text/plain": [
       "(None, tensor(3.2000, requires_grad=True))"
      ]
     },
     "execution_count": 108,
     "metadata": {},
     "output_type": "execute_result"
    }
   ],
   "source": [
    "optimizer.step()    # will make b a little bigger or smaller,\n",
    "                    # depending on gradient and whether we are\n",
    "                    # maximizing or minimizing\n",
    "optimizer.zero_grad() # resets the grad of b\n",
    "b.grad, b"
   ]
  },
  {
   "cell_type": "code",
   "execution_count": 109,
   "id": "0fc269ee-cdca-4c5e-a585-768e2d34b464",
   "metadata": {},
   "outputs": [
    {
     "data": {
      "text/plain": [
       "(tensor(-2.), tensor(3.2000, requires_grad=True))"
      ]
     },
     "execution_count": 109,
     "metadata": {},
     "output_type": "execute_result"
    }
   ],
   "source": [
    "z = 2 * (a-b) + c\n",
    "z.backward() # calculates the gradients\n",
    "b.grad, b"
   ]
  },
  {
   "cell_type": "code",
   "execution_count": 110,
   "id": "209bdafe-a0c2-4164-9199-ac6c39128b6b",
   "metadata": {},
   "outputs": [],
   "source": [
    "optimizer.step()"
   ]
  },
  {
   "cell_type": "code",
   "execution_count": 111,
   "id": "3becf2d1-0ccd-4af3-8b73-05640d2d0051",
   "metadata": {},
   "outputs": [
    {
     "data": {
      "text/plain": [
       "(tensor(-4.), tensor(3.0000, requires_grad=True))"
      ]
     },
     "execution_count": 111,
     "metadata": {},
     "output_type": "execute_result"
    }
   ],
   "source": [
    "z = 2 * (a-b) + c\n",
    "z.backward()\n",
    "b.grad, b"
   ]
  },
  {
   "cell_type": "code",
   "execution_count": 120,
   "id": "fcc59820-6b22-48eb-80ca-26fa0fc41bfb",
   "metadata": {},
   "outputs": [
    {
     "name": "stdout",
     "output_type": "stream",
     "text": [
      "3.0 4.0 tensor(-2.)\n",
      "3.4000000953674316 3.799999952316284 tensor(-2.)\n",
      "3.8000001907348633 3.5999999046325684 tensor(-2.)\n",
      "4.200000286102295 3.3999998569488525 tensor(-2.)\n",
      "4.600000381469727 3.1999998092651367 tensor(-2.)\n",
      "5.000000476837158 2.999999761581421 tensor(-2.)\n",
      "5.40000057220459 2.799999713897705 tensor(-2.)\n",
      "5.8000006675720215 2.5999996662139893 tensor(-2.)\n",
      "6.200000762939453 2.3999996185302734 tensor(-2.)\n",
      "6.600000858306885 2.1999995708465576 tensor(-2.)\n",
      "Result: 7.000000953674316 1.9999995231628418\n"
     ]
    }
   ],
   "source": [
    "# Final version\n",
    "\n",
    "import torch\n",
    "\n",
    "a = torch.tensor(3.0)\n",
    "b = torch.tensor(4.0, requires_grad=True)\n",
    "c = torch.tensor(5.0)\n",
    "\n",
    "optimizer = torch.optim.SGD([b], maximize=True, lr=0.1)\n",
    "# z = 2 * (a-b) + c\n",
    "\n",
    "for epoch in range(10):\n",
    "    z = 2 * (a-b) + c\n",
    "    z.backward() \n",
    "\n",
    "    print(z.item(), b.item(), b.grad)\n",
    "\n",
    "    optimizer.step()\n",
    "    optimizer.zero_grad()\n",
    "\n",
    "z = 2 * (a-b) + c\n",
    "print(\"Result:\", z.item(), b.item())"
   ]
  },
  {
   "cell_type": "markdown",
   "id": "84ce3179-c781-4ca0-bb9f-1042b46d0f4b",
   "metadata": {},
   "source": [
    "## Class demo"
   ]
  },
  {
   "cell_type": "code",
   "execution_count": 121,
   "id": "d7660cb4-1002-4d76-b9d7-bc6674cd1cef",
   "metadata": {},
   "outputs": [],
   "source": [
    "import matplotlib.pyplot as plt"
   ]
  },
  {
   "cell_type": "code",
   "execution_count": 129,
   "id": "f8aecd9f-223b-44fb-a721-289b0abeacef",
   "metadata": {},
   "outputs": [
    {
     "name": "stdout",
     "output_type": "stream",
     "text": [
      "tensor(0., requires_grad=True) tensor(36., grad_fn=<MulBackward0>)\n",
      "tensor(-24.)\n",
      "tensor(2.4000, requires_grad=True)\n"
     ]
    },
    {
     "data": {
      "image/png": "[encoded data removed]",
      "text/plain": [
       "<Figure size 640x480 with 1 Axes>"
      ]
     },
     "metadata": {},
     "output_type": "display_data"
    }
   ],
   "source": [
    "def f(x):\n",
    "    return (x-1) * (x+2) * (x-3) * (x+6)\n",
    "\n",
    "x = torch.arange(-8, 5, 0.1)\n",
    "y = f(x)\n",
    "plt.plot(x,y)\n",
    "\n",
    "# find the minimum\n",
    "\n",
    "x = torch.tensor(0.0, requires_grad=True)\n",
    "optimizer = torch.optim.SGD([x], lr=0.1)\n",
    "\n",
    "y = f(x)\n",
    "print(x, y)\n",
    "plt.plot(x.detach(), y.detach(), \"ro\", markersize=5)\n",
    "\n",
    "y.backward()\n",
    "print(x.grad)\n",
    "optimizer.step()\n",
    "print(x)"
   ]
  },
  {
   "cell_type": "code",
   "execution_count": 141,
   "id": "f38492d1-29c1-4bb2-a8c1-1c93197ee78d",
   "metadata": {},
   "outputs": [
    {
     "data": {
      "image/png": "[encoded data removed]",
      "text/plain": [
       "<Figure size 640x480 with 1 Axes>"
      ]
     },
     "metadata": {},
     "output_type": "display_data"
    }
   ],
   "source": [
    "# Final version\n",
    "\n",
    "def f(x):\n",
    "    return (x-1) * (x+2) * (x-3) * (x+6)\n",
    "\n",
    "# plot f(x)\n",
    "x = torch.arange(-8, 5, 0.1)\n",
    "y = f(x)\n",
    "plt.plot(x,y)\n",
    "\n",
    "\n",
    "# find the minimum\n",
    "\n",
    "x = torch.tensor(0.0, requires_grad=True)\n",
    "optimizer = torch.optim.SGD([x], lr=0.01) # lr=0.1\n",
    "\n",
    "for epoch in range(10):\n",
    "    y = f(x)\n",
    "    y.backward()\n",
    "    plt.plot(x.detach(), y.detach(), \"ro\", markersize=3+epoch)\n",
    "\n",
    "    optimizer.step()\n",
    "    optimizer.zero_grad()"
   ]
  },
  {
   "cell_type": "markdown",
   "id": "68f7a123-7797-419e-ae63-b193a13f42ba",
   "metadata": {},
   "source": [
    "# Train a model"
   ]
  },
  {
   "cell_type": "code",
   "execution_count": 142,
   "id": "67f4ac4c-ff29-483a-b5a5-4dd52cf1661a",
   "metadata": {},
   "outputs": [
    {
     "data": {
      "text/plain": [
       "<Axes: xlabel='petlen', ylabel='petwid'>"
      ]
     },
     "execution_count": 142,
     "metadata": {},
     "output_type": "execute_result"
    },
    {
     "data": {
      "image/png": "[encoded data removed]",
      "text/plain": [
       "<Figure size 640x480 with 1 Axes>"
      ]
     },
     "metadata": {},
     "output_type": "display_data"
    }
   ],
   "source": [
    "import pandas as pd\n",
    "df = pd.read_csv(\"https://archive.ics.uci.edu/ml/machine-learning-databases/iris/iris.data\",\n",
    "                 names=[\"seplen\", \"sepwid\", \"petlen\", \"petwid\", \"variety\"])\n",
    "df.plot.scatter(x=\"petlen\", y=\"petwid\")\n"
   ]
  },
  {
   "cell_type": "code",
   "execution_count": 143,
   "id": "0426defc-f1a6-431d-8aa7-e4854c761864",
   "metadata": {},
   "outputs": [
    {
     "data": {
      "text/html": [
       "<div>\n",
       "<style scoped>\n",
       "    .dataframe tbody tr th:only-of-type {\n",
       "        vertical-align: middle;\n",
       "    }\n",
       "\n",
       "    .dataframe tbody tr th {\n",
       "        vertical-align: top;\n",
       "    }\n",
       "\n",
       "    .dataframe thead th {\n",
       "        text-align: right;\n",
       "    }\n",
       "</style>\n",
       "<table border=\"1\" class=\"dataframe\">\n",
       "  <thead>\n",
       "    <tr style=\"text-align: right;\">\n",
       "      <th></th>\n",
       "      <th>seplen</th>\n",
       "      <th>sepwid</th>\n",
       "      <th>petlen</th>\n",
       "      <th>petwid</th>\n",
       "      <th>variety</th>\n",
       "    </tr>\n",
       "  </thead>\n",
       "  <tbody>\n",
       "    <tr>\n",
       "      <th>0</th>\n",
       "      <td>5.1</td>\n",
       "      <td>3.5</td>\n",
       "      <td>1.4</td>\n",
       "      <td>0.2</td>\n",
       "      <td>Iris-setosa</td>\n",
       "    </tr>\n",
       "    <tr>\n",
       "      <th>1</th>\n",
       "      <td>4.9</td>\n",
       "      <td>3.0</td>\n",
       "      <td>1.4</td>\n",
       "      <td>0.2</td>\n",
       "      <td>Iris-setosa</td>\n",
       "    </tr>\n",
       "    <tr>\n",
       "      <th>2</th>\n",
       "      <td>4.7</td>\n",
       "      <td>3.2</td>\n",
       "      <td>1.3</td>\n",
       "      <td>0.2</td>\n",
       "      <td>Iris-setosa</td>\n",
       "    </tr>\n",
       "    <tr>\n",
       "      <th>3</th>\n",
       "      <td>4.6</td>\n",
       "      <td>3.1</td>\n",
       "      <td>1.5</td>\n",
       "      <td>0.2</td>\n",
       "      <td>Iris-setosa</td>\n",
       "    </tr>\n",
       "    <tr>\n",
       "      <th>4</th>\n",
       "      <td>5.0</td>\n",
       "      <td>3.6</td>\n",
       "      <td>1.4</td>\n",
       "      <td>0.2</td>\n",
       "      <td>Iris-setosa</td>\n",
       "    </tr>\n",
       "    <tr>\n",
       "      <th>...</th>\n",
       "      <td>...</td>\n",
       "      <td>...</td>\n",
       "      <td>...</td>\n",
       "      <td>...</td>\n",
       "      <td>...</td>\n",
       "    </tr>\n",
       "    <tr>\n",
       "      <th>145</th>\n",
       "      <td>6.7</td>\n",
       "      <td>3.0</td>\n",
       "      <td>5.2</td>\n",
       "      <td>2.3</td>\n",
       "      <td>Iris-virginica</td>\n",
       "    </tr>\n",
       "    <tr>\n",
       "      <th>146</th>\n",
       "      <td>6.3</td>\n",
       "      <td>2.5</td>\n",
       "      <td>5.0</td>\n",
       "      <td>1.9</td>\n",
       "      <td>Iris-virginica</td>\n",
       "    </tr>\n",
       "    <tr>\n",
       "      <th>147</th>\n",
       "      <td>6.5</td>\n",
       "      <td>3.0</td>\n",
       "      <td>5.2</td>\n",
       "      <td>2.0</td>\n",
       "      <td>Iris-virginica</td>\n",
       "    </tr>\n",
       "    <tr>\n",
       "      <th>148</th>\n",
       "      <td>6.2</td>\n",
       "      <td>3.4</td>\n",
       "      <td>5.4</td>\n",
       "      <td>2.3</td>\n",
       "      <td>Iris-virginica</td>\n",
       "    </tr>\n",
       "    <tr>\n",
       "      <th>149</th>\n",
       "      <td>5.9</td>\n",
       "      <td>3.0</td>\n",
       "      <td>5.1</td>\n",
       "      <td>1.8</td>\n",
       "      <td>Iris-virginica</td>\n",
       "    </tr>\n",
       "  </tbody>\n",
       "</table>\n",
       "<p>150 rows × 5 columns</p>\n",
       "</div>"
      ],
      "text/plain": [
       "     seplen  sepwid  petlen  petwid         variety\n",
       "0       5.1     3.5     1.4     0.2     Iris-setosa\n",
       "1       4.9     3.0     1.4     0.2     Iris-setosa\n",
       "2       4.7     3.2     1.3     0.2     Iris-setosa\n",
       "3       4.6     3.1     1.5     0.2     Iris-setosa\n",
       "4       5.0     3.6     1.4     0.2     Iris-setosa\n",
       "..      ...     ...     ...     ...             ...\n",
       "145     6.7     3.0     5.2     2.3  Iris-virginica\n",
       "146     6.3     2.5     5.0     1.9  Iris-virginica\n",
       "147     6.5     3.0     5.2     2.0  Iris-virginica\n",
       "148     6.2     3.4     5.4     2.3  Iris-virginica\n",
       "149     5.9     3.0     5.1     1.8  Iris-virginica\n",
       "\n",
       "[150 rows x 5 columns]"
      ]
     },
     "execution_count": 143,
     "metadata": {},
     "output_type": "execute_result"
    }
   ],
   "source": [
    "df"
   ]
  },
  {
   "cell_type": "code",
   "execution_count": 146,
   "id": "7c96c9fa-a038-46d9-ad60-19f61fc4fc8d",
   "metadata": {},
   "outputs": [],
   "source": [
    "torch.tensor(df.loc[:, \"seplen\":\"petwid\"].values);"
   ]
  },
  {
   "cell_type": "code",
   "execution_count": 149,
   "id": "8f651aa9-c2fc-4090-862e-930a2a793f3e",
   "metadata": {},
   "outputs": [],
   "source": [
    "df.loc[:, [\"petwid\"]].values;"
   ]
  },
  {
   "cell_type": "code",
   "execution_count": 151,
   "id": "37a2438c-c2fa-46c6-9e2c-55b7824c9887",
   "metadata": {},
   "outputs": [],
   "source": [
    "ds = torch.utils.data.TensorDataset(\n",
    "    torch.tensor(df.loc[:, \"seplen\":\"petlen\"].values),\n",
    "    torch.tensor(df.loc[:, [\"petwid\"]].values)\n",
    ")"
   ]
  },
  {
   "cell_type": "code",
   "execution_count": 152,
   "id": "23c89219-6b39-4f36-bf2e-dd2f53781abd",
   "metadata": {},
   "outputs": [],
   "source": [
    "X, Y = ds[:5]"
   ]
  },
  {
   "cell_type": "code",
   "execution_count": 153,
   "id": "39d08a7d-c754-46e7-9353-993117ccb966",
   "metadata": {},
   "outputs": [
    {
     "data": {
      "text/plain": [
       "(tensor([[5.1000, 3.5000, 1.4000],\n",
       "         [4.9000, 3.0000, 1.4000],\n",
       "         [4.7000, 3.2000, 1.3000],\n",
       "         [4.6000, 3.1000, 1.5000],\n",
       "         [5.0000, 3.6000, 1.4000]], dtype=torch.float64),\n",
       " tensor([[0.2000],\n",
       "         [0.2000],\n",
       "         [0.2000],\n",
       "         [0.2000],\n",
       "         [0.2000]], dtype=torch.float64))"
      ]
     },
     "execution_count": 153,
     "metadata": {},
     "output_type": "execute_result"
    }
   ],
   "source": [
    "X, Y"
   ]
  },
  {
   "cell_type": "code",
   "execution_count": 155,
   "id": "23e1b997-9586-4e00-b743-8759bbdbcc84",
   "metadata": {},
   "outputs": [],
   "source": [
    "train, test = torch.utils.data.random_split(ds, [0.75, 0.25])"
   ]
  },
  {
   "cell_type": "code",
   "execution_count": 156,
   "id": "a8718086-bcb7-4d7a-bf03-4d5024915e17",
   "metadata": {},
   "outputs": [],
   "source": [
    "dl = torch.utils.data.DataLoader(train, batch_size=5, shuffle=True)"
   ]
  },
  {
   "cell_type": "code",
   "execution_count": 159,
   "id": "93492c57-2bef-4a6f-8496-c994476a1c8f",
   "metadata": {},
   "outputs": [
    {
     "name": "stdout",
     "output_type": "stream",
     "text": [
      "tensor([[5.8000, 4.0000, 1.2000],\n",
      "        [5.2000, 3.4000, 1.4000],\n",
      "        [6.9000, 3.1000, 5.4000],\n",
      "        [5.5000, 2.3000, 4.0000],\n",
      "        [6.4000, 2.7000, 5.3000]], dtype=torch.float64) tensor([[0.2000],\n",
      "        [0.2000],\n",
      "        [2.1000],\n",
      "        [1.3000],\n",
      "        [1.9000]], dtype=torch.float64)\n"
     ]
    }
   ],
   "source": [
    "for batchX, batchY in dl:\n",
    "    print(batchX, batchY)\n",
    "    break"
   ]
  },
  {
   "cell_type": "code",
   "execution_count": 160,
   "id": "7bf77b04-9102-422c-bea6-4d06e41c7817",
   "metadata": {},
   "outputs": [
    {
     "data": {
      "text/plain": [
       "torch.Size([5, 3])"
      ]
     },
     "execution_count": 160,
     "metadata": {},
     "output_type": "execute_result"
    }
   ],
   "source": [
    "batchX.shape"
   ]
  },
  {
   "cell_type": "code",
   "execution_count": 162,
   "id": "6cce8918-fe6e-44af-99da-515ba68ea045",
   "metadata": {},
   "outputs": [],
   "source": [
    "# batchX @ coef + bias "
   ]
  },
  {
   "cell_type": "code",
   "execution_count": 163,
   "id": "7213615b-a95c-4b4b-997f-4bb31283d8ae",
   "metadata": {},
   "outputs": [
    {
     "data": {
      "text/plain": [
       "torch.Size([5, 1])"
      ]
     },
     "execution_count": 163,
     "metadata": {},
     "output_type": "execute_result"
    }
   ],
   "source": [
    "batchY.shape"
   ]
  },
  {
   "cell_type": "code",
   "execution_count": 167,
   "id": "bb1dc727-4307-4928-9278-759213423e24",
   "metadata": {},
   "outputs": [
    {
     "data": {
      "text/plain": [
       "tensor([[0.],\n",
       "        [0.],\n",
       "        [0.],\n",
       "        [0.],\n",
       "        [0.]], dtype=torch.float64)"
      ]
     },
     "execution_count": 167,
     "metadata": {},
     "output_type": "execute_result"
    }
   ],
   "source": [
    "coef = torch.zeros((3,1), dtype=torch.float64)\n",
    "batchX @ coef"
   ]
  },
  {
   "cell_type": "code",
   "execution_count": 168,
   "id": "b3e291b9-47f3-4acb-aa4b-331f5e1cac31",
   "metadata": {},
   "outputs": [
    {
     "data": {
      "text/plain": [
       "tensor([[0.2000],\n",
       "        [0.2000],\n",
       "        [2.1000],\n",
       "        [1.3000],\n",
       "        [1.9000]], dtype=torch.float64)"
      ]
     },
     "execution_count": 168,
     "metadata": {},
     "output_type": "execute_result"
    }
   ],
   "source": [
    "batchY "
   ]
  },
  {
   "cell_type": "code",
   "execution_count": 174,
   "id": "109b75b1-d2c2-452f-939a-29286341214d",
   "metadata": {},
   "outputs": [
    {
     "name": "stdout",
     "output_type": "stream",
     "text": [
      "tensor(1.9580, dtype=torch.float64, grad_fn=<MseLossBackward0>)\n",
      "tensor([[-14.4000],\n",
      "        [ -6.4440],\n",
      "        [-10.8520]], dtype=torch.float64)\n",
      "tensor([[0.],\n",
      "        [0.],\n",
      "        [0.]], dtype=torch.float64, requires_grad=True)\n"
     ]
    }
   ],
   "source": [
    "loss_fn = torch.nn.MSELoss()\n",
    "optimizer = torch.optim.SGD([coef], lr=0.1)\n",
    "coef = torch.zeros((3,1), dtype=torch.float64, requires_grad=True)\n",
    "\n",
    "\n",
    "predictions = batchX @ coef\n",
    "loss = loss_fn(predictions, batchY)\n",
    "print(loss)\n",
    "\n",
    "loss.backward()\n",
    "print(coef.grad)\n",
    "optimizer.step()\n",
    "print(coef)"
   ]
  },
  {
   "cell_type": "code",
   "execution_count": 186,
   "id": "f0a22b8a-19ae-4348-8ae6-90c021aac730",
   "metadata": {},
   "outputs": [
    {
     "data": {
      "text/plain": [
       "tensor(1.9151, dtype=torch.float64)"
      ]
     },
     "execution_count": 186,
     "metadata": {},
     "output_type": "execute_result"
    }
   ],
   "source": [
    "coef = torch.zeros((3,1), dtype=torch.float64)\n",
    "X, Y = train[:]\n",
    "loss_fn(X @ coef, Y)"
   ]
  },
  {
   "cell_type": "code",
   "execution_count": 190,
   "id": "c277e0d8-1df5-4688-98f7-8e0ac1be93b4",
   "metadata": {},
   "outputs": [
    {
     "name": "stdout",
     "output_type": "stream",
     "text": [
      "tensor(0.2823, dtype=torch.float64, grad_fn=<MseLossBackward0>)\n",
      "tensor(0.2422, dtype=torch.float64, grad_fn=<MseLossBackward0>)\n",
      "tensor(0.2106, dtype=torch.float64, grad_fn=<MseLossBackward0>)\n",
      "tensor(0.1816, dtype=torch.float64, grad_fn=<MseLossBackward0>)\n",
      "tensor(0.1599, dtype=torch.float64, grad_fn=<MseLossBackward0>)\n",
      "tensor(0.1409, dtype=torch.float64, grad_fn=<MseLossBackward0>)\n",
      "tensor(0.1255, dtype=torch.float64, grad_fn=<MseLossBackward0>)\n",
      "tensor(0.1121, dtype=torch.float64, grad_fn=<MseLossBackward0>)\n",
      "tensor(0.1002, dtype=torch.float64, grad_fn=<MseLossBackward0>)\n",
      "tensor(0.0920, dtype=torch.float64, grad_fn=<MseLossBackward0>)\n",
      "tensor(0.0843, dtype=torch.float64, grad_fn=<MseLossBackward0>)\n",
      "tensor(0.0780, dtype=torch.float64, grad_fn=<MseLossBackward0>)\n",
      "tensor(0.0736, dtype=torch.float64, grad_fn=<MseLossBackward0>)\n",
      "tensor(0.0686, dtype=torch.float64, grad_fn=<MseLossBackward0>)\n",
      "tensor(0.0649, dtype=torch.float64, grad_fn=<MseLossBackward0>)\n",
      "tensor(0.0621, dtype=torch.float64, grad_fn=<MseLossBackward0>)\n",
      "tensor(0.0597, dtype=torch.float64, grad_fn=<MseLossBackward0>)\n",
      "tensor(0.0578, dtype=torch.float64, grad_fn=<MseLossBackward0>)\n",
      "tensor(0.0567, dtype=torch.float64, grad_fn=<MseLossBackward0>)\n",
      "tensor(0.0546, dtype=torch.float64, grad_fn=<MseLossBackward0>)\n",
      "tensor(0.0537, dtype=torch.float64, grad_fn=<MseLossBackward0>)\n",
      "tensor(0.0528, dtype=torch.float64, grad_fn=<MseLossBackward0>)\n",
      "tensor(0.0515, dtype=torch.float64, grad_fn=<MseLossBackward0>)\n",
      "tensor(0.0506, dtype=torch.float64, grad_fn=<MseLossBackward0>)\n",
      "tensor(0.0509, dtype=torch.float64, grad_fn=<MseLossBackward0>)\n",
      "tensor(0.0496, dtype=torch.float64, grad_fn=<MseLossBackward0>)\n",
      "tensor(0.0492, dtype=torch.float64, grad_fn=<MseLossBackward0>)\n",
      "tensor(0.0508, dtype=torch.float64, grad_fn=<MseLossBackward0>)\n",
      "tensor(0.0486, dtype=torch.float64, grad_fn=<MseLossBackward0>)\n",
      "tensor(0.0482, dtype=torch.float64, grad_fn=<MseLossBackward0>)\n",
      "tensor(0.0480, dtype=torch.float64, grad_fn=<MseLossBackward0>)\n",
      "tensor(0.0481, dtype=torch.float64, grad_fn=<MseLossBackward0>)\n",
      "tensor(0.0479, dtype=torch.float64, grad_fn=<MseLossBackward0>)\n",
      "tensor(0.0474, dtype=torch.float64, grad_fn=<MseLossBackward0>)\n",
      "tensor(0.0473, dtype=torch.float64, grad_fn=<MseLossBackward0>)\n",
      "tensor(0.0473, dtype=torch.float64, grad_fn=<MseLossBackward0>)\n",
      "tensor(0.0470, dtype=torch.float64, grad_fn=<MseLossBackward0>)\n",
      "tensor(0.0475, dtype=torch.float64, grad_fn=<MseLossBackward0>)\n",
      "tensor(0.0470, dtype=torch.float64, grad_fn=<MseLossBackward0>)\n",
      "tensor(0.0475, dtype=torch.float64, grad_fn=<MseLossBackward0>)\n",
      "tensor(0.0466, dtype=torch.float64, grad_fn=<MseLossBackward0>)\n",
      "tensor(0.0466, dtype=torch.float64, grad_fn=<MseLossBackward0>)\n",
      "tensor(0.0466, dtype=torch.float64, grad_fn=<MseLossBackward0>)\n",
      "tensor(0.0464, dtype=torch.float64, grad_fn=<MseLossBackward0>)\n",
      "tensor(0.0475, dtype=torch.float64, grad_fn=<MseLossBackward0>)\n",
      "tensor(0.0463, dtype=torch.float64, grad_fn=<MseLossBackward0>)\n",
      "tensor(0.0462, dtype=torch.float64, grad_fn=<MseLossBackward0>)\n",
      "tensor(0.0465, dtype=torch.float64, grad_fn=<MseLossBackward0>)\n",
      "tensor(0.0467, dtype=torch.float64, grad_fn=<MseLossBackward0>)\n",
      "tensor(0.0473, dtype=torch.float64, grad_fn=<MseLossBackward0>)\n",
      "tensor(0.0460, dtype=torch.float64, grad_fn=<MseLossBackward0>)\n",
      "tensor(0.0461, dtype=torch.float64, grad_fn=<MseLossBackward0>)\n",
      "tensor(0.0459, dtype=torch.float64, grad_fn=<MseLossBackward0>)\n",
      "tensor(0.0458, dtype=torch.float64, grad_fn=<MseLossBackward0>)\n",
      "tensor(0.0458, dtype=torch.float64, grad_fn=<MseLossBackward0>)\n",
      "tensor(0.0461, dtype=torch.float64, grad_fn=<MseLossBackward0>)\n",
      "tensor(0.0456, dtype=torch.float64, grad_fn=<MseLossBackward0>)\n",
      "tensor(0.0459, dtype=torch.float64, grad_fn=<MseLossBackward0>)\n",
      "tensor(0.0455, dtype=torch.float64, grad_fn=<MseLossBackward0>)\n",
      "tensor(0.0455, dtype=torch.float64, grad_fn=<MseLossBackward0>)\n",
      "tensor(0.0454, dtype=torch.float64, grad_fn=<MseLossBackward0>)\n",
      "tensor(0.0454, dtype=torch.float64, grad_fn=<MseLossBackward0>)\n",
      "tensor(0.0453, dtype=torch.float64, grad_fn=<MseLossBackward0>)\n",
      "tensor(0.0459, dtype=torch.float64, grad_fn=<MseLossBackward0>)\n",
      "tensor(0.0452, dtype=torch.float64, grad_fn=<MseLossBackward0>)\n",
      "tensor(0.0483, dtype=torch.float64, grad_fn=<MseLossBackward0>)\n",
      "tensor(0.0451, dtype=torch.float64, grad_fn=<MseLossBackward0>)\n",
      "tensor(0.0452, dtype=torch.float64, grad_fn=<MseLossBackward0>)\n",
      "tensor(0.0453, dtype=torch.float64, grad_fn=<MseLossBackward0>)\n",
      "tensor(0.0456, dtype=torch.float64, grad_fn=<MseLossBackward0>)\n",
      "tensor(0.0450, dtype=torch.float64, grad_fn=<MseLossBackward0>)\n",
      "tensor(0.0449, dtype=torch.float64, grad_fn=<MseLossBackward0>)\n",
      "tensor(0.0452, dtype=torch.float64, grad_fn=<MseLossBackward0>)\n",
      "tensor(0.0452, dtype=torch.float64, grad_fn=<MseLossBackward0>)\n",
      "tensor(0.0448, dtype=torch.float64, grad_fn=<MseLossBackward0>)\n",
      "tensor(0.0452, dtype=torch.float64, grad_fn=<MseLossBackward0>)\n",
      "tensor(0.0455, dtype=torch.float64, grad_fn=<MseLossBackward0>)\n",
      "tensor(0.0446, dtype=torch.float64, grad_fn=<MseLossBackward0>)\n",
      "tensor(0.0446, dtype=torch.float64, grad_fn=<MseLossBackward0>)\n",
      "tensor(0.0455, dtype=torch.float64, grad_fn=<MseLossBackward0>)\n",
      "tensor(0.0456, dtype=torch.float64, grad_fn=<MseLossBackward0>)\n",
      "tensor(0.0444, dtype=torch.float64, grad_fn=<MseLossBackward0>)\n",
      "tensor(0.0444, dtype=torch.float64, grad_fn=<MseLossBackward0>)\n",
      "tensor(0.0449, dtype=torch.float64, grad_fn=<MseLossBackward0>)\n",
      "tensor(0.0443, dtype=torch.float64, grad_fn=<MseLossBackward0>)\n",
      "tensor(0.0442, dtype=torch.float64, grad_fn=<MseLossBackward0>)\n",
      "tensor(0.0448, dtype=torch.float64, grad_fn=<MseLossBackward0>)\n",
      "tensor(0.0442, dtype=torch.float64, grad_fn=<MseLossBackward0>)\n",
      "tensor(0.0468, dtype=torch.float64, grad_fn=<MseLossBackward0>)\n",
      "tensor(0.0440, dtype=torch.float64, grad_fn=<MseLossBackward0>)\n",
      "tensor(0.0440, dtype=torch.float64, grad_fn=<MseLossBackward0>)\n",
      "tensor(0.0444, dtype=torch.float64, grad_fn=<MseLossBackward0>)\n",
      "tensor(0.0441, dtype=torch.float64, grad_fn=<MseLossBackward0>)\n",
      "tensor(0.0442, dtype=torch.float64, grad_fn=<MseLossBackward0>)\n",
      "tensor(0.0442, dtype=torch.float64, grad_fn=<MseLossBackward0>)\n",
      "tensor(0.0438, dtype=torch.float64, grad_fn=<MseLossBackward0>)\n",
      "tensor(0.0466, dtype=torch.float64, grad_fn=<MseLossBackward0>)\n",
      "tensor(0.0442, dtype=torch.float64, grad_fn=<MseLossBackward0>)\n",
      "tensor(0.0440, dtype=torch.float64, grad_fn=<MseLossBackward0>)\n",
      "tensor(0.0436, dtype=torch.float64, grad_fn=<MseLossBackward0>)\n"
     ]
    }
   ],
   "source": [
    "# Final version\n",
    "torch.manual_seed(544)\n",
    "\n",
    "loss_fn = torch.nn.MSELoss()\n",
    "coef = torch.zeros((3,1), dtype=torch.float64, requires_grad=True)\n",
    "optimizer = torch.optim.SGD([coef], lr=0.001)\n",
    "\n",
    "for epoch in range(100):\n",
    "    for batchX, batchY in dl:\n",
    "        predictions = batchX @ coef\n",
    "        loss = loss_fn(predictions, batchY)    \n",
    "        # print(loss)\n",
    "        loss.backward()     # computes gradient, and adds it to coef.grad\n",
    "        \n",
    "        optimizer.step()\n",
    "        optimizer.zero_grad()\n",
    "    X, Y = train[:]\n",
    "    print(loss_fn(X @ coef, Y))"
   ]
  },
  {
   "cell_type": "code",
   "execution_count": 194,
   "id": "95161549-b80e-4722-a013-8674657e8264",
   "metadata": {},
   "outputs": [
    {
     "name": "stdout",
     "output_type": "stream",
     "text": [
      "tensor(0.0479, dtype=torch.float64, grad_fn=<MseLossBackward0>)\n"
     ]
    }
   ],
   "source": [
    "# evaluate on test\n",
    "X, Y = test[:]\n",
    "predictions = X @ coef\n",
    "print(loss_fn(predictions, Y))"
   ]
  },
  {
   "cell_type": "code",
   "execution_count": null,
   "id": "35032c6c-b1d3-48cc-ab20-33ba99d4cc75",
   "metadata": {},
   "outputs": [],
   "source": []
  },
  {
   "cell_type": "code",
   "execution_count": null,
   "id": "8fe9b4e5-606b-4e54-a5e3-fd60f7005121",
   "metadata": {},
   "outputs": [],
   "source": []
  }
 ],
 "metadata": {
  "kernelspec": {
   "display_name": "Python 3 (ipykernel)",
   "language": "python",
   "name": "python3"
  }
 },
 "nbformat": 4,
 "nbformat_minor": 5
}
