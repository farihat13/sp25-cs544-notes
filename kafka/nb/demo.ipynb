{
 "cells": [
  {
   "cell_type": "code",
   "execution_count": 2,
   "id": "21af1d89-d22e-4761-9eb0-4c454263683d",
   "metadata": {},
   "outputs": [],
   "source": [
    "from kafka import KafkaAdminClient, KafkaProducer, KafkaConsumer"
   ]
  },
  {
   "cell_type": "markdown",
   "id": "94163208-79f6-4b97-a96a-a831af16770e",
   "metadata": {},
   "source": [
    "# Admin"
   ]
  },
  {
   "cell_type": "code",
   "execution_count": 3,
   "id": "34b3544c-390a-4610-86aa-3a6fa160a2b5",
   "metadata": {},
   "outputs": [
    {
     "name": "stdout",
     "output_type": "stream",
     "text": [
      "java     389 root  178u  IPv4 114241      0t0  TCP *:9092 (LISTEN)\n"
     ]
    }
   ],
   "source": [
    "!lsof -i | grep \"9092\""
   ]
  },
  {
   "cell_type": "code",
   "execution_count": 4,
   "id": "f2ee3312-46cb-4c9a-9503-ab29f1dbe8a1",
   "metadata": {},
   "outputs": [],
   "source": [
    "broker = \"localhost:9092\"\n",
    "admin = KafkaAdminClient(bootstrap_servers=[broker])"
   ]
  },
  {
   "cell_type": "code",
   "execution_count": 5,
   "id": "13f098af-bb7a-4d09-a759-94c6fc0c5b95",
   "metadata": {},
   "outputs": [
    {
     "data": {
      "text/plain": [
       "['even_nums', 'odd_nums', '__consumer_offsets']"
      ]
     },
     "execution_count": 5,
     "metadata": {},
     "output_type": "execute_result"
    }
   ],
   "source": [
    "admin.list_topics()"
   ]
  },
  {
   "cell_type": "code",
   "execution_count": 6,
   "id": "e3306df2-7228-4a1a-b0b9-43b82d32759e",
   "metadata": {},
   "outputs": [],
   "source": [
    "from kafka.admin import NewTopic\n",
    "from kafka.errors import TopicAlreadyExistsError"
   ]
  },
  {
   "cell_type": "code",
   "execution_count": 13,
   "id": "c3bc6689-f901-43df-b580-9a4136d25c8e",
   "metadata": {},
   "outputs": [
    {
     "data": {
      "text/plain": [
       "DeleteTopicsResponse_v3(throttle_time_ms=0, topic_error_codes=[(topic='odd_nums', error_code=0), (topic='even_nums', error_code=0)])"
      ]
     },
     "execution_count": 13,
     "metadata": {},
     "output_type": "execute_result"
    }
   ],
   "source": [
    "admin.delete_topics([\"even_nums\", \"odd_nums\"])"
   ]
  },
  {
   "cell_type": "code",
   "execution_count": 14,
   "id": "7f8b7697-560f-4a97-88c2-b9604bbd4b57",
   "metadata": {},
   "outputs": [
    {
     "data": {
      "text/plain": [
       "CreateTopicsResponse_v3(throttle_time_ms=0, topic_errors=[(topic='even_nums', error_code=0, error_message=None)])"
      ]
     },
     "execution_count": 14,
     "metadata": {},
     "output_type": "execute_result"
    }
   ],
   "source": [
    "admin.create_topics([\n",
    "    NewTopic(name=\"even_nums\", num_partitions=1, replication_factor=1)\n",
    "])"
   ]
  },
  {
   "cell_type": "code",
   "execution_count": 15,
   "id": "8659e90c-8762-4d40-bb4a-2fa57fec7766",
   "metadata": {},
   "outputs": [
    {
     "name": "stdout",
     "output_type": "stream",
     "text": [
      "already exists\n"
     ]
    }
   ],
   "source": [
    "try:\n",
    "    admin.create_topics([NewTopic(\"even_nums\", num_partitions=1, replication_factor=1)])\n",
    "except TopicAlreadyExistsError:\n",
    "    print(\"already exists\")"
   ]
  },
  {
   "cell_type": "code",
   "execution_count": 16,
   "id": "2dde6825-7704-44a4-857f-10d9e95c01a7",
   "metadata": {},
   "outputs": [],
   "source": [
    "try:\n",
    "    admin.create_topics([NewTopic(\"odd_nums\", num_partitions=2, replication_factor=1)])\n",
    "except TopicAlreadyExistsError:\n",
    "    print(\"already exists\")"
   ]
  },
  {
   "cell_type": "code",
   "execution_count": 17,
   "id": "0f7a35a6-1f4a-4bf4-b978-038d05cf5f56",
   "metadata": {},
   "outputs": [
    {
     "data": {
      "text/plain": [
       "['even_nums', 'odd_nums', '__consumer_offsets']"
      ]
     },
     "execution_count": 17,
     "metadata": {},
     "output_type": "execute_result"
    }
   ],
   "source": [
    "admin.list_topics()"
   ]
  },
  {
   "cell_type": "markdown",
   "id": "8f166e21-6a67-44af-817b-16c8e06853de",
   "metadata": {},
   "source": [
    "# Producer"
   ]
  },
  {
   "cell_type": "code",
   "execution_count": 18,
   "id": "9837052a-3a17-4d06-8d18-7bc96da4948b",
   "metadata": {},
   "outputs": [],
   "source": [
    "producer = KafkaProducer(bootstrap_servers=[broker])"
   ]
  },
  {
   "cell_type": "code",
   "execution_count": 19,
   "id": "8c5ef4eb-0656-42bd-b734-3b23e2899dfa",
   "metadata": {},
   "outputs": [],
   "source": [
    "result = producer.send(\"even_nums\", bytes(str(1), \"utf-8\"))"
   ]
  },
  {
   "cell_type": "code",
   "execution_count": 20,
   "id": "f6638183-8d79-4a20-9c89-bc4585c4fa69",
   "metadata": {},
   "outputs": [
    {
     "data": {
      "text/plain": [
       "RecordMetadata(topic='even_nums', partition=0, topic_partition=TopicPartition(topic='even_nums', partition=0), offset=0, timestamp=1705183689532, log_start_offset=0, checksum=None, serialized_key_size=-1, serialized_value_size=1, serialized_header_size=-1)"
      ]
     },
     "execution_count": 20,
     "metadata": {},
     "output_type": "execute_result"
    }
   ],
   "source": [
    "result.get()"
   ]
  },
  {
   "cell_type": "code",
   "execution_count": 21,
   "id": "5d7c86df-148e-44b5-bd72-2280f8837a3f",
   "metadata": {},
   "outputs": [
    {
     "name": "stdout",
     "output_type": "stream",
     "text": [
      "hi\n"
     ]
    }
   ],
   "source": [
    "from threading import Thread, Lock\n",
    "\n",
    "lock = Lock()\n",
    "def Print(*args):\n",
    "    with lock:\n",
    "        print(*args)\n",
    "\n",
    "Print(\"hi\")"
   ]
  },
  {
   "cell_type": "code",
   "execution_count": 22,
   "id": "7f516be6-bbd4-41dd-86ae-1578c0e247a9",
   "metadata": {},
   "outputs": [
    {
     "name": "stdout",
     "output_type": "stream",
     "text": [
      "send 1 to odd_nums\n",
      "send 0 to even_nums\n"
     ]
    }
   ],
   "source": [
    "import time, threading\n",
    "\n",
    "def num_producer(topic, start, step):\n",
    "    producer = KafkaProducer(bootstrap_servers=[broker])\n",
    "    num = start\n",
    "    while True:\n",
    "        if num < 10:\n",
    "            Print(\"send\", num, \"to\", topic)\n",
    "        producer.send(topic, bytes(str(num), \"utf-8\"))\n",
    "        num += step\n",
    "        time.sleep(5)\n",
    "\n",
    "threading.Thread(target=num_producer, args=(\"even_nums\", 0, 2)).start()\n",
    "threading.Thread(target=num_producer, args=(\"odd_nums\", 1, 2)).start()"
   ]
  },
  {
   "cell_type": "markdown",
   "id": "e7b04cbf-501f-4a53-b83c-2209da09bc16",
   "metadata": {},
   "source": [
    "# Consumer"
   ]
  },
  {
   "cell_type": "code",
   "execution_count": 23,
   "id": "a7019c8e-aeec-4c00-8c4d-e5b3622c7503",
   "metadata": {},
   "outputs": [],
   "source": [
    "consumer = KafkaConsumer(bootstrap_servers=[broker])"
   ]
  },
  {
   "cell_type": "code",
   "execution_count": 24,
   "id": "c77417d5-8129-42b9-b062-9854bef2bd2f",
   "metadata": {},
   "outputs": [
    {
     "data": {
      "text/plain": [
       "{}"
      ]
     },
     "execution_count": 24,
     "metadata": {},
     "output_type": "execute_result"
    }
   ],
   "source": [
    "batch = consumer.poll(1000)\n",
    "batch"
   ]
  },
  {
   "cell_type": "code",
   "execution_count": 25,
   "id": "75206205-74a5-425a-b587-ea03f2628ed7",
   "metadata": {},
   "outputs": [
    {
     "name": "stdout",
     "output_type": "stream",
     "text": [
      "send 3 to odd_nums\n",
      "send 2 to even_nums\n"
     ]
    },
    {
     "data": {
      "text/plain": [
       "set()"
      ]
     },
     "execution_count": 25,
     "metadata": {},
     "output_type": "execute_result"
    },
    {
     "name": "stdout",
     "output_type": "stream",
     "text": [
      "send 5 to odd_nums\n",
      "send 4 to even_nums\n"
     ]
    }
   ],
   "source": [
    "consumer.assignment() # no topics assigned yet, so empty"
   ]
  },
  {
   "cell_type": "markdown",
   "id": "e1a6f936-d88c-40c2-bb4b-32d65b812fad",
   "metadata": {},
   "source": [
    "## Manual Assignment"
   ]
  },
  {
   "cell_type": "code",
   "execution_count": 26,
   "id": "1576472e-1ab8-44f1-8aca-ae035e6e3e84",
   "metadata": {},
   "outputs": [],
   "source": [
    "from kafka import TopicPartition"
   ]
  },
  {
   "cell_type": "code",
   "execution_count": 27,
   "id": "5a1e5341-4675-4777-a8c0-e3760efeb327",
   "metadata": {},
   "outputs": [
    {
     "data": {
      "text/plain": [
       "{TopicPartition(topic='even_nums', partition=0)}"
      ]
     },
     "execution_count": 27,
     "metadata": {},
     "output_type": "execute_result"
    }
   ],
   "source": [
    "consumer.assign([TopicPartition(\"even_nums\", 0)])\n",
    "consumer.assignment()"
   ]
  },
  {
   "cell_type": "code",
   "execution_count": 28,
   "id": "15f5b4fc-3ab8-4e5b-8686-7e3915bc87dd",
   "metadata": {},
   "outputs": [],
   "source": [
    "# batch = consumer.poll(1000)\n",
    "# batch"
   ]
  },
  {
   "cell_type": "code",
   "execution_count": 29,
   "id": "897e7157-7146-432e-866f-6a29e80f7793",
   "metadata": {},
   "outputs": [],
   "source": [
    "consumer.seek_to_beginning()"
   ]
  },
  {
   "cell_type": "code",
   "execution_count": 30,
   "id": "b42bc2fd-71d3-40de-af50-47e2ba197fa7",
   "metadata": {},
   "outputs": [
    {
     "name": "stdout",
     "output_type": "stream",
     "text": [
      "1\n",
      "0\n",
      "2\n",
      "4\n",
      "send 7 to odd_nums\n",
      "send 6 to even_nums\n",
      "send 9 to odd_nums\n",
      "send 8 to even_nums\n"
     ]
    }
   ],
   "source": [
    "batch = consumer.poll(1000)\n",
    "for topic_partition, messages in batch.items():\n",
    "    for msg in messages:\n",
    "        print(int(str(msg.value, \"utf-8\")))"
   ]
  },
  {
   "cell_type": "markdown",
   "id": "a2d417a5-37de-4783-98de-c25be770218b",
   "metadata": {},
   "source": [
    "## Automatic Assignment"
   ]
  },
  {
   "cell_type": "code",
   "execution_count": 31,
   "id": "2ab6549f-d64d-4c23-ba2f-411841b6a4d5",
   "metadata": {},
   "outputs": [],
   "source": [
    "consumer = KafkaConsumer(bootstrap_servers=[broker])\n",
    "consumer.subscribe([\"even_nums\"])"
   ]
  },
  {
   "cell_type": "code",
   "execution_count": 32,
   "id": "3867b7f7-1f1f-485f-ae4b-df59e7f290cf",
   "metadata": {},
   "outputs": [
    {
     "name": "stdout",
     "output_type": "stream",
     "text": [
      "set()\n"
     ]
    }
   ],
   "source": [
    "print(consumer.assignment())"
   ]
  },
  {
   "cell_type": "code",
   "execution_count": 33,
   "id": "102a7367-6738-4ca4-8603-b79cfb31af3e",
   "metadata": {},
   "outputs": [
    {
     "name": "stdout",
     "output_type": "stream",
     "text": [
      "{TopicPartition(topic='even_nums', partition=0)}\n"
     ]
    }
   ],
   "source": [
    "_ = consumer.poll(1000)\n",
    "print(consumer.assignment())"
   ]
  },
  {
   "cell_type": "code",
   "execution_count": 34,
   "id": "047c5cb4-1757-4a4d-81cb-24915cc210bd",
   "metadata": {},
   "outputs": [],
   "source": [
    "consumer.seek_to_beginning()"
   ]
  },
  {
   "cell_type": "code",
   "execution_count": 35,
   "id": "e04da740-9d4e-4aa7-8631-1e420d1cd608",
   "metadata": {},
   "outputs": [
    {
     "name": "stdout",
     "output_type": "stream",
     "text": [
      "1\n",
      "0\n",
      "2\n",
      "4\n",
      "6\n",
      "8\n",
      "10\n",
      "12\n",
      "14\n",
      "16\n",
      "18\n",
      "20\n"
     ]
    }
   ],
   "source": [
    "batch = consumer.poll(1000)\n",
    "for topic_partition, messages in batch.items():\n",
    "    for msg in messages:\n",
    "        print(int(str(msg.value, \"utf-8\")))"
   ]
  },
  {
   "cell_type": "markdown",
   "id": "7e7a89c6-8e81-4604-a75b-bc331396f5a4",
   "metadata": {},
   "source": [
    "# Multiple Assignment"
   ]
  },
  {
   "cell_type": "code",
   "execution_count": 36,
   "id": "383abcbc-929d-43c5-a344-5ef6b58f4d28",
   "metadata": {},
   "outputs": [],
   "source": [
    "consumer = KafkaConsumer(bootstrap_servers=[broker])\n",
    "consumer.subscribe([\"even_nums\", \"odd_nums\"])"
   ]
  },
  {
   "cell_type": "code",
   "execution_count": 37,
   "id": "34722639-e961-4add-979f-0fee0cf96c7d",
   "metadata": {},
   "outputs": [
    {
     "name": "stdout",
     "output_type": "stream",
     "text": [
      "set()\n"
     ]
    }
   ],
   "source": [
    "print(consumer.assignment())"
   ]
  },
  {
   "cell_type": "code",
   "execution_count": 38,
   "id": "9f06494b-77bb-40d3-9759-5f8dd2227596",
   "metadata": {},
   "outputs": [
    {
     "name": "stdout",
     "output_type": "stream",
     "text": [
      "{TopicPartition(topic='even_nums', partition=0), TopicPartition(topic='odd_nums', partition=0), TopicPartition(topic='odd_nums', partition=1)}\n"
     ]
    }
   ],
   "source": [
    "_ = consumer.poll(1000)\n",
    "print(consumer.assignment())"
   ]
  },
  {
   "cell_type": "code",
   "execution_count": 39,
   "id": "7640b6ab-c015-4452-a4aa-eb61476371ff",
   "metadata": {},
   "outputs": [],
   "source": [
    "consumer.seek_to_beginning()"
   ]
  },
  {
   "cell_type": "code",
   "execution_count": 43,
   "id": "f17b99e6-ff48-43f3-a52e-38b697e906d8",
   "metadata": {},
   "outputs": [
    {
     "name": "stdout",
     "output_type": "stream",
     "text": [
      "TopicPartition(topic='even_nums', partition=0)\n",
      "56\n",
      "TopicPartition(topic='odd_nums', partition=1)\n",
      "57\n"
     ]
    }
   ],
   "source": [
    "batch = consumer.poll(1000)\n",
    "for topic_partition, messages in batch.items():\n",
    "    print(topic_partition)\n",
    "    for msg in messages:\n",
    "        print(int(str(msg.value, \"utf-8\")))"
   ]
  },
  {
   "cell_type": "code",
   "execution_count": 39,
   "id": "9b7cf3bd-a92b-43c3-b88f-e7d35f9cd14a",
   "metadata": {},
   "outputs": [
    {
     "data": {
      "text/plain": [
       "{TopicPartition(topic='even_nums', partition=0): 9,\n",
       " TopicPartition(topic='odd_nums', partition=0): 6,\n",
       " TopicPartition(topic='odd_nums', partition=1): 2}"
      ]
     },
     "execution_count": 39,
     "metadata": {},
     "output_type": "execute_result"
    }
   ],
   "source": [
    "positions = {}\n",
    "for tp in consumer.assignment():\n",
    "    pos = consumer.position(tp)\n",
    "    positions[tp] = pos\n",
    "positions"
   ]
  },
  {
   "cell_type": "code",
   "execution_count": 40,
   "id": "ea0231b1-9e8a-4bc0-bf0c-994bc391ea4c",
   "metadata": {},
   "outputs": [],
   "source": [
    "consumer2 = KafkaConsumer(bootstrap_servers=[broker])"
   ]
  },
  {
   "cell_type": "code",
   "execution_count": 41,
   "id": "357464eb-5570-48ef-b85a-2ab9aecade33",
   "metadata": {},
   "outputs": [],
   "source": [
    "consumer2.assign(positions.keys())\n",
    "for tp, position in positions.items():\n",
    "    consumer2.seek(tp, position)"
   ]
  },
  {
   "cell_type": "code",
   "execution_count": 42,
   "id": "6592d6cd-e5a3-47cc-9553-47f16801aeb0",
   "metadata": {},
   "outputs": [
    {
     "name": "stdout",
     "output_type": "stream",
     "text": [
      "TopicPartition(topic='even_nums', partition=0)\n",
      "16\n",
      "18\n",
      "20\n",
      "22\n",
      "24\n",
      "26\n",
      "28\n",
      "30\n",
      "32\n",
      "34\n",
      "TopicPartition(topic='odd_nums', partition=1)\n",
      "25\n",
      "27\n",
      "31\n",
      "35\n",
      "TopicPartition(topic='odd_nums', partition=0)\n",
      "17\n",
      "19\n",
      "21\n",
      "23\n",
      "29\n",
      "33\n"
     ]
    }
   ],
   "source": [
    "batch = consumer2.poll(1000)\n",
    "for topic_partition, messages in batch.items():\n",
    "    print(topic_partition)\n",
    "    for msg in messages:\n",
    "        print(int(str(msg.value, \"utf-8\")))"
   ]
  },
  {
   "cell_type": "markdown",
   "id": "43e02a0a-4aea-4655-8292-a3955ff53712",
   "metadata": {},
   "source": [
    "# Take over for another consumers\n",
    "What if I stop this consumer and want another consumer to pick up where the work was left off? \n",
    "moving the job to a different machine or sth like that\n",
    "\n",
    "record where this consumer is"
   ]
  },
  {
   "cell_type": "code",
   "execution_count": null,
   "id": "b2b5a00c-d7a2-493f-8b36-b0cb7dc117f1",
   "metadata": {},
   "outputs": [],
   "source": [
    "topic_partition = TopicPartition(\"even_nums\", 0)\n",
    "consumer.position(topic_partition)"
   ]
  },
  {
   "cell_type": "code",
   "execution_count": 49,
   "id": "67dcbe22-fcc0-418a-9bb9-5ac9250b35bb",
   "metadata": {},
   "outputs": [
    {
     "name": "stdout",
     "output_type": "stream",
     "text": [
      "even_nums 0 \t 30\n",
      "odd_nums 0 \t 12\n",
      "odd_nums 1 \t 17\n"
     ]
    },
    {
     "data": {
      "text/plain": [
       "{TopicPartition(topic='even_nums', partition=0): 30,\n",
       " TopicPartition(topic='odd_nums', partition=0): 12,\n",
       " TopicPartition(topic='odd_nums', partition=1): 17}"
      ]
     },
     "execution_count": 49,
     "metadata": {},
     "output_type": "execute_result"
    }
   ],
   "source": [
    "position = {}\n",
    "for tp in consumer.assignment():\n",
    "    pos = consumer.position(tp)\n",
    "    print(tp.topic, tp.partition, '\\t', pos)\n",
    "    position[tp] = pos\n",
    "position"
   ]
  },
  {
   "cell_type": "code",
   "execution_count": 53,
   "id": "399961e1-8783-482e-9838-cc8eab0c411f",
   "metadata": {},
   "outputs": [],
   "source": [
    "consumer2 = KafkaConsumer(bootstrap_servers=[broker])"
   ]
  },
  {
   "cell_type": "code",
   "execution_count": 54,
   "id": "cc24b20d-ef2d-47bc-a74b-4ce2d47026b1",
   "metadata": {},
   "outputs": [],
   "source": [
    "consumer2.assign(position.keys())"
   ]
  },
  {
   "cell_type": "code",
   "execution_count": 55,
   "id": "e2b725c0-396d-4119-900f-db92c0baae5a",
   "metadata": {},
   "outputs": [],
   "source": [
    "for tp, off in position.items():\n",
    "    consumer2.seek(tp, off)"
   ]
  },
  {
   "cell_type": "code",
   "execution_count": 60,
   "id": "b5d4d345-0f5f-4d9e-b543-89a5ed11e692",
   "metadata": {},
   "outputs": [
    {
     "name": "stdout",
     "output_type": "stream",
     "text": [
      "TopicPartition(topic='odd_nums', partition=1)\n",
      "343\n",
      "345\n",
      "347\n",
      "359\n",
      "363\n",
      "367\n",
      "371\n",
      "377\n",
      "381\n",
      "389\n",
      "TopicPartition(topic='odd_nums', partition=0)\n",
      "341\n",
      "349\n",
      "351\n",
      "353\n",
      "355\n",
      "357\n",
      "361\n",
      "365\n",
      "369\n",
      "373\n",
      "375\n",
      "379\n",
      "383\n",
      "385\n",
      "387\n",
      "TopicPartition(topic='even_nums', partition=0)\n",
      "340\n",
      "342\n",
      "344\n",
      "346\n",
      "348\n",
      "350\n",
      "352\n",
      "354\n",
      "356\n",
      "358\n",
      "360\n",
      "362\n",
      "364\n",
      "366\n",
      "368\n",
      "370\n",
      "372\n",
      "374\n",
      "376\n",
      "378\n",
      "380\n",
      "382\n",
      "384\n",
      "386\n",
      "388\n"
     ]
    }
   ],
   "source": [
    "batch = consumer2.poll(1000)\n",
    "for topic_partition, messages in batch.items():\n",
    "    print(topic_partition)\n",
    "    for msg in messages:\n",
    "        print(int(str(msg.value, \"utf-8\")))"
   ]
  },
  {
   "cell_type": "code",
   "execution_count": null,
   "id": "9ab4db1b-f181-473d-bda5-20d72f0f0ede",
   "metadata": {},
   "outputs": [],
   "source": []
  },
  {
   "cell_type": "markdown",
   "id": "ef18a872-b291-48e4-8423-76bd047bb140",
   "metadata": {},
   "source": [
    "# Consumer Groups (2 of them reading even numbers)"
   ]
  },
  {
   "cell_type": "code",
   "execution_count": 61,
   "id": "6cbbb54b-21e8-444f-9cbb-774f83b2ca9c",
   "metadata": {},
   "outputs": [
    {
     "name": "stdout",
     "output_type": "stream",
     "text": [
      "t3 \ti 0\n",
      "t2 \ti 0\n",
      "t1 \ti 0\n",
      "t2 \ti 1\n",
      "t1 \ti 1\n",
      "g1 t1 b'349'\n",
      "g1 t1 b'351'\n",
      "g1 t1 b'353'\n",
      "g1 t1 b'355'\n",
      "g1 t1 b'357'\n",
      "g1 t1 b'361'\n",
      "g1 t1 b'365'\n",
      "g1 t1 b'369'\n",
      "g1 t1 b'373'\n",
      "g1 t1 b'375'\n",
      "g1 t1 b'379'\n",
      "g1 t1 b'383'\n",
      "g1 t1 b'385'\n",
      "g1 t1 b'387'\n",
      "g1 t1 b'391'\n",
      "g1 t1 b'393'\n",
      "g1 t1 b'395'\n",
      "g1 t1 b'399'\n",
      "g1 t1 b'401'\n",
      "g1 t1 b'405'\n",
      "g1 t1 b'359'\n",
      "g1 t1 b'363'\n",
      "g1 t1 b'367'\n",
      "g1 t1 b'371'\n",
      "g1 t1 b'377'\n",
      "g1 t1 b'381'\n",
      "g1 t1 b'389'\n",
      "g1 t1 b'397'\n",
      "g1 t1 b'403'\n",
      "t1 \ti 2\n",
      "g2 t2 b'359'\n",
      "g2 t2 b'363'\n",
      "g2 t2 b'367'\n",
      "g2 t2 b'371'\n",
      "g2 t2 b'377'\n",
      "g2 t2 b'381'\n",
      "g2 t2 b'389'\n",
      "g2 t2 b'397'\n",
      "g2 t2 b'403'\n",
      "t2 \ti 2\n",
      "t3 \ti 1\n",
      "g2 t3 b'351'\n",
      "g2 t3 b'353'\n",
      "g2 t3 b'355'\n",
      "g2 t3 b'357'\n",
      "g2 t3 b'361'\n",
      "g2 t3 b'365'\n",
      "g2 t3 b'369'\n",
      "g2 t3 b'373'\n",
      "g2 t3 b'375'\n",
      "g2 t3 b'379'\n",
      "g2 t3 b'383'\n",
      "g2 t3 b'385'\n",
      "g2 t3 b'387'\n",
      "g2 t3 b'391'\n",
      "g2 t3 b'393'\n",
      "g2 t3 b'395'\n",
      "g2 t3 b'399'\n",
      "g2 t3 b'401'\n",
      "g2 t3 b'405'\n",
      "t3 \ti 2\n",
      "g2 t2 b'407'\n",
      "t2 \ti 3\n",
      "g1 t1 b'407'\n",
      "t1 \ti 3\n",
      "t3 \ti 3\n",
      "t2 \ti 4\n",
      "t1 \ti 4\n",
      "t3 \ti 4\n",
      "t2 \ti 5\n",
      "t1 \ti 5\n",
      "t3 \ti 5\n",
      "t2 \ti 6\n",
      "t1 \ti 6\n",
      "t3 \ti 6\n",
      "t2 \ti 7\n",
      "t1 \ti 7\n",
      "t3 \ti 7\n",
      "g1 t1 b'409'\n",
      "t1 \ti 8\n",
      "g2 t3 b'409'\n",
      "t3 \ti 8\n",
      "t2 \ti 8\n",
      "t1 \ti 9\n",
      "t3 \ti 9\n",
      "t2 \ti 9\n"
     ]
    }
   ],
   "source": [
    "def consume_odds(group, thread):\n",
    "    consumer = KafkaConsumer(bootstrap_servers=[broker], group_id=group)\n",
    "    consumer.subscribe([\"odd_nums\"])\n",
    "    for i in range(5):\n",
    "        Print(thread, '\\ti', i)\n",
    "        batch = consumer.poll(1000)\n",
    "        for tp, messages in batch.items():\n",
    "            for msg in messages:\n",
    "                Print('\\t', group, thread, msg.value)\n",
    "\n",
    "threading.Thread(target=consume_odds, args=(\"g1\",\"t1\")).start()\n",
    "threading.Thread(target=consume_odds, args=(\"g2\",\"t2\")).start()\n",
    "threading.Thread(target=consume_odds, args=(\"g2\",\"t3\")).start()"
   ]
  },
  {
   "cell_type": "code",
   "execution_count": null,
   "id": "94ce755f-e2f3-4bf4-85c6-06775c5aea81",
   "metadata": {},
   "outputs": [],
   "source": []
  }
 ],
 "metadata": {
  "kernelspec": {
   "display_name": "Python 3 (ipykernel)",
   "language": "python",
   "name": "python3"
  },
  "language_info": {
   "codemirror_mode": {
    "name": "ipython",
    "version": 3
   },
   "file_extension": ".py",
   "mimetype": "text/x-python",
   "name": "python",
   "nbconvert_exporter": "python",
   "pygments_lexer": "ipython3",
   "version": "3.10.12"
  }
 },
 "nbformat": 4,
 "nbformat_minor": 5
}
