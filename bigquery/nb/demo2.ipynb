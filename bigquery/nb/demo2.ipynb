{
 "cells": [
  {
   "cell_type": "code",
   "execution_count": 1,
   "id": "92d31d3b-9224-4451-9fd1-8d5698ff7152",
   "metadata": {},
   "outputs": [],
   "source": [
    "# !gcloud auth application-default login --scopes=openid,https://www.googleapis.com/auth/cloud-platform,https://www.googleapis.com/auth/drive.readonly"
   ]
  },
  {
   "cell_type": "code",
   "execution_count": 2,
   "id": "22e9df6d-42e0-4bea-a515-dc40120bcb82",
   "metadata": {},
   "outputs": [],
   "source": [
    "from google.cloud import bigquery"
   ]
  },
  {
   "cell_type": "code",
   "execution_count": 3,
   "id": "3572a886-6ec7-4489-b9c2-a08492867808",
   "metadata": {},
   "outputs": [],
   "source": [
    "%load_ext google.cloud.bigquery"
   ]
  },
  {
   "cell_type": "code",
   "execution_count": 4,
   "id": "b7281a46-461a-4e58-ad44-22c04ac98913",
   "metadata": {},
   "outputs": [],
   "source": [
    "bq = bigquery.Client()"
   ]
  },
  {
   "cell_type": "code",
   "execution_count": 5,
   "id": "776a92b4-f9ca-43f5-9cf3-ecf811810ef4",
   "metadata": {},
   "outputs": [
    {
     "data": {
      "text/plain": [
       "'calcium-aria-397903'"
      ]
     },
     "execution_count": 5,
     "metadata": {},
     "output_type": "execute_result"
    }
   ],
   "source": [
    "project_name = \"calcium-aria-397903\"\n",
    "f\"{project_name}\""
   ]
  },
  {
   "cell_type": "markdown",
   "id": "93792ffd-7caf-456a-8500-0a18c075f00d",
   "metadata": {},
   "source": [
    "# bigquery-public-data.github_repos"
   ]
  },
  {
   "cell_type": "code",
   "execution_count": 6,
   "id": "2934a584-aed1-4c77-aa88-b3145f52530c",
   "metadata": {},
   "outputs": [
    {
     "data": {
      "application/vnd.jupyter.widget-view+json": {
       "model_id": "a6366536d9914b31aeefa928c0f642fb",
       "version_major": 2,
       "version_minor": 0
      },
      "text/plain": [
       "Query is running:   0%|          |"
      ]
     },
     "metadata": {},
     "output_type": "display_data"
    },
    {
     "data": {
      "application/vnd.jupyter.widget-view+json": {
       "model_id": "e8ffcd13fa97432db52121f8e386a3aa",
       "version_major": 2,
       "version_minor": 0
      },
      "text/plain": [
       "Downloading:   0%|          |"
      ]
     },
     "metadata": {},
     "output_type": "display_data"
    },
    {
     "data": {
      "text/html": [
       "<div>\n",
       "<style scoped>\n",
       "    .dataframe tbody tr th:only-of-type {\n",
       "        vertical-align: middle;\n",
       "    }\n",
       "\n",
       "    .dataframe tbody tr th {\n",
       "        vertical-align: top;\n",
       "    }\n",
       "\n",
       "    .dataframe thead th {\n",
       "        text-align: right;\n",
       "    }\n",
       "</style>\n",
       "<table border=\"1\" class=\"dataframe\">\n",
       "  <thead>\n",
       "    <tr style=\"text-align: right;\">\n",
       "      <th></th>\n",
       "      <th>repo_name</th>\n",
       "      <th>language</th>\n",
       "    </tr>\n",
       "  </thead>\n",
       "  <tbody>\n",
       "    <tr>\n",
       "      <th>0</th>\n",
       "      <td>open-lambda/open-lambda</td>\n",
       "      <td>[{'name': 'C', 'bytes': 31159}, {'name': 'Dock...</td>\n",
       "    </tr>\n",
       "    <tr>\n",
       "      <th>1</th>\n",
       "      <td>open-lambda/load-balancer</td>\n",
       "      <td>[{'name': 'C', 'bytes': 210}, {'name': 'Go', '...</td>\n",
       "    </tr>\n",
       "  </tbody>\n",
       "</table>\n",
       "</div>"
      ],
      "text/plain": [
       "                   repo_name  \\\n",
       "0    open-lambda/open-lambda   \n",
       "1  open-lambda/load-balancer   \n",
       "\n",
       "                                            language  \n",
       "0  [{'name': 'C', 'bytes': 31159}, {'name': 'Dock...  \n",
       "1  [{'name': 'C', 'bytes': 210}, {'name': 'Go', '...  "
      ]
     },
     "execution_count": 6,
     "metadata": {},
     "output_type": "execute_result"
    }
   ],
   "source": [
    "%%bigquery\n",
    "SELECT *\n",
    "FROM bigquery-public-data.github_repos.languages\n",
    "WHERE repo_name LIKE \"open-lambda/%\""
   ]
  },
  {
   "cell_type": "code",
   "execution_count": 7,
   "id": "7434fafb-e145-4060-ab52-f5835962be6b",
   "metadata": {},
   "outputs": [
    {
     "name": "stdout",
     "output_type": "stream",
     "text": [
      "SchemaField('repo_name', 'STRING', 'NULLABLE', None, None, (), None)\n",
      "SchemaField('language', 'RECORD', 'REPEATED', None, None, (SchemaField('name', 'STRING', 'NULLABLE', None, None, (), None), SchemaField('bytes', 'INTEGER', 'NULLABLE', None, None, (), None)), None)\n"
     ]
    }
   ],
   "source": [
    "for col in bq.get_table(\"bigquery-public-data.github_repos.languages\").schema:\n",
    "    print(col)"
   ]
  },
  {
   "cell_type": "code",
   "execution_count": 8,
   "id": "21bf00aa-278d-45ad-b853-d427c3154c70",
   "metadata": {},
   "outputs": [
    {
     "data": {
      "application/vnd.jupyter.widget-view+json": {
       "model_id": "0956465fa0d947f3bf846b84c0ec47d2",
       "version_major": 2,
       "version_minor": 0
      },
      "text/plain": [
       "Query is running:   0%|          |"
      ]
     },
     "metadata": {},
     "output_type": "display_data"
    },
    {
     "data": {
      "application/vnd.jupyter.widget-view+json": {
       "model_id": "b4c687ce9c7f40a18b158c05792cea54",
       "version_major": 2,
       "version_minor": 0
      },
      "text/plain": [
       "Downloading:   0%|          |"
      ]
     },
     "metadata": {},
     "output_type": "display_data"
    },
    {
     "data": {
      "text/html": [
       "<div>\n",
       "<style scoped>\n",
       "    .dataframe tbody tr th:only-of-type {\n",
       "        vertical-align: middle;\n",
       "    }\n",
       "\n",
       "    .dataframe tbody tr th {\n",
       "        vertical-align: top;\n",
       "    }\n",
       "\n",
       "    .dataframe thead th {\n",
       "        text-align: right;\n",
       "    }\n",
       "</style>\n",
       "<table border=\"1\" class=\"dataframe\">\n",
       "  <thead>\n",
       "    <tr style=\"text-align: right;\">\n",
       "      <th></th>\n",
       "      <th>repo_name</th>\n",
       "      <th>first</th>\n",
       "      <th>last</th>\n",
       "    </tr>\n",
       "  </thead>\n",
       "  <tbody>\n",
       "    <tr>\n",
       "      <th>0</th>\n",
       "      <td>open-lambda/open-lambda</td>\n",
       "      <td>{'name': 'C', 'bytes': 31159}</td>\n",
       "      <td>{'name': 'Shell', 'bytes': 1182}</td>\n",
       "    </tr>\n",
       "    <tr>\n",
       "      <th>1</th>\n",
       "      <td>open-lambda/load-balancer</td>\n",
       "      <td>{'name': 'C', 'bytes': 210}</td>\n",
       "      <td>{'name': 'Makefile', 'bytes': 1105}</td>\n",
       "    </tr>\n",
       "  </tbody>\n",
       "</table>\n",
       "</div>"
      ],
      "text/plain": [
       "                   repo_name                          first  \\\n",
       "0    open-lambda/open-lambda  {'name': 'C', 'bytes': 31159}   \n",
       "1  open-lambda/load-balancer    {'name': 'C', 'bytes': 210}   \n",
       "\n",
       "                                  last  \n",
       "0     {'name': 'Shell', 'bytes': 1182}  \n",
       "1  {'name': 'Makefile', 'bytes': 1105}  "
      ]
     },
     "execution_count": 8,
     "metadata": {},
     "output_type": "execute_result"
    }
   ],
   "source": [
    "%%bigquery\n",
    "SELECT repo_name, language[OFFSET(0)] as first, \n",
    "        language[OFFSET(ARRAY_LENGTH(language)-1)] as last\n",
    "FROM bigquery-public-data.github_repos.languages\n",
    "WHERE repo_name LIKE \"open-lambda/%\""
   ]
  },
  {
   "cell_type": "code",
   "execution_count": 9,
   "id": "5096f795-162e-4463-8f30-f6f26682683a",
   "metadata": {},
   "outputs": [
    {
     "data": {
      "application/vnd.jupyter.widget-view+json": {
       "model_id": "014981ef286044d1b84022bdd2a9d011",
       "version_major": 2,
       "version_minor": 0
      },
      "text/plain": [
       "Query is running:   0%|          |"
      ]
     },
     "metadata": {},
     "output_type": "display_data"
    },
    {
     "data": {
      "application/vnd.jupyter.widget-view+json": {
       "model_id": "65a66d98b03446268b6134564d7015ac",
       "version_major": 2,
       "version_minor": 0
      },
      "text/plain": [
       "Downloading:   0%|          |"
      ]
     },
     "metadata": {},
     "output_type": "display_data"
    },
    {
     "data": {
      "text/html": [
       "<div>\n",
       "<style scoped>\n",
       "    .dataframe tbody tr th:only-of-type {\n",
       "        vertical-align: middle;\n",
       "    }\n",
       "\n",
       "    .dataframe tbody tr th {\n",
       "        vertical-align: top;\n",
       "    }\n",
       "\n",
       "    .dataframe thead th {\n",
       "        text-align: right;\n",
       "    }\n",
       "</style>\n",
       "<table border=\"1\" class=\"dataframe\">\n",
       "  <thead>\n",
       "    <tr style=\"text-align: right;\">\n",
       "      <th></th>\n",
       "      <th>repo_name</th>\n",
       "      <th>first</th>\n",
       "      <th>last</th>\n",
       "    </tr>\n",
       "  </thead>\n",
       "  <tbody>\n",
       "    <tr>\n",
       "      <th>0</th>\n",
       "      <td>open-lambda/open-lambda</td>\n",
       "      <td>C</td>\n",
       "      <td>Shell</td>\n",
       "    </tr>\n",
       "    <tr>\n",
       "      <th>1</th>\n",
       "      <td>open-lambda/load-balancer</td>\n",
       "      <td>C</td>\n",
       "      <td>Makefile</td>\n",
       "    </tr>\n",
       "  </tbody>\n",
       "</table>\n",
       "</div>"
      ],
      "text/plain": [
       "                   repo_name first      last\n",
       "0    open-lambda/open-lambda     C     Shell\n",
       "1  open-lambda/load-balancer     C  Makefile"
      ]
     },
     "execution_count": 9,
     "metadata": {},
     "output_type": "execute_result"
    }
   ],
   "source": [
    "%%bigquery\n",
    "SELECT repo_name, language[OFFSET(0)].name as first, \n",
    "        language[OFFSET(ARRAY_LENGTH(language)-1)].name as last\n",
    "FROM bigquery-public-data.github_repos.languages\n",
    "WHERE repo_name LIKE \"open-lambda/%\""
   ]
  },
  {
   "cell_type": "markdown",
   "id": "7209871f-761f-4c28-b73f-7c18b08a5c16",
   "metadata": {},
   "source": [
    "### how often is C used with Dockerfiles?"
   ]
  },
  {
   "cell_type": "code",
   "execution_count": 10,
   "id": "84606724-121e-43ed-8f82-2d4b165241d5",
   "metadata": {},
   "outputs": [
    {
     "data": {
      "application/vnd.jupyter.widget-view+json": {
       "model_id": "835382065c474de8ad3b078f3d78b125",
       "version_major": 2,
       "version_minor": 0
      },
      "text/plain": [
       "Query is running:   0%|          |"
      ]
     },
     "metadata": {},
     "output_type": "display_data"
    },
    {
     "data": {
      "application/vnd.jupyter.widget-view+json": {
       "model_id": "92a00cce150d42a6be1903b1d35c1bdf",
       "version_major": 2,
       "version_minor": 0
      },
      "text/plain": [
       "Downloading:   0%|          |"
      ]
     },
     "metadata": {},
     "output_type": "display_data"
    },
    {
     "data": {
      "text/html": [
       "<div>\n",
       "<style scoped>\n",
       "    .dataframe tbody tr th:only-of-type {\n",
       "        vertical-align: middle;\n",
       "    }\n",
       "\n",
       "    .dataframe tbody tr th {\n",
       "        vertical-align: top;\n",
       "    }\n",
       "\n",
       "    .dataframe thead th {\n",
       "        text-align: right;\n",
       "    }\n",
       "</style>\n",
       "<table border=\"1\" class=\"dataframe\">\n",
       "  <thead>\n",
       "    <tr style=\"text-align: right;\">\n",
       "      <th></th>\n",
       "      <th>repo_name</th>\n",
       "      <th>language</th>\n",
       "      <th>name</th>\n",
       "      <th>bytes</th>\n",
       "    </tr>\n",
       "  </thead>\n",
       "  <tbody>\n",
       "    <tr>\n",
       "      <th>0</th>\n",
       "      <td>open-lambda/open-lambda</td>\n",
       "      <td>[{'name': 'C', 'bytes': 31159}, {'name': 'Dock...</td>\n",
       "      <td>C</td>\n",
       "      <td>31159</td>\n",
       "    </tr>\n",
       "    <tr>\n",
       "      <th>1</th>\n",
       "      <td>open-lambda/open-lambda</td>\n",
       "      <td>[{'name': 'C', 'bytes': 31159}, {'name': 'Dock...</td>\n",
       "      <td>Dockerfile</td>\n",
       "      <td>1220</td>\n",
       "    </tr>\n",
       "    <tr>\n",
       "      <th>2</th>\n",
       "      <td>open-lambda/open-lambda</td>\n",
       "      <td>[{'name': 'C', 'bytes': 31159}, {'name': 'Dock...</td>\n",
       "      <td>Go</td>\n",
       "      <td>205702</td>\n",
       "    </tr>\n",
       "    <tr>\n",
       "      <th>3</th>\n",
       "      <td>open-lambda/open-lambda</td>\n",
       "      <td>[{'name': 'C', 'bytes': 31159}, {'name': 'Dock...</td>\n",
       "      <td>Makefile</td>\n",
       "      <td>3474</td>\n",
       "    </tr>\n",
       "    <tr>\n",
       "      <th>4</th>\n",
       "      <td>open-lambda/open-lambda</td>\n",
       "      <td>[{'name': 'C', 'bytes': 31159}, {'name': 'Dock...</td>\n",
       "      <td>Python</td>\n",
       "      <td>63477</td>\n",
       "    </tr>\n",
       "    <tr>\n",
       "      <th>5</th>\n",
       "      <td>open-lambda/open-lambda</td>\n",
       "      <td>[{'name': 'C', 'bytes': 31159}, {'name': 'Dock...</td>\n",
       "      <td>Rust</td>\n",
       "      <td>45352</td>\n",
       "    </tr>\n",
       "    <tr>\n",
       "      <th>6</th>\n",
       "      <td>open-lambda/open-lambda</td>\n",
       "      <td>[{'name': 'C', 'bytes': 31159}, {'name': 'Dock...</td>\n",
       "      <td>Shell</td>\n",
       "      <td>1182</td>\n",
       "    </tr>\n",
       "    <tr>\n",
       "      <th>7</th>\n",
       "      <td>open-lambda/load-balancer</td>\n",
       "      <td>[{'name': 'C', 'bytes': 210}, {'name': 'Go', '...</td>\n",
       "      <td>C</td>\n",
       "      <td>210</td>\n",
       "    </tr>\n",
       "    <tr>\n",
       "      <th>8</th>\n",
       "      <td>open-lambda/load-balancer</td>\n",
       "      <td>[{'name': 'C', 'bytes': 210}, {'name': 'Go', '...</td>\n",
       "      <td>Go</td>\n",
       "      <td>29312</td>\n",
       "    </tr>\n",
       "    <tr>\n",
       "      <th>9</th>\n",
       "      <td>open-lambda/load-balancer</td>\n",
       "      <td>[{'name': 'C', 'bytes': 210}, {'name': 'Go', '...</td>\n",
       "      <td>Makefile</td>\n",
       "      <td>1105</td>\n",
       "    </tr>\n",
       "  </tbody>\n",
       "</table>\n",
       "</div>"
      ],
      "text/plain": [
       "                   repo_name  \\\n",
       "0    open-lambda/open-lambda   \n",
       "1    open-lambda/open-lambda   \n",
       "2    open-lambda/open-lambda   \n",
       "3    open-lambda/open-lambda   \n",
       "4    open-lambda/open-lambda   \n",
       "5    open-lambda/open-lambda   \n",
       "6    open-lambda/open-lambda   \n",
       "7  open-lambda/load-balancer   \n",
       "8  open-lambda/load-balancer   \n",
       "9  open-lambda/load-balancer   \n",
       "\n",
       "                                            language        name   bytes  \n",
       "0  [{'name': 'C', 'bytes': 31159}, {'name': 'Dock...           C   31159  \n",
       "1  [{'name': 'C', 'bytes': 31159}, {'name': 'Dock...  Dockerfile    1220  \n",
       "2  [{'name': 'C', 'bytes': 31159}, {'name': 'Dock...          Go  205702  \n",
       "3  [{'name': 'C', 'bytes': 31159}, {'name': 'Dock...    Makefile    3474  \n",
       "4  [{'name': 'C', 'bytes': 31159}, {'name': 'Dock...      Python   63477  \n",
       "5  [{'name': 'C', 'bytes': 31159}, {'name': 'Dock...        Rust   45352  \n",
       "6  [{'name': 'C', 'bytes': 31159}, {'name': 'Dock...       Shell    1182  \n",
       "7  [{'name': 'C', 'bytes': 210}, {'name': 'Go', '...           C     210  \n",
       "8  [{'name': 'C', 'bytes': 210}, {'name': 'Go', '...          Go   29312  \n",
       "9  [{'name': 'C', 'bytes': 210}, {'name': 'Go', '...    Makefile    1105  "
      ]
     },
     "execution_count": 10,
     "metadata": {},
     "output_type": "execute_result"
    }
   ],
   "source": [
    "%%bigquery \n",
    "#v1\n",
    "SELECT *\n",
    "FROM bigquery-public-data.github_repos.languages\n",
    "CROSS JOIN UNNEST(language)\n",
    "WHERE repo_name LIKE \"open-lambda/%\""
   ]
  },
  {
   "cell_type": "code",
   "execution_count": 11,
   "id": "721725f7-fd35-487e-9414-c51073b69846",
   "metadata": {},
   "outputs": [
    {
     "data": {
      "application/vnd.jupyter.widget-view+json": {
       "model_id": "9fb3cdf5d9a64f43b0e261f09219550b",
       "version_major": 2,
       "version_minor": 0
      },
      "text/plain": [
       "Query is running:   0%|          |"
      ]
     },
     "metadata": {},
     "output_type": "display_data"
    },
    {
     "data": {
      "application/vnd.jupyter.widget-view+json": {
       "model_id": "1839672dbccc4b49a71bcc0c5d96312a",
       "version_major": 2,
       "version_minor": 0
      },
      "text/plain": [
       "Downloading:   0%|          |"
      ]
     },
     "metadata": {},
     "output_type": "display_data"
    },
    {
     "data": {
      "text/html": [
       "<div>\n",
       "<style scoped>\n",
       "    .dataframe tbody tr th:only-of-type {\n",
       "        vertical-align: middle;\n",
       "    }\n",
       "\n",
       "    .dataframe tbody tr th {\n",
       "        vertical-align: top;\n",
       "    }\n",
       "\n",
       "    .dataframe thead th {\n",
       "        text-align: right;\n",
       "    }\n",
       "</style>\n",
       "<table border=\"1\" class=\"dataframe\">\n",
       "  <thead>\n",
       "    <tr style=\"text-align: right;\">\n",
       "      <th></th>\n",
       "      <th>repo_name</th>\n",
       "      <th>name</th>\n",
       "      <th>bytes</th>\n",
       "      <th>name_1</th>\n",
       "      <th>bytes_1</th>\n",
       "    </tr>\n",
       "  </thead>\n",
       "  <tbody>\n",
       "    <tr>\n",
       "      <th>0</th>\n",
       "      <td>open-lambda/open-lambda</td>\n",
       "      <td>C</td>\n",
       "      <td>31159</td>\n",
       "      <td>C</td>\n",
       "      <td>31159</td>\n",
       "    </tr>\n",
       "    <tr>\n",
       "      <th>1</th>\n",
       "      <td>open-lambda/open-lambda</td>\n",
       "      <td>C</td>\n",
       "      <td>31159</td>\n",
       "      <td>Dockerfile</td>\n",
       "      <td>1220</td>\n",
       "    </tr>\n",
       "    <tr>\n",
       "      <th>2</th>\n",
       "      <td>open-lambda/open-lambda</td>\n",
       "      <td>C</td>\n",
       "      <td>31159</td>\n",
       "      <td>Go</td>\n",
       "      <td>205702</td>\n",
       "    </tr>\n",
       "    <tr>\n",
       "      <th>3</th>\n",
       "      <td>open-lambda/open-lambda</td>\n",
       "      <td>C</td>\n",
       "      <td>31159</td>\n",
       "      <td>Makefile</td>\n",
       "      <td>3474</td>\n",
       "    </tr>\n",
       "    <tr>\n",
       "      <th>4</th>\n",
       "      <td>open-lambda/open-lambda</td>\n",
       "      <td>C</td>\n",
       "      <td>31159</td>\n",
       "      <td>Python</td>\n",
       "      <td>63477</td>\n",
       "    </tr>\n",
       "    <tr>\n",
       "      <th>5</th>\n",
       "      <td>open-lambda/open-lambda</td>\n",
       "      <td>C</td>\n",
       "      <td>31159</td>\n",
       "      <td>Rust</td>\n",
       "      <td>45352</td>\n",
       "    </tr>\n",
       "    <tr>\n",
       "      <th>6</th>\n",
       "      <td>open-lambda/open-lambda</td>\n",
       "      <td>C</td>\n",
       "      <td>31159</td>\n",
       "      <td>Shell</td>\n",
       "      <td>1182</td>\n",
       "    </tr>\n",
       "    <tr>\n",
       "      <th>7</th>\n",
       "      <td>open-lambda/open-lambda</td>\n",
       "      <td>Dockerfile</td>\n",
       "      <td>1220</td>\n",
       "      <td>C</td>\n",
       "      <td>31159</td>\n",
       "    </tr>\n",
       "    <tr>\n",
       "      <th>8</th>\n",
       "      <td>open-lambda/open-lambda</td>\n",
       "      <td>Dockerfile</td>\n",
       "      <td>1220</td>\n",
       "      <td>Dockerfile</td>\n",
       "      <td>1220</td>\n",
       "    </tr>\n",
       "    <tr>\n",
       "      <th>9</th>\n",
       "      <td>open-lambda/open-lambda</td>\n",
       "      <td>Dockerfile</td>\n",
       "      <td>1220</td>\n",
       "      <td>Go</td>\n",
       "      <td>205702</td>\n",
       "    </tr>\n",
       "    <tr>\n",
       "      <th>10</th>\n",
       "      <td>open-lambda/open-lambda</td>\n",
       "      <td>Dockerfile</td>\n",
       "      <td>1220</td>\n",
       "      <td>Makefile</td>\n",
       "      <td>3474</td>\n",
       "    </tr>\n",
       "    <tr>\n",
       "      <th>11</th>\n",
       "      <td>open-lambda/open-lambda</td>\n",
       "      <td>Dockerfile</td>\n",
       "      <td>1220</td>\n",
       "      <td>Python</td>\n",
       "      <td>63477</td>\n",
       "    </tr>\n",
       "    <tr>\n",
       "      <th>12</th>\n",
       "      <td>open-lambda/open-lambda</td>\n",
       "      <td>Dockerfile</td>\n",
       "      <td>1220</td>\n",
       "      <td>Rust</td>\n",
       "      <td>45352</td>\n",
       "    </tr>\n",
       "    <tr>\n",
       "      <th>13</th>\n",
       "      <td>open-lambda/open-lambda</td>\n",
       "      <td>Dockerfile</td>\n",
       "      <td>1220</td>\n",
       "      <td>Shell</td>\n",
       "      <td>1182</td>\n",
       "    </tr>\n",
       "    <tr>\n",
       "      <th>14</th>\n",
       "      <td>open-lambda/open-lambda</td>\n",
       "      <td>Go</td>\n",
       "      <td>205702</td>\n",
       "      <td>C</td>\n",
       "      <td>31159</td>\n",
       "    </tr>\n",
       "    <tr>\n",
       "      <th>15</th>\n",
       "      <td>open-lambda/open-lambda</td>\n",
       "      <td>Go</td>\n",
       "      <td>205702</td>\n",
       "      <td>Dockerfile</td>\n",
       "      <td>1220</td>\n",
       "    </tr>\n",
       "    <tr>\n",
       "      <th>16</th>\n",
       "      <td>open-lambda/open-lambda</td>\n",
       "      <td>Go</td>\n",
       "      <td>205702</td>\n",
       "      <td>Go</td>\n",
       "      <td>205702</td>\n",
       "    </tr>\n",
       "    <tr>\n",
       "      <th>17</th>\n",
       "      <td>open-lambda/open-lambda</td>\n",
       "      <td>Go</td>\n",
       "      <td>205702</td>\n",
       "      <td>Makefile</td>\n",
       "      <td>3474</td>\n",
       "    </tr>\n",
       "    <tr>\n",
       "      <th>18</th>\n",
       "      <td>open-lambda/open-lambda</td>\n",
       "      <td>Go</td>\n",
       "      <td>205702</td>\n",
       "      <td>Python</td>\n",
       "      <td>63477</td>\n",
       "    </tr>\n",
       "    <tr>\n",
       "      <th>19</th>\n",
       "      <td>open-lambda/open-lambda</td>\n",
       "      <td>Go</td>\n",
       "      <td>205702</td>\n",
       "      <td>Rust</td>\n",
       "      <td>45352</td>\n",
       "    </tr>\n",
       "    <tr>\n",
       "      <th>20</th>\n",
       "      <td>open-lambda/open-lambda</td>\n",
       "      <td>Go</td>\n",
       "      <td>205702</td>\n",
       "      <td>Shell</td>\n",
       "      <td>1182</td>\n",
       "    </tr>\n",
       "    <tr>\n",
       "      <th>21</th>\n",
       "      <td>open-lambda/open-lambda</td>\n",
       "      <td>Makefile</td>\n",
       "      <td>3474</td>\n",
       "      <td>C</td>\n",
       "      <td>31159</td>\n",
       "    </tr>\n",
       "    <tr>\n",
       "      <th>22</th>\n",
       "      <td>open-lambda/open-lambda</td>\n",
       "      <td>Makefile</td>\n",
       "      <td>3474</td>\n",
       "      <td>Dockerfile</td>\n",
       "      <td>1220</td>\n",
       "    </tr>\n",
       "    <tr>\n",
       "      <th>23</th>\n",
       "      <td>open-lambda/open-lambda</td>\n",
       "      <td>Makefile</td>\n",
       "      <td>3474</td>\n",
       "      <td>Go</td>\n",
       "      <td>205702</td>\n",
       "    </tr>\n",
       "    <tr>\n",
       "      <th>24</th>\n",
       "      <td>open-lambda/open-lambda</td>\n",
       "      <td>Makefile</td>\n",
       "      <td>3474</td>\n",
       "      <td>Makefile</td>\n",
       "      <td>3474</td>\n",
       "    </tr>\n",
       "    <tr>\n",
       "      <th>25</th>\n",
       "      <td>open-lambda/open-lambda</td>\n",
       "      <td>Makefile</td>\n",
       "      <td>3474</td>\n",
       "      <td>Python</td>\n",
       "      <td>63477</td>\n",
       "    </tr>\n",
       "    <tr>\n",
       "      <th>26</th>\n",
       "      <td>open-lambda/open-lambda</td>\n",
       "      <td>Makefile</td>\n",
       "      <td>3474</td>\n",
       "      <td>Rust</td>\n",
       "      <td>45352</td>\n",
       "    </tr>\n",
       "    <tr>\n",
       "      <th>27</th>\n",
       "      <td>open-lambda/open-lambda</td>\n",
       "      <td>Makefile</td>\n",
       "      <td>3474</td>\n",
       "      <td>Shell</td>\n",
       "      <td>1182</td>\n",
       "    </tr>\n",
       "    <tr>\n",
       "      <th>28</th>\n",
       "      <td>open-lambda/open-lambda</td>\n",
       "      <td>Python</td>\n",
       "      <td>63477</td>\n",
       "      <td>C</td>\n",
       "      <td>31159</td>\n",
       "    </tr>\n",
       "    <tr>\n",
       "      <th>29</th>\n",
       "      <td>open-lambda/open-lambda</td>\n",
       "      <td>Python</td>\n",
       "      <td>63477</td>\n",
       "      <td>Dockerfile</td>\n",
       "      <td>1220</td>\n",
       "    </tr>\n",
       "    <tr>\n",
       "      <th>30</th>\n",
       "      <td>open-lambda/open-lambda</td>\n",
       "      <td>Python</td>\n",
       "      <td>63477</td>\n",
       "      <td>Go</td>\n",
       "      <td>205702</td>\n",
       "    </tr>\n",
       "    <tr>\n",
       "      <th>31</th>\n",
       "      <td>open-lambda/open-lambda</td>\n",
       "      <td>Python</td>\n",
       "      <td>63477</td>\n",
       "      <td>Makefile</td>\n",
       "      <td>3474</td>\n",
       "    </tr>\n",
       "    <tr>\n",
       "      <th>32</th>\n",
       "      <td>open-lambda/open-lambda</td>\n",
       "      <td>Python</td>\n",
       "      <td>63477</td>\n",
       "      <td>Python</td>\n",
       "      <td>63477</td>\n",
       "    </tr>\n",
       "    <tr>\n",
       "      <th>33</th>\n",
       "      <td>open-lambda/open-lambda</td>\n",
       "      <td>Python</td>\n",
       "      <td>63477</td>\n",
       "      <td>Rust</td>\n",
       "      <td>45352</td>\n",
       "    </tr>\n",
       "    <tr>\n",
       "      <th>34</th>\n",
       "      <td>open-lambda/open-lambda</td>\n",
       "      <td>Python</td>\n",
       "      <td>63477</td>\n",
       "      <td>Shell</td>\n",
       "      <td>1182</td>\n",
       "    </tr>\n",
       "    <tr>\n",
       "      <th>35</th>\n",
       "      <td>open-lambda/open-lambda</td>\n",
       "      <td>Rust</td>\n",
       "      <td>45352</td>\n",
       "      <td>C</td>\n",
       "      <td>31159</td>\n",
       "    </tr>\n",
       "    <tr>\n",
       "      <th>36</th>\n",
       "      <td>open-lambda/open-lambda</td>\n",
       "      <td>Rust</td>\n",
       "      <td>45352</td>\n",
       "      <td>Dockerfile</td>\n",
       "      <td>1220</td>\n",
       "    </tr>\n",
       "    <tr>\n",
       "      <th>37</th>\n",
       "      <td>open-lambda/open-lambda</td>\n",
       "      <td>Rust</td>\n",
       "      <td>45352</td>\n",
       "      <td>Go</td>\n",
       "      <td>205702</td>\n",
       "    </tr>\n",
       "    <tr>\n",
       "      <th>38</th>\n",
       "      <td>open-lambda/open-lambda</td>\n",
       "      <td>Rust</td>\n",
       "      <td>45352</td>\n",
       "      <td>Makefile</td>\n",
       "      <td>3474</td>\n",
       "    </tr>\n",
       "    <tr>\n",
       "      <th>39</th>\n",
       "      <td>open-lambda/open-lambda</td>\n",
       "      <td>Rust</td>\n",
       "      <td>45352</td>\n",
       "      <td>Python</td>\n",
       "      <td>63477</td>\n",
       "    </tr>\n",
       "    <tr>\n",
       "      <th>40</th>\n",
       "      <td>open-lambda/open-lambda</td>\n",
       "      <td>Rust</td>\n",
       "      <td>45352</td>\n",
       "      <td>Rust</td>\n",
       "      <td>45352</td>\n",
       "    </tr>\n",
       "    <tr>\n",
       "      <th>41</th>\n",
       "      <td>open-lambda/open-lambda</td>\n",
       "      <td>Rust</td>\n",
       "      <td>45352</td>\n",
       "      <td>Shell</td>\n",
       "      <td>1182</td>\n",
       "    </tr>\n",
       "    <tr>\n",
       "      <th>42</th>\n",
       "      <td>open-lambda/open-lambda</td>\n",
       "      <td>Shell</td>\n",
       "      <td>1182</td>\n",
       "      <td>C</td>\n",
       "      <td>31159</td>\n",
       "    </tr>\n",
       "    <tr>\n",
       "      <th>43</th>\n",
       "      <td>open-lambda/open-lambda</td>\n",
       "      <td>Shell</td>\n",
       "      <td>1182</td>\n",
       "      <td>Dockerfile</td>\n",
       "      <td>1220</td>\n",
       "    </tr>\n",
       "    <tr>\n",
       "      <th>44</th>\n",
       "      <td>open-lambda/open-lambda</td>\n",
       "      <td>Shell</td>\n",
       "      <td>1182</td>\n",
       "      <td>Go</td>\n",
       "      <td>205702</td>\n",
       "    </tr>\n",
       "    <tr>\n",
       "      <th>45</th>\n",
       "      <td>open-lambda/open-lambda</td>\n",
       "      <td>Shell</td>\n",
       "      <td>1182</td>\n",
       "      <td>Makefile</td>\n",
       "      <td>3474</td>\n",
       "    </tr>\n",
       "    <tr>\n",
       "      <th>46</th>\n",
       "      <td>open-lambda/open-lambda</td>\n",
       "      <td>Shell</td>\n",
       "      <td>1182</td>\n",
       "      <td>Python</td>\n",
       "      <td>63477</td>\n",
       "    </tr>\n",
       "    <tr>\n",
       "      <th>47</th>\n",
       "      <td>open-lambda/open-lambda</td>\n",
       "      <td>Shell</td>\n",
       "      <td>1182</td>\n",
       "      <td>Rust</td>\n",
       "      <td>45352</td>\n",
       "    </tr>\n",
       "    <tr>\n",
       "      <th>48</th>\n",
       "      <td>open-lambda/open-lambda</td>\n",
       "      <td>Shell</td>\n",
       "      <td>1182</td>\n",
       "      <td>Shell</td>\n",
       "      <td>1182</td>\n",
       "    </tr>\n",
       "    <tr>\n",
       "      <th>49</th>\n",
       "      <td>open-lambda/load-balancer</td>\n",
       "      <td>C</td>\n",
       "      <td>210</td>\n",
       "      <td>C</td>\n",
       "      <td>210</td>\n",
       "    </tr>\n",
       "    <tr>\n",
       "      <th>50</th>\n",
       "      <td>open-lambda/load-balancer</td>\n",
       "      <td>C</td>\n",
       "      <td>210</td>\n",
       "      <td>Go</td>\n",
       "      <td>29312</td>\n",
       "    </tr>\n",
       "    <tr>\n",
       "      <th>51</th>\n",
       "      <td>open-lambda/load-balancer</td>\n",
       "      <td>C</td>\n",
       "      <td>210</td>\n",
       "      <td>Makefile</td>\n",
       "      <td>1105</td>\n",
       "    </tr>\n",
       "    <tr>\n",
       "      <th>52</th>\n",
       "      <td>open-lambda/load-balancer</td>\n",
       "      <td>Go</td>\n",
       "      <td>29312</td>\n",
       "      <td>C</td>\n",
       "      <td>210</td>\n",
       "    </tr>\n",
       "    <tr>\n",
       "      <th>53</th>\n",
       "      <td>open-lambda/load-balancer</td>\n",
       "      <td>Go</td>\n",
       "      <td>29312</td>\n",
       "      <td>Go</td>\n",
       "      <td>29312</td>\n",
       "    </tr>\n",
       "    <tr>\n",
       "      <th>54</th>\n",
       "      <td>open-lambda/load-balancer</td>\n",
       "      <td>Go</td>\n",
       "      <td>29312</td>\n",
       "      <td>Makefile</td>\n",
       "      <td>1105</td>\n",
       "    </tr>\n",
       "    <tr>\n",
       "      <th>55</th>\n",
       "      <td>open-lambda/load-balancer</td>\n",
       "      <td>Makefile</td>\n",
       "      <td>1105</td>\n",
       "      <td>C</td>\n",
       "      <td>210</td>\n",
       "    </tr>\n",
       "    <tr>\n",
       "      <th>56</th>\n",
       "      <td>open-lambda/load-balancer</td>\n",
       "      <td>Makefile</td>\n",
       "      <td>1105</td>\n",
       "      <td>Go</td>\n",
       "      <td>29312</td>\n",
       "    </tr>\n",
       "    <tr>\n",
       "      <th>57</th>\n",
       "      <td>open-lambda/load-balancer</td>\n",
       "      <td>Makefile</td>\n",
       "      <td>1105</td>\n",
       "      <td>Makefile</td>\n",
       "      <td>1105</td>\n",
       "    </tr>\n",
       "  </tbody>\n",
       "</table>\n",
       "</div>"
      ],
      "text/plain": [
       "                    repo_name        name   bytes      name_1  bytes_1\n",
       "0     open-lambda/open-lambda           C   31159           C    31159\n",
       "1     open-lambda/open-lambda           C   31159  Dockerfile     1220\n",
       "2     open-lambda/open-lambda           C   31159          Go   205702\n",
       "3     open-lambda/open-lambda           C   31159    Makefile     3474\n",
       "4     open-lambda/open-lambda           C   31159      Python    63477\n",
       "5     open-lambda/open-lambda           C   31159        Rust    45352\n",
       "6     open-lambda/open-lambda           C   31159       Shell     1182\n",
       "7     open-lambda/open-lambda  Dockerfile    1220           C    31159\n",
       "8     open-lambda/open-lambda  Dockerfile    1220  Dockerfile     1220\n",
       "9     open-lambda/open-lambda  Dockerfile    1220          Go   205702\n",
       "10    open-lambda/open-lambda  Dockerfile    1220    Makefile     3474\n",
       "11    open-lambda/open-lambda  Dockerfile    1220      Python    63477\n",
       "12    open-lambda/open-lambda  Dockerfile    1220        Rust    45352\n",
       "13    open-lambda/open-lambda  Dockerfile    1220       Shell     1182\n",
       "14    open-lambda/open-lambda          Go  205702           C    31159\n",
       "15    open-lambda/open-lambda          Go  205702  Dockerfile     1220\n",
       "16    open-lambda/open-lambda          Go  205702          Go   205702\n",
       "17    open-lambda/open-lambda          Go  205702    Makefile     3474\n",
       "18    open-lambda/open-lambda          Go  205702      Python    63477\n",
       "19    open-lambda/open-lambda          Go  205702        Rust    45352\n",
       "20    open-lambda/open-lambda          Go  205702       Shell     1182\n",
       "21    open-lambda/open-lambda    Makefile    3474           C    31159\n",
       "22    open-lambda/open-lambda    Makefile    3474  Dockerfile     1220\n",
       "23    open-lambda/open-lambda    Makefile    3474          Go   205702\n",
       "24    open-lambda/open-lambda    Makefile    3474    Makefile     3474\n",
       "25    open-lambda/open-lambda    Makefile    3474      Python    63477\n",
       "26    open-lambda/open-lambda    Makefile    3474        Rust    45352\n",
       "27    open-lambda/open-lambda    Makefile    3474       Shell     1182\n",
       "28    open-lambda/open-lambda      Python   63477           C    31159\n",
       "29    open-lambda/open-lambda      Python   63477  Dockerfile     1220\n",
       "30    open-lambda/open-lambda      Python   63477          Go   205702\n",
       "31    open-lambda/open-lambda      Python   63477    Makefile     3474\n",
       "32    open-lambda/open-lambda      Python   63477      Python    63477\n",
       "33    open-lambda/open-lambda      Python   63477        Rust    45352\n",
       "34    open-lambda/open-lambda      Python   63477       Shell     1182\n",
       "35    open-lambda/open-lambda        Rust   45352           C    31159\n",
       "36    open-lambda/open-lambda        Rust   45352  Dockerfile     1220\n",
       "37    open-lambda/open-lambda        Rust   45352          Go   205702\n",
       "38    open-lambda/open-lambda        Rust   45352    Makefile     3474\n",
       "39    open-lambda/open-lambda        Rust   45352      Python    63477\n",
       "40    open-lambda/open-lambda        Rust   45352        Rust    45352\n",
       "41    open-lambda/open-lambda        Rust   45352       Shell     1182\n",
       "42    open-lambda/open-lambda       Shell    1182           C    31159\n",
       "43    open-lambda/open-lambda       Shell    1182  Dockerfile     1220\n",
       "44    open-lambda/open-lambda       Shell    1182          Go   205702\n",
       "45    open-lambda/open-lambda       Shell    1182    Makefile     3474\n",
       "46    open-lambda/open-lambda       Shell    1182      Python    63477\n",
       "47    open-lambda/open-lambda       Shell    1182        Rust    45352\n",
       "48    open-lambda/open-lambda       Shell    1182       Shell     1182\n",
       "49  open-lambda/load-balancer           C     210           C      210\n",
       "50  open-lambda/load-balancer           C     210          Go    29312\n",
       "51  open-lambda/load-balancer           C     210    Makefile     1105\n",
       "52  open-lambda/load-balancer          Go   29312           C      210\n",
       "53  open-lambda/load-balancer          Go   29312          Go    29312\n",
       "54  open-lambda/load-balancer          Go   29312    Makefile     1105\n",
       "55  open-lambda/load-balancer    Makefile    1105           C      210\n",
       "56  open-lambda/load-balancer    Makefile    1105          Go    29312\n",
       "57  open-lambda/load-balancer    Makefile    1105    Makefile     1105"
      ]
     },
     "execution_count": 11,
     "metadata": {},
     "output_type": "execute_result"
    }
   ],
   "source": [
    "%%bigquery \n",
    "#v1\n",
    "SELECT repo_name, L1.*, L2.*\n",
    "FROM bigquery-public-data.github_repos.languages\n",
    "CROSS JOIN UNNEST(language) AS L1\n",
    "CROSS JOIN UNNEST(language) AS L2\n",
    "WHERE repo_name LIKE \"open-lambda/%\""
   ]
  },
  {
   "cell_type": "code",
   "execution_count": 12,
   "id": "ecdac7d3-f004-4b10-a29f-d24f32f779a0",
   "metadata": {},
   "outputs": [
    {
     "data": {
      "application/vnd.jupyter.widget-view+json": {
       "model_id": "46be2c7429824c6ba46b1a440840dff9",
       "version_major": 2,
       "version_minor": 0
      },
      "text/plain": [
       "Query is running:   0%|          |"
      ]
     },
     "metadata": {},
     "output_type": "display_data"
    },
    {
     "data": {
      "application/vnd.jupyter.widget-view+json": {
       "model_id": "44419e6696cb4ccf96db6c16036a9b4a",
       "version_major": 2,
       "version_minor": 0
      },
      "text/plain": [
       "Downloading:   0%|          |"
      ]
     },
     "metadata": {},
     "output_type": "display_data"
    },
    {
     "data": {
      "text/html": [
       "<div>\n",
       "<style scoped>\n",
       "    .dataframe tbody tr th:only-of-type {\n",
       "        vertical-align: middle;\n",
       "    }\n",
       "\n",
       "    .dataframe tbody tr th {\n",
       "        vertical-align: top;\n",
       "    }\n",
       "\n",
       "    .dataframe thead th {\n",
       "        text-align: right;\n",
       "    }\n",
       "</style>\n",
       "<table border=\"1\" class=\"dataframe\">\n",
       "  <thead>\n",
       "    <tr style=\"text-align: right;\">\n",
       "      <th></th>\n",
       "      <th>repo_name</th>\n",
       "      <th>name1</th>\n",
       "      <th>name2</th>\n",
       "    </tr>\n",
       "  </thead>\n",
       "  <tbody>\n",
       "    <tr>\n",
       "      <th>0</th>\n",
       "      <td>open-lambda/open-lambda</td>\n",
       "      <td>C</td>\n",
       "      <td>Dockerfile</td>\n",
       "    </tr>\n",
       "  </tbody>\n",
       "</table>\n",
       "</div>"
      ],
      "text/plain": [
       "                 repo_name name1       name2\n",
       "0  open-lambda/open-lambda     C  Dockerfile"
      ]
     },
     "execution_count": 12,
     "metadata": {},
     "output_type": "execute_result"
    }
   ],
   "source": [
    "%%bigquery\n",
    "SELECT repo_name, L1.name AS name1, L2.name AS name2\n",
    "FROM bigquery-public-data.github_repos.languages\n",
    "CROSS JOIN UNNEST(language) AS L1\n",
    "CROSS JOIN UNNEST(language) AS L2\n",
    "WHERE repo_name LIKE \"open-lambda/%\"\n",
    "    AND L1.name = 'C' \n",
    "    AND L2.name = 'Dockerfile'"
   ]
  },
  {
   "cell_type": "markdown",
   "id": "4d73fb55-54e0-4bb9-bea2-956b689f906d",
   "metadata": {},
   "source": [
    "### what are the most common languages on GitHub?"
   ]
  },
  {
   "cell_type": "code",
   "execution_count": 13,
   "id": "00d3c809-cb6b-47cb-9045-e9e209612a29",
   "metadata": {},
   "outputs": [
    {
     "data": {
      "application/vnd.jupyter.widget-view+json": {
       "model_id": "91e2078de32848d086620c19f8839baf",
       "version_major": 2,
       "version_minor": 0
      },
      "text/plain": [
       "Query is running:   0%|          |"
      ]
     },
     "metadata": {},
     "output_type": "display_data"
    },
    {
     "data": {
      "application/vnd.jupyter.widget-view+json": {
       "model_id": "5855584a52c04d7881efa88e71365553",
       "version_major": 2,
       "version_minor": 0
      },
      "text/plain": [
       "Downloading:   0%|          |"
      ]
     },
     "metadata": {},
     "output_type": "display_data"
    }
   ],
   "source": [
    "%%bigquery top10\n",
    "SELECT L.name, COUNT(*) as count\n",
    "FROM bigquery-public-data.github_repos.languages\n",
    "CROSS JOIN UNNEST(language) AS L\n",
    "GROUP BY L.name\n",
    "ORDER BY count DESC\n",
    "LIMIT 10"
   ]
  },
  {
   "cell_type": "code",
   "execution_count": 14,
   "id": "d022acd9-7dda-46c4-96d0-c60b7a7d576b",
   "metadata": {},
   "outputs": [
    {
     "data": {
      "text/plain": [
       "<Axes: xlabel='name'>"
      ]
     },
     "execution_count": 14,
     "metadata": {},
     "output_type": "execute_result"
    },
    {
     "data": {
      "image/png": "[encoded data removed]",
      "text/plain": [
       "<Figure size 640x480 with 1 Axes>"
      ]
     },
     "metadata": {},
     "output_type": "display_data"
    }
   ],
   "source": [
    "top10.set_index(\"name\").plot.bar()"
   ]
  },
  {
   "cell_type": "markdown",
   "id": "77033e92-a3b4-4bbe-9a74-23fe79354df9",
   "metadata": {},
   "source": [
    "### what software licenses are used most often for Python projects?"
   ]
  },
  {
   "cell_type": "code",
   "execution_count": 15,
   "id": "b5ac3721-8705-4e92-ac69-feca2dcfbb82",
   "metadata": {},
   "outputs": [
    {
     "data": {
      "application/vnd.jupyter.widget-view+json": {
       "model_id": "bacb405c6106438093fd77b8dfa4f18f",
       "version_major": 2,
       "version_minor": 0
      },
      "text/plain": [
       "Query is running:   0%|          |"
      ]
     },
     "metadata": {},
     "output_type": "display_data"
    },
    {
     "data": {
      "application/vnd.jupyter.widget-view+json": {
       "model_id": "80465637666d413ba70002de8a3d03ce",
       "version_major": 2,
       "version_minor": 0
      },
      "text/plain": [
       "Downloading:   0%|          |"
      ]
     },
     "metadata": {},
     "output_type": "display_data"
    }
   ],
   "source": [
    "%%bigquery df\n",
    "SELECT licenses.license, COUNT(*) as count\n",
    "FROM bigquery-public-data.github_repos.languages\n",
    "CROSS JOIN UNNEST(language) AS L\n",
    "INNER JOIN bigquery-public-data.github_repos.licenses \n",
    "    ON languages.repo_name = licenses.repo_name\n",
    "WHERE L.name = 'Python'\n",
    "GROUP BY license\n",
    "ORDER BY count DESC"
   ]
  },
  {
   "cell_type": "code",
   "execution_count": 16,
   "id": "2c0d0ad5-6c15-4a52-88e2-e574a78be694",
   "metadata": {},
   "outputs": [
    {
     "data": {
      "text/plain": [
       "<Axes: xlabel='license'>"
      ]
     },
     "execution_count": 16,
     "metadata": {},
     "output_type": "execute_result"
    },
    {
     "data": {
      "image/png": "[encoded data removed]",
      "text/plain": [
       "<Figure size 640x480 with 1 Axes>"
      ]
     },
     "metadata": {},
     "output_type": "display_data"
    }
   ],
   "source": [
    "df.set_index(\"license\").plot.bar()"
   ]
  },
  {
   "cell_type": "markdown",
   "id": "2a4546b4-8d2b-4430-9176-0e379c684eb6",
   "metadata": {},
   "source": [
    "# Create dataset and tables"
   ]
  },
  {
   "cell_type": "code",
   "execution_count": 17,
   "id": "4cce6e49-0d23-4530-8d78-b62466bf170c",
   "metadata": {},
   "outputs": [
    {
     "name": "stdout",
     "output_type": "stream",
     "text": [
      "p8\n",
      "test1\n",
      "test2\n",
      "test3\n"
     ]
    }
   ],
   "source": [
    "# project => dataset => table\n",
    "for ds in bq.list_datasets(f\"{project_name}\"):\n",
    "    print(ds.dataset_id)"
   ]
  },
  {
   "cell_type": "code",
   "execution_count": 18,
   "id": "3885ce2f-893f-43da-b0f5-8f1cbd0c0951",
   "metadata": {},
   "outputs": [
    {
     "data": {
      "text/plain": [
       "Dataset(DatasetReference('calcium-aria-397903', 'test2'))"
      ]
     },
     "execution_count": 18,
     "metadata": {},
     "output_type": "execute_result"
    }
   ],
   "source": [
    "# Create dataset \"test2\"\n",
    "\n",
    "ds = bigquery.Dataset(f\"{project_name}.test2\")\n",
    "# ds.location = \"us-central1\"\n",
    "bq.create_dataset(ds, exists_ok=True)"
   ]
  },
  {
   "cell_type": "markdown",
   "id": "4c93dd3b-61b7-4059-940e-94967bae132f",
   "metadata": {},
   "source": [
    "### example 1: BigQuery Table"
   ]
  },
  {
   "cell_type": "code",
   "execution_count": 19,
   "id": "e231c2c8-d23e-479f-bbe1-5c41064acd58",
   "metadata": {},
   "outputs": [
    {
     "data": {
      "text/plain": [
       "LoadJob<project=calcium-aria-397903, location=US, id=9e4e5af2-4322-4378-b115-1a11bca4be9f>"
      ]
     },
     "execution_count": 19,
     "metadata": {},
     "output_type": "execute_result"
    }
   ],
   "source": [
    "# Create a table \"loans\" from a parquet file\n",
    "config = bigquery.LoadJobConfig(source_format=\"PARQUET\", write_disposition=\"WRITE_TRUNCATE\")\n",
    "source = \"gs://cs544-bq/hdma-wi-2021.parquet\"\n",
    "\n",
    "job = bq.load_table_from_uri(source, f\"{project_name}.test2.loans\", job_config=config)\n",
    "job.result()"
   ]
  },
  {
   "cell_type": "markdown",
   "id": "b8e4fbc5-43ef-4286-a844-caf325988b6b",
   "metadata": {},
   "source": [
    "### example 2: External Table (GCS)\n",
    "external table is basically pointing to the external source"
   ]
  },
  {
   "cell_type": "code",
   "execution_count": 21,
   "id": "9130662c-69f0-4e93-9248-43679ad0b3be",
   "metadata": {},
   "outputs": [
    {
     "data": {
      "text/plain": [
       "Table(TableReference(DatasetReference('calcium-aria-397903', 'test2'), 'loans-external'))"
      ]
     },
     "execution_count": 21,
     "metadata": {},
     "output_type": "execute_result"
    }
   ],
   "source": [
    "# Create table \"test2.loans-external\" from a \n",
    "\n",
    "source = \"gs://cs544-bq/hdma-wi-2021.parquet\"\n",
    "\n",
    "config = bigquery.ExternalConfig(source_format=\"PARQUET\")\n",
    "config.source_uris = [source]\n",
    "# config.autodetect = True\n",
    "table = bigquery.Table(f\"{project_name}.test2.loans-external\")\n",
    "table.external_data_configuration = config\n",
    "bq.create_table(table, exists_ok=True)"
   ]
  },
  {
   "cell_type": "markdown",
   "id": "d2ea43bd-6b1c-4131-b5e1-0404403dbf51",
   "metadata": {},
   "source": [
    "### example 3: external table (sheets)"
   ]
  },
  {
   "cell_type": "code",
   "execution_count": 22,
   "id": "b3ebb328-5480-4db5-bd75-0fc7f32bfe72",
   "metadata": {},
   "outputs": [
    {
     "data": {
      "text/plain": [
       "Table(TableReference(DatasetReference('calcium-aria-397903', 'test2'), 'applications'))"
      ]
     },
     "execution_count": 22,
     "metadata": {},
     "output_type": "execute_result"
    }
   ],
   "source": [
    "# Create table \"test2.applications\"\n",
    "\n",
    "\n",
    "# form: https://forms.gle/DKYMSJNkfPR8S1f46\n",
    "# sheet: https://docs.google.com/spreadsheets/d/11UeIBqQylAyNUBsIO54p6WiYJWHayQMfHDbUWq1jGco/edit#gid=288285146\n",
    "config = bigquery.ExternalConfig(source_format=\"GOOGLE_SHEETS\")\n",
    "config.source_uris = [\"https://docs.google.com/spreadsheets/d/11UeIBqQylAyNUBsIO54p6WiYJWHayQMfHDbUWq1jGco\"]\n",
    "config.autodetect = True\n",
    "table = bigquery.Table(f\"{project_name}.test2.applications\")\n",
    "table.external_data_configuration = config\n",
    "bq.create_table(table, exists_ok=True)"
   ]
  },
  {
   "cell_type": "code",
   "execution_count": 23,
   "id": "57330ed1-3f5a-44fb-947d-31e8d9a7b622",
   "metadata": {},
   "outputs": [
    {
     "name": "stdout",
     "output_type": "stream",
     "text": [
      "applications\n",
      "houses\n",
      "loans\n",
      "loans-external\n",
      "wi\n"
     ]
    }
   ],
   "source": [
    "# list tables in dataset \"test2\"\n",
    "for tbl in bq.list_tables(f\"{project_name}.test2\"):\n",
    "    print(tbl.table_id)"
   ]
  },
  {
   "cell_type": "code",
   "execution_count": 24,
   "id": "97926867-622a-48e5-aad3-5fd6ed0a6195",
   "metadata": {},
   "outputs": [
    {
     "data": {
      "application/vnd.jupyter.widget-view+json": {
       "model_id": "e4ae8ce2934e4915b2ae9e14e270a789",
       "version_major": 2,
       "version_minor": 0
      },
      "text/plain": [
       "Query is running:   0%|          |"
      ]
     },
     "metadata": {},
     "output_type": "display_data"
    },
    {
     "data": {
      "application/vnd.jupyter.widget-view+json": {
       "model_id": "74053dcb7b194bedb4fb70bba74b219d",
       "version_major": 2,
       "version_minor": 0
      },
      "text/plain": [
       "Downloading:   0%|          |"
      ]
     },
     "metadata": {},
     "output_type": "display_data"
    },
    {
     "data": {
      "text/html": [
       "<div>\n",
       "<style scoped>\n",
       "    .dataframe tbody tr th:only-of-type {\n",
       "        vertical-align: middle;\n",
       "    }\n",
       "\n",
       "    .dataframe tbody tr th {\n",
       "        vertical-align: top;\n",
       "    }\n",
       "\n",
       "    .dataframe thead th {\n",
       "        text-align: right;\n",
       "    }\n",
       "</style>\n",
       "<table border=\"1\" class=\"dataframe\">\n",
       "  <thead>\n",
       "    <tr style=\"text-align: right;\">\n",
       "      <th></th>\n",
       "      <th>count</th>\n",
       "    </tr>\n",
       "  </thead>\n",
       "  <tbody>\n",
       "    <tr>\n",
       "      <th>0</th>\n",
       "      <td>323</td>\n",
       "    </tr>\n",
       "  </tbody>\n",
       "</table>\n",
       "</div>"
      ],
      "text/plain": [
       "   count\n",
       "0    323"
      ]
     },
     "execution_count": 24,
     "metadata": {},
     "output_type": "execute_result"
    }
   ],
   "source": [
    "%%bigquery\n",
    "SELECT COUNT(*) AS count\n",
    "FROM `calcium-aria-397903.test2.applications`"
   ]
  },
  {
   "cell_type": "markdown",
   "id": "c108a786-4301-4108-9361-0b656431de5c",
   "metadata": {},
   "source": [
    "# Queries on geodata"
   ]
  },
  {
   "cell_type": "code",
   "execution_count": 25,
   "id": "b40a2a4a-0bbe-4e0d-93de-0478859647df",
   "metadata": {},
   "outputs": [],
   "source": [
    "# a geopandas GeoDataFrame is a subclass of pandas's DataFrame, and it has a geo column\n",
    "# to_dataframe gives a pandas DataFrame\n",
    "# to_geodataframe gives a geopandas GeoDataFrame"
   ]
  },
  {
   "cell_type": "code",
   "execution_count": 26,
   "id": "2ca7b3ea-fdd6-4f5a-a24a-197e91389a22",
   "metadata": {},
   "outputs": [],
   "source": [
    "# !pip3 install geopandas"
   ]
  },
  {
   "cell_type": "code",
   "execution_count": 27,
   "id": "e75abf2a-bbb5-46c2-ac1a-b9fb7aca5d82",
   "metadata": {},
   "outputs": [],
   "source": [
    "# !echo $CONDA_DEFAULT_ENV"
   ]
  },
  {
   "cell_type": "code",
   "execution_count": 28,
   "id": "e97efe97-1b20-41d7-b294-8a112f7dc276",
   "metadata": {
    "scrolled": true
   },
   "outputs": [],
   "source": [
    "# FIPS code for WI is 55\n",
    "wi = bq.query(\"\"\"\n",
    "SELECT county_geom\n",
    "FROM bigquery-public-data.geo_us_boundaries.counties\n",
    "WHERE state_fips_code = '55'\n",
    "\"\"\").to_geodataframe()"
   ]
  },
  {
   "cell_type": "code",
   "execution_count": 29,
   "id": "f051e2fa-c111-4415-a7db-05b77a8465a8",
   "metadata": {},
   "outputs": [
    {
     "data": {
      "text/plain": [
       "geopandas.geodataframe.GeoDataFrame"
      ]
     },
     "execution_count": 29,
     "metadata": {},
     "output_type": "execute_result"
    }
   ],
   "source": [
    "type(wi)"
   ]
  },
  {
   "cell_type": "code",
   "execution_count": 30,
   "id": "aa7e5668-92b2-49da-a781-caccca2eaa90",
   "metadata": {},
   "outputs": [
    {
     "data": {
      "text/plain": [
       "<Axes: >"
      ]
     },
     "execution_count": 30,
     "metadata": {},
     "output_type": "execute_result"
    },
    {
     "data": {
      "image/png": "[encoded data removed]",
      "text/plain": [
       "<Figure size 640x480 with 1 Axes>"
      ]
     },
     "metadata": {},
     "output_type": "display_data"
    }
   ],
   "source": [
    "wi.plot(color=\"0.9\", edgecolor=\"0\")"
   ]
  },
  {
   "cell_type": "markdown",
   "id": "c39f8358-b5b8-46b2-9686-f1f849c71b83",
   "metadata": {},
   "source": [
    "### export WI to our private table test2.wi"
   ]
  },
  {
   "cell_type": "code",
   "execution_count": 31,
   "id": "04ff437f-d9e8-4737-b38e-d586d9f62251",
   "metadata": {},
   "outputs": [
    {
     "data": {
      "text/html": [
       "<div>\n",
       "<style scoped>\n",
       "    .dataframe tbody tr th:only-of-type {\n",
       "        vertical-align: middle;\n",
       "    }\n",
       "\n",
       "    .dataframe tbody tr th {\n",
       "        vertical-align: top;\n",
       "    }\n",
       "\n",
       "    .dataframe thead th {\n",
       "        text-align: right;\n",
       "    }\n",
       "</style>\n",
       "<table border=\"1\" class=\"dataframe\">\n",
       "  <thead>\n",
       "    <tr style=\"text-align: right;\">\n",
       "      <th></th>\n",
       "    </tr>\n",
       "  </thead>\n",
       "  <tbody>\n",
       "  </tbody>\n",
       "</table>\n",
       "</div>"
      ],
      "text/plain": [
       "Empty GeoDataFrame\n",
       "Columns: []\n",
       "Index: []"
      ]
     },
     "execution_count": 31,
     "metadata": {},
     "output_type": "execute_result"
    }
   ],
   "source": [
    "bq.query(\"\"\"\n",
    "CREATE OR REPLACE TABLE `calcium-aria-397903.test2.wi`\n",
    "AS\n",
    "SELECT county_name, county_geom\n",
    "FROM bigquery-public-data.geo_us_boundaries.counties\n",
    "WHERE state_fips_code = '55'\n",
    "\"\"\").to_geodataframe()"
   ]
  },
  {
   "cell_type": "code",
   "execution_count": 32,
   "id": "cf1c3054-2dce-4201-8c9c-18a7748fdbe3",
   "metadata": {},
   "outputs": [
    {
     "data": {
      "text/html": [
       "<div>\n",
       "<style scoped>\n",
       "    .dataframe tbody tr th:only-of-type {\n",
       "        vertical-align: middle;\n",
       "    }\n",
       "\n",
       "    .dataframe tbody tr th {\n",
       "        vertical-align: top;\n",
       "    }\n",
       "\n",
       "    .dataframe thead th {\n",
       "        text-align: right;\n",
       "    }\n",
       "</style>\n",
       "<table border=\"1\" class=\"dataframe\">\n",
       "  <thead>\n",
       "    <tr style=\"text-align: right;\">\n",
       "      <th></th>\n",
       "      <th>county_name</th>\n",
       "      <th>county_geom</th>\n",
       "    </tr>\n",
       "  </thead>\n",
       "  <tbody>\n",
       "    <tr>\n",
       "      <th>0</th>\n",
       "      <td>Sawyer</td>\n",
       "      <td>POLYGON ((-91.54181 45.98259, -91.54180 45.982...</td>\n",
       "    </tr>\n",
       "    <tr>\n",
       "      <th>1</th>\n",
       "      <td>Shawano</td>\n",
       "      <td>POLYGON ((-89.22401 44.85627, -89.22401 44.856...</td>\n",
       "    </tr>\n",
       "    <tr>\n",
       "      <th>2</th>\n",
       "      <td>Bayfield</td>\n",
       "      <td>POLYGON ((-90.92542 46.58730, -90.92471 46.588...</td>\n",
       "    </tr>\n",
       "  </tbody>\n",
       "</table>\n",
       "</div>"
      ],
      "text/plain": [
       "  county_name                                        county_geom\n",
       "0      Sawyer  POLYGON ((-91.54181 45.98259, -91.54180 45.982...\n",
       "1     Shawano  POLYGON ((-89.22401 44.85627, -89.22401 44.856...\n",
       "2    Bayfield  POLYGON ((-90.92542 46.58730, -90.92471 46.588..."
      ]
     },
     "execution_count": 32,
     "metadata": {},
     "output_type": "execute_result"
    }
   ],
   "source": [
    "wi = bq.query(\"SELECT * FROM test2.wi\").to_geodataframe()\n",
    "wi.head(3)"
   ]
  },
  {
   "cell_type": "code",
   "execution_count": 33,
   "id": "a886110e-8d61-4872-9fca-de95813fcb70",
   "metadata": {},
   "outputs": [],
   "source": [
    "with open(\"wi.geojson\", \"w\") as f:\n",
    "    f.write(wi.to_json())"
   ]
  },
  {
   "cell_type": "code",
   "execution_count": 34,
   "id": "9914d4be-64af-4ad2-a9d5-f527a9de74e7",
   "metadata": {},
   "outputs": [],
   "source": [
    "# !head -n 10 wi.geojson"
   ]
  },
  {
   "cell_type": "code",
   "execution_count": 36,
   "id": "dcb57504-60d2-499b-bbd9-62354ecd2ded",
   "metadata": {},
   "outputs": [
    {
     "data": {
      "text/plain": [
       "<Axes: >"
      ]
     },
     "execution_count": 36,
     "metadata": {},
     "output_type": "execute_result"
    },
    {
     "data": {
      "image/png": "[encoded data removed]",
      "text/plain": [
       "<Figure size 640x480 with 1 Axes>"
      ]
     },
     "metadata": {},
     "output_type": "display_data"
    }
   ],
   "source": [
    "(bq.query(\"SELECT * FROM test2.wi\")\n",
    ").to_geodataframe().plot(color=\"0.9\", edgecolor=\"0\"))"
   ]
  },
  {
   "cell_type": "markdown",
   "id": "1ef9e224-2a49-4ee5-b1fc-04e4d081c830",
   "metadata": {},
   "source": [
    "### ST_SOME_FUNCTION (ST => Spacial Type)"
   ]
  },
  {
   "cell_type": "markdown",
   "id": "1df90f52-11fd-40e6-8e51-c24e06bbfa9d",
   "metadata": {},
   "source": [
    "#### ST_UNION_AGG"
   ]
  },
  {
   "cell_type": "code",
   "execution_count": 37,
   "id": "1a80a5c5-302e-4320-b8d7-bfd7718dc16a",
   "metadata": {},
   "outputs": [
    {
     "data": {
      "text/plain": [
       "<Axes: >"
      ]
     },
     "execution_count": 37,
     "metadata": {},
     "output_type": "execute_result"
    },
    {
     "data": {
      "image/png": "[encoded data removed]",
      "text/plain": [
       "<Figure size 640x480 with 1 Axes>"
      ]
     },
     "metadata": {},
     "output_type": "display_data"
    }
   ],
   "source": [
    "(bq.query(\"SELECT ST_UNION_AGG(county_geom) FROM test2.wi\")\n",
    ").to_geodataframe().plot(color=\"0.9\", edgecolor=\"0\")"
   ]
  },
  {
   "cell_type": "markdown",
   "id": "e70692e2-a0d1-468d-a84b-fcf1abca2ab2",
   "metadata": {},
   "source": [
    "#### ST_CENTROID"
   ]
  },
  {
   "cell_type": "code",
   "execution_count": 38,
   "id": "345bb60d-f5f0-4fbe-82a6-aec5e2afdead",
   "metadata": {},
   "outputs": [
    {
     "data": {
      "text/plain": [
       "<Axes: >"
      ]
     },
     "execution_count": 38,
     "metadata": {},
     "output_type": "execute_result"
    },
    {
     "data": {
      "image/png": "[encoded data removed]",
      "text/plain": [
       "<Figure size 640x480 with 1 Axes>"
      ]
     },
     "metadata": {},
     "output_type": "display_data"
    }
   ],
   "source": [
    "ax = (bq.query(\"SELECT * FROM test2.wi\")\n",
    "     ).to_geodataframe().plot(color=\"0.9\", edgecolor=\"0\")\n",
    "     \n",
    "(bq.query(\"SELECT ST_CENTROID(county_geom) FROM test2.wi\")\n",
    ").to_geodataframe().plot(ax=ax)"
   ]
  },
  {
   "cell_type": "markdown",
   "id": "ae5bac6c-d4a7-48a2-b22d-4bcb51898c9e",
   "metadata": {},
   "source": [
    "#### ST_CENTROID_AGG"
   ]
  },
  {
   "cell_type": "code",
   "execution_count": 39,
   "id": "e941adfe-cdf2-4401-8c45-173203d9902d",
   "metadata": {},
   "outputs": [
    {
     "data": {
      "text/plain": [
       "<Axes: >"
      ]
     },
     "execution_count": 39,
     "metadata": {},
     "output_type": "execute_result"
    },
    {
     "data": {
      "image/png": "[encoded data removed]",
      "text/plain": [
       "<Figure size 640x480 with 1 Axes>"
      ]
     },
     "metadata": {},
     "output_type": "display_data"
    }
   ],
   "source": [
    "ax = (bq.query(\"SELECT * FROM test2.wi\")\n",
    "     ).to_geodataframe().plot(color=\"0.9\", edgecolor=\"0\")\n",
    "     \n",
    "(bq.query(\"SELECT ST_CENTROID_AGG(county_geom) FROM test2.wi\")\n",
    "    .to_geodataframe()\n",
    "    .plot(ax=ax))"
   ]
  },
  {
   "cell_type": "markdown",
   "id": "0c17e754-9021-4c23-b5e6-d7b57a42c9c8",
   "metadata": {},
   "source": [
    "#### ST_GEOGPOINT"
   ]
  },
  {
   "cell_type": "code",
   "execution_count": 40,
   "id": "842db79f-9b72-4e69-baf6-585ffcc40734",
   "metadata": {},
   "outputs": [
    {
     "data": {
      "text/html": [
       "<div>\n",
       "<style scoped>\n",
       "    .dataframe tbody tr th:only-of-type {\n",
       "        vertical-align: middle;\n",
       "    }\n",
       "\n",
       "    .dataframe tbody tr th {\n",
       "        vertical-align: top;\n",
       "    }\n",
       "\n",
       "    .dataframe thead th {\n",
       "        text-align: right;\n",
       "    }\n",
       "</style>\n",
       "<table border=\"1\" class=\"dataframe\">\n",
       "  <thead>\n",
       "    <tr style=\"text-align: right;\">\n",
       "      <th></th>\n",
       "      <th>Timestamp</th>\n",
       "      <th>loan_amount</th>\n",
       "      <th>income</th>\n",
       "      <th>latitude</th>\n",
       "      <th>longitude</th>\n",
       "      <th>loc</th>\n",
       "    </tr>\n",
       "  </thead>\n",
       "  <tbody>\n",
       "    <tr>\n",
       "      <th>0</th>\n",
       "      <td>2023-11-27 21:05:40.625000+00:00</td>\n",
       "      <td>100000.0</td>\n",
       "      <td>10000.0</td>\n",
       "      <td>43.069646</td>\n",
       "      <td>-89.753298</td>\n",
       "      <td>POINT (-89.75330 43.06965)</td>\n",
       "    </tr>\n",
       "    <tr>\n",
       "      <th>1</th>\n",
       "      <td>2023-11-27 21:10:35.948000+00:00</td>\n",
       "      <td>200000.0</td>\n",
       "      <td>20000.0</td>\n",
       "      <td>45.058784</td>\n",
       "      <td>-87.665404</td>\n",
       "      <td>POINT (-87.66540 45.05878)</td>\n",
       "    </tr>\n",
       "    <tr>\n",
       "      <th>2</th>\n",
       "      <td>2023-11-27 21:11:51.383000+00:00</td>\n",
       "      <td>200000.0</td>\n",
       "      <td>20000.0</td>\n",
       "      <td>45.000711</td>\n",
       "      <td>-87.229077</td>\n",
       "      <td>POINT (-87.22908 45.00071)</td>\n",
       "    </tr>\n",
       "    <tr>\n",
       "      <th>3</th>\n",
       "      <td>2023-11-27 21:13:07.711000+00:00</td>\n",
       "      <td>300000.0</td>\n",
       "      <td>30000.0</td>\n",
       "      <td>44.523038</td>\n",
       "      <td>-88.072896</td>\n",
       "      <td>POINT (-88.07290 44.52304)</td>\n",
       "    </tr>\n",
       "    <tr>\n",
       "      <th>4</th>\n",
       "      <td>2023-11-27 21:14:15.019000+00:00</td>\n",
       "      <td>200000.0</td>\n",
       "      <td>30000.0</td>\n",
       "      <td>42.528472</td>\n",
       "      <td>-88.602056</td>\n",
       "      <td>POINT (-88.60206 42.52847)</td>\n",
       "    </tr>\n",
       "    <tr>\n",
       "      <th>...</th>\n",
       "      <td>...</td>\n",
       "      <td>...</td>\n",
       "      <td>...</td>\n",
       "      <td>...</td>\n",
       "      <td>...</td>\n",
       "      <td>...</td>\n",
       "    </tr>\n",
       "    <tr>\n",
       "      <th>318</th>\n",
       "      <td>2023-12-15 00:41:09.094000+00:00</td>\n",
       "      <td>500000.0</td>\n",
       "      <td>100000.0</td>\n",
       "      <td>43.087102</td>\n",
       "      <td>-89.445986</td>\n",
       "      <td>POINT (-89.44599 43.08710)</td>\n",
       "    </tr>\n",
       "    <tr>\n",
       "      <th>319</th>\n",
       "      <td>2023-12-15 08:04:15.609000+00:00</td>\n",
       "      <td>30000.0</td>\n",
       "      <td>300000.0</td>\n",
       "      <td>44.668634</td>\n",
       "      <td>-89.424043</td>\n",
       "      <td>POINT (-89.42404 44.66863)</td>\n",
       "    </tr>\n",
       "    <tr>\n",
       "      <th>320</th>\n",
       "      <td>2023-12-15 12:36:04.578000+00:00</td>\n",
       "      <td>10000.0</td>\n",
       "      <td>100000.0</td>\n",
       "      <td>43.038902</td>\n",
       "      <td>-87.906471</td>\n",
       "      <td>POINT (-87.90647 43.03890)</td>\n",
       "    </tr>\n",
       "    <tr>\n",
       "      <th>321</th>\n",
       "      <td>2023-12-16 21:53:52.280000+00:00</td>\n",
       "      <td>200000.0</td>\n",
       "      <td>200000.0</td>\n",
       "      <td>42.638897</td>\n",
       "      <td>-87.861157</td>\n",
       "      <td>POINT (-87.86116 42.63890)</td>\n",
       "    </tr>\n",
       "    <tr>\n",
       "      <th>322</th>\n",
       "      <td>2023-12-18 09:20:08.951000+00:00</td>\n",
       "      <td>1.0</td>\n",
       "      <td>9999999.0</td>\n",
       "      <td>1.000000</td>\n",
       "      <td>1.000000</td>\n",
       "      <td>POINT (1.00000 1.00000)</td>\n",
       "    </tr>\n",
       "  </tbody>\n",
       "</table>\n",
       "<p>323 rows × 6 columns</p>\n",
       "</div>"
      ],
      "text/plain": [
       "                           Timestamp  loan_amount     income   latitude  \\\n",
       "0   2023-11-27 21:05:40.625000+00:00     100000.0    10000.0  43.069646   \n",
       "1   2023-11-27 21:10:35.948000+00:00     200000.0    20000.0  45.058784   \n",
       "2   2023-11-27 21:11:51.383000+00:00     200000.0    20000.0  45.000711   \n",
       "3   2023-11-27 21:13:07.711000+00:00     300000.0    30000.0  44.523038   \n",
       "4   2023-11-27 21:14:15.019000+00:00     200000.0    30000.0  42.528472   \n",
       "..                               ...          ...        ...        ...   \n",
       "318 2023-12-15 00:41:09.094000+00:00     500000.0   100000.0  43.087102   \n",
       "319 2023-12-15 08:04:15.609000+00:00      30000.0   300000.0  44.668634   \n",
       "320 2023-12-15 12:36:04.578000+00:00      10000.0   100000.0  43.038902   \n",
       "321 2023-12-16 21:53:52.280000+00:00     200000.0   200000.0  42.638897   \n",
       "322 2023-12-18 09:20:08.951000+00:00          1.0  9999999.0   1.000000   \n",
       "\n",
       "     longitude                         loc  \n",
       "0   -89.753298  POINT (-89.75330 43.06965)  \n",
       "1   -87.665404  POINT (-87.66540 45.05878)  \n",
       "2   -87.229077  POINT (-87.22908 45.00071)  \n",
       "3   -88.072896  POINT (-88.07290 44.52304)  \n",
       "4   -88.602056  POINT (-88.60206 42.52847)  \n",
       "..         ...                         ...  \n",
       "318 -89.445986  POINT (-89.44599 43.08710)  \n",
       "319 -89.424043  POINT (-89.42404 44.66863)  \n",
       "320 -87.906471  POINT (-87.90647 43.03890)  \n",
       "321 -87.861157  POINT (-87.86116 42.63890)  \n",
       "322   1.000000     POINT (1.00000 1.00000)  \n",
       "\n",
       "[323 rows x 6 columns]"
      ]
     },
     "execution_count": 40,
     "metadata": {},
     "output_type": "execute_result"
    }
   ],
   "source": [
    "bq.query(\"\"\"\n",
    "SELECT *, ST_GEOGPOINT(longitude, latitude) AS loc\n",
    "FROM test2.applications\n",
    "\"\"\").to_geodataframe()"
   ]
  },
  {
   "cell_type": "code",
   "execution_count": 41,
   "id": "eaa3d799-ca1d-4ded-ac93-83b3d42316fb",
   "metadata": {},
   "outputs": [
    {
     "data": {
      "text/html": [
       "<div>\n",
       "<style scoped>\n",
       "    .dataframe tbody tr th:only-of-type {\n",
       "        vertical-align: middle;\n",
       "    }\n",
       "\n",
       "    .dataframe tbody tr th {\n",
       "        vertical-align: top;\n",
       "    }\n",
       "\n",
       "    .dataframe thead th {\n",
       "        text-align: right;\n",
       "    }\n",
       "</style>\n",
       "<table border=\"1\" class=\"dataframe\">\n",
       "  <thead>\n",
       "    <tr style=\"text-align: right;\">\n",
       "      <th></th>\n",
       "    </tr>\n",
       "  </thead>\n",
       "  <tbody>\n",
       "  </tbody>\n",
       "</table>\n",
       "</div>"
      ],
      "text/plain": [
       "Empty GeoDataFrame\n",
       "Columns: []\n",
       "Index: []"
      ]
     },
     "execution_count": 41,
     "metadata": {},
     "output_type": "execute_result"
    }
   ],
   "source": [
    "# create table \"houses\"\n",
    "\n",
    "bq.query(\"\"\"\n",
    "CREATE OR REPLACE TABLE test2.houses\n",
    "AS\n",
    "SELECT *, ST_GEOGPOINT(longitude, latitude) AS loc\n",
    "FROM test2.applications\n",
    "\"\"\").to_geodataframe()"
   ]
  },
  {
   "cell_type": "code",
   "execution_count": 42,
   "id": "24f98231-92cd-4b78-938d-d379ba44d29a",
   "metadata": {},
   "outputs": [
    {
     "name": "stdout",
     "output_type": "stream",
     "text": [
      "applications\n",
      "houses\n",
      "loans\n",
      "loans-external\n",
      "wi\n"
     ]
    }
   ],
   "source": [
    "for tbl in bq.list_tables(f\"{project_name}.test2\"):\n",
    "    print(tbl.table_id)"
   ]
  },
  {
   "cell_type": "code",
   "execution_count": 43,
   "id": "76892c2d-a69b-4eaf-9041-540c4600d576",
   "metadata": {},
   "outputs": [
    {
     "data": {
      "text/plain": [
       "<Axes: >"
      ]
     },
     "execution_count": 43,
     "metadata": {},
     "output_type": "execute_result"
    },
    {
     "data": {
      "image/png": "[encoded data removed]",
      "text/plain": [
       "<Figure size 640x480 with 1 Axes>"
      ]
     },
     "metadata": {},
     "output_type": "display_data"
    }
   ],
   "source": [
    "ax = (bq.query(\"SELECT * FROM test2.wi\")\n",
    "     ).to_geodataframe().plot(color=\"0.9\", edgecolor=\"0\")\n",
    "(bq.query(\"SELECT * FROM test2.houses\")\n",
    " .to_geodataframe().plot(ax=ax))"
   ]
  },
  {
   "cell_type": "markdown",
   "id": "127b20f9-a187-4f20-bc95-151f2d5ffe23",
   "metadata": {},
   "source": [
    "#### ST_DISTANCE"
   ]
  },
  {
   "cell_type": "code",
   "execution_count": 44,
   "id": "6e8be9f5-bb16-4a78-b9af-2b500efabc06",
   "metadata": {},
   "outputs": [],
   "source": [
    "# what are the ten houses closest to the WI capitol?  ST_DISTANCE\n",
    "# ST_GEOGPOINT(-89.384107, 43.074715)"
   ]
  },
  {
   "cell_type": "code",
   "execution_count": 45,
   "id": "088cb768-b05f-4a85-bc64-972f17ac662e",
   "metadata": {},
   "outputs": [
    {
     "data": {
      "application/vnd.jupyter.widget-view+json": {
       "model_id": "c0dc0c36ef1342bf9c28b6a860e5cf4e",
       "version_major": 2,
       "version_minor": 0
      },
      "text/plain": [
       "Query is running:   0%|          |"
      ]
     },
     "metadata": {},
     "output_type": "display_data"
    },
    {
     "data": {
      "application/vnd.jupyter.widget-view+json": {
       "model_id": "b9192ec6ecb942acaae237bc6215c35b",
       "version_major": 2,
       "version_minor": 0
      },
      "text/plain": [
       "Downloading:   0%|          |"
      ]
     },
     "metadata": {},
     "output_type": "display_data"
    },
    {
     "data": {
      "text/html": [
       "<div>\n",
       "<style scoped>\n",
       "    .dataframe tbody tr th:only-of-type {\n",
       "        vertical-align: middle;\n",
       "    }\n",
       "\n",
       "    .dataframe tbody tr th {\n",
       "        vertical-align: top;\n",
       "    }\n",
       "\n",
       "    .dataframe thead th {\n",
       "        text-align: right;\n",
       "    }\n",
       "</style>\n",
       "<table border=\"1\" class=\"dataframe\">\n",
       "  <thead>\n",
       "    <tr style=\"text-align: right;\">\n",
       "      <th></th>\n",
       "      <th>Timestamp</th>\n",
       "      <th>loan_amount</th>\n",
       "      <th>income</th>\n",
       "      <th>latitude</th>\n",
       "      <th>longitude</th>\n",
       "      <th>loc</th>\n",
       "      <th>km</th>\n",
       "    </tr>\n",
       "  </thead>\n",
       "  <tbody>\n",
       "    <tr>\n",
       "      <th>0</th>\n",
       "      <td>2023-12-12 20:14:05.220000+00:00</td>\n",
       "      <td>60000.0</td>\n",
       "      <td>120000.0</td>\n",
       "      <td>43.074746</td>\n",
       "      <td>-89.384335</td>\n",
       "      <td>POINT(-89.384335 43.074746)</td>\n",
       "      <td>0.018837</td>\n",
       "    </tr>\n",
       "    <tr>\n",
       "      <th>1</th>\n",
       "      <td>2023-12-12 18:14:59.977000+00:00</td>\n",
       "      <td>1000000.0</td>\n",
       "      <td>150000.0</td>\n",
       "      <td>43.074722</td>\n",
       "      <td>-89.384444</td>\n",
       "      <td>POINT(-89.384444 43.074722)</td>\n",
       "      <td>0.027384</td>\n",
       "    </tr>\n",
       "    <tr>\n",
       "      <th>2</th>\n",
       "      <td>2023-12-12 17:10:28.097000+00:00</td>\n",
       "      <td>350000.0</td>\n",
       "      <td>100000.0</td>\n",
       "      <td>43.073930</td>\n",
       "      <td>-89.385240</td>\n",
       "      <td>POINT(-89.38524 43.07393)</td>\n",
       "      <td>0.126839</td>\n",
       "    </tr>\n",
       "    <tr>\n",
       "      <th>3</th>\n",
       "      <td>2023-12-07 14:54:04.768000+00:00</td>\n",
       "      <td>500000.0</td>\n",
       "      <td>120000.0</td>\n",
       "      <td>43.073842</td>\n",
       "      <td>-89.380879</td>\n",
       "      <td>POINT(-89.3808790733058 43.0738421627193)</td>\n",
       "      <td>0.279574</td>\n",
       "    </tr>\n",
       "    <tr>\n",
       "      <th>4</th>\n",
       "      <td>2023-12-07 16:35:04.606000+00:00</td>\n",
       "      <td>500000.0</td>\n",
       "      <td>120000.0</td>\n",
       "      <td>43.073842</td>\n",
       "      <td>-89.380879</td>\n",
       "      <td>POINT(-89.38087907 43.07384216)</td>\n",
       "      <td>0.279575</td>\n",
       "    </tr>\n",
       "    <tr>\n",
       "      <th>5</th>\n",
       "      <td>2023-12-12 17:51:51.877000+00:00</td>\n",
       "      <td>1000000.0</td>\n",
       "      <td>100000.0</td>\n",
       "      <td>43.073678</td>\n",
       "      <td>-89.389000</td>\n",
       "      <td>POINT(-89.389 43.073678)</td>\n",
       "      <td>0.413822</td>\n",
       "    </tr>\n",
       "    <tr>\n",
       "      <th>6</th>\n",
       "      <td>2023-12-11 03:11:47.751000+00:00</td>\n",
       "      <td>20000.0</td>\n",
       "      <td>180000.0</td>\n",
       "      <td>43.071516</td>\n",
       "      <td>-89.388235</td>\n",
       "      <td>POINT(-89.3882353103888 43.0715157443036)</td>\n",
       "      <td>0.488872</td>\n",
       "    </tr>\n",
       "    <tr>\n",
       "      <th>7</th>\n",
       "      <td>2023-12-10 16:02:56.049000+00:00</td>\n",
       "      <td>100000.0</td>\n",
       "      <td>85000.0</td>\n",
       "      <td>43.078920</td>\n",
       "      <td>-89.391035</td>\n",
       "      <td>POINT(-89.391035 43.07892)</td>\n",
       "      <td>0.731614</td>\n",
       "    </tr>\n",
       "    <tr>\n",
       "      <th>8</th>\n",
       "      <td>2023-12-09 20:25:35.705000+00:00</td>\n",
       "      <td>30000.0</td>\n",
       "      <td>15000.0</td>\n",
       "      <td>43.073300</td>\n",
       "      <td>-89.394300</td>\n",
       "      <td>POINT(-89.3943 43.0733)</td>\n",
       "      <td>0.842744</td>\n",
       "    </tr>\n",
       "    <tr>\n",
       "      <th>9</th>\n",
       "      <td>2023-12-06 20:16:10.572000+00:00</td>\n",
       "      <td>800000.0</td>\n",
       "      <td>2000000.0</td>\n",
       "      <td>43.078395</td>\n",
       "      <td>-89.393998</td>\n",
       "      <td>POINT(-89.3939979671193 43.078394795666)</td>\n",
       "      <td>0.901560</td>\n",
       "    </tr>\n",
       "  </tbody>\n",
       "</table>\n",
       "</div>"
      ],
      "text/plain": [
       "                         Timestamp  loan_amount     income   latitude  \\\n",
       "0 2023-12-12 20:14:05.220000+00:00      60000.0   120000.0  43.074746   \n",
       "1 2023-12-12 18:14:59.977000+00:00    1000000.0   150000.0  43.074722   \n",
       "2 2023-12-12 17:10:28.097000+00:00     350000.0   100000.0  43.073930   \n",
       "3 2023-12-07 14:54:04.768000+00:00     500000.0   120000.0  43.073842   \n",
       "4 2023-12-07 16:35:04.606000+00:00     500000.0   120000.0  43.073842   \n",
       "5 2023-12-12 17:51:51.877000+00:00    1000000.0   100000.0  43.073678   \n",
       "6 2023-12-11 03:11:47.751000+00:00      20000.0   180000.0  43.071516   \n",
       "7 2023-12-10 16:02:56.049000+00:00     100000.0    85000.0  43.078920   \n",
       "8 2023-12-09 20:25:35.705000+00:00      30000.0    15000.0  43.073300   \n",
       "9 2023-12-06 20:16:10.572000+00:00     800000.0  2000000.0  43.078395   \n",
       "\n",
       "   longitude                                        loc        km  \n",
       "0 -89.384335                POINT(-89.384335 43.074746)  0.018837  \n",
       "1 -89.384444                POINT(-89.384444 43.074722)  0.027384  \n",
       "2 -89.385240                  POINT(-89.38524 43.07393)  0.126839  \n",
       "3 -89.380879  POINT(-89.3808790733058 43.0738421627193)  0.279574  \n",
       "4 -89.380879            POINT(-89.38087907 43.07384216)  0.279575  \n",
       "5 -89.389000                   POINT(-89.389 43.073678)  0.413822  \n",
       "6 -89.388235  POINT(-89.3882353103888 43.0715157443036)  0.488872  \n",
       "7 -89.391035                 POINT(-89.391035 43.07892)  0.731614  \n",
       "8 -89.394300                    POINT(-89.3943 43.0733)  0.842744  \n",
       "9 -89.393998   POINT(-89.3939979671193 43.078394795666)  0.901560  "
      ]
     },
     "execution_count": 45,
     "metadata": {},
     "output_type": "execute_result"
    }
   ],
   "source": [
    "%%bigquery\n",
    "SELECT *, ST_DISTANCE(loc, ST_GEOGPOINT(-89.384107, 43.074715)) / 1000 AS km\n",
    "FROM test2.houses\n",
    "ORDER BY km ASC\n",
    "LIMIT 10"
   ]
  },
  {
   "cell_type": "code",
   "execution_count": 46,
   "id": "52b48c95-8226-4610-8ea4-25b1ffdf8157",
   "metadata": {},
   "outputs": [
    {
     "data": {
      "text/plain": [
       "<Axes: >"
      ]
     },
     "execution_count": 46,
     "metadata": {},
     "output_type": "execute_result"
    },
    {
     "data": {
      "image/png": "[encoded data removed]",
      "text/plain": [
       "<Figure size 640x480 with 1 Axes>"
      ]
     },
     "metadata": {},
     "output_type": "display_data"
    }
   ],
   "source": [
    "ax = bq.query(\"SELECT * FROM test2.wi\").to_geodataframe().plot(color=\"0.9\", edgecolor=\"0\")\n",
    "bq.query(\"\"\"\n",
    "SELECT *, ST_DISTANCE(loc, ST_GEOGPOINT(-89.384107, 43.074715)) / 1000 AS km\n",
    "FROM test2.houses\n",
    "ORDER BY km ASC\n",
    "LIMIT 10\n",
    "\"\"\").to_geodataframe().plot(ax=ax)"
   ]
  },
  {
   "cell_type": "markdown",
   "id": "f72124aa-61ff-4ff2-ae47-558f950436ed",
   "metadata": {},
   "source": [
    "#### ST_Within"
   ]
  },
  {
   "cell_type": "code",
   "execution_count": 47,
   "id": "a5ca3916-586b-4d39-b5e1-2edc50b091a3",
   "metadata": {},
   "outputs": [
    {
     "data": {
      "application/vnd.jupyter.widget-view+json": {
       "model_id": "94c2260f3df24b2cb5d2af7d2201b13e",
       "version_major": 2,
       "version_minor": 0
      },
      "text/plain": [
       "Query is running:   0%|          |"
      ]
     },
     "metadata": {},
     "output_type": "display_data"
    },
    {
     "data": {
      "application/vnd.jupyter.widget-view+json": {
       "model_id": "4e51f62defef41668f86d68dd6b2185e",
       "version_major": 2,
       "version_minor": 0
      },
      "text/plain": [
       "Downloading:   0%|          |"
      ]
     },
     "metadata": {},
     "output_type": "display_data"
    },
    {
     "data": {
      "text/html": [
       "<div>\n",
       "<style scoped>\n",
       "    .dataframe tbody tr th:only-of-type {\n",
       "        vertical-align: middle;\n",
       "    }\n",
       "\n",
       "    .dataframe tbody tr th {\n",
       "        vertical-align: top;\n",
       "    }\n",
       "\n",
       "    .dataframe thead th {\n",
       "        text-align: right;\n",
       "    }\n",
       "</style>\n",
       "<table border=\"1\" class=\"dataframe\">\n",
       "  <thead>\n",
       "    <tr style=\"text-align: right;\">\n",
       "      <th></th>\n",
       "      <th>Timestamp</th>\n",
       "      <th>loan_amount</th>\n",
       "      <th>income</th>\n",
       "      <th>latitude</th>\n",
       "      <th>longitude</th>\n",
       "      <th>loc</th>\n",
       "      <th>county_name</th>\n",
       "    </tr>\n",
       "  </thead>\n",
       "  <tbody>\n",
       "    <tr>\n",
       "      <th>0</th>\n",
       "      <td>2023-12-13 07:13:02.369000+00:00</td>\n",
       "      <td>800000.0</td>\n",
       "      <td>180000.0</td>\n",
       "      <td>43.070643</td>\n",
       "      <td>-89.430380</td>\n",
       "      <td>POINT(-89.43038 43.070643)</td>\n",
       "      <td>Dane</td>\n",
       "    </tr>\n",
       "    <tr>\n",
       "      <th>1</th>\n",
       "      <td>2023-12-13 17:19:41.480000+00:00</td>\n",
       "      <td>375000.0</td>\n",
       "      <td>95000.0</td>\n",
       "      <td>43.626613</td>\n",
       "      <td>-89.774557</td>\n",
       "      <td>POINT(-89.774557 43.626613)</td>\n",
       "      <td>Columbia</td>\n",
       "    </tr>\n",
       "    <tr>\n",
       "      <th>2</th>\n",
       "      <td>2023-12-10 21:05:02.356000+00:00</td>\n",
       "      <td>500000.0</td>\n",
       "      <td>150000.0</td>\n",
       "      <td>43.110770</td>\n",
       "      <td>-89.460450</td>\n",
       "      <td>POINT(-89.46045 43.11077)</td>\n",
       "      <td>Dane</td>\n",
       "    </tr>\n",
       "    <tr>\n",
       "      <th>3</th>\n",
       "      <td>2023-12-10 19:29:11.872000+00:00</td>\n",
       "      <td>1000000.0</td>\n",
       "      <td>100000.0</td>\n",
       "      <td>43.065173</td>\n",
       "      <td>-89.393007</td>\n",
       "      <td>POINT(-89.3930068 43.0651734)</td>\n",
       "      <td>Dane</td>\n",
       "    </tr>\n",
       "    <tr>\n",
       "      <th>4</th>\n",
       "      <td>2023-12-06 21:14:52.382000+00:00</td>\n",
       "      <td>200000.0</td>\n",
       "      <td>40000.0</td>\n",
       "      <td>43.071072</td>\n",
       "      <td>-89.408743</td>\n",
       "      <td>POINT(-89.408743 43.071072)</td>\n",
       "      <td>Dane</td>\n",
       "    </tr>\n",
       "    <tr>\n",
       "      <th>...</th>\n",
       "      <td>...</td>\n",
       "      <td>...</td>\n",
       "      <td>...</td>\n",
       "      <td>...</td>\n",
       "      <td>...</td>\n",
       "      <td>...</td>\n",
       "      <td>...</td>\n",
       "    </tr>\n",
       "    <tr>\n",
       "      <th>193</th>\n",
       "      <td>2023-12-07 14:49:17.395000+00:00</td>\n",
       "      <td>200000.0</td>\n",
       "      <td>65000.0</td>\n",
       "      <td>45.144891</td>\n",
       "      <td>-87.103105</td>\n",
       "      <td>POINT(-87.103105 45.144891)</td>\n",
       "      <td>Door</td>\n",
       "    </tr>\n",
       "    <tr>\n",
       "      <th>194</th>\n",
       "      <td>2023-12-08 21:42:51.681000+00:00</td>\n",
       "      <td>20000.0</td>\n",
       "      <td>120000.0</td>\n",
       "      <td>45.630265</td>\n",
       "      <td>-89.364933</td>\n",
       "      <td>POINT(-89.364933 45.630265)</td>\n",
       "      <td>Oneida</td>\n",
       "    </tr>\n",
       "    <tr>\n",
       "      <th>195</th>\n",
       "      <td>2023-12-12 22:18:53.760000+00:00</td>\n",
       "      <td>500000.0</td>\n",
       "      <td>151111.0</td>\n",
       "      <td>45.072533</td>\n",
       "      <td>-87.280787</td>\n",
       "      <td>POINT(-87.280787 45.072533)</td>\n",
       "      <td>Door</td>\n",
       "    </tr>\n",
       "    <tr>\n",
       "      <th>196</th>\n",
       "      <td>2023-12-13 05:47:55.584000+00:00</td>\n",
       "      <td>540000.0</td>\n",
       "      <td>169000.0</td>\n",
       "      <td>43.035940</td>\n",
       "      <td>-89.413417</td>\n",
       "      <td>POINT(-89.413417 43.03594)</td>\n",
       "      <td>Dane</td>\n",
       "    </tr>\n",
       "    <tr>\n",
       "      <th>197</th>\n",
       "      <td>2023-12-08 17:51:50.346000+00:00</td>\n",
       "      <td>200000.0</td>\n",
       "      <td>21000.0</td>\n",
       "      <td>43.073051</td>\n",
       "      <td>-89.401230</td>\n",
       "      <td>POINT(-89.40123 43.073051)</td>\n",
       "      <td>Dane</td>\n",
       "    </tr>\n",
       "  </tbody>\n",
       "</table>\n",
       "<p>198 rows × 7 columns</p>\n",
       "</div>"
      ],
      "text/plain": [
       "                           Timestamp  loan_amount    income   latitude  \\\n",
       "0   2023-12-13 07:13:02.369000+00:00     800000.0  180000.0  43.070643   \n",
       "1   2023-12-13 17:19:41.480000+00:00     375000.0   95000.0  43.626613   \n",
       "2   2023-12-10 21:05:02.356000+00:00     500000.0  150000.0  43.110770   \n",
       "3   2023-12-10 19:29:11.872000+00:00    1000000.0  100000.0  43.065173   \n",
       "4   2023-12-06 21:14:52.382000+00:00     200000.0   40000.0  43.071072   \n",
       "..                               ...          ...       ...        ...   \n",
       "193 2023-12-07 14:49:17.395000+00:00     200000.0   65000.0  45.144891   \n",
       "194 2023-12-08 21:42:51.681000+00:00      20000.0  120000.0  45.630265   \n",
       "195 2023-12-12 22:18:53.760000+00:00     500000.0  151111.0  45.072533   \n",
       "196 2023-12-13 05:47:55.584000+00:00     540000.0  169000.0  43.035940   \n",
       "197 2023-12-08 17:51:50.346000+00:00     200000.0   21000.0  43.073051   \n",
       "\n",
       "     longitude                            loc county_name  \n",
       "0   -89.430380     POINT(-89.43038 43.070643)        Dane  \n",
       "1   -89.774557    POINT(-89.774557 43.626613)    Columbia  \n",
       "2   -89.460450      POINT(-89.46045 43.11077)        Dane  \n",
       "3   -89.393007  POINT(-89.3930068 43.0651734)        Dane  \n",
       "4   -89.408743    POINT(-89.408743 43.071072)        Dane  \n",
       "..         ...                            ...         ...  \n",
       "193 -87.103105    POINT(-87.103105 45.144891)        Door  \n",
       "194 -89.364933    POINT(-89.364933 45.630265)      Oneida  \n",
       "195 -87.280787    POINT(-87.280787 45.072533)        Door  \n",
       "196 -89.413417     POINT(-89.413417 43.03594)        Dane  \n",
       "197 -89.401230     POINT(-89.40123 43.073051)        Dane  \n",
       "\n",
       "[198 rows x 7 columns]"
      ]
     },
     "execution_count": 47,
     "metadata": {},
     "output_type": "execute_result"
    }
   ],
   "source": [
    "%%bigquery\n",
    "SELECT houses.*, wi.county_name\n",
    "FROM test2.houses CROSS JOIN test2.wi\n",
    "WHERE ST_Within(houses.loc, wi.county_geom)"
   ]
  },
  {
   "cell_type": "markdown",
   "id": "a2a7e05e-dc68-426e-b60c-e147f170cb6a",
   "metadata": {},
   "source": [
    "#### ST_SNAPTOGRID, ST_GEOHASH"
   ]
  },
  {
   "cell_type": "code",
   "execution_count": 49,
   "id": "fce337cb-23dd-4c59-a7cf-d9e264100049",
   "metadata": {},
   "outputs": [
    {
     "data": {
      "text/plain": [
       "<Axes: >"
      ]
     },
     "execution_count": 49,
     "metadata": {},
     "output_type": "execute_result"
    },
    {
     "data": {
      "image/png": "[encoded data removed]",
      "text/plain": [
       "<Figure size 640x480 with 1 Axes>"
      ]
     },
     "metadata": {},
     "output_type": "display_data"
    }
   ],
   "source": [
    "ax = bq.query(\"SELECT * FROM test2.wi\").to_geodataframe().plot(color=\"0.9\", edgecolor=\"0\")\n",
    "\n",
    "# exact locations:\n",
    "bq.query(\"\"\"\n",
    "SELECT houses.*, wi.county_name\n",
    "FROM test2.houses CROSS JOIN test2.wi\n",
    "WHERE ST_Within(houses.loc, wi.county_geom)\n",
    "\"\"\").to_geodataframe().plot(ax=ax, color=\"k\")\n",
    "\n",
    "# approx locations:\n",
    "bq.query(\"\"\"\n",
    "SELECT ST_SNAPTOGRID(houses.loc, 0.1), wi.county_name\n",
    "FROM test2.houses CROSS JOIN test2.wi\n",
    "WHERE ST_Within(houses.loc, wi.county_geom)\n",
    "\"\"\").to_geodataframe().plot(ax=ax, color=\"r\")"
   ]
  },
  {
   "cell_type": "code",
   "execution_count": 59,
   "id": "3fb00b88-dcd2-4ef4-ad95-6afd29bf3e4a",
   "metadata": {},
   "outputs": [
    {
     "data": {
      "text/html": [
       "<div>\n",
       "<style scoped>\n",
       "    .dataframe tbody tr th:only-of-type {\n",
       "        vertical-align: middle;\n",
       "    }\n",
       "\n",
       "    .dataframe tbody tr th {\n",
       "        vertical-align: top;\n",
       "    }\n",
       "\n",
       "    .dataframe thead th {\n",
       "        text-align: right;\n",
       "    }\n",
       "</style>\n",
       "<table border=\"1\" class=\"dataframe\">\n",
       "  <thead>\n",
       "    <tr style=\"text-align: right;\">\n",
       "      <th></th>\n",
       "      <th>loc</th>\n",
       "      <th>h</th>\n",
       "      <th>county_name</th>\n",
       "    </tr>\n",
       "  </thead>\n",
       "  <tbody>\n",
       "    <tr>\n",
       "      <th>0</th>\n",
       "      <td>POINT(-89 43.5)</td>\n",
       "      <td>dp</td>\n",
       "      <td>Dodge</td>\n",
       "    </tr>\n",
       "    <tr>\n",
       "      <th>1</th>\n",
       "      <td>POINT(-89.7532978 43.0696456)</td>\n",
       "      <td>dp</td>\n",
       "      <td>Dane</td>\n",
       "    </tr>\n",
       "    <tr>\n",
       "      <th>2</th>\n",
       "      <td>POINT(-89.7781531338562 43.4397393497801)</td>\n",
       "      <td>dp</td>\n",
       "      <td>Sauk</td>\n",
       "    </tr>\n",
       "    <tr>\n",
       "      <th>3</th>\n",
       "      <td>POINT(-87.590783 45.088661)</td>\n",
       "      <td>f0</td>\n",
       "      <td>Marinette</td>\n",
       "    </tr>\n",
       "    <tr>\n",
       "      <th>4</th>\n",
       "      <td>POINT(-88.489683 43.927491)</td>\n",
       "      <td>dp</td>\n",
       "      <td>Winnebago</td>\n",
       "    </tr>\n",
       "    <tr>\n",
       "      <th>...</th>\n",
       "      <td>...</td>\n",
       "      <td>...</td>\n",
       "      <td>...</td>\n",
       "    </tr>\n",
       "    <tr>\n",
       "      <th>193</th>\n",
       "      <td>POINT(-89.408038001604 43.0688264067462)</td>\n",
       "      <td>dp</td>\n",
       "      <td>Dane</td>\n",
       "    </tr>\n",
       "    <tr>\n",
       "      <th>194</th>\n",
       "      <td>POINT(-87.0480840491013 45.0881913303289)</td>\n",
       "      <td>f0</td>\n",
       "      <td>Door</td>\n",
       "    </tr>\n",
       "    <tr>\n",
       "      <th>195</th>\n",
       "      <td>POINT(-90.09529829 43.08258999)</td>\n",
       "      <td>9z</td>\n",
       "      <td>Iowa</td>\n",
       "    </tr>\n",
       "    <tr>\n",
       "      <th>196</th>\n",
       "      <td>POINT(-89.4459858389597 43.0871016114829)</td>\n",
       "      <td>dp</td>\n",
       "      <td>Dane</td>\n",
       "    </tr>\n",
       "    <tr>\n",
       "      <th>197</th>\n",
       "      <td>POINT(-87.515215 44.82809)</td>\n",
       "      <td>dp</td>\n",
       "      <td>Door</td>\n",
       "    </tr>\n",
       "  </tbody>\n",
       "</table>\n",
       "<p>198 rows × 3 columns</p>\n",
       "</div>"
      ],
      "text/plain": [
       "                                           loc   h county_name\n",
       "0                              POINT(-89 43.5)  dp       Dodge\n",
       "1                POINT(-89.7532978 43.0696456)  dp        Dane\n",
       "2    POINT(-89.7781531338562 43.4397393497801)  dp        Sauk\n",
       "3                  POINT(-87.590783 45.088661)  f0   Marinette\n",
       "4                  POINT(-88.489683 43.927491)  dp   Winnebago\n",
       "..                                         ...  ..         ...\n",
       "193   POINT(-89.408038001604 43.0688264067462)  dp        Dane\n",
       "194  POINT(-87.0480840491013 45.0881913303289)  f0        Door\n",
       "195            POINT(-90.09529829 43.08258999)  9z        Iowa\n",
       "196  POINT(-89.4459858389597 43.0871016114829)  dp        Dane\n",
       "197                 POINT(-87.515215 44.82809)  dp        Door\n",
       "\n",
       "[198 rows x 3 columns]"
      ]
     },
     "execution_count": 59,
     "metadata": {},
     "output_type": "execute_result"
    }
   ],
   "source": [
    "q = bq.query(\"\"\"\n",
    "SELECT houses.loc, ST_GEOHASH(houses.loc, 2) AS h, wi.county_name\n",
    "FROM test2.houses CROSS JOIN test2.wi\n",
    "WHERE ST_Within(houses.loc, wi.county_geom)\n",
    "\"\"\")\n",
    "q.to_dataframe()"
   ]
  },
  {
   "cell_type": "code",
   "execution_count": null,
   "id": "2751224f-6372-479d-83c0-c37821ceeab7",
   "metadata": {},
   "outputs": [],
   "source": []
  }
 ],
 "metadata": {
  "kernelspec": {
   "display_name": "Python 3 (ipykernel)",
   "language": "python",
   "name": "python3"
  },
  "language_info": {
   "codemirror_mode": {
    "name": "ipython",
    "version": 3
   },
   "file_extension": ".py",
   "mimetype": "text/x-python",
   "name": "python",
   "nbconvert_exporter": "python",
   "pygments_lexer": "ipython3",
   "version": "3.10.12"
  }
 },
 "nbformat": 4,
 "nbformat_minor": 5
}
