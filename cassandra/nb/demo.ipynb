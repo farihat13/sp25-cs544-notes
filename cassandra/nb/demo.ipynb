{
 "cells": [
  {
   "cell_type": "code",
   "execution_count": 1,
   "id": "c9bbbbf4-8fad-4a1b-b486-7219cbc9741a",
   "metadata": {},
   "outputs": [
    {
     "name": "stdout",
     "output_type": "stream",
     "text": [
      "Datacenter: datacenter1\n",
      "=======================\n",
      "Status=Up/Down\n",
      "|/ State=Normal/Leaving/Joining/Moving\n",
      "--  Address     Load        Tokens  Owns (effective)  Host ID                               Rack \n",
      "UN  172.30.0.4  180.11 KiB  16      100.0%            42284706-aa54-4536-b6bd-0379cd791325  rack1\n",
      "UN  172.30.0.2  179.9 KiB   16      100.0%            4a3d5237-4ce4-4582-ad8c-09da30b557cb  rack1\n",
      "UN  172.30.0.3  160.24 KiB  16      100.0%            39624122-273e-47cd-8ae9-051ce76bb9cb  rack1\n",
      "\n"
     ]
    }
   ],
   "source": [
    "!nodetool status"
   ]
  },
  {
   "cell_type": "code",
   "execution_count": 2,
   "id": "a91732b4-77fc-4e02-810e-0511f936df8a",
   "metadata": {},
   "outputs": [
    {
     "name": "stdout",
     "output_type": "stream",
     "text": [
      "\n",
      "Datacenter: datacenter1\n",
      "==========\n",
      "Address          Rack        Status State   Load            Owns                Token                                       \n",
      "                                                                                9136487762688204160                         \n",
      "172.30.0.3       rack1       Up     Normal  160.24 KiB      100.00%             -8880207632489486139                        \n",
      "172.30.0.4       rack1       Up     Normal  180.11 KiB      100.00%             -8842701675031596006                        \n",
      "172.30.0.2       rack1       Up     Normal  179.9 KiB       100.00%             -8230883503573745797                        \n",
      "172.30.0.3       rack1       Up     Normal  160.24 KiB      100.00%             -7808707016149453326                        \n",
      "172.30.0.4       rack1       Up     Normal  180.11 KiB      100.00%             -7599181669351004032                        \n",
      "172.30.0.2       rack1       Up     Normal  179.9 KiB       100.00%             -6987363497893153823                        \n",
      "172.30.0.3       rack1       Up     Normal  160.24 KiB      100.00%             -6790855611407026310                        \n",
      "172.30.0.4       rack1       Up     Normal  180.11 KiB      100.00%             -6631817426272468533                        \n",
      "172.30.0.2       rack1       Up     Normal  179.9 KiB       100.00%             -6019999254814618324                        \n",
      "172.30.0.3       rack1       Up     Normal  160.24 KiB      100.00%             -5973183678794675516                        \n",
      "172.30.0.4       rack1       Up     Normal  180.11 KiB      100.00%             -5041812873758569895                        \n",
      "172.30.0.3       rack1       Up     Normal  160.24 KiB      100.00%             -4897427797569095976                        \n",
      "172.30.0.2       rack1       Up     Normal  179.9 KiB       100.00%             -4429994702300719686                        \n",
      "172.30.0.3       rack1       Up     Normal  160.24 KiB      100.00%             -4161512104858202335                        \n",
      "172.30.0.4       rack1       Up     Normal  180.11 KiB      100.00%             -3422789578061526598                        \n",
      "172.30.0.3       rack1       Up     Normal  160.24 KiB      100.00%             -3082139297410600678                        \n",
      "172.30.0.2       rack1       Up     Normal  179.9 KiB       100.00%             -2810971406603676389                        \n",
      "172.30.0.4       rack1       Up     Normal  180.11 KiB      100.00%             -2444644125545412523                        \n",
      "172.30.0.3       rack1       Up     Normal  160.24 KiB      100.00%             -1838619291730008704                        \n",
      "172.30.0.2       rack1       Up     Normal  179.9 KiB       100.00%             -1832825954087562314                        \n",
      "172.30.0.3       rack1       Up     Normal  160.24 KiB      100.00%             -871255048651473206                         \n",
      "172.30.0.4       rack1       Up     Normal  180.11 KiB      100.00%             -666009824721825394                         \n",
      "172.30.0.2       rack1       Up     Normal  179.9 KiB       100.00%             -54191653263975185                          \n",
      "172.30.0.4       rack1       Up     Normal  180.11 KiB      100.00%             430032075513112894                          \n",
      "172.30.0.3       rack1       Up     Normal  160.24 KiB      100.00%             718749503862425431                          \n",
      "172.30.0.2       rack1       Up     Normal  179.9 KiB       100.00%             1041850246970963103                         \n",
      "172.30.0.4       rack1       Up     Normal  180.11 KiB      100.00%             1521329186205325153                         \n",
      "172.30.0.2       rack1       Up     Normal  179.9 KiB       100.00%             2133147357663175362                         \n",
      "172.30.0.3       rack1       Up     Normal  160.24 KiB      100.00%             2337772799559468728                         \n",
      "172.30.0.4       rack1       Up     Normal  180.11 KiB      100.00%             2365705833696486910                         \n",
      "172.30.0.2       rack1       Up     Normal  179.9 KiB       100.00%             2977524005154337119                         \n",
      "172.30.0.3       rack1       Up     Normal  160.24 KiB      100.00%             3315918252075582804                         \n",
      "172.30.0.4       rack1       Up     Normal  180.11 KiB      100.00%             3805974063599070148                         \n",
      "172.30.0.2       rack1       Up     Normal  179.9 KiB       100.00%             4417792235056920357                         \n",
      "172.30.0.4       rack1       Up     Normal  180.11 KiB      100.00%             4877474679939102961                         \n",
      "172.30.0.3       rack1       Up     Normal  160.24 KiB      100.00%             5094552552899169932                         \n",
      "172.30.0.2       rack1       Up     Normal  179.9 KiB       100.00%             5489292851396953170                         \n",
      "172.30.0.4       rack1       Up     Normal  180.11 KiB      100.00%             5895326084681529976                         \n",
      "172.30.0.3       rack1       Up     Normal  160.24 KiB      100.00%             6190594453134108221                         \n",
      "172.30.0.2       rack1       Up     Normal  179.9 KiB       100.00%             6507144256139380185                         \n",
      "172.30.0.4       rack1       Up     Normal  180.11 KiB      100.00%             6712998017293880771                         \n",
      "172.30.0.3       rack1       Up     Normal  160.24 KiB      100.00%             7281891563826320480                         \n",
      "172.30.0.2       rack1       Up     Normal  179.9 KiB       100.00%             7324816188751730980                         \n",
      "172.30.0.4       rack1       Up     Normal  180.11 KiB      100.00%             7788753898519460310                         \n",
      "172.30.0.3       rack1       Up     Normal  160.24 KiB      100.00%             8126268211317482238                         \n",
      "172.30.0.2       rack1       Up     Normal  179.9 KiB       100.00%             8400572069977310519                         \n",
      "172.30.0.4       rack1       Up     Normal  180.11 KiB      100.00%             8524669591230353951                         \n",
      "172.30.0.2       rack1       Up     Normal  179.9 KiB       100.00%             9136487762688204160                         \n",
      "\n",
      "  Warning: \"nodetool ring\" is used to output all the tokens of a node.\n",
      "  To view status related info of a node use \"nodetool status\" instead.\n",
      "\n",
      "\n",
      "  "
     ]
    }
   ],
   "source": [
    "!nodetool ring"
   ]
  },
  {
   "cell_type": "code",
   "execution_count": 3,
   "id": "37d55584-a764-4316-8248-194b8987166c",
   "metadata": {},
   "outputs": [
    {
     "name": "stdout",
     "output_type": "stream",
     "text": [
      "\n",
      "Documented shell commands:\n",
      "===========================\n",
      "CAPTURE  CLS          COPY  DESCRIBE  EXPAND  LOGIN   SERIAL  SOURCE   UNICODE\n",
      "CLEAR    CONSISTENCY  DESC  EXIT      HELP    PAGING  SHOW    TRACING\n",
      "\n",
      "CQL help topics:\n",
      "================\n",
      "AGGREGATES               CREATE_KEYSPACE           DROP_TRIGGER      TEXT     \n",
      "ALTER_KEYSPACE           CREATE_MATERIALIZED_VIEW  DROP_TYPE         TIME     \n",
      "ALTER_MATERIALIZED_VIEW  CREATE_ROLE               DROP_USER         TIMESTAMP\n",
      "ALTER_TABLE              CREATE_TABLE              FUNCTIONS         TRUNCATE \n",
      "ALTER_TYPE               CREATE_TRIGGER            GRANT             TYPES    \n",
      "ALTER_USER               CREATE_TYPE               INSERT            UPDATE   \n",
      "APPLY                    CREATE_USER               INSERT_JSON       USE      \n",
      "ASCII                    DATE                      INT               UUID     \n",
      "BATCH                    DELETE                    JSON            \n",
      "BEGIN                    DROP_AGGREGATE            KEYWORDS        \n",
      "BLOB                     DROP_COLUMNFAMILY         LIST_PERMISSIONS\n",
      "BOOLEAN                  DROP_FUNCTION             LIST_ROLES      \n",
      "COUNTER                  DROP_INDEX                LIST_USERS      \n",
      "CREATE_AGGREGATE         DROP_KEYSPACE             PERMISSIONS     \n",
      "CREATE_COLUMNFAMILY      DROP_MATERIALIZED_VIEW    REVOKE          \n",
      "CREATE_FUNCTION          DROP_ROLE                 SELECT          \n",
      "CREATE_INDEX             DROP_TABLE                SELECT_JSON     \n",
      "\n"
     ]
    }
   ],
   "source": [
    "!cqlsh cassandra-db-1 -e help"
   ]
  },
  {
   "cell_type": "code",
   "execution_count": 4,
   "id": "f844d222-8368-4962-9900-3bca35abc11c",
   "metadata": {},
   "outputs": [
    {
     "name": "stdout",
     "output_type": "stream",
     "text": [
      "\n",
      "banking  system_auth         system_schema  system_views         \n",
      "system   system_distributed  system_traces  system_virtual_schema\n",
      "\n"
     ]
    }
   ],
   "source": [
    "!cqlsh cassandra-db-1 -e \"describe keyspaces\""
   ]
  },
  {
   "cell_type": "code",
   "execution_count": 5,
   "id": "281e06a7-ef27-4789-9a69-30425999178a",
   "metadata": {},
   "outputs": [],
   "source": [
    "# !cqlsh cassandra-db-1 -e \"use banking\""
   ]
  },
  {
   "cell_type": "code",
   "execution_count": 5,
   "id": "7e9feed3-2842-41cf-a9eb-72816e6bfd95",
   "metadata": {
    "scrolled": true
   },
   "outputs": [
    {
     "name": "stdout",
     "output_type": "stream",
     "text": [
      "\n",
      "Keyspace banking\n",
      "----------------\n",
      "loans\n",
      "\n",
      "Keyspace system\n",
      "---------------\n",
      "available_ranges     paxos_repair_history  sstable_activity       \n",
      "available_ranges_v2  peer_events           sstable_activity_v2    \n",
      "batches              peer_events_v2        table_estimates        \n",
      "built_views          peers                 top_partitions         \n",
      "compaction_history   peers_v2              transferred_ranges     \n",
      "\"IndexInfo\"          prepared_statements   transferred_ranges_v2  \n",
      "local                repairs               view_builds_in_progress\n",
      "paxos                size_estimates      \n",
      "\n",
      "Keyspace system_auth\n",
      "--------------------\n",
      "network_permissions             role_members      roles\n",
      "resource_role_permissons_index  role_permissions\n",
      "\n",
      "Keyspace system_distributed\n",
      "---------------------------\n",
      "parent_repair_history  partition_denylist  repair_history  view_build_status\n",
      "\n",
      "Keyspace system_schema\n",
      "----------------------\n",
      "aggregates  dropped_columns  indexes    tables    types\n",
      "columns     functions        keyspaces  triggers  views\n",
      "\n",
      "Keyspace system_traces\n",
      "----------------------\n",
      "events  sessions\n",
      "\n",
      "Keyspace system_views\n",
      "---------------------\n",
      "batch_metrics              jmx_permissions_cache_keys      repair_validations \n",
      "caches                     local_read_latency              repairs            \n",
      "clients                    local_scan_latency              roles_cache_keys   \n",
      "coordinator_read_latency   local_write_latency             rows_per_read      \n",
      "coordinator_scan_latency   max_partition_size              settings           \n",
      "coordinator_write_latency  network_permissions_cache_keys  sstable_tasks      \n",
      "cql_metrics                pending_hints                   streaming          \n",
      "credentials_cache_keys     permissions_cache_keys          system_properties  \n",
      "disk_usage                 queries                         thread_pools       \n",
      "gossip_info                repair_jobs                     tombstones_per_read\n",
      "internode_inbound          repair_participates           \n",
      "internode_outbound         repair_sessions               \n",
      "\n",
      "Keyspace system_virtual_schema\n",
      "------------------------------\n",
      "columns  keyspaces  tables\n",
      "\n"
     ]
    }
   ],
   "source": [
    "!cqlsh cassandra-db-1 -e \"describe tables\""
   ]
  },
  {
   "cell_type": "code",
   "execution_count": 6,
   "id": "dbce6741-afb3-4b5e-8984-c4a2e4314a76",
   "metadata": {},
   "outputs": [],
   "source": [
    "from cassandra.cluster import Cluster\n",
    "cluster = Cluster([\"cassandra-db-1\", \"cassandra-db-2\", \"cassandra-db-3\"])\n",
    "cass = cluster.connect()"
   ]
  },
  {
   "cell_type": "code",
   "execution_count": 7,
   "id": "56270cac-193b-421a-8360-e34f6f60ef90",
   "metadata": {},
   "outputs": [],
   "source": [
    "# cass.execute(\"create keyspace banking with replication={'class': 'SimpleStrategy', 'replication_factor': 2};\")"
   ]
  },
  {
   "cell_type": "code",
   "execution_count": 8,
   "id": "3c0faaf3-ec01-4ac5-abff-b60f364162aa",
   "metadata": {},
   "outputs": [
    {
     "data": {
      "text/plain": [
       "<cassandra.cluster.ResultSet at 0x76feb580be50>"
      ]
     },
     "execution_count": 8,
     "metadata": {},
     "output_type": "execute_result"
    }
   ],
   "source": [
    "cass.execute(\"use banking\")"
   ]
  },
  {
   "cell_type": "code",
   "execution_count": 9,
   "id": "2ff36fcb-007c-4f83-a68a-5573721f56cb",
   "metadata": {},
   "outputs": [
    {
     "data": {
      "text/plain": [
       "<cassandra.cluster.ResultSet at 0x76feb6947f40>"
      ]
     },
     "execution_count": 9,
     "metadata": {},
     "output_type": "execute_result"
    }
   ],
   "source": [
    "cass.execute(\"drop table if exists loans\")"
   ]
  },
  {
   "cell_type": "code",
   "execution_count": 10,
   "id": "68b17953-22ae-47d3-869f-997db4a85617",
   "metadata": {},
   "outputs": [
    {
     "data": {
      "text/plain": [
       "<cassandra.cluster.ResultSet at 0x76feb580bc70>"
      ]
     },
     "execution_count": 10,
     "metadata": {},
     "output_type": "execute_result"
    }
   ],
   "source": [
    "cass.execute(\"\"\"\n",
    "CREATE TABLE loans (\n",
    "    bank_id INT,\n",
    "    bank_name TEXT STATIC,\n",
    "    loan_id UUID,\n",
    "    amount INT,\n",
    "    state TEXT,\n",
    "    PRIMARY KEY ((bank_id), amount, loan_id)\n",
    ") WITH CLUSTERING ORDER BY (amount DESC, loan_id ASC)\n",
    "\"\"\")"
   ]
  },
  {
   "cell_type": "code",
   "execution_count": 11,
   "id": "d733a453-22e6-4015-ab5c-0409f8b70a90",
   "metadata": {},
   "outputs": [
    {
     "name": "stdout",
     "output_type": "stream",
     "text": [
      "CREATE TABLE banking.loans (\n",
      "    bank_id int,\n",
      "    amount int,\n",
      "    loan_id uuid,\n",
      "    bank_name text static,\n",
      "    state text,\n",
      "    PRIMARY KEY (bank_id, amount, loan_id)\n",
      ") WITH CLUSTERING ORDER BY (amount DESC, loan_id ASC)\n",
      "    AND additional_write_policy = '99p'\n",
      "    AND bloom_filter_fp_chance = 0.01\n",
      "    AND caching = {'keys': 'ALL', 'rows_per_partition': 'NONE'}\n",
      "    AND cdc = false\n",
      "    AND comment = ''\n",
      "    AND compaction = {'class': 'org.apache.cassandra.db.compaction.SizeTieredCompactionStrategy', 'max_threshold': '32', 'min_threshold': '4'}\n",
      "    AND compression = {'chunk_length_in_kb': '16', 'class': 'org.apache.cassandra.io.compress.LZ4Compressor'}\n",
      "    AND memtable = 'default'\n",
      "    AND crc_check_chance = 1.0\n",
      "    AND default_time_to_live = 0\n",
      "    AND extensions = {}\n",
      "    AND gc_grace_seconds = 864000\n",
      "    AND max_index_interval = 2048\n",
      "    AND memtable_flush_period_in_ms = 0\n",
      "    AND min_index_interval = 128\n",
      "    AND read_repair = 'BLOCKING'\n",
      "    AND speculative_retry = '99p';\n"
     ]
    }
   ],
   "source": [
    "print(cass.execute(\"describe table loans\").one().create_statement)"
   ]
  },
  {
   "cell_type": "code",
   "execution_count": 12,
   "id": "f4ff7266-5a68-454d-a935-81b9f2b61990",
   "metadata": {},
   "outputs": [
    {
     "data": {
      "text/plain": [
       "<cassandra.cluster.ResultSet at 0x76feb580b3a0>"
      ]
     },
     "execution_count": 12,
     "metadata": {},
     "output_type": "execute_result"
    }
   ],
   "source": [
    "# INSERT is really UPSERT (meaning update OR insert)\n",
    "cass.execute(\"\"\"\n",
    "INSERT INTO loans (bank_id, bank_name)\n",
    "VALUES (544, 'test2')\n",
    "\"\"\")"
   ]
  },
  {
   "cell_type": "code",
   "execution_count": 13,
   "id": "e9be0d90-5bba-4360-81f3-c1b6b30a48e3",
   "metadata": {},
   "outputs": [
    {
     "data": {
      "text/html": [
       "<div>\n",
       "<style scoped>\n",
       "    .dataframe tbody tr th:only-of-type {\n",
       "        vertical-align: middle;\n",
       "    }\n",
       "\n",
       "    .dataframe tbody tr th {\n",
       "        vertical-align: top;\n",
       "    }\n",
       "\n",
       "    .dataframe thead th {\n",
       "        text-align: right;\n",
       "    }\n",
       "</style>\n",
       "<table border=\"1\" class=\"dataframe\">\n",
       "  <thead>\n",
       "    <tr style=\"text-align: right;\">\n",
       "      <th></th>\n",
       "      <th>bank_id</th>\n",
       "      <th>amount</th>\n",
       "      <th>loan_id</th>\n",
       "      <th>bank_name</th>\n",
       "      <th>state</th>\n",
       "    </tr>\n",
       "  </thead>\n",
       "  <tbody>\n",
       "    <tr>\n",
       "      <th>0</th>\n",
       "      <td>544</td>\n",
       "      <td>None</td>\n",
       "      <td>None</td>\n",
       "      <td>test2</td>\n",
       "      <td>None</td>\n",
       "    </tr>\n",
       "  </tbody>\n",
       "</table>\n",
       "</div>"
      ],
      "text/plain": [
       "   bank_id amount loan_id bank_name state\n",
       "0      544   None    None     test2  None"
      ]
     },
     "execution_count": 13,
     "metadata": {},
     "output_type": "execute_result"
    }
   ],
   "source": [
    "import pandas as pd\n",
    "pd.DataFrame(cass.execute(\"select * from loans\"))"
   ]
  },
  {
   "cell_type": "code",
   "execution_count": 14,
   "id": "fa58e36d-c73d-48e9-aeb6-e51fae623cf1",
   "metadata": {},
   "outputs": [
    {
     "ename": "InvalidRequest",
     "evalue": "Error from server: code=2200 [Invalid query] message=\"Some clustering keys are missing: amount\"",
     "output_type": "error",
     "traceback": [
      "\u001b[0;31m---------------------------------------------------------------------------\u001b[0m",
      "\u001b[0;31mInvalidRequest\u001b[0m                            Traceback (most recent call last)",
      "Cell \u001b[0;32mIn[14], line 1\u001b[0m\n\u001b[0;32m----> 1\u001b[0m \u001b[43mcass\u001b[49m\u001b[38;5;241;43m.\u001b[39;49m\u001b[43mexecute\u001b[49m\u001b[43m(\u001b[49m\u001b[38;5;124;43m\"\"\"\u001b[39;49m\n\u001b[1;32m      2\u001b[0m \u001b[38;5;124;43mINSERT INTO loans (bank_id, bank_name, loan_id)\u001b[39;49m\n\u001b[1;32m      3\u001b[0m \u001b[38;5;124;43mVALUES (544, \u001b[39;49m\u001b[38;5;124;43m'\u001b[39;49m\u001b[38;5;124;43mtest2\u001b[39;49m\u001b[38;5;124;43m'\u001b[39;49m\u001b[38;5;124;43m, UUID())\u001b[39;49m\n\u001b[1;32m      4\u001b[0m \u001b[38;5;124;43m\"\"\"\u001b[39;49m\u001b[43m)\u001b[49m\n",
      "File \u001b[0;32m/usr/local/lib/python3.10/dist-packages/cassandra/cluster.py:2637\u001b[0m, in \u001b[0;36mcassandra.cluster.Session.execute\u001b[0;34m()\u001b[0m\n",
      "File \u001b[0;32m/usr/local/lib/python3.10/dist-packages/cassandra/cluster.py:4920\u001b[0m, in \u001b[0;36mcassandra.cluster.ResponseFuture.result\u001b[0;34m()\u001b[0m\n",
      "\u001b[0;31mInvalidRequest\u001b[0m: Error from server: code=2200 [Invalid query] message=\"Some clustering keys are missing: amount\""
     ]
    }
   ],
   "source": [
    "cass.execute(\"\"\"\n",
    "INSERT INTO loans (bank_id, bank_name, loan_id)\n",
    "VALUES (544, 'test2', UUID())\n",
    "\"\"\")"
   ]
  },
  {
   "cell_type": "code",
   "execution_count": 15,
   "id": "defae743-95c1-47e9-a2b2-cd94e2d1f26e",
   "metadata": {},
   "outputs": [
    {
     "data": {
      "text/plain": [
       "<cassandra.cluster.ResultSet at 0x76fe765174c0>"
      ]
     },
     "execution_count": 15,
     "metadata": {},
     "output_type": "execute_result"
    }
   ],
   "source": [
    "cass.execute(\"\"\"\n",
    "INSERT INTO loans (bank_id, amount, loan_id)\n",
    "VALUES (544, 300, UUID())\n",
    "\"\"\")"
   ]
  },
  {
   "cell_type": "code",
   "execution_count": 16,
   "id": "85cf9612-0f5c-46e7-bdc5-d767e669b0b8",
   "metadata": {},
   "outputs": [
    {
     "data": {
      "text/html": [
       "<div>\n",
       "<style scoped>\n",
       "    .dataframe tbody tr th:only-of-type {\n",
       "        vertical-align: middle;\n",
       "    }\n",
       "\n",
       "    .dataframe tbody tr th {\n",
       "        vertical-align: top;\n",
       "    }\n",
       "\n",
       "    .dataframe thead th {\n",
       "        text-align: right;\n",
       "    }\n",
       "</style>\n",
       "<table border=\"1\" class=\"dataframe\">\n",
       "  <thead>\n",
       "    <tr style=\"text-align: right;\">\n",
       "      <th></th>\n",
       "      <th>bank_id</th>\n",
       "      <th>amount</th>\n",
       "      <th>loan_id</th>\n",
       "      <th>bank_name</th>\n",
       "      <th>state</th>\n",
       "    </tr>\n",
       "  </thead>\n",
       "  <tbody>\n",
       "    <tr>\n",
       "      <th>0</th>\n",
       "      <td>544</td>\n",
       "      <td>300</td>\n",
       "      <td>108214fc-ad20-420e-8430-6a7ed5fa4d69</td>\n",
       "      <td>test2</td>\n",
       "      <td>None</td>\n",
       "    </tr>\n",
       "  </tbody>\n",
       "</table>\n",
       "</div>"
      ],
      "text/plain": [
       "   bank_id  amount                               loan_id bank_name state\n",
       "0      544     300  108214fc-ad20-420e-8430-6a7ed5fa4d69     test2  None"
      ]
     },
     "execution_count": 16,
     "metadata": {},
     "output_type": "execute_result"
    }
   ],
   "source": [
    "pd.DataFrame(cass.execute(\"select * from loans\"))"
   ]
  },
  {
   "cell_type": "code",
   "execution_count": 17,
   "id": "5f7a80d3-65f8-4fc6-aec6-d1ce3c79b49c",
   "metadata": {},
   "outputs": [],
   "source": [
    "# UUID() and NOW() both return a UUID, \n",
    "# but NOW() does better at being unique\n",
    "# NOW () looks at MAC addr, timestamp, seq num"
   ]
  },
  {
   "cell_type": "code",
   "execution_count": 18,
   "id": "d12f4597-8ab5-49f0-a2c5-aba67bc2f826",
   "metadata": {},
   "outputs": [
    {
     "data": {
      "text/plain": [
       "<cassandra.cluster.ResultSet at 0x76fe5e962470>"
      ]
     },
     "execution_count": 18,
     "metadata": {},
     "output_type": "execute_result"
    }
   ],
   "source": [
    "cass.execute(\"\"\"\n",
    "INSERT INTO loans (bank_id, bank_name, amount, loan_id, state)\n",
    "VALUES (544, 'mybank', 400, NOW(), 'wi')\n",
    "\"\"\")"
   ]
  },
  {
   "cell_type": "code",
   "execution_count": 19,
   "id": "59c9acd7-d96b-4dbe-a95b-dda8315b6cbc",
   "metadata": {},
   "outputs": [
    {
     "data": {
      "text/html": [
       "<div>\n",
       "<style scoped>\n",
       "    .dataframe tbody tr th:only-of-type {\n",
       "        vertical-align: middle;\n",
       "    }\n",
       "\n",
       "    .dataframe tbody tr th {\n",
       "        vertical-align: top;\n",
       "    }\n",
       "\n",
       "    .dataframe thead th {\n",
       "        text-align: right;\n",
       "    }\n",
       "</style>\n",
       "<table border=\"1\" class=\"dataframe\">\n",
       "  <thead>\n",
       "    <tr style=\"text-align: right;\">\n",
       "      <th></th>\n",
       "      <th>bank_id</th>\n",
       "      <th>amount</th>\n",
       "      <th>loan_id</th>\n",
       "      <th>bank_name</th>\n",
       "      <th>state</th>\n",
       "    </tr>\n",
       "  </thead>\n",
       "  <tbody>\n",
       "    <tr>\n",
       "      <th>0</th>\n",
       "      <td>544</td>\n",
       "      <td>400</td>\n",
       "      <td>80f3b9d0-b15f-11ee-bb06-5384c159d34b</td>\n",
       "      <td>mybank</td>\n",
       "      <td>wi</td>\n",
       "    </tr>\n",
       "    <tr>\n",
       "      <th>1</th>\n",
       "      <td>544</td>\n",
       "      <td>300</td>\n",
       "      <td>108214fc-ad20-420e-8430-6a7ed5fa4d69</td>\n",
       "      <td>mybank</td>\n",
       "      <td>None</td>\n",
       "    </tr>\n",
       "  </tbody>\n",
       "</table>\n",
       "</div>"
      ],
      "text/plain": [
       "   bank_id  amount                               loan_id bank_name state\n",
       "0      544     400  80f3b9d0-b15f-11ee-bb06-5384c159d34b    mybank    wi\n",
       "1      544     300  108214fc-ad20-420e-8430-6a7ed5fa4d69    mybank  None"
      ]
     },
     "execution_count": 19,
     "metadata": {},
     "output_type": "execute_result"
    }
   ],
   "source": [
    "pd.DataFrame(cass.execute(\"select * from loans\"))"
   ]
  },
  {
   "cell_type": "code",
   "execution_count": 20,
   "id": "f4545beb-44e5-4d6a-aa5c-2f200d17281b",
   "metadata": {},
   "outputs": [
    {
     "data": {
      "text/plain": [
       "<cassandra.cluster.ResultSet at 0x76fe5e908dc0>"
      ]
     },
     "execution_count": 20,
     "metadata": {},
     "output_type": "execute_result"
    }
   ],
   "source": [
    "cass.execute(\"\"\"\n",
    "INSERT INTO loans (bank_id, bank_name, amount, loan_id, state)\n",
    "VALUES (999, 'uwcu', 500, NOW(), 'il')\n",
    "\"\"\")"
   ]
  },
  {
   "cell_type": "code",
   "execution_count": 21,
   "id": "de67d4fa-b3be-4de8-8301-ba4627030dac",
   "metadata": {},
   "outputs": [
    {
     "data": {
      "text/html": [
       "<div>\n",
       "<style scoped>\n",
       "    .dataframe tbody tr th:only-of-type {\n",
       "        vertical-align: middle;\n",
       "    }\n",
       "\n",
       "    .dataframe tbody tr th {\n",
       "        vertical-align: top;\n",
       "    }\n",
       "\n",
       "    .dataframe thead th {\n",
       "        text-align: right;\n",
       "    }\n",
       "</style>\n",
       "<table border=\"1\" class=\"dataframe\">\n",
       "  <thead>\n",
       "    <tr style=\"text-align: right;\">\n",
       "      <th></th>\n",
       "      <th>bank_id</th>\n",
       "      <th>amount</th>\n",
       "      <th>loan_id</th>\n",
       "      <th>bank_name</th>\n",
       "      <th>state</th>\n",
       "    </tr>\n",
       "  </thead>\n",
       "  <tbody>\n",
       "    <tr>\n",
       "      <th>0</th>\n",
       "      <td>544</td>\n",
       "      <td>400</td>\n",
       "      <td>80f3b9d0-b15f-11ee-bb06-5384c159d34b</td>\n",
       "      <td>mybank</td>\n",
       "      <td>wi</td>\n",
       "    </tr>\n",
       "    <tr>\n",
       "      <th>1</th>\n",
       "      <td>544</td>\n",
       "      <td>300</td>\n",
       "      <td>108214fc-ad20-420e-8430-6a7ed5fa4d69</td>\n",
       "      <td>mybank</td>\n",
       "      <td>None</td>\n",
       "    </tr>\n",
       "    <tr>\n",
       "      <th>2</th>\n",
       "      <td>999</td>\n",
       "      <td>500</td>\n",
       "      <td>82d54b10-b15f-11ee-b3cd-bb68e247982e</td>\n",
       "      <td>uwcu</td>\n",
       "      <td>il</td>\n",
       "    </tr>\n",
       "  </tbody>\n",
       "</table>\n",
       "</div>"
      ],
      "text/plain": [
       "   bank_id  amount                               loan_id bank_name state\n",
       "0      544     400  80f3b9d0-b15f-11ee-bb06-5384c159d34b    mybank    wi\n",
       "1      544     300  108214fc-ad20-420e-8430-6a7ed5fa4d69    mybank  None\n",
       "2      999     500  82d54b10-b15f-11ee-b3cd-bb68e247982e      uwcu    il"
      ]
     },
     "execution_count": 21,
     "metadata": {},
     "output_type": "execute_result"
    }
   ],
   "source": [
    "pd.DataFrame(cass.execute(\"select * from loans\"))"
   ]
  },
  {
   "cell_type": "code",
   "execution_count": 22,
   "id": "63ee7df6-52b8-42ac-808e-eeb0a301db9c",
   "metadata": {},
   "outputs": [
    {
     "ename": "InvalidRequest",
     "evalue": "Error from server: code=2200 [Invalid query] message=\"A user type with name 'fullname' already exists\"",
     "output_type": "error",
     "traceback": [
      "\u001b[0;31m---------------------------------------------------------------------------\u001b[0m",
      "\u001b[0;31mInvalidRequest\u001b[0m                            Traceback (most recent call last)",
      "Cell \u001b[0;32mIn[22], line 1\u001b[0m\n\u001b[0;32m----> 1\u001b[0m \u001b[43mcass\u001b[49m\u001b[38;5;241;43m.\u001b[39;49m\u001b[43mexecute\u001b[49m\u001b[43m(\u001b[49m\u001b[38;5;124;43m\"\"\"\u001b[39;49m\n\u001b[1;32m      2\u001b[0m \u001b[38;5;124;43mcreate type FullName (\u001b[39;49m\n\u001b[1;32m      3\u001b[0m \u001b[38;5;124;43m    first TEXT,\u001b[39;49m\n\u001b[1;32m      4\u001b[0m \u001b[38;5;124;43m    last TEXT\u001b[39;49m\n\u001b[1;32m      5\u001b[0m \u001b[38;5;124;43m)\u001b[39;49m\n\u001b[1;32m      6\u001b[0m \u001b[38;5;124;43m\"\"\"\u001b[39;49m\u001b[43m)\u001b[49m\n",
      "File \u001b[0;32m/usr/local/lib/python3.10/dist-packages/cassandra/cluster.py:2637\u001b[0m, in \u001b[0;36mcassandra.cluster.Session.execute\u001b[0;34m()\u001b[0m\n",
      "File \u001b[0;32m/usr/local/lib/python3.10/dist-packages/cassandra/cluster.py:4920\u001b[0m, in \u001b[0;36mcassandra.cluster.ResponseFuture.result\u001b[0;34m()\u001b[0m\n",
      "\u001b[0;31mInvalidRequest\u001b[0m: Error from server: code=2200 [Invalid query] message=\"A user type with name 'fullname' already exists\""
     ]
    }
   ],
   "source": [
    "cass.execute(\"\"\"\n",
    "create type FullName (\n",
    "    first TEXT,\n",
    "    last TEXT\n",
    ")\n",
    "\"\"\")"
   ]
  },
  {
   "cell_type": "code",
   "execution_count": 23,
   "id": "ba459580-caa0-4832-8c3b-d93def1c82bc",
   "metadata": {},
   "outputs": [
    {
     "data": {
      "text/plain": [
       "<cassandra.cluster.ResultSet at 0x76fe77631360>"
      ]
     },
     "execution_count": 23,
     "metadata": {},
     "output_type": "execute_result"
    }
   ],
   "source": [
    "# fast, because we have sparse table\n",
    "cass.execute(\"\"\"\n",
    "alter table loans add (username FullName)\n",
    "\"\"\")"
   ]
  },
  {
   "cell_type": "code",
   "execution_count": 24,
   "id": "4b3d0049-f068-4b1f-942f-3eb2275f60af",
   "metadata": {},
   "outputs": [
    {
     "data": {
      "text/plain": [
       "<cassandra.cluster.ResultSet at 0x76fe5e7c0520>"
      ]
     },
     "execution_count": 24,
     "metadata": {},
     "output_type": "execute_result"
    }
   ],
   "source": [
    "cass.execute(\"\"\"\n",
    "INSERT INTO loans (bank_id, bank_name, amount, loan_id, username)\n",
    "VALUES (999, 'uwcu', 500, NOW(), {first: 'Tyler', last: 'Caraza-Harter'})\n",
    "\"\"\")"
   ]
  },
  {
   "cell_type": "code",
   "execution_count": 25,
   "id": "233139ae-1f0c-4c6e-8913-23c9e01e6c4e",
   "metadata": {},
   "outputs": [
    {
     "data": {
      "text/plain": [
       "<cassandra.cluster.ResultSet at 0x76feb580b370>"
      ]
     },
     "execution_count": 25,
     "metadata": {},
     "output_type": "execute_result"
    }
   ],
   "source": [
    "cass.execute(\"\"\"\n",
    "INSERT INTO loans (bank_id, bank_name, amount, loan_id, username)\n",
    "VALUES (999, 'uwcu', 500, NOW(), {first: 'onlyfirst'})\n",
    "\"\"\")"
   ]
  },
  {
   "cell_type": "code",
   "execution_count": 26,
   "id": "ea61b60d-4361-4611-bbaa-e8b1f8ed96a0",
   "metadata": {},
   "outputs": [
    {
     "data": {
      "text/html": [
       "<div>\n",
       "<style scoped>\n",
       "    .dataframe tbody tr th:only-of-type {\n",
       "        vertical-align: middle;\n",
       "    }\n",
       "\n",
       "    .dataframe tbody tr th {\n",
       "        vertical-align: top;\n",
       "    }\n",
       "\n",
       "    .dataframe thead th {\n",
       "        text-align: right;\n",
       "    }\n",
       "</style>\n",
       "<table border=\"1\" class=\"dataframe\">\n",
       "  <thead>\n",
       "    <tr style=\"text-align: right;\">\n",
       "      <th></th>\n",
       "      <th>username</th>\n",
       "      <th>username_first</th>\n",
       "      <th>username_last</th>\n",
       "    </tr>\n",
       "  </thead>\n",
       "  <tbody>\n",
       "    <tr>\n",
       "      <th>0</th>\n",
       "      <td>None</td>\n",
       "      <td>None</td>\n",
       "      <td>None</td>\n",
       "    </tr>\n",
       "    <tr>\n",
       "      <th>1</th>\n",
       "      <td>None</td>\n",
       "      <td>None</td>\n",
       "      <td>None</td>\n",
       "    </tr>\n",
       "    <tr>\n",
       "      <th>2</th>\n",
       "      <td>None</td>\n",
       "      <td>None</td>\n",
       "      <td>None</td>\n",
       "    </tr>\n",
       "    <tr>\n",
       "      <th>3</th>\n",
       "      <td>(Tyler, Caraza-Harter)</td>\n",
       "      <td>Tyler</td>\n",
       "      <td>Caraza-Harter</td>\n",
       "    </tr>\n",
       "    <tr>\n",
       "      <th>4</th>\n",
       "      <td>(onlyfirst, None)</td>\n",
       "      <td>onlyfirst</td>\n",
       "      <td>None</td>\n",
       "    </tr>\n",
       "  </tbody>\n",
       "</table>\n",
       "</div>"
      ],
      "text/plain": [
       "                 username username_first  username_last\n",
       "0                    None           None           None\n",
       "1                    None           None           None\n",
       "2                    None           None           None\n",
       "3  (Tyler, Caraza-Harter)          Tyler  Caraza-Harter\n",
       "4       (onlyfirst, None)      onlyfirst           None"
      ]
     },
     "execution_count": 26,
     "metadata": {},
     "output_type": "execute_result"
    }
   ],
   "source": [
    "pd.DataFrame(cass.execute(\"select username, username.first, username.last from loans\"))"
   ]
  },
  {
   "cell_type": "markdown",
   "id": "1a968dcc-a3f5-4ba7-a31b-a11dc10249fb",
   "metadata": {},
   "source": [
    "# Prepared Statements"
   ]
  },
  {
   "cell_type": "code",
   "execution_count": 27,
   "id": "8115ed77-9194-4a79-abda-a27dd66c2e36",
   "metadata": {},
   "outputs": [],
   "source": [
    "insert_uwcu = cass.prepare(\"\"\"\n",
    "INSERT INTO loans (bank_id, bank_name, amount, loan_id, username)\n",
    "VALUES (999, 'uwcu', ?, NOW(), {first: ?, last: ?})\n",
    "\"\"\")"
   ]
  },
  {
   "cell_type": "code",
   "execution_count": 28,
   "id": "4c48f48b-b522-44dc-bd95-14e8cb6f70bc",
   "metadata": {},
   "outputs": [],
   "source": [
    "# insert_uwcu.VARIOUS_CONFIG"
   ]
  },
  {
   "cell_type": "code",
   "execution_count": 29,
   "id": "d0382fdf-ae6b-4e05-bd6b-9003d90ab44d",
   "metadata": {},
   "outputs": [
    {
     "data": {
      "text/plain": [
       "<cassandra.cluster.ResultSet at 0x76fe5eb84340>"
      ]
     },
     "execution_count": 29,
     "metadata": {},
     "output_type": "execute_result"
    }
   ],
   "source": [
    "cass.execute(insert_uwcu, (301, \"TestFirst\", \"TestLast\"))"
   ]
  },
  {
   "cell_type": "code",
   "execution_count": 31,
   "id": "7c3f49f0-0376-4bce-b000-9d23569a4cfd",
   "metadata": {},
   "outputs": [
    {
     "data": {
      "text/html": [
       "<div>\n",
       "<style scoped>\n",
       "    .dataframe tbody tr th:only-of-type {\n",
       "        vertical-align: middle;\n",
       "    }\n",
       "\n",
       "    .dataframe tbody tr th {\n",
       "        vertical-align: top;\n",
       "    }\n",
       "\n",
       "    .dataframe thead th {\n",
       "        text-align: right;\n",
       "    }\n",
       "</style>\n",
       "<table border=\"1\" class=\"dataframe\">\n",
       "  <thead>\n",
       "    <tr style=\"text-align: right;\">\n",
       "      <th></th>\n",
       "      <th>bank_id</th>\n",
       "      <th>amount</th>\n",
       "      <th>loan_id</th>\n",
       "      <th>bank_name</th>\n",
       "      <th>state</th>\n",
       "      <th>username</th>\n",
       "    </tr>\n",
       "  </thead>\n",
       "  <tbody>\n",
       "    <tr>\n",
       "      <th>0</th>\n",
       "      <td>544</td>\n",
       "      <td>400</td>\n",
       "      <td>80f3b9d0-b15f-11ee-bb06-5384c159d34b</td>\n",
       "      <td>mybank</td>\n",
       "      <td>wi</td>\n",
       "      <td>None</td>\n",
       "    </tr>\n",
       "    <tr>\n",
       "      <th>1</th>\n",
       "      <td>544</td>\n",
       "      <td>300</td>\n",
       "      <td>108214fc-ad20-420e-8430-6a7ed5fa4d69</td>\n",
       "      <td>mybank</td>\n",
       "      <td>None</td>\n",
       "      <td>None</td>\n",
       "    </tr>\n",
       "    <tr>\n",
       "      <th>2</th>\n",
       "      <td>999</td>\n",
       "      <td>500</td>\n",
       "      <td>82d54b10-b15f-11ee-b3cd-bb68e247982e</td>\n",
       "      <td>uwcu</td>\n",
       "      <td>il</td>\n",
       "      <td>None</td>\n",
       "    </tr>\n",
       "    <tr>\n",
       "      <th>3</th>\n",
       "      <td>999</td>\n",
       "      <td>500</td>\n",
       "      <td>85dc97a0-b15f-11ee-bb06-5384c159d34b</td>\n",
       "      <td>uwcu</td>\n",
       "      <td>None</td>\n",
       "      <td>(Tyler, Caraza-Harter)</td>\n",
       "    </tr>\n",
       "    <tr>\n",
       "      <th>4</th>\n",
       "      <td>999</td>\n",
       "      <td>500</td>\n",
       "      <td>85e7bb30-b15f-11ee-bb36-1badc6008a84</td>\n",
       "      <td>uwcu</td>\n",
       "      <td>None</td>\n",
       "      <td>(onlyfirst, None)</td>\n",
       "    </tr>\n",
       "    <tr>\n",
       "      <th>5</th>\n",
       "      <td>999</td>\n",
       "      <td>301</td>\n",
       "      <td>886872a0-b15f-11ee-bb36-1badc6008a84</td>\n",
       "      <td>uwcu</td>\n",
       "      <td>None</td>\n",
       "      <td>(TestFirst, TestLast)</td>\n",
       "    </tr>\n",
       "  </tbody>\n",
       "</table>\n",
       "</div>"
      ],
      "text/plain": [
       "   bank_id  amount                               loan_id bank_name state  \\\n",
       "0      544     400  80f3b9d0-b15f-11ee-bb06-5384c159d34b    mybank    wi   \n",
       "1      544     300  108214fc-ad20-420e-8430-6a7ed5fa4d69    mybank  None   \n",
       "2      999     500  82d54b10-b15f-11ee-b3cd-bb68e247982e      uwcu    il   \n",
       "3      999     500  85dc97a0-b15f-11ee-bb06-5384c159d34b      uwcu  None   \n",
       "4      999     500  85e7bb30-b15f-11ee-bb36-1badc6008a84      uwcu  None   \n",
       "5      999     301  886872a0-b15f-11ee-bb36-1badc6008a84      uwcu  None   \n",
       "\n",
       "                 username  \n",
       "0                    None  \n",
       "1                    None  \n",
       "2                    None  \n",
       "3  (Tyler, Caraza-Harter)  \n",
       "4       (onlyfirst, None)  \n",
       "5   (TestFirst, TestLast)  "
      ]
     },
     "execution_count": 31,
     "metadata": {},
     "output_type": "execute_result"
    }
   ],
   "source": [
    "pd.DataFrame(cass.execute(\"select * from loans\"))"
   ]
  },
  {
   "cell_type": "code",
   "execution_count": 32,
   "id": "2ffb38e2-d49e-4d6c-bbd1-89b5cfbb3958",
   "metadata": {},
   "outputs": [
    {
     "data": {
      "text/html": [
       "<div>\n",
       "<style scoped>\n",
       "    .dataframe tbody tr th:only-of-type {\n",
       "        vertical-align: middle;\n",
       "    }\n",
       "\n",
       "    .dataframe tbody tr th {\n",
       "        vertical-align: top;\n",
       "    }\n",
       "\n",
       "    .dataframe thead th {\n",
       "        text-align: right;\n",
       "    }\n",
       "</style>\n",
       "<table border=\"1\" class=\"dataframe\">\n",
       "  <thead>\n",
       "    <tr style=\"text-align: right;\">\n",
       "      <th></th>\n",
       "      <th>bank_id</th>\n",
       "      <th>bank_name</th>\n",
       "      <th>system_avg_amount</th>\n",
       "    </tr>\n",
       "  </thead>\n",
       "  <tbody>\n",
       "    <tr>\n",
       "      <th>0</th>\n",
       "      <td>544</td>\n",
       "      <td>mybank</td>\n",
       "      <td>350</td>\n",
       "    </tr>\n",
       "    <tr>\n",
       "      <th>1</th>\n",
       "      <td>999</td>\n",
       "      <td>uwcu</td>\n",
       "      <td>450</td>\n",
       "    </tr>\n",
       "  </tbody>\n",
       "</table>\n",
       "</div>"
      ],
      "text/plain": [
       "   bank_id bank_name  system_avg_amount\n",
       "0      544    mybank                350\n",
       "1      999      uwcu                450"
      ]
     },
     "execution_count": 32,
     "metadata": {},
     "output_type": "execute_result"
    }
   ],
   "source": [
    "pd.DataFrame(cass.execute(\"\"\"\n",
    "SELECT bank_id, bank_name, AVG(amount) \n",
    "FROM loans \n",
    "GROUP BY bank_id\n",
    "\"\"\"))"
   ]
  },
  {
   "cell_type": "code",
   "execution_count": 33,
   "id": "afce293b-1f6f-4177-b7c1-2c8db1a4014e",
   "metadata": {},
   "outputs": [],
   "source": [
    "# can only group by partition (Cassandra limitation)\n",
    "# pd.DataFrame(cass.execute(\"\"\"\n",
    "# SELECT state, AVG(amount) \n",
    "# FROM loans \n",
    "# GROUP BY state\n",
    "# \"\"\"))"
   ]
  },
  {
   "cell_type": "code",
   "execution_count": 34,
   "id": "d3b9719f-3d61-44aa-8e9f-d3142c320a67",
   "metadata": {},
   "outputs": [
    {
     "name": "stdout",
     "output_type": "stream",
     "text": [
      ":: loading settings :: url = jar:file:/usr/local/lib/python3.10/dist-packages/pyspark/jars/ivy-2.5.1.jar!/org/apache/ivy/core/settings/ivysettings.xml\n"
     ]
    },
    {
     "name": "stderr",
     "output_type": "stream",
     "text": [
      "Ivy Default Cache set to: /root/.ivy2/cache\n",
      "The jars for the packages stored in: /root/.ivy2/jars\n",
      "com.datastax.spark#spark-cassandra-connector_2.12 added as a dependency\n",
      ":: resolving dependencies :: org.apache.spark#spark-submit-parent-3137f25e-3dda-42de-b1f7-7c844df19c46;1.0\n",
      "\tconfs: [default]\n",
      "\tfound com.datastax.spark#spark-cassandra-connector_2.12;3.4.0 in central\n",
      "\tfound com.datastax.spark#spark-cassandra-connector-driver_2.12;3.4.0 in central\n",
      "\tfound com.datastax.oss#java-driver-core-shaded;4.13.0 in central\n",
      "\tfound com.datastax.oss#native-protocol;1.5.0 in central\n",
      "\tfound com.datastax.oss#java-driver-shaded-guava;25.1-jre-graal-sub-1 in central\n",
      "\tfound com.typesafe#config;1.4.1 in central\n",
      "\tfound org.slf4j#slf4j-api;1.7.26 in central\n",
      "\tfound io.dropwizard.metrics#metrics-core;4.1.18 in central\n",
      "\tfound org.hdrhistogram#HdrHistogram;2.1.12 in central\n",
      "\tfound org.reactivestreams#reactive-streams;1.0.3 in central\n",
      "\tfound com.github.stephenc.jcip#jcip-annotations;1.0-1 in central\n",
      "\tfound com.github.spotbugs#spotbugs-annotations;3.1.12 in central\n",
      "\tfound com.google.code.findbugs#jsr305;3.0.2 in central\n",
      "\tfound com.datastax.oss#java-driver-mapper-runtime;4.13.0 in central\n",
      "\tfound com.datastax.oss#java-driver-query-builder;4.13.0 in central\n",
      "\tfound org.apache.commons#commons-lang3;3.10 in central\n",
      "\tfound com.thoughtworks.paranamer#paranamer;2.8 in central\n",
      "\tfound org.scala-lang#scala-reflect;2.12.11 in central\n",
      ":: resolution report :: resolve 276ms :: artifacts dl 11ms\n",
      "\t:: modules in use:\n",
      "\tcom.datastax.oss#java-driver-core-shaded;4.13.0 from central in [default]\n",
      "\tcom.datastax.oss#java-driver-mapper-runtime;4.13.0 from central in [default]\n",
      "\tcom.datastax.oss#java-driver-query-builder;4.13.0 from central in [default]\n",
      "\tcom.datastax.oss#java-driver-shaded-guava;25.1-jre-graal-sub-1 from central in [default]\n",
      "\tcom.datastax.oss#native-protocol;1.5.0 from central in [default]\n",
      "\tcom.datastax.spark#spark-cassandra-connector-driver_2.12;3.4.0 from central in [default]\n",
      "\tcom.datastax.spark#spark-cassandra-connector_2.12;3.4.0 from central in [default]\n",
      "\tcom.github.spotbugs#spotbugs-annotations;3.1.12 from central in [default]\n",
      "\tcom.github.stephenc.jcip#jcip-annotations;1.0-1 from central in [default]\n",
      "\tcom.google.code.findbugs#jsr305;3.0.2 from central in [default]\n",
      "\tcom.thoughtworks.paranamer#paranamer;2.8 from central in [default]\n",
      "\tcom.typesafe#config;1.4.1 from central in [default]\n",
      "\tio.dropwizard.metrics#metrics-core;4.1.18 from central in [default]\n",
      "\torg.apache.commons#commons-lang3;3.10 from central in [default]\n",
      "\torg.hdrhistogram#HdrHistogram;2.1.12 from central in [default]\n",
      "\torg.reactivestreams#reactive-streams;1.0.3 from central in [default]\n",
      "\torg.scala-lang#scala-reflect;2.12.11 from central in [default]\n",
      "\torg.slf4j#slf4j-api;1.7.26 from central in [default]\n",
      "\t---------------------------------------------------------------------\n",
      "\t|                  |            modules            ||   artifacts   |\n",
      "\t|       conf       | number| search|dwnlded|evicted|| number|dwnlded|\n",
      "\t---------------------------------------------------------------------\n",
      "\t|      default     |   18  |   0   |   0   |   0   ||   18  |   0   |\n",
      "\t---------------------------------------------------------------------\n",
      ":: retrieving :: org.apache.spark#spark-submit-parent-3137f25e-3dda-42de-b1f7-7c844df19c46\n",
      "\tconfs: [default]\n",
      "\t0 artifacts copied, 18 already retrieved (0kB/6ms)\n",
      "24/01/12 17:10:35 WARN NativeCodeLoader: Unable to load native-hadoop library for your platform... using builtin-java classes where applicable\n",
      "Setting default log level to \"WARN\".\n",
      "To adjust logging level use sc.setLogLevel(newLevel). For SparkR, use setLogLevel(newLevel).\n"
     ]
    }
   ],
   "source": [
    "from pyspark.sql import SparkSession\n",
    "spark = (SparkSession.builder\n",
    "         .appName(\"cs544\")\n",
    "         .config('spark.jars.packages', 'com.datastax.spark:spark-cassandra-connector_2.12:3.4.0')\n",
    "         .config(\"spark.sql.extensions\", \"com.datastax.spark.connector.CassandraSparkExtensions\")\n",
    "         .getOrCreate())"
   ]
  },
  {
   "cell_type": "code",
   "execution_count": 35,
   "id": "b252da95-2078-4439-b513-7bf7c2f90d74",
   "metadata": {},
   "outputs": [],
   "source": [
    "# catalog name `mycat`, i can change that\n",
    "spark.conf.set(\"spark.sql.catalog.mycat\", \n",
    "               \"com.datastax.spark.connector.datasource.CassandraCatalog\")\n",
    "spark.conf.set(\"spark.sql.catalog.mycat.spark.cassandra.connection.host\", \n",
    "               \"cassandra-db-1,cassandra-db-2,cassandra-db-3\")"
   ]
  },
  {
   "cell_type": "code",
   "execution_count": 36,
   "id": "22765018-351c-487e-bbb9-fc1cf738513d",
   "metadata": {},
   "outputs": [
    {
     "data": {
      "text/plain": [
       "DataFrame[bank_id: int, amount: int, loan_id: string, state: string, username: struct<first:string,last:string>, bank_name: string]"
      ]
     },
     "execution_count": 36,
     "metadata": {},
     "output_type": "execute_result"
    }
   ],
   "source": [
    "spark.sql(\"\"\"\n",
    "SELECT *\n",
    "FROM mycat.banking.loans\n",
    "\"\"\")"
   ]
  },
  {
   "cell_type": "code",
   "execution_count": 37,
   "id": "db60da65-a1bf-4a61-8962-b70fafa9c16d",
   "metadata": {},
   "outputs": [
    {
     "data": {
      "text/html": [
       "<div>\n",
       "<style scoped>\n",
       "    .dataframe tbody tr th:only-of-type {\n",
       "        vertical-align: middle;\n",
       "    }\n",
       "\n",
       "    .dataframe tbody tr th {\n",
       "        vertical-align: top;\n",
       "    }\n",
       "\n",
       "    .dataframe thead th {\n",
       "        text-align: right;\n",
       "    }\n",
       "</style>\n",
       "<table border=\"1\" class=\"dataframe\">\n",
       "  <thead>\n",
       "    <tr style=\"text-align: right;\">\n",
       "      <th></th>\n",
       "      <th>bank_id</th>\n",
       "      <th>amount</th>\n",
       "      <th>loan_id</th>\n",
       "      <th>state</th>\n",
       "      <th>username</th>\n",
       "      <th>bank_name</th>\n",
       "    </tr>\n",
       "  </thead>\n",
       "  <tbody>\n",
       "    <tr>\n",
       "      <th>0</th>\n",
       "      <td>544</td>\n",
       "      <td>400</td>\n",
       "      <td>80f3b9d0-b15f-11ee-bb06-5384c159d34b</td>\n",
       "      <td>wi</td>\n",
       "      <td>None</td>\n",
       "      <td>mybank</td>\n",
       "    </tr>\n",
       "    <tr>\n",
       "      <th>1</th>\n",
       "      <td>544</td>\n",
       "      <td>300</td>\n",
       "      <td>108214fc-ad20-420e-8430-6a7ed5fa4d69</td>\n",
       "      <td>None</td>\n",
       "      <td>None</td>\n",
       "      <td>mybank</td>\n",
       "    </tr>\n",
       "    <tr>\n",
       "      <th>2</th>\n",
       "      <td>999</td>\n",
       "      <td>500</td>\n",
       "      <td>82d54b10-b15f-11ee-b3cd-bb68e247982e</td>\n",
       "      <td>il</td>\n",
       "      <td>None</td>\n",
       "      <td>uwcu</td>\n",
       "    </tr>\n",
       "    <tr>\n",
       "      <th>3</th>\n",
       "      <td>999</td>\n",
       "      <td>500</td>\n",
       "      <td>85dc97a0-b15f-11ee-bb06-5384c159d34b</td>\n",
       "      <td>None</td>\n",
       "      <td>(Tyler, Caraza-Harter)</td>\n",
       "      <td>uwcu</td>\n",
       "    </tr>\n",
       "    <tr>\n",
       "      <th>4</th>\n",
       "      <td>999</td>\n",
       "      <td>500</td>\n",
       "      <td>85e7bb30-b15f-11ee-bb36-1badc6008a84</td>\n",
       "      <td>None</td>\n",
       "      <td>(onlyfirst, None)</td>\n",
       "      <td>uwcu</td>\n",
       "    </tr>\n",
       "    <tr>\n",
       "      <th>5</th>\n",
       "      <td>999</td>\n",
       "      <td>301</td>\n",
       "      <td>886872a0-b15f-11ee-bb36-1badc6008a84</td>\n",
       "      <td>None</td>\n",
       "      <td>(TestFirst, TestLast)</td>\n",
       "      <td>uwcu</td>\n",
       "    </tr>\n",
       "  </tbody>\n",
       "</table>\n",
       "</div>"
      ],
      "text/plain": [
       "   bank_id  amount                               loan_id state  \\\n",
       "0      544     400  80f3b9d0-b15f-11ee-bb06-5384c159d34b    wi   \n",
       "1      544     300  108214fc-ad20-420e-8430-6a7ed5fa4d69  None   \n",
       "2      999     500  82d54b10-b15f-11ee-b3cd-bb68e247982e    il   \n",
       "3      999     500  85dc97a0-b15f-11ee-bb06-5384c159d34b  None   \n",
       "4      999     500  85e7bb30-b15f-11ee-bb36-1badc6008a84  None   \n",
       "5      999     301  886872a0-b15f-11ee-bb36-1badc6008a84  None   \n",
       "\n",
       "                 username bank_name  \n",
       "0                    None    mybank  \n",
       "1                    None    mybank  \n",
       "2                    None      uwcu  \n",
       "3  (Tyler, Caraza-Harter)      uwcu  \n",
       "4       (onlyfirst, None)      uwcu  \n",
       "5   (TestFirst, TestLast)      uwcu  "
      ]
     },
     "execution_count": 37,
     "metadata": {},
     "output_type": "execute_result"
    }
   ],
   "source": [
    "spark.sql(\"\"\"\n",
    "SELECT *\n",
    "FROM mycat.banking.loans\n",
    "\"\"\").toPandas()"
   ]
  },
  {
   "cell_type": "code",
   "execution_count": 38,
   "id": "5e8423f4-bcce-4f72-8a02-bb08974e98ae",
   "metadata": {},
   "outputs": [
    {
     "data": {
      "text/html": [
       "<div>\n",
       "<style scoped>\n",
       "    .dataframe tbody tr th:only-of-type {\n",
       "        vertical-align: middle;\n",
       "    }\n",
       "\n",
       "    .dataframe tbody tr th {\n",
       "        vertical-align: top;\n",
       "    }\n",
       "\n",
       "    .dataframe thead th {\n",
       "        text-align: right;\n",
       "    }\n",
       "</style>\n",
       "<table border=\"1\" class=\"dataframe\">\n",
       "  <thead>\n",
       "    <tr style=\"text-align: right;\">\n",
       "      <th></th>\n",
       "      <th>state</th>\n",
       "      <th>avg(amount)</th>\n",
       "    </tr>\n",
       "  </thead>\n",
       "  <tbody>\n",
       "    <tr>\n",
       "      <th>0</th>\n",
       "      <td>il</td>\n",
       "      <td>500.00</td>\n",
       "    </tr>\n",
       "    <tr>\n",
       "      <th>1</th>\n",
       "      <td>None</td>\n",
       "      <td>400.25</td>\n",
       "    </tr>\n",
       "    <tr>\n",
       "      <th>2</th>\n",
       "      <td>wi</td>\n",
       "      <td>400.00</td>\n",
       "    </tr>\n",
       "  </tbody>\n",
       "</table>\n",
       "</div>"
      ],
      "text/plain": [
       "  state  avg(amount)\n",
       "0    il       500.00\n",
       "1  None       400.25\n",
       "2    wi       400.00"
      ]
     },
     "execution_count": 38,
     "metadata": {},
     "output_type": "execute_result"
    }
   ],
   "source": [
    "spark.sql(\"\"\"\n",
    "select state, AVG(amount) \n",
    "from mycat.banking.loans\n",
    "GROUP BY state\n",
    "\"\"\").toPandas()"
   ]
  },
  {
   "cell_type": "code",
   "execution_count": 39,
   "id": "3000f850-bb7b-45e9-918a-3c435f565376",
   "metadata": {},
   "outputs": [],
   "source": [
    "# dump OLTP to parquet in HDFS, or, Hive, or wherever, and \n",
    "# use for OLAP\n",
    "# spark.sql(\"\"\"\n",
    "# SELECT *\n",
    "# FROM mycat.banking.loans\n",
    "# \"\"\").write..."
   ]
  },
  {
   "cell_type": "code",
   "execution_count": 40,
   "id": "bf9d68c4-1fde-464b-af73-6989d029b8df",
   "metadata": {},
   "outputs": [],
   "source": [
    "# Spark is great from ETL pipelines"
   ]
  },
  {
   "cell_type": "markdown",
   "id": "cdb9c634-5871-4d64-9ea5-25ca83746d7c",
   "metadata": {},
   "source": [
    "cassandra goal is highly available,\n",
    "    boss nodes are single point of failure\n",
    "    \n",
    "whereas HBase are BigTable are highly reliable but not available"
   ]
  },
  {
   "cell_type": "markdown",
   "id": "ec563ed5-3023-4381-978e-bbb39695ccff",
   "metadata": {},
   "source": [
    "Partitioning "
   ]
  },
  {
   "cell_type": "markdown",
   "id": "5ba58592-f33c-4d0e-b1b8-73fa81a92b7f",
   "metadata": {},
   "source": [
    "Elasticity"
   ]
  },
  {
   "cell_type": "markdown",
   "id": "2eae0bb7-c313-4522-bea2-24e9c8966903",
   "metadata": {},
   "source": [
    "Consistent Hashing"
   ]
  },
  {
   "cell_type": "markdown",
   "id": "428cbb0d-5945-479d-996a-730d5da124c3",
   "metadata": {},
   "source": [
    "merkle tree"
   ]
  },
  {
   "cell_type": "markdown",
   "id": "0ca9783b-4657-46cd-b7e0-58e311d078be",
   "metadata": {},
   "source": [
    "# Hash Partitioning Example: Not Elastic"
   ]
  },
  {
   "cell_type": "code",
   "execution_count": 45,
   "id": "67fcc993-fd85-46ab-b297-abfd55df4367",
   "metadata": {},
   "outputs": [],
   "source": [
    "import pandas as pd\n",
    "import string"
   ]
  },
  {
   "cell_type": "code",
   "execution_count": 46,
   "id": "62ac69d2-fe3f-472d-badd-e6d8a4730af9",
   "metadata": {},
   "outputs": [
    {
     "data": {
      "text/plain": [
       "'ABCDEFGHIJKLMNOPQRSTUVWXYZ'"
      ]
     },
     "execution_count": 46,
     "metadata": {},
     "output_type": "execute_result"
    }
   ],
   "source": [
    "string.ascii_uppercase"
   ]
  },
  {
   "cell_type": "code",
   "execution_count": 47,
   "id": "86a3109e-e6f1-4953-9dec-7b375ba60fc5",
   "metadata": {},
   "outputs": [
    {
     "data": {
      "text/html": [
       "<div>\n",
       "<style scoped>\n",
       "    .dataframe tbody tr th:only-of-type {\n",
       "        vertical-align: middle;\n",
       "    }\n",
       "\n",
       "    .dataframe tbody tr th {\n",
       "        vertical-align: top;\n",
       "    }\n",
       "\n",
       "    .dataframe thead th {\n",
       "        text-align: right;\n",
       "    }\n",
       "</style>\n",
       "<table border=\"1\" class=\"dataframe\">\n",
       "  <thead>\n",
       "    <tr style=\"text-align: right;\">\n",
       "      <th></th>\n",
       "      <th>letter</th>\n",
       "    </tr>\n",
       "  </thead>\n",
       "  <tbody>\n",
       "    <tr>\n",
       "      <th>0</th>\n",
       "      <td>A</td>\n",
       "    </tr>\n",
       "    <tr>\n",
       "      <th>1</th>\n",
       "      <td>B</td>\n",
       "    </tr>\n",
       "    <tr>\n",
       "      <th>2</th>\n",
       "      <td>C</td>\n",
       "    </tr>\n",
       "    <tr>\n",
       "      <th>3</th>\n",
       "      <td>D</td>\n",
       "    </tr>\n",
       "    <tr>\n",
       "      <th>4</th>\n",
       "      <td>E</td>\n",
       "    </tr>\n",
       "  </tbody>\n",
       "</table>\n",
       "</div>"
      ],
      "text/plain": [
       "  letter\n",
       "0      A\n",
       "1      B\n",
       "2      C\n",
       "3      D\n",
       "4      E"
      ]
     },
     "execution_count": 47,
     "metadata": {},
     "output_type": "execute_result"
    }
   ],
   "source": [
    "df = pd.DataFrame({\"letter\": list(string.ascii_uppercase)})\n",
    "df.head()"
   ]
  },
  {
   "cell_type": "code",
   "execution_count": 48,
   "id": "06ae82ef-ba4e-4415-a6e9-5ab86ef27d31",
   "metadata": {},
   "outputs": [
    {
     "data": {
      "text/html": [
       "<div>\n",
       "<style scoped>\n",
       "    .dataframe tbody tr th:only-of-type {\n",
       "        vertical-align: middle;\n",
       "    }\n",
       "\n",
       "    .dataframe tbody tr th {\n",
       "        vertical-align: top;\n",
       "    }\n",
       "\n",
       "    .dataframe thead th {\n",
       "        text-align: right;\n",
       "    }\n",
       "</style>\n",
       "<table border=\"1\" class=\"dataframe\">\n",
       "  <thead>\n",
       "    <tr style=\"text-align: right;\">\n",
       "      <th></th>\n",
       "      <th>letter</th>\n",
       "      <th>partition-before</th>\n",
       "    </tr>\n",
       "  </thead>\n",
       "  <tbody>\n",
       "    <tr>\n",
       "      <th>0</th>\n",
       "      <td>A</td>\n",
       "      <td>2</td>\n",
       "    </tr>\n",
       "    <tr>\n",
       "      <th>1</th>\n",
       "      <td>B</td>\n",
       "      <td>3</td>\n",
       "    </tr>\n",
       "    <tr>\n",
       "      <th>2</th>\n",
       "      <td>C</td>\n",
       "      <td>2</td>\n",
       "    </tr>\n",
       "    <tr>\n",
       "      <th>3</th>\n",
       "      <td>D</td>\n",
       "      <td>1</td>\n",
       "    </tr>\n",
       "    <tr>\n",
       "      <th>4</th>\n",
       "      <td>E</td>\n",
       "      <td>0</td>\n",
       "    </tr>\n",
       "  </tbody>\n",
       "</table>\n",
       "</div>"
      ],
      "text/plain": [
       "  letter  partition-before\n",
       "0      A                 2\n",
       "1      B                 3\n",
       "2      C                 2\n",
       "3      D                 1\n",
       "4      E                 0"
      ]
     },
     "execution_count": 48,
     "metadata": {},
     "output_type": "execute_result"
    }
   ],
   "source": [
    "df[\"partition-before\"] = df[\"letter\"].apply(lambda letter: hash(letter) % 4)\n",
    "df.head()"
   ]
  },
  {
   "cell_type": "code",
   "execution_count": 49,
   "id": "a2ff015e-42a6-4772-8529-de3179ac81ac",
   "metadata": {},
   "outputs": [
    {
     "data": {
      "text/html": [
       "<div>\n",
       "<style scoped>\n",
       "    .dataframe tbody tr th:only-of-type {\n",
       "        vertical-align: middle;\n",
       "    }\n",
       "\n",
       "    .dataframe tbody tr th {\n",
       "        vertical-align: top;\n",
       "    }\n",
       "\n",
       "    .dataframe thead th {\n",
       "        text-align: right;\n",
       "    }\n",
       "</style>\n",
       "<table border=\"1\" class=\"dataframe\">\n",
       "  <thead>\n",
       "    <tr style=\"text-align: right;\">\n",
       "      <th></th>\n",
       "      <th>letter</th>\n",
       "      <th>partition-before</th>\n",
       "      <th>partition-after</th>\n",
       "    </tr>\n",
       "  </thead>\n",
       "  <tbody>\n",
       "    <tr>\n",
       "      <th>0</th>\n",
       "      <td>A</td>\n",
       "      <td>2</td>\n",
       "      <td>0</td>\n",
       "    </tr>\n",
       "    <tr>\n",
       "      <th>1</th>\n",
       "      <td>B</td>\n",
       "      <td>3</td>\n",
       "      <td>1</td>\n",
       "    </tr>\n",
       "    <tr>\n",
       "      <th>2</th>\n",
       "      <td>C</td>\n",
       "      <td>2</td>\n",
       "      <td>2</td>\n",
       "    </tr>\n",
       "    <tr>\n",
       "      <th>3</th>\n",
       "      <td>D</td>\n",
       "      <td>1</td>\n",
       "      <td>2</td>\n",
       "    </tr>\n",
       "    <tr>\n",
       "      <th>4</th>\n",
       "      <td>E</td>\n",
       "      <td>0</td>\n",
       "      <td>3</td>\n",
       "    </tr>\n",
       "  </tbody>\n",
       "</table>\n",
       "</div>"
      ],
      "text/plain": [
       "  letter  partition-before  partition-after\n",
       "0      A                 2                0\n",
       "1      B                 3                1\n",
       "2      C                 2                2\n",
       "3      D                 1                2\n",
       "4      E                 0                3"
      ]
     },
     "execution_count": 49,
     "metadata": {},
     "output_type": "execute_result"
    }
   ],
   "source": [
    "df[\"partition-after\"] = df[\"letter\"].apply(lambda letter: hash(letter) % 5)\n",
    "df.head()"
   ]
  },
  {
   "cell_type": "code",
   "execution_count": 51,
   "id": "b84d0d47-d506-464b-82c6-e55b25cdced9",
   "metadata": {},
   "outputs": [
    {
     "data": {
      "text/plain": [
       "0.15384615384615385"
      ]
     },
     "execution_count": 51,
     "metadata": {},
     "output_type": "execute_result"
    }
   ],
   "source": [
    "# only 15.3% stayed with the same partition number\n",
    "(df[\"partition-before\"] == df[\"partition-after\"]).mean()"
   ]
  },
  {
   "cell_type": "markdown",
   "id": "d7177d03-ff3b-42c8-841d-2d79cde76dab",
   "metadata": {},
   "source": [
    "# https://mediaspace.wisc.edu/media/Tyler%20Caraza-Harter-Noland%20132-11_08_23-13%3A18%3A45/1_0785i0x0"
   ]
  },
  {
   "cell_type": "code",
   "execution_count": 42,
   "id": "34637821-0af6-46a0-802a-8d458eeb0701",
   "metadata": {},
   "outputs": [
    {
     "name": "stdout",
     "output_type": "stream",
     "text": [
      "\n",
      "Datacenter: datacenter1\n",
      "==========\n",
      "Address          Rack        Status State   Load            Owns                Token                                       \n",
      "                                                                                9136487762688204160                         \n",
      "172.30.0.3       rack1       Up     Normal  274 KiB         100.00%             -8880207632489486139                        \n",
      "172.30.0.4       rack1       Up     Normal  260.09 KiB      100.00%             -8842701675031596006                        \n",
      "172.30.0.2       rack1       Up     Normal  259.35 KiB      100.00%             -8230883503573745797                        \n",
      "172.30.0.3       rack1       Up     Normal  274 KiB         100.00%             -7808707016149453326                        \n",
      "172.30.0.4       rack1       Up     Normal  260.09 KiB      100.00%             -7599181669351004032                        \n",
      "172.30.0.2       rack1       Up     Normal  259.35 KiB      100.00%             -6987363497893153823                        \n",
      "172.30.0.3       rack1       Up     Normal  274 KiB         100.00%             -6790855611407026310                        \n",
      "172.30.0.4       rack1       Up     Normal  260.09 KiB      100.00%             -6631817426272468533                        \n",
      "172.30.0.2       rack1       Up     Normal  259.35 KiB      100.00%             -6019999254814618324                        \n",
      "172.30.0.3       rack1       Up     Normal  274 KiB         100.00%             -5973183678794675516                        \n",
      "172.30.0.4       rack1       Up     Normal  260.09 KiB      100.00%             -5041812873758569895                        \n",
      "172.30.0.3       rack1       Up     Normal  274 KiB         100.00%             -4897427797569095976                        \n",
      "172.30.0.2       rack1       Up     Normal  259.35 KiB      100.00%             -4429994702300719686                        \n",
      "172.30.0.3       rack1       Up     Normal  274 KiB         100.00%             -4161512104858202335                        \n",
      "172.30.0.4       rack1       Up     Normal  260.09 KiB      100.00%             -3422789578061526598                        \n",
      "172.30.0.3       rack1       Up     Normal  274 KiB         100.00%             -3082139297410600678                        \n",
      "172.30.0.2       rack1       Up     Normal  259.35 KiB      100.00%             -2810971406603676389                        \n",
      "172.30.0.4       rack1       Up     Normal  260.09 KiB      100.00%             -2444644125545412523                        \n",
      "172.30.0.3       rack1       Up     Normal  274 KiB         100.00%             -1838619291730008704                        \n",
      "172.30.0.2       rack1       Up     Normal  259.35 KiB      100.00%             -1832825954087562314                        \n",
      "172.30.0.3       rack1       Up     Normal  274 KiB         100.00%             -871255048651473206                         \n",
      "172.30.0.4       rack1       Up     Normal  260.09 KiB      100.00%             -666009824721825394                         \n",
      "172.30.0.2       rack1       Up     Normal  259.35 KiB      100.00%             -54191653263975185                          \n",
      "172.30.0.4       rack1       Up     Normal  260.09 KiB      100.00%             430032075513112894                          \n",
      "172.30.0.3       rack1       Up     Normal  274 KiB         100.00%             718749503862425431                          \n",
      "172.30.0.2       rack1       Up     Normal  259.35 KiB      100.00%             1041850246970963103                         \n",
      "172.30.0.4       rack1       Up     Normal  260.09 KiB      100.00%             1521329186205325153                         \n",
      "172.30.0.2       rack1       Up     Normal  259.35 KiB      100.00%             2133147357663175362                         \n",
      "172.30.0.3       rack1       Up     Normal  274 KiB         100.00%             2337772799559468728                         \n",
      "172.30.0.4       rack1       Up     Normal  260.09 KiB      100.00%             2365705833696486910                         \n",
      "172.30.0.2       rack1       Up     Normal  259.35 KiB      100.00%             2977524005154337119                         \n",
      "172.30.0.3       rack1       Up     Normal  274 KiB         100.00%             3315918252075582804                         \n",
      "172.30.0.4       rack1       Up     Normal  260.09 KiB      100.00%             3805974063599070148                         \n",
      "172.30.0.2       rack1       Up     Normal  259.35 KiB      100.00%             4417792235056920357                         \n",
      "172.30.0.4       rack1       Up     Normal  260.09 KiB      100.00%             4877474679939102961                         \n",
      "172.30.0.3       rack1       Up     Normal  274 KiB         100.00%             5094552552899169932                         \n",
      "172.30.0.2       rack1       Up     Normal  259.35 KiB      100.00%             5489292851396953170                         \n",
      "172.30.0.4       rack1       Up     Normal  260.09 KiB      100.00%             5895326084681529976                         \n",
      "172.30.0.3       rack1       Up     Normal  274 KiB         100.00%             6190594453134108221                         \n",
      "172.30.0.2       rack1       Up     Normal  259.35 KiB      100.00%             6507144256139380185                         \n",
      "172.30.0.4       rack1       Up     Normal  260.09 KiB      100.00%             6712998017293880771                         \n",
      "172.30.0.3       rack1       Up     Normal  274 KiB         100.00%             7281891563826320480                         \n",
      "172.30.0.2       rack1       Up     Normal  259.35 KiB      100.00%             7324816188751730980                         \n",
      "172.30.0.4       rack1       Up     Normal  260.09 KiB      100.00%             7788753898519460310                         \n",
      "172.30.0.3       rack1       Up     Normal  274 KiB         100.00%             8126268211317482238                         \n",
      "172.30.0.2       rack1       Up     Normal  259.35 KiB      100.00%             8400572069977310519                         \n",
      "172.30.0.4       rack1       Up     Normal  260.09 KiB      100.00%             8524669591230353951                         \n",
      "172.30.0.2       rack1       Up     Normal  259.35 KiB      100.00%             9136487762688204160                         \n",
      "\n",
      "  Warning: \"nodetool ring\" is used to output all the tokens of a node.\n",
      "  To view status related info of a node use \"nodetool status\" instead.\n",
      "\n",
      "\n",
      "  "
     ]
    }
   ],
   "source": [
    "!nodetool ring"
   ]
  },
  {
   "cell_type": "code",
   "execution_count": 43,
   "id": "958c51a6-a29d-4b67-a61b-fc9b7cd51f1c",
   "metadata": {},
   "outputs": [
    {
     "name": "stdout",
     "output_type": "stream",
     "text": [
      "     58     420    6433\n"
     ]
    }
   ],
   "source": [
    "!nodetool ring | wc"
   ]
  },
  {
   "cell_type": "code",
   "execution_count": 46,
   "id": "6e663c5a-1d22-4853-bb84-b0028781ce1c",
   "metadata": {},
   "outputs": [
    {
     "name": "stdout",
     "output_type": "stream",
     "text": [
      "\n",
      " \u001b[0;1;31mbank_id\u001b[0m | \u001b[0;1;36mamount\u001b[0m | \u001b[0;1;36mloan_id\u001b[0m                              | \u001b[0;1;37mbank_name\u001b[0m | \u001b[0;1;35mstate\u001b[0m | \u001b[0;1;35musername\u001b[0m\n",
      "---------+--------+--------------------------------------+-----------+-------+-----------------------------------------\n",
      "     \u001b[0;1;32m544\u001b[0m |    \u001b[0;1;32m400\u001b[0m | \u001b[0;1;32m80f3b9d0-b15f-11ee-bb06-5384c159d34b\u001b[0m |    \u001b[0;1;33mmybank\u001b[0m |    \u001b[0;1;33mwi\u001b[0m |                                    \u001b[0;1;31mnull\u001b[0m\n",
      "     \u001b[0;1;32m544\u001b[0m |    \u001b[0;1;32m300\u001b[0m | \u001b[0;1;32m108214fc-ad20-420e-8430-6a7ed5fa4d69\u001b[0m |    \u001b[0;1;33mmybank\u001b[0m |  \u001b[0;1;31mnull\u001b[0m |                                    \u001b[0;1;31mnull\u001b[0m\n",
      "     \u001b[0;1;32m999\u001b[0m |    \u001b[0;1;32m500\u001b[0m | \u001b[0;1;32m82d54b10-b15f-11ee-b3cd-bb68e247982e\u001b[0m |      \u001b[0;1;33muwcu\u001b[0m |    \u001b[0;1;33mil\u001b[0m |                                    \u001b[0;1;31mnull\u001b[0m\n",
      "     \u001b[0;1;32m999\u001b[0m |    \u001b[0;1;32m500\u001b[0m | \u001b[0;1;32m85dc97a0-b15f-11ee-bb06-5384c159d34b\u001b[0m |      \u001b[0;1;33muwcu\u001b[0m |  \u001b[0;1;31mnull\u001b[0m | \u001b[0;1;34m{\u001b[0m\u001b[0;1;33mfirst\u001b[0m\u001b[0;1;34m: \u001b[0m\u001b[0;1;33m'Tyler'\u001b[0m\u001b[0;1;34m, \u001b[0m\u001b[0;1;33mlast\u001b[0m\u001b[0;1;34m: \u001b[0m\u001b[0;1;33m'Caraza-Harter'\u001b[0m\u001b[0;1;34m}\u001b[0m\n",
      "     \u001b[0;1;32m999\u001b[0m |    \u001b[0;1;32m500\u001b[0m | \u001b[0;1;32m85e7bb30-b15f-11ee-bb36-1badc6008a84\u001b[0m |      \u001b[0;1;33muwcu\u001b[0m |  \u001b[0;1;31mnull\u001b[0m |        \u001b[0;1;34m{\u001b[0m\u001b[0;1;33mfirst\u001b[0m\u001b[0;1;34m: \u001b[0m\u001b[0;1;33m'onlyfirst'\u001b[0m\u001b[0;1;34m, \u001b[0m\u001b[0;1;33mlast\u001b[0m\u001b[0;1;34m: \u001b[0m\u001b[0;1;31mnull\u001b[0m\u001b[0;1;34m}\u001b[0m\n",
      "     \u001b[0;1;32m999\u001b[0m |    \u001b[0;1;32m301\u001b[0m | \u001b[0;1;32m886872a0-b15f-11ee-bb36-1badc6008a84\u001b[0m |      \u001b[0;1;33muwcu\u001b[0m |  \u001b[0;1;31mnull\u001b[0m |  \u001b[0;1;34m{\u001b[0m\u001b[0;1;33mfirst\u001b[0m\u001b[0;1;34m: \u001b[0m\u001b[0;1;33m'TestFirst'\u001b[0m\u001b[0;1;34m, \u001b[0m\u001b[0;1;33mlast\u001b[0m\u001b[0;1;34m: \u001b[0m\u001b[0;1;33m'TestLast'\u001b[0m\u001b[0;1;34m}\u001b[0m\n",
      "\n",
      "(6 rows)\n"
     ]
    }
   ],
   "source": [
    "!cqlsh cassandra-db-1 -e \"use banking;select * from loans;\""
   ]
  },
  {
   "cell_type": "code",
   "execution_count": 47,
   "id": "e205908d-bbab-4dda-900a-871eec5fad72",
   "metadata": {},
   "outputs": [
    {
     "name": "stdout",
     "output_type": "stream",
     "text": [
      "\n",
      " \u001b[0;1;31mbank_id\u001b[0m | \u001b[0;1;36mamount\u001b[0m | \u001b[0;1;36mloan_id\u001b[0m                              | \u001b[0;1;37mbank_name\u001b[0m | \u001b[0;1;35mstate\u001b[0m | \u001b[0;1;35musername\u001b[0m\n",
      "---------+--------+--------------------------------------+-----------+-------+-----------------------------------------\n",
      "     \u001b[0;1;32m544\u001b[0m |    \u001b[0;1;32m400\u001b[0m | \u001b[0;1;32m80f3b9d0-b15f-11ee-bb06-5384c159d34b\u001b[0m |    \u001b[0;1;33mmybank\u001b[0m |    \u001b[0;1;33mwi\u001b[0m |                                    \u001b[0;1;31mnull\u001b[0m\n",
      "     \u001b[0;1;32m544\u001b[0m |    \u001b[0;1;32m300\u001b[0m | \u001b[0;1;32m108214fc-ad20-420e-8430-6a7ed5fa4d69\u001b[0m |    \u001b[0;1;33mmybank\u001b[0m |  \u001b[0;1;31mnull\u001b[0m |                                    \u001b[0;1;31mnull\u001b[0m\n",
      "     \u001b[0;1;32m999\u001b[0m |    \u001b[0;1;32m500\u001b[0m | \u001b[0;1;32m82d54b10-b15f-11ee-b3cd-bb68e247982e\u001b[0m |      \u001b[0;1;33muwcu\u001b[0m |    \u001b[0;1;33mil\u001b[0m |                                    \u001b[0;1;31mnull\u001b[0m\n",
      "     \u001b[0;1;32m999\u001b[0m |    \u001b[0;1;32m500\u001b[0m | \u001b[0;1;32m85dc97a0-b15f-11ee-bb06-5384c159d34b\u001b[0m |      \u001b[0;1;33muwcu\u001b[0m |  \u001b[0;1;31mnull\u001b[0m | \u001b[0;1;34m{\u001b[0m\u001b[0;1;33mfirst\u001b[0m\u001b[0;1;34m: \u001b[0m\u001b[0;1;33m'Tyler'\u001b[0m\u001b[0;1;34m, \u001b[0m\u001b[0;1;33mlast\u001b[0m\u001b[0;1;34m: \u001b[0m\u001b[0;1;33m'Caraza-Harter'\u001b[0m\u001b[0;1;34m}\u001b[0m\n",
      "     \u001b[0;1;32m999\u001b[0m |    \u001b[0;1;32m500\u001b[0m | \u001b[0;1;32m85e7bb30-b15f-11ee-bb36-1badc6008a84\u001b[0m |      \u001b[0;1;33muwcu\u001b[0m |  \u001b[0;1;31mnull\u001b[0m |        \u001b[0;1;34m{\u001b[0m\u001b[0;1;33mfirst\u001b[0m\u001b[0;1;34m: \u001b[0m\u001b[0;1;33m'onlyfirst'\u001b[0m\u001b[0;1;34m, \u001b[0m\u001b[0;1;33mlast\u001b[0m\u001b[0;1;34m: \u001b[0m\u001b[0;1;31mnull\u001b[0m\u001b[0;1;34m}\u001b[0m\n",
      "     \u001b[0;1;32m999\u001b[0m |    \u001b[0;1;32m301\u001b[0m | \u001b[0;1;32m886872a0-b15f-11ee-bb36-1badc6008a84\u001b[0m |      \u001b[0;1;33muwcu\u001b[0m |  \u001b[0;1;31mnull\u001b[0m |  \u001b[0;1;34m{\u001b[0m\u001b[0;1;33mfirst\u001b[0m\u001b[0;1;34m: \u001b[0m\u001b[0;1;33m'TestFirst'\u001b[0m\u001b[0;1;34m, \u001b[0m\u001b[0;1;33mlast\u001b[0m\u001b[0;1;34m: \u001b[0m\u001b[0;1;33m'TestLast'\u001b[0m\u001b[0;1;34m}\u001b[0m\n",
      "\n",
      "(6 rows)\n"
     ]
    }
   ],
   "source": [
    "!cqlsh cassandra-db-1 -e \"select * from banking.loans;\""
   ]
  },
  {
   "cell_type": "code",
   "execution_count": 48,
   "id": "3881f34d-5f4f-490f-b465-9138fd5e2910",
   "metadata": {},
   "outputs": [
    {
     "name": "stdout",
     "output_type": "stream",
     "text": [
      "\n",
      " \u001b[0;1;31mbank_id\u001b[0m | \u001b[0;1;35msystem.token(bank_id)\u001b[0m\n",
      "---------+-----------------------\n",
      "     \u001b[0;1;32m544\u001b[0m |  \u001b[0;1;32m-2546916261887148350\u001b[0m\n",
      "     \u001b[0;1;32m544\u001b[0m |  \u001b[0;1;32m-2546916261887148350\u001b[0m\n",
      "     \u001b[0;1;32m999\u001b[0m |   \u001b[0;1;32m7071430368280192841\u001b[0m\n",
      "     \u001b[0;1;32m999\u001b[0m |   \u001b[0;1;32m7071430368280192841\u001b[0m\n",
      "     \u001b[0;1;32m999\u001b[0m |   \u001b[0;1;32m7071430368280192841\u001b[0m\n",
      "     \u001b[0;1;32m999\u001b[0m |   \u001b[0;1;32m7071430368280192841\u001b[0m\n",
      "\n",
      "(6 rows)\n"
     ]
    }
   ],
   "source": [
    "!cqlsh cassandra-db-1 -e \"select bank_id, token(bank_id) from banking.loans;\""
   ]
  },
  {
   "cell_type": "code",
   "execution_count": 50,
   "id": "19cb3d02-0d19-452f-8c04-6ca5f1484688",
   "metadata": {},
   "outputs": [
    {
     "name": "stdout",
     "output_type": "stream",
     "text": [
      "\u001b[0;1;31m<stdin>:1:InvalidRequest: Error from server: code=2200 [Invalid query] message=\"Cannot use selection function writeTime on PRIMARY KEY part bank_id\"\u001b[0m\n"
     ]
    }
   ],
   "source": [
    "!cqlsh cassandra-db-1 -e \"select bank_id, writetime(bank_id) from banking.loans;\""
   ]
  },
  {
   "cell_type": "code",
   "execution_count": 52,
   "id": "485ab9cd-83c8-431c-9513-2b3fbb415ec3",
   "metadata": {},
   "outputs": [
    {
     "name": "stdout",
     "output_type": "stream",
     "text": [
      "\n",
      " \u001b[0;1;35mstate\u001b[0m | \u001b[0;1;35mwritetime(state)\u001b[0m\n",
      "-------+------------------\n",
      "    \u001b[0;1;33mwi\u001b[0m | \u001b[0;1;32m1705073423846821\u001b[0m\n",
      "  \u001b[0;1;31mnull\u001b[0m |             \u001b[0;1;31mnull\u001b[0m\n",
      "    \u001b[0;1;33mil\u001b[0m | \u001b[0;1;32m1705073427006343\u001b[0m\n",
      "  \u001b[0;1;31mnull\u001b[0m |             \u001b[0;1;31mnull\u001b[0m\n",
      "  \u001b[0;1;31mnull\u001b[0m |             \u001b[0;1;31mnull\u001b[0m\n",
      "  \u001b[0;1;31mnull\u001b[0m |             \u001b[0;1;31mnull\u001b[0m\n",
      "\n",
      "(6 rows)\n"
     ]
    }
   ],
   "source": [
    "!cqlsh cassandra-db-1 -e \"select state, writetime(state) from banking.loans;\""
   ]
  },
  {
   "cell_type": "code",
   "execution_count": 53,
   "id": "94c08d34-4e18-40e7-ab50-1e14989ff8f8",
   "metadata": {},
   "outputs": [],
   "source": [
    "!cqlsh cassandra-db-1 -e \"update banking.loans set state='wi' WHERE bank_id=544 AND amount=400 AND loan_id=80f3b9d0-b15f-11ee-bb06-5384c159d34b;\""
   ]
  },
  {
   "cell_type": "code",
   "execution_count": 54,
   "id": "04f0174f-5548-4b47-98b5-ccfc462a8262",
   "metadata": {},
   "outputs": [
    {
     "name": "stdout",
     "output_type": "stream",
     "text": [
      "\n",
      " \u001b[0;1;31mbank_id\u001b[0m | \u001b[0;1;36mamount\u001b[0m | \u001b[0;1;36mloan_id\u001b[0m                              | \u001b[0;1;37mbank_name\u001b[0m | \u001b[0;1;35mstate\u001b[0m | \u001b[0;1;35musername\u001b[0m\n",
      "---------+--------+--------------------------------------+-----------+-------+-----------------------------------------\n",
      "     \u001b[0;1;32m544\u001b[0m |    \u001b[0;1;32m400\u001b[0m | \u001b[0;1;32m80f3b9d0-b15f-11ee-bb06-5384c159d34b\u001b[0m |    \u001b[0;1;33mmybank\u001b[0m |    \u001b[0;1;33mwi\u001b[0m |                                    \u001b[0;1;31mnull\u001b[0m\n",
      "     \u001b[0;1;32m544\u001b[0m |    \u001b[0;1;32m300\u001b[0m | \u001b[0;1;32m108214fc-ad20-420e-8430-6a7ed5fa4d69\u001b[0m |    \u001b[0;1;33mmybank\u001b[0m |  \u001b[0;1;31mnull\u001b[0m |                                    \u001b[0;1;31mnull\u001b[0m\n",
      "     \u001b[0;1;32m999\u001b[0m |    \u001b[0;1;32m500\u001b[0m | \u001b[0;1;32m82d54b10-b15f-11ee-b3cd-bb68e247982e\u001b[0m |      \u001b[0;1;33muwcu\u001b[0m |    \u001b[0;1;33mil\u001b[0m |                                    \u001b[0;1;31mnull\u001b[0m\n",
      "     \u001b[0;1;32m999\u001b[0m |    \u001b[0;1;32m500\u001b[0m | \u001b[0;1;32m85dc97a0-b15f-11ee-bb06-5384c159d34b\u001b[0m |      \u001b[0;1;33muwcu\u001b[0m |  \u001b[0;1;31mnull\u001b[0m | \u001b[0;1;34m{\u001b[0m\u001b[0;1;33mfirst\u001b[0m\u001b[0;1;34m: \u001b[0m\u001b[0;1;33m'Tyler'\u001b[0m\u001b[0;1;34m, \u001b[0m\u001b[0;1;33mlast\u001b[0m\u001b[0;1;34m: \u001b[0m\u001b[0;1;33m'Caraza-Harter'\u001b[0m\u001b[0;1;34m}\u001b[0m\n",
      "     \u001b[0;1;32m999\u001b[0m |    \u001b[0;1;32m500\u001b[0m | \u001b[0;1;32m85e7bb30-b15f-11ee-bb36-1badc6008a84\u001b[0m |      \u001b[0;1;33muwcu\u001b[0m |  \u001b[0;1;31mnull\u001b[0m |        \u001b[0;1;34m{\u001b[0m\u001b[0;1;33mfirst\u001b[0m\u001b[0;1;34m: \u001b[0m\u001b[0;1;33m'onlyfirst'\u001b[0m\u001b[0;1;34m, \u001b[0m\u001b[0;1;33mlast\u001b[0m\u001b[0;1;34m: \u001b[0m\u001b[0;1;31mnull\u001b[0m\u001b[0;1;34m}\u001b[0m\n",
      "     \u001b[0;1;32m999\u001b[0m |    \u001b[0;1;32m301\u001b[0m | \u001b[0;1;32m886872a0-b15f-11ee-bb36-1badc6008a84\u001b[0m |      \u001b[0;1;33muwcu\u001b[0m |  \u001b[0;1;31mnull\u001b[0m |  \u001b[0;1;34m{\u001b[0m\u001b[0;1;33mfirst\u001b[0m\u001b[0;1;34m: \u001b[0m\u001b[0;1;33m'TestFirst'\u001b[0m\u001b[0;1;34m, \u001b[0m\u001b[0;1;33mlast\u001b[0m\u001b[0;1;34m: \u001b[0m\u001b[0;1;33m'TestLast'\u001b[0m\u001b[0;1;34m}\u001b[0m\n",
      "\n",
      "(6 rows)\n"
     ]
    }
   ],
   "source": [
    "!cqlsh cassandra-db-1 -e \"select * from banking.loans;\""
   ]
  },
  {
   "cell_type": "code",
   "execution_count": null,
   "id": "e539c5a6-13d8-495a-9da6-77e8b4e4e0fd",
   "metadata": {},
   "outputs": [],
   "source": []
  }
 ],
 "metadata": {
  "kernelspec": {
   "display_name": "Python 3 (ipykernel)",
   "language": "python",
   "name": "python3"
  },
  "language_info": {
   "codemirror_mode": {
    "name": "ipython",
    "version": 3
   },
   "file_extension": ".py",
   "mimetype": "text/x-python",
   "name": "python",
   "nbconvert_exporter": "python",
   "pygments_lexer": "ipython3",
   "version": "3.10.12"
  }
 },
 "nbformat": 4,
 "nbformat_minor": 5
}
